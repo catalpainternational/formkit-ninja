{
 "cells": [
  {
   "cell_type": "code",
   "execution_count": 1,
   "metadata": {},
   "outputs": [],
   "source": [
    "import os\n",
    "import django\n",
    "from formkit_ninja.html_parser import FormKitTagParser\n",
    "\n",
    "os.chdir('/app')\n",
    "os.environ[\"DJANGO_ALLOW_ASYNC_UNSAFE\"] = \"true\"\n",
    "os.environ.setdefault('DJANGO_SETTINGS_MODULE', 'testproject.settings')\n",
    "django.setup()"
   ]
  },
  {
   "cell_type": "markdown",
   "metadata": {},
   "source": [
    "# Importing from HTML"
   ]
  },
  {
   "cell_type": "code",
   "execution_count": 2,
   "metadata": {},
   "outputs": [],
   "source": [
    "html_form = \"\"\"\n",
    "<FormKit type=\"form\" @submit=\"submit\">\n",
    "  <h2>Change password</h2>\n",
    "  <FormKit\n",
    "    type=\"password\"\n",
    "    name=\"password\"\n",
    "    label=\"Password\"\n",
    "    validation=\"required|?length:10\"\n",
    "    :validation-messages=\"{\n",
    "      length: 'Try to make your password longer!',\n",
    "    }\"\n",
    "  />\n",
    "  <FormKit\n",
    "    type=\"password\"\n",
    "    label=\"Confirm password\"\n",
    "    name=\"password_confirm\"\n",
    "    validation=\"required|confirm\"\n",
    "  />\n",
    "</FormKit>\n",
    "\"\"\""
   ]
  },
  {
   "cell_type": "code",
   "execution_count": 3,
   "metadata": {},
   "outputs": [
    {
     "data": {
      "text/plain": [
       "{'children': ['Change password',\n",
       "  {'name': 'password',\n",
       "   'label': 'Password',\n",
       "   'validation': 'required|?length:10',\n",
       "   '$formkit': 'password',\n",
       "   'validation-messages': {'length': 'Try to make your password longer!'}}],\n",
       " '$formkit': 'form'}"
      ]
     },
     "execution_count": 3,
     "metadata": {},
     "output_type": "execute_result"
    }
   ],
   "source": [
    "form_as_pydantic = FormKitTagParser(html_form).tags[0]\n",
    "form_as_pydantic.model_dump(by_alias=True, exclude_none=True)"
   ]
  },
  {
   "cell_type": "code",
   "execution_count": 4,
   "metadata": {},
   "outputs": [
    {
     "name": "stdout",
     "output_type": "stream",
     "text": [
      "{\n",
      "  children: [\n",
      "    \"Change password\",\n",
      "    {\n",
      "      name: \"password\",\n",
      "      label: \"Password\",\n",
      "      validation: \"required|?length:10\",\n",
      "      $formkit: \"password\",\n",
      "      \"validation-messages\": {\n",
      "        length: \"Try to make your password longer!\",\n",
      "      },\n",
      "    },\n",
      "  ],\n",
      "  $formkit: \"form\",\n",
      "}\n"
     ]
    }
   ],
   "source": [
    "import json5\n",
    "print(json5.dumps(\n",
    "    form_as_pydantic.model_dump(by_alias=True, exclude_none=True),\n",
    "    indent=2\n",
    "))"
   ]
  },
  {
   "cell_type": "code",
   "execution_count": null,
   "metadata": {},
   "outputs": [],
   "source": []
  },
  {
   "cell_type": "code",
   "execution_count": 5,
   "metadata": {},
   "outputs": [
    {
     "ename": "NameError",
     "evalue": "name 'schema_thing' is not defined",
     "output_type": "error",
     "traceback": [
      "\u001b[31m---------------------------------------------------------------------------\u001b[39m",
      "\u001b[31mNameError\u001b[39m                                 Traceback (most recent call last)",
      "\u001b[36mCell\u001b[39m\u001b[36m \u001b[39m\u001b[32mIn[5]\u001b[39m\u001b[32m, line 2\u001b[39m\n\u001b[32m      1\u001b[39m \u001b[38;5;28;01mfrom\u001b[39;00m \u001b[34;01mformkit_ninja\u001b[39;00m\u001b[34;01m.\u001b[39;00m\u001b[34;01mformkit_schema\u001b[39;00m \u001b[38;5;28;01mimport\u001b[39;00m RadioNode\n\u001b[32m----> \u001b[39m\u001b[32m2\u001b[39m rn = RadioNode(**\u001b[43mschema_thing\u001b[49m)\n",
      "\u001b[31mNameError\u001b[39m: name 'schema_thing' is not defined"
     ]
    }
   ],
   "source": [
    "from formkit_ninja.formkit_schema import RadioNode\n",
    "rn = RadioNode(**schema_thing)"
   ]
  },
  {
   "cell_type": "code",
   "execution_count": null,
   "metadata": {},
   "outputs": [],
   "source": [
    "rn.model_dump(by_alias=True, exclude_none=True)"
   ]
  },
  {
   "cell_type": "code",
   "execution_count": null,
   "metadata": {},
   "outputs": [],
   "source": []
  }
 ],
 "metadata": {
  "kernelspec": {
   "display_name": "venv",
   "language": "python",
   "name": "python3"
  },
  "language_info": {
   "codemirror_mode": {
    "name": "ipython",
    "version": 3
   },
   "file_extension": ".py",
   "mimetype": "text/x-python",
   "name": "python",
   "nbconvert_exporter": "python",
   "pygments_lexer": "ipython3",
   "version": "3.12.7"
  }
 },
 "nbformat": 4,
 "nbformat_minor": 2
}
