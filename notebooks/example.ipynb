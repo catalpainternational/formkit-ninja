{
 "cells": [
  {
   "cell_type": "markdown",
   "metadata": {},
   "source": []
  },
  {
   "cell_type": "code",
   "execution_count": 1,
   "metadata": {},
   "outputs": [
    {
     "ename": "RecursionError",
     "evalue": "maximum recursion depth exceeded in comparison",
     "output_type": "error",
     "traceback": [
      "\u001b[31m---------------------------------------------------------------------------\u001b[39m",
      "\u001b[31mRecursionError\u001b[39m                            Traceback (most recent call last)",
      "\u001b[36mCell\u001b[39m\u001b[36m \u001b[39m\u001b[32mIn[1]\u001b[39m\u001b[32m, line 7\u001b[39m\n\u001b[32m      5\u001b[39m os.environ[\u001b[33m\"\u001b[39m\u001b[33mDJANGO_ALLOW_ASYNC_UNSAFE\u001b[39m\u001b[33m\"\u001b[39m] = \u001b[33m\"\u001b[39m\u001b[33mtrue\u001b[39m\u001b[33m\"\u001b[39m\n\u001b[32m      6\u001b[39m os.environ.setdefault(\u001b[33m'\u001b[39m\u001b[33mDJANGO_SETTINGS_MODULE\u001b[39m\u001b[33m'\u001b[39m, \u001b[33m'\u001b[39m\u001b[33mtestproject.settings\u001b[39m\u001b[33m'\u001b[39m)\n\u001b[32m----> \u001b[39m\u001b[32m7\u001b[39m \u001b[43mdjango\u001b[49m\u001b[43m.\u001b[49m\u001b[43msetup\u001b[49m\u001b[43m(\u001b[49m\u001b[43m)\u001b[49m\n",
      "\u001b[36mFile \u001b[39m\u001b[32m~/github/catalpainternational/formkit-ninja/.venv/lib/python3.11/site-packages/django/__init__.py:24\u001b[39m, in \u001b[36msetup\u001b[39m\u001b[34m(set_prefix)\u001b[39m\n\u001b[32m     20\u001b[39m \u001b[38;5;28;01mif\u001b[39;00m set_prefix:\n\u001b[32m     21\u001b[39m     set_script_prefix(\n\u001b[32m     22\u001b[39m         \u001b[33m\"\u001b[39m\u001b[33m/\u001b[39m\u001b[33m\"\u001b[39m \u001b[38;5;28;01mif\u001b[39;00m settings.FORCE_SCRIPT_NAME \u001b[38;5;129;01mis\u001b[39;00m \u001b[38;5;28;01mNone\u001b[39;00m \u001b[38;5;28;01melse\u001b[39;00m settings.FORCE_SCRIPT_NAME\n\u001b[32m     23\u001b[39m     )\n\u001b[32m---> \u001b[39m\u001b[32m24\u001b[39m \u001b[43mapps\u001b[49m\u001b[43m.\u001b[49m\u001b[43mpopulate\u001b[49m\u001b[43m(\u001b[49m\u001b[43msettings\u001b[49m\u001b[43m.\u001b[49m\u001b[43mINSTALLED_APPS\u001b[49m\u001b[43m)\u001b[49m\n",
      "\u001b[36mFile \u001b[39m\u001b[32m~/github/catalpainternational/formkit-ninja/.venv/lib/python3.11/site-packages/django/apps/registry.py:116\u001b[39m, in \u001b[36mApps.populate\u001b[39m\u001b[34m(self, installed_apps)\u001b[39m\n\u001b[32m    114\u001b[39m \u001b[38;5;66;03m# Phase 2: import models modules.\u001b[39;00m\n\u001b[32m    115\u001b[39m \u001b[38;5;28;01mfor\u001b[39;00m app_config \u001b[38;5;129;01min\u001b[39;00m \u001b[38;5;28mself\u001b[39m.app_configs.values():\n\u001b[32m--> \u001b[39m\u001b[32m116\u001b[39m     \u001b[43mapp_config\u001b[49m\u001b[43m.\u001b[49m\u001b[43mimport_models\u001b[49m\u001b[43m(\u001b[49m\u001b[43m)\u001b[49m\n\u001b[32m    118\u001b[39m \u001b[38;5;28mself\u001b[39m.clear_cache()\n\u001b[32m    120\u001b[39m \u001b[38;5;28mself\u001b[39m.models_ready = \u001b[38;5;28;01mTrue\u001b[39;00m\n",
      "\u001b[36mFile \u001b[39m\u001b[32m~/github/catalpainternational/formkit-ninja/.venv/lib/python3.11/site-packages/django/apps/config.py:269\u001b[39m, in \u001b[36mAppConfig.import_models\u001b[39m\u001b[34m(self)\u001b[39m\n\u001b[32m    267\u001b[39m \u001b[38;5;28;01mif\u001b[39;00m module_has_submodule(\u001b[38;5;28mself\u001b[39m.module, MODELS_MODULE_NAME):\n\u001b[32m    268\u001b[39m     models_module_name = \u001b[33m\"\u001b[39m\u001b[38;5;132;01m%s\u001b[39;00m\u001b[33m.\u001b[39m\u001b[38;5;132;01m%s\u001b[39;00m\u001b[33m\"\u001b[39m % (\u001b[38;5;28mself\u001b[39m.name, MODELS_MODULE_NAME)\n\u001b[32m--> \u001b[39m\u001b[32m269\u001b[39m     \u001b[38;5;28mself\u001b[39m.models_module = \u001b[43mimport_module\u001b[49m\u001b[43m(\u001b[49m\u001b[43mmodels_module_name\u001b[49m\u001b[43m)\u001b[49m\n",
      "\u001b[36mFile \u001b[39m\u001b[32m~/.local/share/uv/python/cpython-3.11.10-linux-x86_64-gnu/lib/python3.11/importlib/__init__.py:126\u001b[39m, in \u001b[36mimport_module\u001b[39m\u001b[34m(name, package)\u001b[39m\n\u001b[32m    124\u001b[39m             \u001b[38;5;28;01mbreak\u001b[39;00m\n\u001b[32m    125\u001b[39m         level += \u001b[32m1\u001b[39m\n\u001b[32m--> \u001b[39m\u001b[32m126\u001b[39m \u001b[38;5;28;01mreturn\u001b[39;00m \u001b[43m_bootstrap\u001b[49m\u001b[43m.\u001b[49m\u001b[43m_gcd_import\u001b[49m\u001b[43m(\u001b[49m\u001b[43mname\u001b[49m\u001b[43m[\u001b[49m\u001b[43mlevel\u001b[49m\u001b[43m:\u001b[49m\u001b[43m]\u001b[49m\u001b[43m,\u001b[49m\u001b[43m \u001b[49m\u001b[43mpackage\u001b[49m\u001b[43m,\u001b[49m\u001b[43m \u001b[49m\u001b[43mlevel\u001b[49m\u001b[43m)\u001b[49m\n",
      "\u001b[36mFile \u001b[39m\u001b[32m<frozen importlib._bootstrap>:1204\u001b[39m, in \u001b[36m_gcd_import\u001b[39m\u001b[34m(name, package, level)\u001b[39m\n",
      "\u001b[36mFile \u001b[39m\u001b[32m<frozen importlib._bootstrap>:1176\u001b[39m, in \u001b[36m_find_and_load\u001b[39m\u001b[34m(name, import_)\u001b[39m\n",
      "\u001b[36mFile \u001b[39m\u001b[32m<frozen importlib._bootstrap>:1147\u001b[39m, in \u001b[36m_find_and_load_unlocked\u001b[39m\u001b[34m(name, import_)\u001b[39m\n",
      "\u001b[36mFile \u001b[39m\u001b[32m<frozen importlib._bootstrap>:690\u001b[39m, in \u001b[36m_load_unlocked\u001b[39m\u001b[34m(spec)\u001b[39m\n",
      "\u001b[36mFile \u001b[39m\u001b[32m<frozen importlib._bootstrap_external>:940\u001b[39m, in \u001b[36mexec_module\u001b[39m\u001b[34m(self, module)\u001b[39m\n",
      "\u001b[36mFile \u001b[39m\u001b[32m<frozen importlib._bootstrap>:241\u001b[39m, in \u001b[36m_call_with_frames_removed\u001b[39m\u001b[34m(f, *args, **kwds)\u001b[39m\n",
      "\u001b[36mFile \u001b[39m\u001b[32m~/github/catalpainternational/formkit-ninja/src/formkit_ninja/models.py:23\u001b[39m\n\u001b[32m     20\u001b[39m \u001b[38;5;28;01mfrom\u001b[39;00m\u001b[38;5;250m \u001b[39m\u001b[34;01mdjango\u001b[39;00m\u001b[34;01m.\u001b[39;00m\u001b[34;01mutils\u001b[39;00m\u001b[38;5;250m \u001b[39m\u001b[38;5;28;01mimport\u001b[39;00m timezone\n\u001b[32m     21\u001b[39m \u001b[38;5;28;01mimport\u001b[39;00m\u001b[38;5;250m \u001b[39m\u001b[34;01mjson\u001b[39;00m\n\u001b[32m---> \u001b[39m\u001b[32m23\u001b[39m \u001b[38;5;28;01mfrom\u001b[39;00m\u001b[38;5;250m \u001b[39m\u001b[34;01mformkit_ninja\u001b[39;00m\u001b[38;5;250m \u001b[39m\u001b[38;5;28;01mimport\u001b[39;00m formkit_schema, triggers\n\u001b[32m     24\u001b[39m \u001b[38;5;28;01mfrom\u001b[39;00m\u001b[38;5;250m \u001b[39m\u001b[34;01mformkit_ninja\u001b[39;00m\u001b[34;01m.\u001b[39;00m\u001b[34;01mformkit_schema\u001b[39;00m\u001b[38;5;250m \u001b[39m\u001b[38;5;28;01mimport\u001b[39;00m normalize_node\n\u001b[32m     26\u001b[39m console = Console()\n",
      "\u001b[36mFile \u001b[39m\u001b[32m~/github/catalpainternational/formkit-ninja/src/formkit_ninja/formkit_schema.py:582\u001b[39m\n\u001b[32m    580\u001b[39m FormKitSchemaAttributesCondition.model_rebuild()\n\u001b[32m    581\u001b[39m FormKitAttributeValue.model_rebuild()\n\u001b[32m--> \u001b[39m\u001b[32m582\u001b[39m \u001b[43mFormKitSchemaCondition\u001b[49m\u001b[43m.\u001b[49m\u001b[43mmodel_rebuild\u001b[49m\u001b[43m(\u001b[49m\u001b[43m)\u001b[49m\n\u001b[32m    583\u001b[39m FormKitSchemaComponent.model_rebuild()\n\u001b[32m    585\u001b[39m FormKitSchemaDOMNode.model_rebuild()\n",
      "\u001b[36mFile \u001b[39m\u001b[32m~/github/catalpainternational/formkit-ninja/.venv/lib/python3.11/site-packages/pydantic/main.py:660\u001b[39m, in \u001b[36mBaseModel.model_rebuild\u001b[39m\u001b[34m(cls, force, raise_errors, _parent_namespace_depth, _types_namespace)\u001b[39m\n\u001b[32m    656\u001b[39m         \u001b[38;5;28;01mreturn\u001b[39;00m \u001b[38;5;28;01mFalse\u001b[39;00m\n\u001b[32m    658\u001b[39m     \u001b[38;5;28;01massert\u001b[39;00m \u001b[38;5;28mcls\u001b[39m.__pydantic_fields_complete__\n\u001b[32m--> \u001b[39m\u001b[32m660\u001b[39m \u001b[38;5;28;01mreturn\u001b[39;00m \u001b[43m_model_construction\u001b[49m\u001b[43m.\u001b[49m\u001b[43mcomplete_model_class\u001b[49m\u001b[43m(\u001b[49m\n\u001b[32m    661\u001b[39m \u001b[43m    \u001b[49m\u001b[38;5;28;43mcls\u001b[39;49m\u001b[43m,\u001b[49m\n\u001b[32m    662\u001b[39m \u001b[43m    \u001b[49m\u001b[43m_config\u001b[49m\u001b[43m.\u001b[49m\u001b[43mConfigWrapper\u001b[49m\u001b[43m(\u001b[49m\u001b[38;5;28;43mcls\u001b[39;49m\u001b[43m.\u001b[49m\u001b[43mmodel_config\u001b[49m\u001b[43m,\u001b[49m\u001b[43m \u001b[49m\u001b[43mcheck\u001b[49m\u001b[43m=\u001b[49m\u001b[38;5;28;43;01mFalse\u001b[39;49;00m\u001b[43m)\u001b[49m\u001b[43m,\u001b[49m\n\u001b[32m    663\u001b[39m \u001b[43m    \u001b[49m\u001b[43mraise_errors\u001b[49m\u001b[43m=\u001b[49m\u001b[43mraise_errors\u001b[49m\u001b[43m,\u001b[49m\n\u001b[32m    664\u001b[39m \u001b[43m    \u001b[49m\u001b[43mns_resolver\u001b[49m\u001b[43m=\u001b[49m\u001b[43mns_resolver\u001b[49m\u001b[43m,\u001b[49m\n\u001b[32m    665\u001b[39m \u001b[43m\u001b[49m\u001b[43m)\u001b[49m\n",
      "\u001b[36mFile \u001b[39m\u001b[32m~/github/catalpainternational/formkit-ninja/.venv/lib/python3.11/site-packages/pydantic/_internal/_model_construction.py:597\u001b[39m, in \u001b[36mcomplete_model_class\u001b[39m\u001b[34m(cls, config_wrapper, raise_errors, ns_resolver, create_model_module)\u001b[39m\n\u001b[32m    590\u001b[39m gen_schema = GenerateSchema(\n\u001b[32m    591\u001b[39m     config_wrapper,\n\u001b[32m    592\u001b[39m     ns_resolver,\n\u001b[32m    593\u001b[39m     typevars_map,\n\u001b[32m    594\u001b[39m )\n\u001b[32m    596\u001b[39m \u001b[38;5;28;01mtry\u001b[39;00m:\n\u001b[32m--> \u001b[39m\u001b[32m597\u001b[39m     schema = \u001b[43mgen_schema\u001b[49m\u001b[43m.\u001b[49m\u001b[43mgenerate_schema\u001b[49m\u001b[43m(\u001b[49m\u001b[38;5;28;43mcls\u001b[39;49m\u001b[43m)\u001b[49m\n\u001b[32m    598\u001b[39m \u001b[38;5;28;01mexcept\u001b[39;00m PydanticUndefinedAnnotation \u001b[38;5;28;01mas\u001b[39;00m e:\n\u001b[32m    599\u001b[39m     \u001b[38;5;28;01mif\u001b[39;00m raise_errors:\n",
      "\u001b[36mFile \u001b[39m\u001b[32m~/github/catalpainternational/formkit-ninja/.venv/lib/python3.11/site-packages/pydantic/_internal/_generate_schema.py:706\u001b[39m, in \u001b[36mGenerateSchema.generate_schema\u001b[39m\u001b[34m(self, obj)\u001b[39m\n\u001b[32m    703\u001b[39m schema = \u001b[38;5;28mself\u001b[39m._generate_schema_from_get_schema_method(obj, obj)\n\u001b[32m    705\u001b[39m \u001b[38;5;28;01mif\u001b[39;00m schema \u001b[38;5;129;01mis\u001b[39;00m \u001b[38;5;28;01mNone\u001b[39;00m:\n\u001b[32m--> \u001b[39m\u001b[32m706\u001b[39m     schema = \u001b[38;5;28;43mself\u001b[39;49m\u001b[43m.\u001b[49m\u001b[43m_generate_schema_inner\u001b[49m\u001b[43m(\u001b[49m\u001b[43mobj\u001b[49m\u001b[43m)\u001b[49m\n\u001b[32m    708\u001b[39m metadata_js_function = _extract_get_pydantic_json_schema(obj)\n\u001b[32m    709\u001b[39m \u001b[38;5;28;01mif\u001b[39;00m metadata_js_function \u001b[38;5;129;01mis\u001b[39;00m \u001b[38;5;129;01mnot\u001b[39;00m \u001b[38;5;28;01mNone\u001b[39;00m:\n",
      "\u001b[36mFile \u001b[39m\u001b[32m~/github/catalpainternational/formkit-ninja/.venv/lib/python3.11/site-packages/pydantic/_internal/_generate_schema.py:999\u001b[39m, in \u001b[36mGenerateSchema._generate_schema_inner\u001b[39m\u001b[34m(self, obj)\u001b[39m\n\u001b[32m    997\u001b[39m \u001b[38;5;28;01mif\u001b[39;00m lenient_issubclass(obj, BaseModel):\n\u001b[32m    998\u001b[39m     \u001b[38;5;28;01mwith\u001b[39;00m \u001b[38;5;28mself\u001b[39m.model_type_stack.push(obj):\n\u001b[32m--> \u001b[39m\u001b[32m999\u001b[39m         \u001b[38;5;28;01mreturn\u001b[39;00m \u001b[38;5;28;43mself\u001b[39;49m\u001b[43m.\u001b[49m\u001b[43m_model_schema\u001b[49m\u001b[43m(\u001b[49m\u001b[43mobj\u001b[49m\u001b[43m)\u001b[49m\n\u001b[32m   1001\u001b[39m \u001b[38;5;28;01mif\u001b[39;00m \u001b[38;5;28misinstance\u001b[39m(obj, PydanticRecursiveRef):\n\u001b[32m   1002\u001b[39m     \u001b[38;5;28;01mreturn\u001b[39;00m core_schema.definition_reference_schema(schema_ref=obj.type_ref)\n",
      "\u001b[36mFile \u001b[39m\u001b[32m~/github/catalpainternational/formkit-ninja/.venv/lib/python3.11/site-packages/pydantic/_internal/_generate_schema.py:832\u001b[39m, in \u001b[36mGenerateSchema._model_schema\u001b[39m\u001b[34m(self, cls)\u001b[39m\n\u001b[32m    820\u001b[39m     model_schema = core_schema.model_schema(\n\u001b[32m    821\u001b[39m         \u001b[38;5;28mcls\u001b[39m,\n\u001b[32m    822\u001b[39m         inner_schema,\n\u001b[32m   (...)\u001b[39m\u001b[32m    828\u001b[39m         ref=model_ref,\n\u001b[32m    829\u001b[39m     )\n\u001b[32m    830\u001b[39m \u001b[38;5;28;01melse\u001b[39;00m:\n\u001b[32m    831\u001b[39m     fields_schema: core_schema.CoreSchema = core_schema.model_fields_schema(\n\u001b[32m--> \u001b[39m\u001b[32m832\u001b[39m         \u001b[43m{\u001b[49m\u001b[43mk\u001b[49m\u001b[43m:\u001b[49m\u001b[43m \u001b[49m\u001b[38;5;28;43mself\u001b[39;49m\u001b[43m.\u001b[49m\u001b[43m_generate_md_field_schema\u001b[49m\u001b[43m(\u001b[49m\u001b[43mk\u001b[49m\u001b[43m,\u001b[49m\u001b[43m \u001b[49m\u001b[43mv\u001b[49m\u001b[43m,\u001b[49m\u001b[43m \u001b[49m\u001b[43mdecorators\u001b[49m\u001b[43m)\u001b[49m\u001b[43m \u001b[49m\u001b[38;5;28;43;01mfor\u001b[39;49;00m\u001b[43m \u001b[49m\u001b[43mk\u001b[49m\u001b[43m,\u001b[49m\u001b[43m \u001b[49m\u001b[43mv\u001b[49m\u001b[43m \u001b[49m\u001b[38;5;129;43;01min\u001b[39;49;00m\u001b[43m \u001b[49m\u001b[43mfields\u001b[49m\u001b[43m.\u001b[49m\u001b[43mitems\u001b[49m\u001b[43m(\u001b[49m\u001b[43m)\u001b[49m\u001b[43m}\u001b[49m,\n\u001b[32m    833\u001b[39m         computed_fields=[\n\u001b[32m    834\u001b[39m             \u001b[38;5;28mself\u001b[39m._computed_field_schema(d, decorators.field_serializers)\n\u001b[32m    835\u001b[39m             \u001b[38;5;28;01mfor\u001b[39;00m d \u001b[38;5;129;01min\u001b[39;00m computed_fields.values()\n\u001b[32m    836\u001b[39m         ],\n\u001b[32m    837\u001b[39m         extras_schema=extras_schema,\n\u001b[32m    838\u001b[39m         extras_keys_schema=extras_keys_schema,\n\u001b[32m    839\u001b[39m         model_name=\u001b[38;5;28mcls\u001b[39m.\u001b[34m__name__\u001b[39m,\n\u001b[32m    840\u001b[39m     )\n\u001b[32m    841\u001b[39m     inner_schema = apply_validators(fields_schema, decorators.root_validators.values(), \u001b[38;5;28;01mNone\u001b[39;00m)\n\u001b[32m    842\u001b[39m     inner_schema = apply_model_validators(inner_schema, model_validators, \u001b[33m'\u001b[39m\u001b[33minner\u001b[39m\u001b[33m'\u001b[39m)\n",
      "\u001b[36mFile \u001b[39m\u001b[32m~/github/catalpainternational/formkit-ninja/.venv/lib/python3.11/site-packages/pydantic/_internal/_generate_schema.py:832\u001b[39m, in \u001b[36m<dictcomp>\u001b[39m\u001b[34m(.0)\u001b[39m\n\u001b[32m    820\u001b[39m     model_schema = core_schema.model_schema(\n\u001b[32m    821\u001b[39m         \u001b[38;5;28mcls\u001b[39m,\n\u001b[32m    822\u001b[39m         inner_schema,\n\u001b[32m   (...)\u001b[39m\u001b[32m    828\u001b[39m         ref=model_ref,\n\u001b[32m    829\u001b[39m     )\n\u001b[32m    830\u001b[39m \u001b[38;5;28;01melse\u001b[39;00m:\n\u001b[32m    831\u001b[39m     fields_schema: core_schema.CoreSchema = core_schema.model_fields_schema(\n\u001b[32m--> \u001b[39m\u001b[32m832\u001b[39m         {k: \u001b[38;5;28;43mself\u001b[39;49m\u001b[43m.\u001b[49m\u001b[43m_generate_md_field_schema\u001b[49m\u001b[43m(\u001b[49m\u001b[43mk\u001b[49m\u001b[43m,\u001b[49m\u001b[43m \u001b[49m\u001b[43mv\u001b[49m\u001b[43m,\u001b[49m\u001b[43m \u001b[49m\u001b[43mdecorators\u001b[49m\u001b[43m)\u001b[49m \u001b[38;5;28;01mfor\u001b[39;00m k, v \u001b[38;5;129;01min\u001b[39;00m fields.items()},\n\u001b[32m    833\u001b[39m         computed_fields=[\n\u001b[32m    834\u001b[39m             \u001b[38;5;28mself\u001b[39m._computed_field_schema(d, decorators.field_serializers)\n\u001b[32m    835\u001b[39m             \u001b[38;5;28;01mfor\u001b[39;00m d \u001b[38;5;129;01min\u001b[39;00m computed_fields.values()\n\u001b[32m    836\u001b[39m         ],\n\u001b[32m    837\u001b[39m         extras_schema=extras_schema,\n\u001b[32m    838\u001b[39m         extras_keys_schema=extras_keys_schema,\n\u001b[32m    839\u001b[39m         model_name=\u001b[38;5;28mcls\u001b[39m.\u001b[34m__name__\u001b[39m,\n\u001b[32m    840\u001b[39m     )\n\u001b[32m    841\u001b[39m     inner_schema = apply_validators(fields_schema, decorators.root_validators.values(), \u001b[38;5;28;01mNone\u001b[39;00m)\n\u001b[32m    842\u001b[39m     inner_schema = apply_model_validators(inner_schema, model_validators, \u001b[33m'\u001b[39m\u001b[33minner\u001b[39m\u001b[33m'\u001b[39m)\n",
      "\u001b[36mFile \u001b[39m\u001b[32m~/github/catalpainternational/formkit-ninja/.venv/lib/python3.11/site-packages/pydantic/_internal/_generate_schema.py:1201\u001b[39m, in \u001b[36mGenerateSchema._generate_md_field_schema\u001b[39m\u001b[34m(self, name, field_info, decorators)\u001b[39m\n\u001b[32m   1194\u001b[39m \u001b[38;5;28;01mdef\u001b[39;00m\u001b[38;5;250m \u001b[39m\u001b[34m_generate_md_field_schema\u001b[39m(\n\u001b[32m   1195\u001b[39m     \u001b[38;5;28mself\u001b[39m,\n\u001b[32m   1196\u001b[39m     name: \u001b[38;5;28mstr\u001b[39m,\n\u001b[32m   1197\u001b[39m     field_info: FieldInfo,\n\u001b[32m   1198\u001b[39m     decorators: DecoratorInfos,\n\u001b[32m   1199\u001b[39m ) -> core_schema.ModelField:\n\u001b[32m   1200\u001b[39m \u001b[38;5;250m    \u001b[39m\u001b[33;03m\"\"\"Prepare a ModelField to represent a model field.\"\"\"\u001b[39;00m\n\u001b[32m-> \u001b[39m\u001b[32m1201\u001b[39m     common_field = \u001b[38;5;28;43mself\u001b[39;49m\u001b[43m.\u001b[49m\u001b[43m_common_field_schema\u001b[49m\u001b[43m(\u001b[49m\u001b[43mname\u001b[49m\u001b[43m,\u001b[49m\u001b[43m \u001b[49m\u001b[43mfield_info\u001b[49m\u001b[43m,\u001b[49m\u001b[43m \u001b[49m\u001b[43mdecorators\u001b[49m\u001b[43m)\u001b[49m\n\u001b[32m   1202\u001b[39m     \u001b[38;5;28;01mreturn\u001b[39;00m core_schema.model_field(\n\u001b[32m   1203\u001b[39m         common_field[\u001b[33m'\u001b[39m\u001b[33mschema\u001b[39m\u001b[33m'\u001b[39m],\n\u001b[32m   1204\u001b[39m         serialization_exclude=common_field[\u001b[33m'\u001b[39m\u001b[33mserialization_exclude\u001b[39m\u001b[33m'\u001b[39m],\n\u001b[32m   (...)\u001b[39m\u001b[32m   1208\u001b[39m         metadata=common_field[\u001b[33m'\u001b[39m\u001b[33mmetadata\u001b[39m\u001b[33m'\u001b[39m],\n\u001b[32m   1209\u001b[39m     )\n",
      "\u001b[36mFile \u001b[39m\u001b[32m~/github/catalpainternational/formkit-ninja/.venv/lib/python3.11/site-packages/pydantic/_internal/_generate_schema.py:1367\u001b[39m, in \u001b[36mGenerateSchema._common_field_schema\u001b[39m\u001b[34m(self, name, field_info, decorators)\u001b[39m\n\u001b[32m   1363\u001b[39m         schema = \u001b[38;5;28mself\u001b[39m._apply_annotations(\n\u001b[32m   1364\u001b[39m             source_type, annotations + validators_from_decorators, transform_inner_schema=set_discriminator\n\u001b[32m   1365\u001b[39m         )\n\u001b[32m   1366\u001b[39m     \u001b[38;5;28;01melse\u001b[39;00m:\n\u001b[32m-> \u001b[39m\u001b[32m1367\u001b[39m         schema = \u001b[38;5;28;43mself\u001b[39;49m\u001b[43m.\u001b[49m\u001b[43m_apply_annotations\u001b[49m\u001b[43m(\u001b[49m\n\u001b[32m   1368\u001b[39m \u001b[43m            \u001b[49m\u001b[43msource_type\u001b[49m\u001b[43m,\u001b[49m\n\u001b[32m   1369\u001b[39m \u001b[43m            \u001b[49m\u001b[43mannotations\u001b[49m\u001b[43m \u001b[49m\u001b[43m+\u001b[49m\u001b[43m \u001b[49m\u001b[43mvalidators_from_decorators\u001b[49m\u001b[43m,\u001b[49m\n\u001b[32m   1370\u001b[39m \u001b[43m        \u001b[49m\u001b[43m)\u001b[49m\n\u001b[32m   1372\u001b[39m \u001b[38;5;66;03m# This V1 compatibility shim should eventually be removed\u001b[39;00m\n\u001b[32m   1373\u001b[39m \u001b[38;5;66;03m# push down any `each_item=True` validators\u001b[39;00m\n\u001b[32m   1374\u001b[39m \u001b[38;5;66;03m# note that this won't work for any Annotated types that get wrapped by a function validator\u001b[39;00m\n\u001b[32m   1375\u001b[39m \u001b[38;5;66;03m# but that's okay because that didn't exist in V1\u001b[39;00m\n\u001b[32m   1376\u001b[39m this_field_validators = filter_field_decorator_info_by_field(decorators.validators.values(), name)\n",
      "\u001b[36mFile \u001b[39m\u001b[32m~/github/catalpainternational/formkit-ninja/.venv/lib/python3.11/site-packages/pydantic/_internal/_generate_schema.py:2279\u001b[39m, in \u001b[36mGenerateSchema._apply_annotations\u001b[39m\u001b[34m(self, source_type, annotations, transform_inner_schema)\u001b[39m\n\u001b[32m   2274\u001b[39m         \u001b[38;5;28;01mcontinue\u001b[39;00m\n\u001b[32m   2275\u001b[39m     get_inner_schema = \u001b[38;5;28mself\u001b[39m._get_wrapped_inner_schema(\n\u001b[32m   2276\u001b[39m         get_inner_schema, annotation, pydantic_js_annotation_functions\n\u001b[32m   2277\u001b[39m     )\n\u001b[32m-> \u001b[39m\u001b[32m2279\u001b[39m schema = \u001b[43mget_inner_schema\u001b[49m\u001b[43m(\u001b[49m\u001b[43msource_type\u001b[49m\u001b[43m)\u001b[49m\n\u001b[32m   2280\u001b[39m \u001b[38;5;28;01mif\u001b[39;00m pydantic_js_annotation_functions:\n\u001b[32m   2281\u001b[39m     core_metadata = schema.setdefault(\u001b[33m'\u001b[39m\u001b[33mmetadata\u001b[39m\u001b[33m'\u001b[39m, {})\n",
      "\u001b[36mFile \u001b[39m\u001b[32m~/github/catalpainternational/formkit-ninja/.venv/lib/python3.11/site-packages/pydantic/_internal/_schema_generation_shared.py:83\u001b[39m, in \u001b[36mCallbackGetCoreSchemaHandler.__call__\u001b[39m\u001b[34m(self, source_type)\u001b[39m\n\u001b[32m     82\u001b[39m \u001b[38;5;28;01mdef\u001b[39;00m\u001b[38;5;250m \u001b[39m\u001b[34m__call__\u001b[39m(\u001b[38;5;28mself\u001b[39m, source_type: Any, /) -> core_schema.CoreSchema:\n\u001b[32m---> \u001b[39m\u001b[32m83\u001b[39m     schema = \u001b[38;5;28;43mself\u001b[39;49m\u001b[43m.\u001b[49m\u001b[43m_handler\u001b[49m\u001b[43m(\u001b[49m\u001b[43msource_type\u001b[49m\u001b[43m)\u001b[49m\n\u001b[32m     84\u001b[39m     \u001b[38;5;28;01mif\u001b[39;00m \u001b[38;5;28mself\u001b[39m._ref_mode == \u001b[33m'\u001b[39m\u001b[33mto-def\u001b[39m\u001b[33m'\u001b[39m:\n\u001b[32m     85\u001b[39m         ref = schema.get(\u001b[33m'\u001b[39m\u001b[33mref\u001b[39m\u001b[33m'\u001b[39m)\n",
      "\u001b[36mFile \u001b[39m\u001b[32m~/github/catalpainternational/formkit-ninja/.venv/lib/python3.11/site-packages/pydantic/_internal/_generate_schema.py:2261\u001b[39m, in \u001b[36mGenerateSchema._apply_annotations.<locals>.inner_handler\u001b[39m\u001b[34m(obj)\u001b[39m\n\u001b[32m   2258\u001b[39m schema = \u001b[38;5;28mself\u001b[39m._generate_schema_from_get_schema_method(obj, source_type)\n\u001b[32m   2260\u001b[39m \u001b[38;5;28;01mif\u001b[39;00m schema \u001b[38;5;129;01mis\u001b[39;00m \u001b[38;5;28;01mNone\u001b[39;00m:\n\u001b[32m-> \u001b[39m\u001b[32m2261\u001b[39m     schema = \u001b[38;5;28;43mself\u001b[39;49m\u001b[43m.\u001b[49m\u001b[43m_generate_schema_inner\u001b[49m\u001b[43m(\u001b[49m\u001b[43mobj\u001b[49m\u001b[43m)\u001b[49m\n\u001b[32m   2263\u001b[39m metadata_js_function = _extract_get_pydantic_json_schema(obj)\n\u001b[32m   2264\u001b[39m \u001b[38;5;28;01mif\u001b[39;00m metadata_js_function \u001b[38;5;129;01mis\u001b[39;00m \u001b[38;5;129;01mnot\u001b[39;00m \u001b[38;5;28;01mNone\u001b[39;00m:\n",
      "\u001b[36mFile \u001b[39m\u001b[32m~/github/catalpainternational/formkit-ninja/.venv/lib/python3.11/site-packages/pydantic/_internal/_generate_schema.py:1004\u001b[39m, in \u001b[36mGenerateSchema._generate_schema_inner\u001b[39m\u001b[34m(self, obj)\u001b[39m\n\u001b[32m   1001\u001b[39m \u001b[38;5;28;01mif\u001b[39;00m \u001b[38;5;28misinstance\u001b[39m(obj, PydanticRecursiveRef):\n\u001b[32m   1002\u001b[39m     \u001b[38;5;28;01mreturn\u001b[39;00m core_schema.definition_reference_schema(schema_ref=obj.type_ref)\n\u001b[32m-> \u001b[39m\u001b[32m1004\u001b[39m \u001b[38;5;28;01mreturn\u001b[39;00m \u001b[38;5;28;43mself\u001b[39;49m\u001b[43m.\u001b[49m\u001b[43mmatch_type\u001b[49m\u001b[43m(\u001b[49m\u001b[43mobj\u001b[49m\u001b[43m)\u001b[49m\n",
      "\u001b[36mFile \u001b[39m\u001b[32m~/github/catalpainternational/formkit-ninja/.venv/lib/python3.11/site-packages/pydantic/_internal/_generate_schema.py:1118\u001b[39m, in \u001b[36mGenerateSchema.match_type\u001b[39m\u001b[34m(self, obj)\u001b[39m\n\u001b[32m   1116\u001b[39m origin = get_origin(obj)\n\u001b[32m   1117\u001b[39m \u001b[38;5;28;01mif\u001b[39;00m origin \u001b[38;5;129;01mis\u001b[39;00m \u001b[38;5;129;01mnot\u001b[39;00m \u001b[38;5;28;01mNone\u001b[39;00m:\n\u001b[32m-> \u001b[39m\u001b[32m1118\u001b[39m     \u001b[38;5;28;01mreturn\u001b[39;00m \u001b[38;5;28;43mself\u001b[39;49m\u001b[43m.\u001b[49m\u001b[43m_match_generic_type\u001b[49m\u001b[43m(\u001b[49m\u001b[43mobj\u001b[49m\u001b[43m,\u001b[49m\u001b[43m \u001b[49m\u001b[43morigin\u001b[49m\u001b[43m)\u001b[49m\n\u001b[32m   1120\u001b[39m \u001b[38;5;28;01mif\u001b[39;00m \u001b[38;5;28mself\u001b[39m._arbitrary_types:\n\u001b[32m   1121\u001b[39m     \u001b[38;5;28;01mreturn\u001b[39;00m \u001b[38;5;28mself\u001b[39m._arbitrary_type_schema(obj)\n",
      "\u001b[36mFile \u001b[39m\u001b[32m~/github/catalpainternational/formkit-ninja/.venv/lib/python3.11/site-packages/pydantic/_internal/_generate_schema.py:1141\u001b[39m, in \u001b[36mGenerateSchema._match_generic_type\u001b[39m\u001b[34m(self, obj, origin)\u001b[39m\n\u001b[32m   1139\u001b[39m     \u001b[38;5;28;01mreturn\u001b[39;00m \u001b[38;5;28mself\u001b[39m._type_alias_type_schema(obj)\n\u001b[32m   1140\u001b[39m \u001b[38;5;28;01melif\u001b[39;00m is_union_origin(origin):\n\u001b[32m-> \u001b[39m\u001b[32m1141\u001b[39m     \u001b[38;5;28;01mreturn\u001b[39;00m \u001b[38;5;28;43mself\u001b[39;49m\u001b[43m.\u001b[49m\u001b[43m_union_schema\u001b[49m\u001b[43m(\u001b[49m\u001b[43mobj\u001b[49m\u001b[43m)\u001b[49m\n\u001b[32m   1142\u001b[39m \u001b[38;5;28;01melif\u001b[39;00m origin \u001b[38;5;129;01min\u001b[39;00m TUPLE_TYPES:\n\u001b[32m   1143\u001b[39m     \u001b[38;5;28;01mreturn\u001b[39;00m \u001b[38;5;28mself\u001b[39m._tuple_schema(obj)\n",
      "\u001b[36mFile \u001b[39m\u001b[32m~/github/catalpainternational/formkit-ninja/.venv/lib/python3.11/site-packages/pydantic/_internal/_generate_schema.py:1429\u001b[39m, in \u001b[36mGenerateSchema._union_schema\u001b[39m\u001b[34m(self, union_type)\u001b[39m\n\u001b[32m   1427\u001b[39m         nullable = \u001b[38;5;28;01mTrue\u001b[39;00m\n\u001b[32m   1428\u001b[39m     \u001b[38;5;28;01melse\u001b[39;00m:\n\u001b[32m-> \u001b[39m\u001b[32m1429\u001b[39m         choices.append(\u001b[38;5;28;43mself\u001b[39;49m\u001b[43m.\u001b[49m\u001b[43mgenerate_schema\u001b[49m\u001b[43m(\u001b[49m\u001b[43marg\u001b[49m\u001b[43m)\u001b[49m)\n\u001b[32m   1431\u001b[39m \u001b[38;5;28;01mif\u001b[39;00m \u001b[38;5;28mlen\u001b[39m(choices) == \u001b[32m1\u001b[39m:\n\u001b[32m   1432\u001b[39m     s = choices[\u001b[32m0\u001b[39m]\n",
      "\u001b[36mFile \u001b[39m\u001b[32m~/github/catalpainternational/formkit-ninja/.venv/lib/python3.11/site-packages/pydantic/_internal/_generate_schema.py:706\u001b[39m, in \u001b[36mGenerateSchema.generate_schema\u001b[39m\u001b[34m(self, obj)\u001b[39m\n\u001b[32m    703\u001b[39m schema = \u001b[38;5;28mself\u001b[39m._generate_schema_from_get_schema_method(obj, obj)\n\u001b[32m    705\u001b[39m \u001b[38;5;28;01mif\u001b[39;00m schema \u001b[38;5;129;01mis\u001b[39;00m \u001b[38;5;28;01mNone\u001b[39;00m:\n\u001b[32m--> \u001b[39m\u001b[32m706\u001b[39m     schema = \u001b[38;5;28;43mself\u001b[39;49m\u001b[43m.\u001b[49m\u001b[43m_generate_schema_inner\u001b[49m\u001b[43m(\u001b[49m\u001b[43mobj\u001b[49m\u001b[43m)\u001b[49m\n\u001b[32m    708\u001b[39m metadata_js_function = _extract_get_pydantic_json_schema(obj)\n\u001b[32m    709\u001b[39m \u001b[38;5;28;01mif\u001b[39;00m metadata_js_function \u001b[38;5;129;01mis\u001b[39;00m \u001b[38;5;129;01mnot\u001b[39;00m \u001b[38;5;28;01mNone\u001b[39;00m:\n",
      "\u001b[36mFile \u001b[39m\u001b[32m~/github/catalpainternational/formkit-ninja/.venv/lib/python3.11/site-packages/pydantic/_internal/_generate_schema.py:983\u001b[39m, in \u001b[36mGenerateSchema._generate_schema_inner\u001b[39m\u001b[34m(self, obj)\u001b[39m\n\u001b[32m    980\u001b[39m     obj = \u001b[38;5;28mself\u001b[39m._resolve_self_type(obj)\n\u001b[32m    982\u001b[39m \u001b[38;5;28;01mif\u001b[39;00m typing_objects.is_annotated(get_origin(obj)):\n\u001b[32m--> \u001b[39m\u001b[32m983\u001b[39m     \u001b[38;5;28;01mreturn\u001b[39;00m \u001b[38;5;28;43mself\u001b[39;49m\u001b[43m.\u001b[49m\u001b[43m_annotated_schema\u001b[49m\u001b[43m(\u001b[49m\u001b[43mobj\u001b[49m\u001b[43m)\u001b[49m\n\u001b[32m    985\u001b[39m \u001b[38;5;28;01mif\u001b[39;00m \u001b[38;5;28misinstance\u001b[39m(obj, \u001b[38;5;28mdict\u001b[39m):\n\u001b[32m    986\u001b[39m     \u001b[38;5;66;03m# we assume this is already a valid schema\u001b[39;00m\n\u001b[32m    987\u001b[39m     \u001b[38;5;28;01mreturn\u001b[39;00m obj  \u001b[38;5;66;03m# type: ignore[return-value]\u001b[39;00m\n",
      "\u001b[36mFile \u001b[39m\u001b[32m~/github/catalpainternational/formkit-ninja/.venv/lib/python3.11/site-packages/pydantic/_internal/_generate_schema.py:2233\u001b[39m, in \u001b[36mGenerateSchema._annotated_schema\u001b[39m\u001b[34m(self, annotated_type)\u001b[39m\n\u001b[32m   2228\u001b[39m FieldInfo = import_cached_field_info()\n\u001b[32m   2229\u001b[39m source_type, *annotations = \u001b[38;5;28mself\u001b[39m._get_args_resolving_forward_refs(\n\u001b[32m   2230\u001b[39m     annotated_type,\n\u001b[32m   2231\u001b[39m     required=\u001b[38;5;28;01mTrue\u001b[39;00m,\n\u001b[32m   2232\u001b[39m )\n\u001b[32m-> \u001b[39m\u001b[32m2233\u001b[39m schema = \u001b[38;5;28;43mself\u001b[39;49m\u001b[43m.\u001b[49m\u001b[43m_apply_annotations\u001b[49m\u001b[43m(\u001b[49m\u001b[43msource_type\u001b[49m\u001b[43m,\u001b[49m\u001b[43m \u001b[49m\u001b[43mannotations\u001b[49m\u001b[43m)\u001b[49m\n\u001b[32m   2234\u001b[39m \u001b[38;5;66;03m# put the default validator last so that TypeAdapter.get_default_value() works\u001b[39;00m\n\u001b[32m   2235\u001b[39m \u001b[38;5;66;03m# even if there are function validators involved\u001b[39;00m\n\u001b[32m   2236\u001b[39m \u001b[38;5;28;01mfor\u001b[39;00m annotation \u001b[38;5;129;01min\u001b[39;00m annotations:\n",
      "\u001b[36mFile \u001b[39m\u001b[32m~/github/catalpainternational/formkit-ninja/.venv/lib/python3.11/site-packages/pydantic/_internal/_generate_schema.py:2279\u001b[39m, in \u001b[36mGenerateSchema._apply_annotations\u001b[39m\u001b[34m(self, source_type, annotations, transform_inner_schema)\u001b[39m\n\u001b[32m   2274\u001b[39m         \u001b[38;5;28;01mcontinue\u001b[39;00m\n\u001b[32m   2275\u001b[39m     get_inner_schema = \u001b[38;5;28mself\u001b[39m._get_wrapped_inner_schema(\n\u001b[32m   2276\u001b[39m         get_inner_schema, annotation, pydantic_js_annotation_functions\n\u001b[32m   2277\u001b[39m     )\n\u001b[32m-> \u001b[39m\u001b[32m2279\u001b[39m schema = \u001b[43mget_inner_schema\u001b[49m\u001b[43m(\u001b[49m\u001b[43msource_type\u001b[49m\u001b[43m)\u001b[49m\n\u001b[32m   2280\u001b[39m \u001b[38;5;28;01mif\u001b[39;00m pydantic_js_annotation_functions:\n\u001b[32m   2281\u001b[39m     core_metadata = schema.setdefault(\u001b[33m'\u001b[39m\u001b[33mmetadata\u001b[39m\u001b[33m'\u001b[39m, {})\n",
      "\u001b[36mFile \u001b[39m\u001b[32m~/github/catalpainternational/formkit-ninja/.venv/lib/python3.11/site-packages/pydantic/_internal/_schema_generation_shared.py:83\u001b[39m, in \u001b[36mCallbackGetCoreSchemaHandler.__call__\u001b[39m\u001b[34m(self, source_type)\u001b[39m\n\u001b[32m     82\u001b[39m \u001b[38;5;28;01mdef\u001b[39;00m\u001b[38;5;250m \u001b[39m\u001b[34m__call__\u001b[39m(\u001b[38;5;28mself\u001b[39m, source_type: Any, /) -> core_schema.CoreSchema:\n\u001b[32m---> \u001b[39m\u001b[32m83\u001b[39m     schema = \u001b[38;5;28;43mself\u001b[39;49m\u001b[43m.\u001b[49m\u001b[43m_handler\u001b[49m\u001b[43m(\u001b[49m\u001b[43msource_type\u001b[49m\u001b[43m)\u001b[49m\n\u001b[32m     84\u001b[39m     \u001b[38;5;28;01mif\u001b[39;00m \u001b[38;5;28mself\u001b[39m._ref_mode == \u001b[33m'\u001b[39m\u001b[33mto-def\u001b[39m\u001b[33m'\u001b[39m:\n\u001b[32m     85\u001b[39m         ref = schema.get(\u001b[33m'\u001b[39m\u001b[33mref\u001b[39m\u001b[33m'\u001b[39m)\n",
      "\u001b[36mFile \u001b[39m\u001b[32m~/github/catalpainternational/formkit-ninja/.venv/lib/python3.11/site-packages/pydantic/_internal/_generate_schema.py:2355\u001b[39m, in \u001b[36mGenerateSchema._get_wrapped_inner_schema.<locals>.new_handler\u001b[39m\u001b[34m(source)\u001b[39m\n\u001b[32m   2353\u001b[39m     schema = annotation_get_schema(source, get_inner_schema)\n\u001b[32m   2354\u001b[39m \u001b[38;5;28;01melse\u001b[39;00m:\n\u001b[32m-> \u001b[39m\u001b[32m2355\u001b[39m     schema = \u001b[43mget_inner_schema\u001b[49m\u001b[43m(\u001b[49m\u001b[43msource\u001b[49m\u001b[43m)\u001b[49m\n\u001b[32m   2356\u001b[39m     schema = \u001b[38;5;28mself\u001b[39m._apply_single_annotation(schema, annotation)\n\u001b[32m   2357\u001b[39m     schema = \u001b[38;5;28mself\u001b[39m._apply_single_annotation_json_schema(schema, annotation)\n",
      "\u001b[36mFile \u001b[39m\u001b[32m~/github/catalpainternational/formkit-ninja/.venv/lib/python3.11/site-packages/pydantic/_internal/_schema_generation_shared.py:83\u001b[39m, in \u001b[36mCallbackGetCoreSchemaHandler.__call__\u001b[39m\u001b[34m(self, source_type)\u001b[39m\n\u001b[32m     82\u001b[39m \u001b[38;5;28;01mdef\u001b[39;00m\u001b[38;5;250m \u001b[39m\u001b[34m__call__\u001b[39m(\u001b[38;5;28mself\u001b[39m, source_type: Any, /) -> core_schema.CoreSchema:\n\u001b[32m---> \u001b[39m\u001b[32m83\u001b[39m     schema = \u001b[38;5;28;43mself\u001b[39;49m\u001b[43m.\u001b[49m\u001b[43m_handler\u001b[49m\u001b[43m(\u001b[49m\u001b[43msource_type\u001b[49m\u001b[43m)\u001b[49m\n\u001b[32m     84\u001b[39m     \u001b[38;5;28;01mif\u001b[39;00m \u001b[38;5;28mself\u001b[39m._ref_mode == \u001b[33m'\u001b[39m\u001b[33mto-def\u001b[39m\u001b[33m'\u001b[39m:\n\u001b[32m     85\u001b[39m         ref = schema.get(\u001b[33m'\u001b[39m\u001b[33mref\u001b[39m\u001b[33m'\u001b[39m)\n",
      "\u001b[36mFile \u001b[39m\u001b[32m~/github/catalpainternational/formkit-ninja/.venv/lib/python3.11/site-packages/pydantic/_internal/_generate_schema.py:2261\u001b[39m, in \u001b[36mGenerateSchema._apply_annotations.<locals>.inner_handler\u001b[39m\u001b[34m(obj)\u001b[39m\n\u001b[32m   2258\u001b[39m schema = \u001b[38;5;28mself\u001b[39m._generate_schema_from_get_schema_method(obj, source_type)\n\u001b[32m   2260\u001b[39m \u001b[38;5;28;01mif\u001b[39;00m schema \u001b[38;5;129;01mis\u001b[39;00m \u001b[38;5;28;01mNone\u001b[39;00m:\n\u001b[32m-> \u001b[39m\u001b[32m2261\u001b[39m     schema = \u001b[38;5;28;43mself\u001b[39;49m\u001b[43m.\u001b[49m\u001b[43m_generate_schema_inner\u001b[49m\u001b[43m(\u001b[49m\u001b[43mobj\u001b[49m\u001b[43m)\u001b[49m\n\u001b[32m   2263\u001b[39m metadata_js_function = _extract_get_pydantic_json_schema(obj)\n\u001b[32m   2264\u001b[39m \u001b[38;5;28;01mif\u001b[39;00m metadata_js_function \u001b[38;5;129;01mis\u001b[39;00m \u001b[38;5;129;01mnot\u001b[39;00m \u001b[38;5;28;01mNone\u001b[39;00m:\n",
      "\u001b[36mFile \u001b[39m\u001b[32m~/github/catalpainternational/formkit-ninja/.venv/lib/python3.11/site-packages/pydantic/_internal/_generate_schema.py:1004\u001b[39m, in \u001b[36mGenerateSchema._generate_schema_inner\u001b[39m\u001b[34m(self, obj)\u001b[39m\n\u001b[32m   1001\u001b[39m \u001b[38;5;28;01mif\u001b[39;00m \u001b[38;5;28misinstance\u001b[39m(obj, PydanticRecursiveRef):\n\u001b[32m   1002\u001b[39m     \u001b[38;5;28;01mreturn\u001b[39;00m core_schema.definition_reference_schema(schema_ref=obj.type_ref)\n\u001b[32m-> \u001b[39m\u001b[32m1004\u001b[39m \u001b[38;5;28;01mreturn\u001b[39;00m \u001b[38;5;28;43mself\u001b[39;49m\u001b[43m.\u001b[49m\u001b[43mmatch_type\u001b[49m\u001b[43m(\u001b[49m\u001b[43mobj\u001b[49m\u001b[43m)\u001b[49m\n",
      "\u001b[36mFile \u001b[39m\u001b[32m~/github/catalpainternational/formkit-ninja/.venv/lib/python3.11/site-packages/pydantic/_internal/_generate_schema.py:1118\u001b[39m, in \u001b[36mGenerateSchema.match_type\u001b[39m\u001b[34m(self, obj)\u001b[39m\n\u001b[32m   1116\u001b[39m origin = get_origin(obj)\n\u001b[32m   1117\u001b[39m \u001b[38;5;28;01mif\u001b[39;00m origin \u001b[38;5;129;01mis\u001b[39;00m \u001b[38;5;129;01mnot\u001b[39;00m \u001b[38;5;28;01mNone\u001b[39;00m:\n\u001b[32m-> \u001b[39m\u001b[32m1118\u001b[39m     \u001b[38;5;28;01mreturn\u001b[39;00m \u001b[38;5;28;43mself\u001b[39;49m\u001b[43m.\u001b[49m\u001b[43m_match_generic_type\u001b[49m\u001b[43m(\u001b[49m\u001b[43mobj\u001b[49m\u001b[43m,\u001b[49m\u001b[43m \u001b[49m\u001b[43morigin\u001b[49m\u001b[43m)\u001b[49m\n\u001b[32m   1120\u001b[39m \u001b[38;5;28;01mif\u001b[39;00m \u001b[38;5;28mself\u001b[39m._arbitrary_types:\n\u001b[32m   1121\u001b[39m     \u001b[38;5;28;01mreturn\u001b[39;00m \u001b[38;5;28mself\u001b[39m._arbitrary_type_schema(obj)\n",
      "\u001b[36mFile \u001b[39m\u001b[32m~/github/catalpainternational/formkit-ninja/.venv/lib/python3.11/site-packages/pydantic/_internal/_generate_schema.py:1141\u001b[39m, in \u001b[36mGenerateSchema._match_generic_type\u001b[39m\u001b[34m(self, obj, origin)\u001b[39m\n\u001b[32m   1139\u001b[39m     \u001b[38;5;28;01mreturn\u001b[39;00m \u001b[38;5;28mself\u001b[39m._type_alias_type_schema(obj)\n\u001b[32m   1140\u001b[39m \u001b[38;5;28;01melif\u001b[39;00m is_union_origin(origin):\n\u001b[32m-> \u001b[39m\u001b[32m1141\u001b[39m     \u001b[38;5;28;01mreturn\u001b[39;00m \u001b[38;5;28;43mself\u001b[39;49m\u001b[43m.\u001b[49m\u001b[43m_union_schema\u001b[49m\u001b[43m(\u001b[49m\u001b[43mobj\u001b[49m\u001b[43m)\u001b[49m\n\u001b[32m   1142\u001b[39m \u001b[38;5;28;01melif\u001b[39;00m origin \u001b[38;5;129;01min\u001b[39;00m TUPLE_TYPES:\n\u001b[32m   1143\u001b[39m     \u001b[38;5;28;01mreturn\u001b[39;00m \u001b[38;5;28mself\u001b[39m._tuple_schema(obj)\n",
      "\u001b[36mFile \u001b[39m\u001b[32m~/github/catalpainternational/formkit-ninja/.venv/lib/python3.11/site-packages/pydantic/_internal/_generate_schema.py:1429\u001b[39m, in \u001b[36mGenerateSchema._union_schema\u001b[39m\u001b[34m(self, union_type)\u001b[39m\n\u001b[32m   1427\u001b[39m         nullable = \u001b[38;5;28;01mTrue\u001b[39;00m\n\u001b[32m   1428\u001b[39m     \u001b[38;5;28;01melse\u001b[39;00m:\n\u001b[32m-> \u001b[39m\u001b[32m1429\u001b[39m         choices.append(\u001b[38;5;28;43mself\u001b[39;49m\u001b[43m.\u001b[49m\u001b[43mgenerate_schema\u001b[49m\u001b[43m(\u001b[49m\u001b[43marg\u001b[49m\u001b[43m)\u001b[49m)\n\u001b[32m   1431\u001b[39m \u001b[38;5;28;01mif\u001b[39;00m \u001b[38;5;28mlen\u001b[39m(choices) == \u001b[32m1\u001b[39m:\n\u001b[32m   1432\u001b[39m     s = choices[\u001b[32m0\u001b[39m]\n",
      "\u001b[36mFile \u001b[39m\u001b[32m~/github/catalpainternational/formkit-ninja/.venv/lib/python3.11/site-packages/pydantic/_internal/_generate_schema.py:706\u001b[39m, in \u001b[36mGenerateSchema.generate_schema\u001b[39m\u001b[34m(self, obj)\u001b[39m\n\u001b[32m    703\u001b[39m schema = \u001b[38;5;28mself\u001b[39m._generate_schema_from_get_schema_method(obj, obj)\n\u001b[32m    705\u001b[39m \u001b[38;5;28;01mif\u001b[39;00m schema \u001b[38;5;129;01mis\u001b[39;00m \u001b[38;5;28;01mNone\u001b[39;00m:\n\u001b[32m--> \u001b[39m\u001b[32m706\u001b[39m     schema = \u001b[38;5;28;43mself\u001b[39;49m\u001b[43m.\u001b[49m\u001b[43m_generate_schema_inner\u001b[49m\u001b[43m(\u001b[49m\u001b[43mobj\u001b[49m\u001b[43m)\u001b[49m\n\u001b[32m    708\u001b[39m metadata_js_function = _extract_get_pydantic_json_schema(obj)\n\u001b[32m    709\u001b[39m \u001b[38;5;28;01mif\u001b[39;00m metadata_js_function \u001b[38;5;129;01mis\u001b[39;00m \u001b[38;5;129;01mnot\u001b[39;00m \u001b[38;5;28;01mNone\u001b[39;00m:\n",
      "\u001b[36mFile \u001b[39m\u001b[32m~/github/catalpainternational/formkit-ninja/.venv/lib/python3.11/site-packages/pydantic/_internal/_generate_schema.py:983\u001b[39m, in \u001b[36mGenerateSchema._generate_schema_inner\u001b[39m\u001b[34m(self, obj)\u001b[39m\n\u001b[32m    980\u001b[39m     obj = \u001b[38;5;28mself\u001b[39m._resolve_self_type(obj)\n\u001b[32m    982\u001b[39m \u001b[38;5;28;01mif\u001b[39;00m typing_objects.is_annotated(get_origin(obj)):\n\u001b[32m--> \u001b[39m\u001b[32m983\u001b[39m     \u001b[38;5;28;01mreturn\u001b[39;00m \u001b[38;5;28;43mself\u001b[39;49m\u001b[43m.\u001b[49m\u001b[43m_annotated_schema\u001b[49m\u001b[43m(\u001b[49m\u001b[43mobj\u001b[49m\u001b[43m)\u001b[49m\n\u001b[32m    985\u001b[39m \u001b[38;5;28;01mif\u001b[39;00m \u001b[38;5;28misinstance\u001b[39m(obj, \u001b[38;5;28mdict\u001b[39m):\n\u001b[32m    986\u001b[39m     \u001b[38;5;66;03m# we assume this is already a valid schema\u001b[39;00m\n\u001b[32m    987\u001b[39m     \u001b[38;5;28;01mreturn\u001b[39;00m obj  \u001b[38;5;66;03m# type: ignore[return-value]\u001b[39;00m\n",
      "\u001b[36mFile \u001b[39m\u001b[32m~/github/catalpainternational/formkit-ninja/.venv/lib/python3.11/site-packages/pydantic/_internal/_generate_schema.py:2233\u001b[39m, in \u001b[36mGenerateSchema._annotated_schema\u001b[39m\u001b[34m(self, annotated_type)\u001b[39m\n\u001b[32m   2228\u001b[39m FieldInfo = import_cached_field_info()\n\u001b[32m   2229\u001b[39m source_type, *annotations = \u001b[38;5;28mself\u001b[39m._get_args_resolving_forward_refs(\n\u001b[32m   2230\u001b[39m     annotated_type,\n\u001b[32m   2231\u001b[39m     required=\u001b[38;5;28;01mTrue\u001b[39;00m,\n\u001b[32m   2232\u001b[39m )\n\u001b[32m-> \u001b[39m\u001b[32m2233\u001b[39m schema = \u001b[38;5;28;43mself\u001b[39;49m\u001b[43m.\u001b[49m\u001b[43m_apply_annotations\u001b[49m\u001b[43m(\u001b[49m\u001b[43msource_type\u001b[49m\u001b[43m,\u001b[49m\u001b[43m \u001b[49m\u001b[43mannotations\u001b[49m\u001b[43m)\u001b[49m\n\u001b[32m   2234\u001b[39m \u001b[38;5;66;03m# put the default validator last so that TypeAdapter.get_default_value() works\u001b[39;00m\n\u001b[32m   2235\u001b[39m \u001b[38;5;66;03m# even if there are function validators involved\u001b[39;00m\n\u001b[32m   2236\u001b[39m \u001b[38;5;28;01mfor\u001b[39;00m annotation \u001b[38;5;129;01min\u001b[39;00m annotations:\n",
      "\u001b[36mFile \u001b[39m\u001b[32m~/github/catalpainternational/formkit-ninja/.venv/lib/python3.11/site-packages/pydantic/_internal/_generate_schema.py:2279\u001b[39m, in \u001b[36mGenerateSchema._apply_annotations\u001b[39m\u001b[34m(self, source_type, annotations, transform_inner_schema)\u001b[39m\n\u001b[32m   2274\u001b[39m         \u001b[38;5;28;01mcontinue\u001b[39;00m\n\u001b[32m   2275\u001b[39m     get_inner_schema = \u001b[38;5;28mself\u001b[39m._get_wrapped_inner_schema(\n\u001b[32m   2276\u001b[39m         get_inner_schema, annotation, pydantic_js_annotation_functions\n\u001b[32m   2277\u001b[39m     )\n\u001b[32m-> \u001b[39m\u001b[32m2279\u001b[39m schema = \u001b[43mget_inner_schema\u001b[49m\u001b[43m(\u001b[49m\u001b[43msource_type\u001b[49m\u001b[43m)\u001b[49m\n\u001b[32m   2280\u001b[39m \u001b[38;5;28;01mif\u001b[39;00m pydantic_js_annotation_functions:\n\u001b[32m   2281\u001b[39m     core_metadata = schema.setdefault(\u001b[33m'\u001b[39m\u001b[33mmetadata\u001b[39m\u001b[33m'\u001b[39m, {})\n",
      "\u001b[36mFile \u001b[39m\u001b[32m~/github/catalpainternational/formkit-ninja/.venv/lib/python3.11/site-packages/pydantic/_internal/_schema_generation_shared.py:83\u001b[39m, in \u001b[36mCallbackGetCoreSchemaHandler.__call__\u001b[39m\u001b[34m(self, source_type)\u001b[39m\n\u001b[32m     82\u001b[39m \u001b[38;5;28;01mdef\u001b[39;00m\u001b[38;5;250m \u001b[39m\u001b[34m__call__\u001b[39m(\u001b[38;5;28mself\u001b[39m, source_type: Any, /) -> core_schema.CoreSchema:\n\u001b[32m---> \u001b[39m\u001b[32m83\u001b[39m     schema = \u001b[38;5;28;43mself\u001b[39;49m\u001b[43m.\u001b[49m\u001b[43m_handler\u001b[49m\u001b[43m(\u001b[49m\u001b[43msource_type\u001b[49m\u001b[43m)\u001b[49m\n\u001b[32m     84\u001b[39m     \u001b[38;5;28;01mif\u001b[39;00m \u001b[38;5;28mself\u001b[39m._ref_mode == \u001b[33m'\u001b[39m\u001b[33mto-def\u001b[39m\u001b[33m'\u001b[39m:\n\u001b[32m     85\u001b[39m         ref = schema.get(\u001b[33m'\u001b[39m\u001b[33mref\u001b[39m\u001b[33m'\u001b[39m)\n",
      "\u001b[36mFile \u001b[39m\u001b[32m~/github/catalpainternational/formkit-ninja/.venv/lib/python3.11/site-packages/pydantic/_internal/_generate_schema.py:2355\u001b[39m, in \u001b[36mGenerateSchema._get_wrapped_inner_schema.<locals>.new_handler\u001b[39m\u001b[34m(source)\u001b[39m\n\u001b[32m   2353\u001b[39m     schema = annotation_get_schema(source, get_inner_schema)\n\u001b[32m   2354\u001b[39m \u001b[38;5;28;01melse\u001b[39;00m:\n\u001b[32m-> \u001b[39m\u001b[32m2355\u001b[39m     schema = \u001b[43mget_inner_schema\u001b[49m\u001b[43m(\u001b[49m\u001b[43msource\u001b[49m\u001b[43m)\u001b[49m\n\u001b[32m   2356\u001b[39m     schema = \u001b[38;5;28mself\u001b[39m._apply_single_annotation(schema, annotation)\n\u001b[32m   2357\u001b[39m     schema = \u001b[38;5;28mself\u001b[39m._apply_single_annotation_json_schema(schema, annotation)\n",
      "\u001b[36mFile \u001b[39m\u001b[32m~/github/catalpainternational/formkit-ninja/.venv/lib/python3.11/site-packages/pydantic/_internal/_schema_generation_shared.py:83\u001b[39m, in \u001b[36mCallbackGetCoreSchemaHandler.__call__\u001b[39m\u001b[34m(self, source_type)\u001b[39m\n\u001b[32m     82\u001b[39m \u001b[38;5;28;01mdef\u001b[39;00m\u001b[38;5;250m \u001b[39m\u001b[34m__call__\u001b[39m(\u001b[38;5;28mself\u001b[39m, source_type: Any, /) -> core_schema.CoreSchema:\n\u001b[32m---> \u001b[39m\u001b[32m83\u001b[39m     schema = \u001b[38;5;28;43mself\u001b[39;49m\u001b[43m.\u001b[49m\u001b[43m_handler\u001b[49m\u001b[43m(\u001b[49m\u001b[43msource_type\u001b[49m\u001b[43m)\u001b[49m\n\u001b[32m     84\u001b[39m     \u001b[38;5;28;01mif\u001b[39;00m \u001b[38;5;28mself\u001b[39m._ref_mode == \u001b[33m'\u001b[39m\u001b[33mto-def\u001b[39m\u001b[33m'\u001b[39m:\n\u001b[32m     85\u001b[39m         ref = schema.get(\u001b[33m'\u001b[39m\u001b[33mref\u001b[39m\u001b[33m'\u001b[39m)\n",
      "\u001b[36mFile \u001b[39m\u001b[32m~/github/catalpainternational/formkit-ninja/.venv/lib/python3.11/site-packages/pydantic/_internal/_generate_schema.py:2261\u001b[39m, in \u001b[36mGenerateSchema._apply_annotations.<locals>.inner_handler\u001b[39m\u001b[34m(obj)\u001b[39m\n\u001b[32m   2258\u001b[39m schema = \u001b[38;5;28mself\u001b[39m._generate_schema_from_get_schema_method(obj, source_type)\n\u001b[32m   2260\u001b[39m \u001b[38;5;28;01mif\u001b[39;00m schema \u001b[38;5;129;01mis\u001b[39;00m \u001b[38;5;28;01mNone\u001b[39;00m:\n\u001b[32m-> \u001b[39m\u001b[32m2261\u001b[39m     schema = \u001b[38;5;28;43mself\u001b[39;49m\u001b[43m.\u001b[49m\u001b[43m_generate_schema_inner\u001b[49m\u001b[43m(\u001b[49m\u001b[43mobj\u001b[49m\u001b[43m)\u001b[49m\n\u001b[32m   2263\u001b[39m metadata_js_function = _extract_get_pydantic_json_schema(obj)\n\u001b[32m   2264\u001b[39m \u001b[38;5;28;01mif\u001b[39;00m metadata_js_function \u001b[38;5;129;01mis\u001b[39;00m \u001b[38;5;129;01mnot\u001b[39;00m \u001b[38;5;28;01mNone\u001b[39;00m:\n",
      "\u001b[36mFile \u001b[39m\u001b[32m~/github/catalpainternational/formkit-ninja/.venv/lib/python3.11/site-packages/pydantic/_internal/_generate_schema.py:1004\u001b[39m, in \u001b[36mGenerateSchema._generate_schema_inner\u001b[39m\u001b[34m(self, obj)\u001b[39m\n\u001b[32m   1001\u001b[39m \u001b[38;5;28;01mif\u001b[39;00m \u001b[38;5;28misinstance\u001b[39m(obj, PydanticRecursiveRef):\n\u001b[32m   1002\u001b[39m     \u001b[38;5;28;01mreturn\u001b[39;00m core_schema.definition_reference_schema(schema_ref=obj.type_ref)\n\u001b[32m-> \u001b[39m\u001b[32m1004\u001b[39m \u001b[38;5;28;01mreturn\u001b[39;00m \u001b[38;5;28;43mself\u001b[39;49m\u001b[43m.\u001b[49m\u001b[43mmatch_type\u001b[49m\u001b[43m(\u001b[49m\u001b[43mobj\u001b[49m\u001b[43m)\u001b[49m\n",
      "\u001b[36mFile \u001b[39m\u001b[32m~/github/catalpainternational/formkit-ninja/.venv/lib/python3.11/site-packages/pydantic/_internal/_generate_schema.py:1118\u001b[39m, in \u001b[36mGenerateSchema.match_type\u001b[39m\u001b[34m(self, obj)\u001b[39m\n\u001b[32m   1116\u001b[39m origin = get_origin(obj)\n\u001b[32m   1117\u001b[39m \u001b[38;5;28;01mif\u001b[39;00m origin \u001b[38;5;129;01mis\u001b[39;00m \u001b[38;5;129;01mnot\u001b[39;00m \u001b[38;5;28;01mNone\u001b[39;00m:\n\u001b[32m-> \u001b[39m\u001b[32m1118\u001b[39m     \u001b[38;5;28;01mreturn\u001b[39;00m \u001b[38;5;28;43mself\u001b[39;49m\u001b[43m.\u001b[49m\u001b[43m_match_generic_type\u001b[49m\u001b[43m(\u001b[49m\u001b[43mobj\u001b[49m\u001b[43m,\u001b[49m\u001b[43m \u001b[49m\u001b[43morigin\u001b[49m\u001b[43m)\u001b[49m\n\u001b[32m   1120\u001b[39m \u001b[38;5;28;01mif\u001b[39;00m \u001b[38;5;28mself\u001b[39m._arbitrary_types:\n\u001b[32m   1121\u001b[39m     \u001b[38;5;28;01mreturn\u001b[39;00m \u001b[38;5;28mself\u001b[39m._arbitrary_type_schema(obj)\n",
      "\u001b[36mFile \u001b[39m\u001b[32m~/github/catalpainternational/formkit-ninja/.venv/lib/python3.11/site-packages/pydantic/_internal/_generate_schema.py:1141\u001b[39m, in \u001b[36mGenerateSchema._match_generic_type\u001b[39m\u001b[34m(self, obj, origin)\u001b[39m\n\u001b[32m   1139\u001b[39m     \u001b[38;5;28;01mreturn\u001b[39;00m \u001b[38;5;28mself\u001b[39m._type_alias_type_schema(obj)\n\u001b[32m   1140\u001b[39m \u001b[38;5;28;01melif\u001b[39;00m is_union_origin(origin):\n\u001b[32m-> \u001b[39m\u001b[32m1141\u001b[39m     \u001b[38;5;28;01mreturn\u001b[39;00m \u001b[38;5;28;43mself\u001b[39;49m\u001b[43m.\u001b[49m\u001b[43m_union_schema\u001b[49m\u001b[43m(\u001b[49m\u001b[43mobj\u001b[49m\u001b[43m)\u001b[49m\n\u001b[32m   1142\u001b[39m \u001b[38;5;28;01melif\u001b[39;00m origin \u001b[38;5;129;01min\u001b[39;00m TUPLE_TYPES:\n\u001b[32m   1143\u001b[39m     \u001b[38;5;28;01mreturn\u001b[39;00m \u001b[38;5;28mself\u001b[39m._tuple_schema(obj)\n",
      "\u001b[36mFile \u001b[39m\u001b[32m~/github/catalpainternational/formkit-ninja/.venv/lib/python3.11/site-packages/pydantic/_internal/_generate_schema.py:1429\u001b[39m, in \u001b[36mGenerateSchema._union_schema\u001b[39m\u001b[34m(self, union_type)\u001b[39m\n\u001b[32m   1427\u001b[39m         nullable = \u001b[38;5;28;01mTrue\u001b[39;00m\n\u001b[32m   1428\u001b[39m     \u001b[38;5;28;01melse\u001b[39;00m:\n\u001b[32m-> \u001b[39m\u001b[32m1429\u001b[39m         choices.append(\u001b[38;5;28;43mself\u001b[39;49m\u001b[43m.\u001b[49m\u001b[43mgenerate_schema\u001b[49m\u001b[43m(\u001b[49m\u001b[43marg\u001b[49m\u001b[43m)\u001b[49m)\n\u001b[32m   1431\u001b[39m \u001b[38;5;28;01mif\u001b[39;00m \u001b[38;5;28mlen\u001b[39m(choices) == \u001b[32m1\u001b[39m:\n\u001b[32m   1432\u001b[39m     s = choices[\u001b[32m0\u001b[39m]\n",
      "\u001b[36mFile \u001b[39m\u001b[32m~/github/catalpainternational/formkit-ninja/.venv/lib/python3.11/site-packages/pydantic/_internal/_generate_schema.py:706\u001b[39m, in \u001b[36mGenerateSchema.generate_schema\u001b[39m\u001b[34m(self, obj)\u001b[39m\n\u001b[32m    703\u001b[39m schema = \u001b[38;5;28mself\u001b[39m._generate_schema_from_get_schema_method(obj, obj)\n\u001b[32m    705\u001b[39m \u001b[38;5;28;01mif\u001b[39;00m schema \u001b[38;5;129;01mis\u001b[39;00m \u001b[38;5;28;01mNone\u001b[39;00m:\n\u001b[32m--> \u001b[39m\u001b[32m706\u001b[39m     schema = \u001b[38;5;28;43mself\u001b[39;49m\u001b[43m.\u001b[49m\u001b[43m_generate_schema_inner\u001b[49m\u001b[43m(\u001b[49m\u001b[43mobj\u001b[49m\u001b[43m)\u001b[49m\n\u001b[32m    708\u001b[39m metadata_js_function = _extract_get_pydantic_json_schema(obj)\n\u001b[32m    709\u001b[39m \u001b[38;5;28;01mif\u001b[39;00m metadata_js_function \u001b[38;5;129;01mis\u001b[39;00m \u001b[38;5;129;01mnot\u001b[39;00m \u001b[38;5;28;01mNone\u001b[39;00m:\n",
      "\u001b[36mFile \u001b[39m\u001b[32m~/github/catalpainternational/formkit-ninja/.venv/lib/python3.11/site-packages/pydantic/_internal/_generate_schema.py:999\u001b[39m, in \u001b[36mGenerateSchema._generate_schema_inner\u001b[39m\u001b[34m(self, obj)\u001b[39m\n\u001b[32m    997\u001b[39m \u001b[38;5;28;01mif\u001b[39;00m lenient_issubclass(obj, BaseModel):\n\u001b[32m    998\u001b[39m     \u001b[38;5;28;01mwith\u001b[39;00m \u001b[38;5;28mself\u001b[39m.model_type_stack.push(obj):\n\u001b[32m--> \u001b[39m\u001b[32m999\u001b[39m         \u001b[38;5;28;01mreturn\u001b[39;00m \u001b[38;5;28;43mself\u001b[39;49m\u001b[43m.\u001b[49m\u001b[43m_model_schema\u001b[49m\u001b[43m(\u001b[49m\u001b[43mobj\u001b[49m\u001b[43m)\u001b[49m\n\u001b[32m   1001\u001b[39m \u001b[38;5;28;01mif\u001b[39;00m \u001b[38;5;28misinstance\u001b[39m(obj, PydanticRecursiveRef):\n\u001b[32m   1002\u001b[39m     \u001b[38;5;28;01mreturn\u001b[39;00m core_schema.definition_reference_schema(schema_ref=obj.type_ref)\n",
      "\u001b[36mFile \u001b[39m\u001b[32m~/github/catalpainternational/formkit-ninja/.venv/lib/python3.11/site-packages/pydantic/_internal/_generate_schema.py:832\u001b[39m, in \u001b[36mGenerateSchema._model_schema\u001b[39m\u001b[34m(self, cls)\u001b[39m\n\u001b[32m    820\u001b[39m     model_schema = core_schema.model_schema(\n\u001b[32m    821\u001b[39m         \u001b[38;5;28mcls\u001b[39m,\n\u001b[32m    822\u001b[39m         inner_schema,\n\u001b[32m   (...)\u001b[39m\u001b[32m    828\u001b[39m         ref=model_ref,\n\u001b[32m    829\u001b[39m     )\n\u001b[32m    830\u001b[39m \u001b[38;5;28;01melse\u001b[39;00m:\n\u001b[32m    831\u001b[39m     fields_schema: core_schema.CoreSchema = core_schema.model_fields_schema(\n\u001b[32m--> \u001b[39m\u001b[32m832\u001b[39m         \u001b[43m{\u001b[49m\u001b[43mk\u001b[49m\u001b[43m:\u001b[49m\u001b[43m \u001b[49m\u001b[38;5;28;43mself\u001b[39;49m\u001b[43m.\u001b[49m\u001b[43m_generate_md_field_schema\u001b[49m\u001b[43m(\u001b[49m\u001b[43mk\u001b[49m\u001b[43m,\u001b[49m\u001b[43m \u001b[49m\u001b[43mv\u001b[49m\u001b[43m,\u001b[49m\u001b[43m \u001b[49m\u001b[43mdecorators\u001b[49m\u001b[43m)\u001b[49m\u001b[43m \u001b[49m\u001b[38;5;28;43;01mfor\u001b[39;49;00m\u001b[43m \u001b[49m\u001b[43mk\u001b[49m\u001b[43m,\u001b[49m\u001b[43m \u001b[49m\u001b[43mv\u001b[49m\u001b[43m \u001b[49m\u001b[38;5;129;43;01min\u001b[39;49;00m\u001b[43m \u001b[49m\u001b[43mfields\u001b[49m\u001b[43m.\u001b[49m\u001b[43mitems\u001b[49m\u001b[43m(\u001b[49m\u001b[43m)\u001b[49m\u001b[43m}\u001b[49m,\n\u001b[32m    833\u001b[39m         computed_fields=[\n\u001b[32m    834\u001b[39m             \u001b[38;5;28mself\u001b[39m._computed_field_schema(d, decorators.field_serializers)\n\u001b[32m    835\u001b[39m             \u001b[38;5;28;01mfor\u001b[39;00m d \u001b[38;5;129;01min\u001b[39;00m computed_fields.values()\n\u001b[32m    836\u001b[39m         ],\n\u001b[32m    837\u001b[39m         extras_schema=extras_schema,\n\u001b[32m    838\u001b[39m         extras_keys_schema=extras_keys_schema,\n\u001b[32m    839\u001b[39m         model_name=\u001b[38;5;28mcls\u001b[39m.\u001b[34m__name__\u001b[39m,\n\u001b[32m    840\u001b[39m     )\n\u001b[32m    841\u001b[39m     inner_schema = apply_validators(fields_schema, decorators.root_validators.values(), \u001b[38;5;28;01mNone\u001b[39;00m)\n\u001b[32m    842\u001b[39m     inner_schema = apply_model_validators(inner_schema, model_validators, \u001b[33m'\u001b[39m\u001b[33minner\u001b[39m\u001b[33m'\u001b[39m)\n",
      "\u001b[36mFile \u001b[39m\u001b[32m~/github/catalpainternational/formkit-ninja/.venv/lib/python3.11/site-packages/pydantic/_internal/_generate_schema.py:832\u001b[39m, in \u001b[36m<dictcomp>\u001b[39m\u001b[34m(.0)\u001b[39m\n\u001b[32m    820\u001b[39m     model_schema = core_schema.model_schema(\n\u001b[32m    821\u001b[39m         \u001b[38;5;28mcls\u001b[39m,\n\u001b[32m    822\u001b[39m         inner_schema,\n\u001b[32m   (...)\u001b[39m\u001b[32m    828\u001b[39m         ref=model_ref,\n\u001b[32m    829\u001b[39m     )\n\u001b[32m    830\u001b[39m \u001b[38;5;28;01melse\u001b[39;00m:\n\u001b[32m    831\u001b[39m     fields_schema: core_schema.CoreSchema = core_schema.model_fields_schema(\n\u001b[32m--> \u001b[39m\u001b[32m832\u001b[39m         {k: \u001b[38;5;28;43mself\u001b[39;49m\u001b[43m.\u001b[49m\u001b[43m_generate_md_field_schema\u001b[49m\u001b[43m(\u001b[49m\u001b[43mk\u001b[49m\u001b[43m,\u001b[49m\u001b[43m \u001b[49m\u001b[43mv\u001b[49m\u001b[43m,\u001b[49m\u001b[43m \u001b[49m\u001b[43mdecorators\u001b[49m\u001b[43m)\u001b[49m \u001b[38;5;28;01mfor\u001b[39;00m k, v \u001b[38;5;129;01min\u001b[39;00m fields.items()},\n\u001b[32m    833\u001b[39m         computed_fields=[\n\u001b[32m    834\u001b[39m             \u001b[38;5;28mself\u001b[39m._computed_field_schema(d, decorators.field_serializers)\n\u001b[32m    835\u001b[39m             \u001b[38;5;28;01mfor\u001b[39;00m d \u001b[38;5;129;01min\u001b[39;00m computed_fields.values()\n\u001b[32m    836\u001b[39m         ],\n\u001b[32m    837\u001b[39m         extras_schema=extras_schema,\n\u001b[32m    838\u001b[39m         extras_keys_schema=extras_keys_schema,\n\u001b[32m    839\u001b[39m         model_name=\u001b[38;5;28mcls\u001b[39m.\u001b[34m__name__\u001b[39m,\n\u001b[32m    840\u001b[39m     )\n\u001b[32m    841\u001b[39m     inner_schema = apply_validators(fields_schema, decorators.root_validators.values(), \u001b[38;5;28;01mNone\u001b[39;00m)\n\u001b[32m    842\u001b[39m     inner_schema = apply_model_validators(inner_schema, model_validators, \u001b[33m'\u001b[39m\u001b[33minner\u001b[39m\u001b[33m'\u001b[39m)\n",
      "\u001b[36mFile \u001b[39m\u001b[32m~/github/catalpainternational/formkit-ninja/.venv/lib/python3.11/site-packages/pydantic/_internal/_generate_schema.py:1201\u001b[39m, in \u001b[36mGenerateSchema._generate_md_field_schema\u001b[39m\u001b[34m(self, name, field_info, decorators)\u001b[39m\n\u001b[32m   1194\u001b[39m \u001b[38;5;28;01mdef\u001b[39;00m\u001b[38;5;250m \u001b[39m\u001b[34m_generate_md_field_schema\u001b[39m(\n\u001b[32m   1195\u001b[39m     \u001b[38;5;28mself\u001b[39m,\n\u001b[32m   1196\u001b[39m     name: \u001b[38;5;28mstr\u001b[39m,\n\u001b[32m   1197\u001b[39m     field_info: FieldInfo,\n\u001b[32m   1198\u001b[39m     decorators: DecoratorInfos,\n\u001b[32m   1199\u001b[39m ) -> core_schema.ModelField:\n\u001b[32m   1200\u001b[39m \u001b[38;5;250m    \u001b[39m\u001b[33;03m\"\"\"Prepare a ModelField to represent a model field.\"\"\"\u001b[39;00m\n\u001b[32m-> \u001b[39m\u001b[32m1201\u001b[39m     common_field = \u001b[38;5;28;43mself\u001b[39;49m\u001b[43m.\u001b[49m\u001b[43m_common_field_schema\u001b[49m\u001b[43m(\u001b[49m\u001b[43mname\u001b[49m\u001b[43m,\u001b[49m\u001b[43m \u001b[49m\u001b[43mfield_info\u001b[49m\u001b[43m,\u001b[49m\u001b[43m \u001b[49m\u001b[43mdecorators\u001b[49m\u001b[43m)\u001b[49m\n\u001b[32m   1202\u001b[39m     \u001b[38;5;28;01mreturn\u001b[39;00m core_schema.model_field(\n\u001b[32m   1203\u001b[39m         common_field[\u001b[33m'\u001b[39m\u001b[33mschema\u001b[39m\u001b[33m'\u001b[39m],\n\u001b[32m   1204\u001b[39m         serialization_exclude=common_field[\u001b[33m'\u001b[39m\u001b[33mserialization_exclude\u001b[39m\u001b[33m'\u001b[39m],\n\u001b[32m   (...)\u001b[39m\u001b[32m   1208\u001b[39m         metadata=common_field[\u001b[33m'\u001b[39m\u001b[33mmetadata\u001b[39m\u001b[33m'\u001b[39m],\n\u001b[32m   1209\u001b[39m     )\n",
      "\u001b[36mFile \u001b[39m\u001b[32m~/github/catalpainternational/formkit-ninja/.venv/lib/python3.11/site-packages/pydantic/_internal/_generate_schema.py:1367\u001b[39m, in \u001b[36mGenerateSchema._common_field_schema\u001b[39m\u001b[34m(self, name, field_info, decorators)\u001b[39m\n\u001b[32m   1363\u001b[39m         schema = \u001b[38;5;28mself\u001b[39m._apply_annotations(\n\u001b[32m   1364\u001b[39m             source_type, annotations + validators_from_decorators, transform_inner_schema=set_discriminator\n\u001b[32m   1365\u001b[39m         )\n\u001b[32m   1366\u001b[39m     \u001b[38;5;28;01melse\u001b[39;00m:\n\u001b[32m-> \u001b[39m\u001b[32m1367\u001b[39m         schema = \u001b[38;5;28;43mself\u001b[39;49m\u001b[43m.\u001b[49m\u001b[43m_apply_annotations\u001b[49m\u001b[43m(\u001b[49m\n\u001b[32m   1368\u001b[39m \u001b[43m            \u001b[49m\u001b[43msource_type\u001b[49m\u001b[43m,\u001b[49m\n\u001b[32m   1369\u001b[39m \u001b[43m            \u001b[49m\u001b[43mannotations\u001b[49m\u001b[43m \u001b[49m\u001b[43m+\u001b[49m\u001b[43m \u001b[49m\u001b[43mvalidators_from_decorators\u001b[49m\u001b[43m,\u001b[49m\n\u001b[32m   1370\u001b[39m \u001b[43m        \u001b[49m\u001b[43m)\u001b[49m\n\u001b[32m   1372\u001b[39m \u001b[38;5;66;03m# This V1 compatibility shim should eventually be removed\u001b[39;00m\n\u001b[32m   1373\u001b[39m \u001b[38;5;66;03m# push down any `each_item=True` validators\u001b[39;00m\n\u001b[32m   1374\u001b[39m \u001b[38;5;66;03m# note that this won't work for any Annotated types that get wrapped by a function validator\u001b[39;00m\n\u001b[32m   1375\u001b[39m \u001b[38;5;66;03m# but that's okay because that didn't exist in V1\u001b[39;00m\n\u001b[32m   1376\u001b[39m this_field_validators = filter_field_decorator_info_by_field(decorators.validators.values(), name)\n",
      "\u001b[36mFile \u001b[39m\u001b[32m~/github/catalpainternational/formkit-ninja/.venv/lib/python3.11/site-packages/pydantic/_internal/_generate_schema.py:2279\u001b[39m, in \u001b[36mGenerateSchema._apply_annotations\u001b[39m\u001b[34m(self, source_type, annotations, transform_inner_schema)\u001b[39m\n\u001b[32m   2274\u001b[39m         \u001b[38;5;28;01mcontinue\u001b[39;00m\n\u001b[32m   2275\u001b[39m     get_inner_schema = \u001b[38;5;28mself\u001b[39m._get_wrapped_inner_schema(\n\u001b[32m   2276\u001b[39m         get_inner_schema, annotation, pydantic_js_annotation_functions\n\u001b[32m   2277\u001b[39m     )\n\u001b[32m-> \u001b[39m\u001b[32m2279\u001b[39m schema = \u001b[43mget_inner_schema\u001b[49m\u001b[43m(\u001b[49m\u001b[43msource_type\u001b[49m\u001b[43m)\u001b[49m\n\u001b[32m   2280\u001b[39m \u001b[38;5;28;01mif\u001b[39;00m pydantic_js_annotation_functions:\n\u001b[32m   2281\u001b[39m     core_metadata = schema.setdefault(\u001b[33m'\u001b[39m\u001b[33mmetadata\u001b[39m\u001b[33m'\u001b[39m, {})\n",
      "\u001b[36mFile \u001b[39m\u001b[32m~/github/catalpainternational/formkit-ninja/.venv/lib/python3.11/site-packages/pydantic/_internal/_schema_generation_shared.py:83\u001b[39m, in \u001b[36mCallbackGetCoreSchemaHandler.__call__\u001b[39m\u001b[34m(self, source_type)\u001b[39m\n\u001b[32m     82\u001b[39m \u001b[38;5;28;01mdef\u001b[39;00m\u001b[38;5;250m \u001b[39m\u001b[34m__call__\u001b[39m(\u001b[38;5;28mself\u001b[39m, source_type: Any, /) -> core_schema.CoreSchema:\n\u001b[32m---> \u001b[39m\u001b[32m83\u001b[39m     schema = \u001b[38;5;28;43mself\u001b[39;49m\u001b[43m.\u001b[49m\u001b[43m_handler\u001b[49m\u001b[43m(\u001b[49m\u001b[43msource_type\u001b[49m\u001b[43m)\u001b[49m\n\u001b[32m     84\u001b[39m     \u001b[38;5;28;01mif\u001b[39;00m \u001b[38;5;28mself\u001b[39m._ref_mode == \u001b[33m'\u001b[39m\u001b[33mto-def\u001b[39m\u001b[33m'\u001b[39m:\n\u001b[32m     85\u001b[39m         ref = schema.get(\u001b[33m'\u001b[39m\u001b[33mref\u001b[39m\u001b[33m'\u001b[39m)\n",
      "\u001b[36mFile \u001b[39m\u001b[32m~/github/catalpainternational/formkit-ninja/.venv/lib/python3.11/site-packages/pydantic/_internal/_generate_schema.py:2353\u001b[39m, in \u001b[36mGenerateSchema._get_wrapped_inner_schema.<locals>.new_handler\u001b[39m\u001b[34m(source)\u001b[39m\n\u001b[32m   2351\u001b[39m \u001b[38;5;28;01mdef\u001b[39;00m\u001b[38;5;250m \u001b[39m\u001b[34mnew_handler\u001b[39m(source: Any) -> core_schema.CoreSchema:\n\u001b[32m   2352\u001b[39m     \u001b[38;5;28;01mif\u001b[39;00m annotation_get_schema \u001b[38;5;129;01mis\u001b[39;00m \u001b[38;5;129;01mnot\u001b[39;00m \u001b[38;5;28;01mNone\u001b[39;00m:\n\u001b[32m-> \u001b[39m\u001b[32m2353\u001b[39m         schema = \u001b[43mannotation_get_schema\u001b[49m\u001b[43m(\u001b[49m\u001b[43msource\u001b[49m\u001b[43m,\u001b[49m\u001b[43m \u001b[49m\u001b[43mget_inner_schema\u001b[49m\u001b[43m)\u001b[49m\n\u001b[32m   2354\u001b[39m     \u001b[38;5;28;01melse\u001b[39;00m:\n\u001b[32m   2355\u001b[39m         schema = get_inner_schema(source)\n",
      "\u001b[36mFile \u001b[39m\u001b[32m~/github/catalpainternational/formkit-ninja/.venv/lib/python3.11/site-packages/pydantic/functional_validators.py:212\u001b[39m, in \u001b[36mPlainValidator.__get_pydantic_core_schema__\u001b[39m\u001b[34m(self, source_type, handler)\u001b[39m\n\u001b[32m    209\u001b[39m \u001b[38;5;28;01mfrom\u001b[39;00m\u001b[38;5;250m \u001b[39m\u001b[34;01mpydantic\u001b[39;00m\u001b[38;5;250m \u001b[39m\u001b[38;5;28;01mimport\u001b[39;00m PydanticSchemaGenerationError\n\u001b[32m    211\u001b[39m \u001b[38;5;28;01mtry\u001b[39;00m:\n\u001b[32m--> \u001b[39m\u001b[32m212\u001b[39m     schema = \u001b[43mhandler\u001b[49m\u001b[43m(\u001b[49m\u001b[43msource_type\u001b[49m\u001b[43m)\u001b[49m\n\u001b[32m    213\u001b[39m     \u001b[38;5;66;03m# TODO if `schema['serialization']` is one of `'include-exclude-dict/sequence',\u001b[39;00m\n\u001b[32m    214\u001b[39m     \u001b[38;5;66;03m# schema validation will fail. That's why we use 'type ignore' comments below.\u001b[39;00m\n\u001b[32m    215\u001b[39m     serialization = schema.get(\n\u001b[32m    216\u001b[39m         \u001b[33m'\u001b[39m\u001b[33mserialization\u001b[39m\u001b[33m'\u001b[39m,\n\u001b[32m    217\u001b[39m         core_schema.wrap_serializer_function_ser_schema(\n\u001b[32m   (...)\u001b[39m\u001b[32m    221\u001b[39m         ),\n\u001b[32m    222\u001b[39m     )\n",
      "    \u001b[31m[... skipping similar frames: CallbackGetCoreSchemaHandler.__call__ at line 83 (1 times)]\u001b[39m\n",
      "\u001b[36mFile \u001b[39m\u001b[32m~/github/catalpainternational/formkit-ninja/.venv/lib/python3.11/site-packages/pydantic/_internal/_generate_schema.py:2353\u001b[39m, in \u001b[36mGenerateSchema._get_wrapped_inner_schema.<locals>.new_handler\u001b[39m\u001b[34m(source)\u001b[39m\n\u001b[32m   2351\u001b[39m \u001b[38;5;28;01mdef\u001b[39;00m\u001b[38;5;250m \u001b[39m\u001b[34mnew_handler\u001b[39m(source: Any) -> core_schema.CoreSchema:\n\u001b[32m   2352\u001b[39m     \u001b[38;5;28;01mif\u001b[39;00m annotation_get_schema \u001b[38;5;129;01mis\u001b[39;00m \u001b[38;5;129;01mnot\u001b[39;00m \u001b[38;5;28;01mNone\u001b[39;00m:\n\u001b[32m-> \u001b[39m\u001b[32m2353\u001b[39m         schema = \u001b[43mannotation_get_schema\u001b[49m\u001b[43m(\u001b[49m\u001b[43msource\u001b[49m\u001b[43m,\u001b[49m\u001b[43m \u001b[49m\u001b[43mget_inner_schema\u001b[49m\u001b[43m)\u001b[49m\n\u001b[32m   2354\u001b[39m     \u001b[38;5;28;01melse\u001b[39;00m:\n\u001b[32m   2355\u001b[39m         schema = get_inner_schema(source)\n",
      "\u001b[36mFile \u001b[39m\u001b[32m~/github/catalpainternational/formkit-ninja/.venv/lib/python3.11/site-packages/pydantic/functional_validators.py:212\u001b[39m, in \u001b[36mPlainValidator.__get_pydantic_core_schema__\u001b[39m\u001b[34m(self, source_type, handler)\u001b[39m\n\u001b[32m    209\u001b[39m \u001b[38;5;28;01mfrom\u001b[39;00m\u001b[38;5;250m \u001b[39m\u001b[34;01mpydantic\u001b[39;00m\u001b[38;5;250m \u001b[39m\u001b[38;5;28;01mimport\u001b[39;00m PydanticSchemaGenerationError\n\u001b[32m    211\u001b[39m \u001b[38;5;28;01mtry\u001b[39;00m:\n\u001b[32m--> \u001b[39m\u001b[32m212\u001b[39m     schema = \u001b[43mhandler\u001b[49m\u001b[43m(\u001b[49m\u001b[43msource_type\u001b[49m\u001b[43m)\u001b[49m\n\u001b[32m    213\u001b[39m     \u001b[38;5;66;03m# TODO if `schema['serialization']` is one of `'include-exclude-dict/sequence',\u001b[39;00m\n\u001b[32m    214\u001b[39m     \u001b[38;5;66;03m# schema validation will fail. That's why we use 'type ignore' comments below.\u001b[39;00m\n\u001b[32m    215\u001b[39m     serialization = schema.get(\n\u001b[32m    216\u001b[39m         \u001b[33m'\u001b[39m\u001b[33mserialization\u001b[39m\u001b[33m'\u001b[39m,\n\u001b[32m    217\u001b[39m         core_schema.wrap_serializer_function_ser_schema(\n\u001b[32m   (...)\u001b[39m\u001b[32m    221\u001b[39m         ),\n\u001b[32m    222\u001b[39m     )\n",
      "    \u001b[31m[... skipping similar frames: CallbackGetCoreSchemaHandler.__call__ at line 83 (22 times), PlainValidator.__get_pydantic_core_schema__ at line 212 (21 times), GenerateSchema._get_wrapped_inner_schema.<locals>.new_handler at line 2353 (21 times)]\u001b[39m\n",
      "\u001b[36mFile \u001b[39m\u001b[32m~/github/catalpainternational/formkit-ninja/.venv/lib/python3.11/site-packages/pydantic/_internal/_generate_schema.py:2261\u001b[39m, in \u001b[36mGenerateSchema._apply_annotations.<locals>.inner_handler\u001b[39m\u001b[34m(obj)\u001b[39m\n\u001b[32m   2258\u001b[39m schema = \u001b[38;5;28mself\u001b[39m._generate_schema_from_get_schema_method(obj, source_type)\n\u001b[32m   2260\u001b[39m \u001b[38;5;28;01mif\u001b[39;00m schema \u001b[38;5;129;01mis\u001b[39;00m \u001b[38;5;28;01mNone\u001b[39;00m:\n\u001b[32m-> \u001b[39m\u001b[32m2261\u001b[39m     schema = \u001b[38;5;28;43mself\u001b[39;49m\u001b[43m.\u001b[49m\u001b[43m_generate_schema_inner\u001b[49m\u001b[43m(\u001b[49m\u001b[43mobj\u001b[49m\u001b[43m)\u001b[49m\n\u001b[32m   2263\u001b[39m metadata_js_function = _extract_get_pydantic_json_schema(obj)\n\u001b[32m   2264\u001b[39m \u001b[38;5;28;01mif\u001b[39;00m metadata_js_function \u001b[38;5;129;01mis\u001b[39;00m \u001b[38;5;129;01mnot\u001b[39;00m \u001b[38;5;28;01mNone\u001b[39;00m:\n",
      "\u001b[36mFile \u001b[39m\u001b[32m~/github/catalpainternational/formkit-ninja/.venv/lib/python3.11/site-packages/pydantic/_internal/_generate_schema.py:1004\u001b[39m, in \u001b[36mGenerateSchema._generate_schema_inner\u001b[39m\u001b[34m(self, obj)\u001b[39m\n\u001b[32m   1001\u001b[39m \u001b[38;5;28;01mif\u001b[39;00m \u001b[38;5;28misinstance\u001b[39m(obj, PydanticRecursiveRef):\n\u001b[32m   1002\u001b[39m     \u001b[38;5;28;01mreturn\u001b[39;00m core_schema.definition_reference_schema(schema_ref=obj.type_ref)\n\u001b[32m-> \u001b[39m\u001b[32m1004\u001b[39m \u001b[38;5;28;01mreturn\u001b[39;00m \u001b[38;5;28;43mself\u001b[39;49m\u001b[43m.\u001b[49m\u001b[43mmatch_type\u001b[49m\u001b[43m(\u001b[49m\u001b[43mobj\u001b[49m\u001b[43m)\u001b[49m\n",
      "\u001b[36mFile \u001b[39m\u001b[32m~/github/catalpainternational/formkit-ninja/.venv/lib/python3.11/site-packages/pydantic/_internal/_generate_schema.py:1118\u001b[39m, in \u001b[36mGenerateSchema.match_type\u001b[39m\u001b[34m(self, obj)\u001b[39m\n\u001b[32m   1116\u001b[39m origin = get_origin(obj)\n\u001b[32m   1117\u001b[39m \u001b[38;5;28;01mif\u001b[39;00m origin \u001b[38;5;129;01mis\u001b[39;00m \u001b[38;5;129;01mnot\u001b[39;00m \u001b[38;5;28;01mNone\u001b[39;00m:\n\u001b[32m-> \u001b[39m\u001b[32m1118\u001b[39m     \u001b[38;5;28;01mreturn\u001b[39;00m \u001b[38;5;28;43mself\u001b[39;49m\u001b[43m.\u001b[49m\u001b[43m_match_generic_type\u001b[49m\u001b[43m(\u001b[49m\u001b[43mobj\u001b[49m\u001b[43m,\u001b[49m\u001b[43m \u001b[49m\u001b[43morigin\u001b[49m\u001b[43m)\u001b[49m\n\u001b[32m   1120\u001b[39m \u001b[38;5;28;01mif\u001b[39;00m \u001b[38;5;28mself\u001b[39m._arbitrary_types:\n\u001b[32m   1121\u001b[39m     \u001b[38;5;28;01mreturn\u001b[39;00m \u001b[38;5;28mself\u001b[39m._arbitrary_type_schema(obj)\n",
      "\u001b[36mFile \u001b[39m\u001b[32m~/github/catalpainternational/formkit-ninja/.venv/lib/python3.11/site-packages/pydantic/_internal/_generate_schema.py:1141\u001b[39m, in \u001b[36mGenerateSchema._match_generic_type\u001b[39m\u001b[34m(self, obj, origin)\u001b[39m\n\u001b[32m   1139\u001b[39m     \u001b[38;5;28;01mreturn\u001b[39;00m \u001b[38;5;28mself\u001b[39m._type_alias_type_schema(obj)\n\u001b[32m   1140\u001b[39m \u001b[38;5;28;01melif\u001b[39;00m is_union_origin(origin):\n\u001b[32m-> \u001b[39m\u001b[32m1141\u001b[39m     \u001b[38;5;28;01mreturn\u001b[39;00m \u001b[38;5;28;43mself\u001b[39;49m\u001b[43m.\u001b[49m\u001b[43m_union_schema\u001b[49m\u001b[43m(\u001b[49m\u001b[43mobj\u001b[49m\u001b[43m)\u001b[49m\n\u001b[32m   1142\u001b[39m \u001b[38;5;28;01melif\u001b[39;00m origin \u001b[38;5;129;01min\u001b[39;00m TUPLE_TYPES:\n\u001b[32m   1143\u001b[39m     \u001b[38;5;28;01mreturn\u001b[39;00m \u001b[38;5;28mself\u001b[39m._tuple_schema(obj)\n",
      "\u001b[36mFile \u001b[39m\u001b[32m~/github/catalpainternational/formkit-ninja/.venv/lib/python3.11/site-packages/pydantic/_internal/_generate_schema.py:1429\u001b[39m, in \u001b[36mGenerateSchema._union_schema\u001b[39m\u001b[34m(self, union_type)\u001b[39m\n\u001b[32m   1427\u001b[39m         nullable = \u001b[38;5;28;01mTrue\u001b[39;00m\n\u001b[32m   1428\u001b[39m     \u001b[38;5;28;01melse\u001b[39;00m:\n\u001b[32m-> \u001b[39m\u001b[32m1429\u001b[39m         choices.append(\u001b[38;5;28;43mself\u001b[39;49m\u001b[43m.\u001b[49m\u001b[43mgenerate_schema\u001b[49m\u001b[43m(\u001b[49m\u001b[43marg\u001b[49m\u001b[43m)\u001b[49m)\n\u001b[32m   1431\u001b[39m \u001b[38;5;28;01mif\u001b[39;00m \u001b[38;5;28mlen\u001b[39m(choices) == \u001b[32m1\u001b[39m:\n\u001b[32m   1432\u001b[39m     s = choices[\u001b[32m0\u001b[39m]\n",
      "\u001b[36mFile \u001b[39m\u001b[32m~/github/catalpainternational/formkit-ninja/.venv/lib/python3.11/site-packages/pydantic/_internal/_generate_schema.py:706\u001b[39m, in \u001b[36mGenerateSchema.generate_schema\u001b[39m\u001b[34m(self, obj)\u001b[39m\n\u001b[32m    703\u001b[39m schema = \u001b[38;5;28mself\u001b[39m._generate_schema_from_get_schema_method(obj, obj)\n\u001b[32m    705\u001b[39m \u001b[38;5;28;01mif\u001b[39;00m schema \u001b[38;5;129;01mis\u001b[39;00m \u001b[38;5;28;01mNone\u001b[39;00m:\n\u001b[32m--> \u001b[39m\u001b[32m706\u001b[39m     schema = \u001b[38;5;28;43mself\u001b[39;49m\u001b[43m.\u001b[49m\u001b[43m_generate_schema_inner\u001b[49m\u001b[43m(\u001b[49m\u001b[43mobj\u001b[49m\u001b[43m)\u001b[49m\n\u001b[32m    708\u001b[39m metadata_js_function = _extract_get_pydantic_json_schema(obj)\n\u001b[32m    709\u001b[39m \u001b[38;5;28;01mif\u001b[39;00m metadata_js_function \u001b[38;5;129;01mis\u001b[39;00m \u001b[38;5;129;01mnot\u001b[39;00m \u001b[38;5;28;01mNone\u001b[39;00m:\n",
      "    \u001b[31m[... skipping similar frames: GenerateSchema._generate_schema_inner at line 1004 (1 times), GenerateSchema.match_type at line 1118 (1 times)]\u001b[39m\n",
      "\u001b[36mFile \u001b[39m\u001b[32m~/github/catalpainternational/formkit-ninja/.venv/lib/python3.11/site-packages/pydantic/_internal/_generate_schema.py:1145\u001b[39m, in \u001b[36mGenerateSchema._match_generic_type\u001b[39m\u001b[34m(self, obj, origin)\u001b[39m\n\u001b[32m   1143\u001b[39m     \u001b[38;5;28;01mreturn\u001b[39;00m \u001b[38;5;28mself\u001b[39m._tuple_schema(obj)\n\u001b[32m   1144\u001b[39m \u001b[38;5;28;01melif\u001b[39;00m origin \u001b[38;5;129;01min\u001b[39;00m LIST_TYPES:\n\u001b[32m-> \u001b[39m\u001b[32m1145\u001b[39m     \u001b[38;5;28;01mreturn\u001b[39;00m \u001b[38;5;28;43mself\u001b[39;49m\u001b[43m.\u001b[49m\u001b[43m_list_schema\u001b[49m\u001b[43m(\u001b[49m\u001b[38;5;28;43mself\u001b[39;49m\u001b[43m.\u001b[49m\u001b[43m_get_first_arg_or_any\u001b[49m\u001b[43m(\u001b[49m\u001b[43mobj\u001b[49m\u001b[43m)\u001b[49m\u001b[43m)\u001b[49m\n\u001b[32m   1146\u001b[39m \u001b[38;5;28;01melif\u001b[39;00m origin \u001b[38;5;129;01min\u001b[39;00m SET_TYPES:\n\u001b[32m   1147\u001b[39m     \u001b[38;5;28;01mreturn\u001b[39;00m \u001b[38;5;28mself\u001b[39m._set_schema(\u001b[38;5;28mself\u001b[39m._get_first_arg_or_any(obj))\n",
      "\u001b[36mFile \u001b[39m\u001b[32m~/github/catalpainternational/formkit-ninja/.venv/lib/python3.11/site-packages/pydantic/_internal/_generate_schema.py:367\u001b[39m, in \u001b[36mGenerateSchema._list_schema\u001b[39m\u001b[34m(self, items_type)\u001b[39m\n\u001b[32m    366\u001b[39m \u001b[38;5;28;01mdef\u001b[39;00m\u001b[38;5;250m \u001b[39m\u001b[34m_list_schema\u001b[39m(\u001b[38;5;28mself\u001b[39m, items_type: Any) -> CoreSchema:\n\u001b[32m--> \u001b[39m\u001b[32m367\u001b[39m     \u001b[38;5;28;01mreturn\u001b[39;00m core_schema.list_schema(\u001b[38;5;28;43mself\u001b[39;49m\u001b[43m.\u001b[49m\u001b[43mgenerate_schema\u001b[49m\u001b[43m(\u001b[49m\u001b[43mitems_type\u001b[49m\u001b[43m)\u001b[49m)\n",
      "    \u001b[31m[... skipping similar frames: GenerateSchema.generate_schema at line 706 (2 times), GenerateSchema._generate_schema_inner at line 1004 (1 times), GenerateSchema._match_generic_type at line 1141 (1 times), GenerateSchema._union_schema at line 1429 (1 times), GenerateSchema.match_type at line 1118 (1 times)]\u001b[39m\n",
      "\u001b[36mFile \u001b[39m\u001b[32m~/github/catalpainternational/formkit-ninja/.venv/lib/python3.11/site-packages/pydantic/_internal/_generate_schema.py:999\u001b[39m, in \u001b[36mGenerateSchema._generate_schema_inner\u001b[39m\u001b[34m(self, obj)\u001b[39m\n\u001b[32m    997\u001b[39m \u001b[38;5;28;01mif\u001b[39;00m lenient_issubclass(obj, BaseModel):\n\u001b[32m    998\u001b[39m     \u001b[38;5;28;01mwith\u001b[39;00m \u001b[38;5;28mself\u001b[39m.model_type_stack.push(obj):\n\u001b[32m--> \u001b[39m\u001b[32m999\u001b[39m         \u001b[38;5;28;01mreturn\u001b[39;00m \u001b[38;5;28;43mself\u001b[39;49m\u001b[43m.\u001b[49m\u001b[43m_model_schema\u001b[49m\u001b[43m(\u001b[49m\u001b[43mobj\u001b[49m\u001b[43m)\u001b[49m\n\u001b[32m   1001\u001b[39m \u001b[38;5;28;01mif\u001b[39;00m \u001b[38;5;28misinstance\u001b[39m(obj, PydanticRecursiveRef):\n\u001b[32m   1002\u001b[39m     \u001b[38;5;28;01mreturn\u001b[39;00m core_schema.definition_reference_schema(schema_ref=obj.type_ref)\n",
      "\u001b[36mFile \u001b[39m\u001b[32m~/github/catalpainternational/formkit-ninja/.venv/lib/python3.11/site-packages/pydantic/_internal/_generate_schema.py:832\u001b[39m, in \u001b[36mGenerateSchema._model_schema\u001b[39m\u001b[34m(self, cls)\u001b[39m\n\u001b[32m    820\u001b[39m     model_schema = core_schema.model_schema(\n\u001b[32m    821\u001b[39m         \u001b[38;5;28mcls\u001b[39m,\n\u001b[32m    822\u001b[39m         inner_schema,\n\u001b[32m   (...)\u001b[39m\u001b[32m    828\u001b[39m         ref=model_ref,\n\u001b[32m    829\u001b[39m     )\n\u001b[32m    830\u001b[39m \u001b[38;5;28;01melse\u001b[39;00m:\n\u001b[32m    831\u001b[39m     fields_schema: core_schema.CoreSchema = core_schema.model_fields_schema(\n\u001b[32m--> \u001b[39m\u001b[32m832\u001b[39m         \u001b[43m{\u001b[49m\u001b[43mk\u001b[49m\u001b[43m:\u001b[49m\u001b[43m \u001b[49m\u001b[38;5;28;43mself\u001b[39;49m\u001b[43m.\u001b[49m\u001b[43m_generate_md_field_schema\u001b[49m\u001b[43m(\u001b[49m\u001b[43mk\u001b[49m\u001b[43m,\u001b[49m\u001b[43m \u001b[49m\u001b[43mv\u001b[49m\u001b[43m,\u001b[49m\u001b[43m \u001b[49m\u001b[43mdecorators\u001b[49m\u001b[43m)\u001b[49m\u001b[43m \u001b[49m\u001b[38;5;28;43;01mfor\u001b[39;49;00m\u001b[43m \u001b[49m\u001b[43mk\u001b[49m\u001b[43m,\u001b[49m\u001b[43m \u001b[49m\u001b[43mv\u001b[49m\u001b[43m \u001b[49m\u001b[38;5;129;43;01min\u001b[39;49;00m\u001b[43m \u001b[49m\u001b[43mfields\u001b[49m\u001b[43m.\u001b[49m\u001b[43mitems\u001b[49m\u001b[43m(\u001b[49m\u001b[43m)\u001b[49m\u001b[43m}\u001b[49m,\n\u001b[32m    833\u001b[39m         computed_fields=[\n\u001b[32m    834\u001b[39m             \u001b[38;5;28mself\u001b[39m._computed_field_schema(d, decorators.field_serializers)\n\u001b[32m    835\u001b[39m             \u001b[38;5;28;01mfor\u001b[39;00m d \u001b[38;5;129;01min\u001b[39;00m computed_fields.values()\n\u001b[32m    836\u001b[39m         ],\n\u001b[32m    837\u001b[39m         extras_schema=extras_schema,\n\u001b[32m    838\u001b[39m         extras_keys_schema=extras_keys_schema,\n\u001b[32m    839\u001b[39m         model_name=\u001b[38;5;28mcls\u001b[39m.\u001b[34m__name__\u001b[39m,\n\u001b[32m    840\u001b[39m     )\n\u001b[32m    841\u001b[39m     inner_schema = apply_validators(fields_schema, decorators.root_validators.values(), \u001b[38;5;28;01mNone\u001b[39;00m)\n\u001b[32m    842\u001b[39m     inner_schema = apply_model_validators(inner_schema, model_validators, \u001b[33m'\u001b[39m\u001b[33minner\u001b[39m\u001b[33m'\u001b[39m)\n",
      "\u001b[36mFile \u001b[39m\u001b[32m~/github/catalpainternational/formkit-ninja/.venv/lib/python3.11/site-packages/pydantic/_internal/_generate_schema.py:832\u001b[39m, in \u001b[36m<dictcomp>\u001b[39m\u001b[34m(.0)\u001b[39m\n\u001b[32m    820\u001b[39m     model_schema = core_schema.model_schema(\n\u001b[32m    821\u001b[39m         \u001b[38;5;28mcls\u001b[39m,\n\u001b[32m    822\u001b[39m         inner_schema,\n\u001b[32m   (...)\u001b[39m\u001b[32m    828\u001b[39m         ref=model_ref,\n\u001b[32m    829\u001b[39m     )\n\u001b[32m    830\u001b[39m \u001b[38;5;28;01melse\u001b[39;00m:\n\u001b[32m    831\u001b[39m     fields_schema: core_schema.CoreSchema = core_schema.model_fields_schema(\n\u001b[32m--> \u001b[39m\u001b[32m832\u001b[39m         {k: \u001b[38;5;28;43mself\u001b[39;49m\u001b[43m.\u001b[49m\u001b[43m_generate_md_field_schema\u001b[49m\u001b[43m(\u001b[49m\u001b[43mk\u001b[49m\u001b[43m,\u001b[49m\u001b[43m \u001b[49m\u001b[43mv\u001b[49m\u001b[43m,\u001b[49m\u001b[43m \u001b[49m\u001b[43mdecorators\u001b[49m\u001b[43m)\u001b[49m \u001b[38;5;28;01mfor\u001b[39;00m k, v \u001b[38;5;129;01min\u001b[39;00m fields.items()},\n\u001b[32m    833\u001b[39m         computed_fields=[\n\u001b[32m    834\u001b[39m             \u001b[38;5;28mself\u001b[39m._computed_field_schema(d, decorators.field_serializers)\n\u001b[32m    835\u001b[39m             \u001b[38;5;28;01mfor\u001b[39;00m d \u001b[38;5;129;01min\u001b[39;00m computed_fields.values()\n\u001b[32m    836\u001b[39m         ],\n\u001b[32m    837\u001b[39m         extras_schema=extras_schema,\n\u001b[32m    838\u001b[39m         extras_keys_schema=extras_keys_schema,\n\u001b[32m    839\u001b[39m         model_name=\u001b[38;5;28mcls\u001b[39m.\u001b[34m__name__\u001b[39m,\n\u001b[32m    840\u001b[39m     )\n\u001b[32m    841\u001b[39m     inner_schema = apply_validators(fields_schema, decorators.root_validators.values(), \u001b[38;5;28;01mNone\u001b[39;00m)\n\u001b[32m    842\u001b[39m     inner_schema = apply_model_validators(inner_schema, model_validators, \u001b[33m'\u001b[39m\u001b[33minner\u001b[39m\u001b[33m'\u001b[39m)\n",
      "\u001b[36mFile \u001b[39m\u001b[32m~/github/catalpainternational/formkit-ninja/.venv/lib/python3.11/site-packages/pydantic/_internal/_generate_schema.py:1201\u001b[39m, in \u001b[36mGenerateSchema._generate_md_field_schema\u001b[39m\u001b[34m(self, name, field_info, decorators)\u001b[39m\n\u001b[32m   1194\u001b[39m \u001b[38;5;28;01mdef\u001b[39;00m\u001b[38;5;250m \u001b[39m\u001b[34m_generate_md_field_schema\u001b[39m(\n\u001b[32m   1195\u001b[39m     \u001b[38;5;28mself\u001b[39m,\n\u001b[32m   1196\u001b[39m     name: \u001b[38;5;28mstr\u001b[39m,\n\u001b[32m   1197\u001b[39m     field_info: FieldInfo,\n\u001b[32m   1198\u001b[39m     decorators: DecoratorInfos,\n\u001b[32m   1199\u001b[39m ) -> core_schema.ModelField:\n\u001b[32m   1200\u001b[39m \u001b[38;5;250m    \u001b[39m\u001b[33;03m\"\"\"Prepare a ModelField to represent a model field.\"\"\"\u001b[39;00m\n\u001b[32m-> \u001b[39m\u001b[32m1201\u001b[39m     common_field = \u001b[38;5;28;43mself\u001b[39;49m\u001b[43m.\u001b[49m\u001b[43m_common_field_schema\u001b[49m\u001b[43m(\u001b[49m\u001b[43mname\u001b[49m\u001b[43m,\u001b[49m\u001b[43m \u001b[49m\u001b[43mfield_info\u001b[49m\u001b[43m,\u001b[49m\u001b[43m \u001b[49m\u001b[43mdecorators\u001b[49m\u001b[43m)\u001b[49m\n\u001b[32m   1202\u001b[39m     \u001b[38;5;28;01mreturn\u001b[39;00m core_schema.model_field(\n\u001b[32m   1203\u001b[39m         common_field[\u001b[33m'\u001b[39m\u001b[33mschema\u001b[39m\u001b[33m'\u001b[39m],\n\u001b[32m   1204\u001b[39m         serialization_exclude=common_field[\u001b[33m'\u001b[39m\u001b[33mserialization_exclude\u001b[39m\u001b[33m'\u001b[39m],\n\u001b[32m   (...)\u001b[39m\u001b[32m   1208\u001b[39m         metadata=common_field[\u001b[33m'\u001b[39m\u001b[33mmetadata\u001b[39m\u001b[33m'\u001b[39m],\n\u001b[32m   1209\u001b[39m     )\n",
      "\u001b[36mFile \u001b[39m\u001b[32m~/github/catalpainternational/formkit-ninja/.venv/lib/python3.11/site-packages/pydantic/_internal/_generate_schema.py:1367\u001b[39m, in \u001b[36mGenerateSchema._common_field_schema\u001b[39m\u001b[34m(self, name, field_info, decorators)\u001b[39m\n\u001b[32m   1363\u001b[39m         schema = \u001b[38;5;28mself\u001b[39m._apply_annotations(\n\u001b[32m   1364\u001b[39m             source_type, annotations + validators_from_decorators, transform_inner_schema=set_discriminator\n\u001b[32m   1365\u001b[39m         )\n\u001b[32m   1366\u001b[39m     \u001b[38;5;28;01melse\u001b[39;00m:\n\u001b[32m-> \u001b[39m\u001b[32m1367\u001b[39m         schema = \u001b[38;5;28;43mself\u001b[39;49m\u001b[43m.\u001b[49m\u001b[43m_apply_annotations\u001b[49m\u001b[43m(\u001b[49m\n\u001b[32m   1368\u001b[39m \u001b[43m            \u001b[49m\u001b[43msource_type\u001b[49m\u001b[43m,\u001b[49m\n\u001b[32m   1369\u001b[39m \u001b[43m            \u001b[49m\u001b[43mannotations\u001b[49m\u001b[43m \u001b[49m\u001b[43m+\u001b[49m\u001b[43m \u001b[49m\u001b[43mvalidators_from_decorators\u001b[49m\u001b[43m,\u001b[49m\n\u001b[32m   1370\u001b[39m \u001b[43m        \u001b[49m\u001b[43m)\u001b[49m\n\u001b[32m   1372\u001b[39m \u001b[38;5;66;03m# This V1 compatibility shim should eventually be removed\u001b[39;00m\n\u001b[32m   1373\u001b[39m \u001b[38;5;66;03m# push down any `each_item=True` validators\u001b[39;00m\n\u001b[32m   1374\u001b[39m \u001b[38;5;66;03m# note that this won't work for any Annotated types that get wrapped by a function validator\u001b[39;00m\n\u001b[32m   1375\u001b[39m \u001b[38;5;66;03m# but that's okay because that didn't exist in V1\u001b[39;00m\n\u001b[32m   1376\u001b[39m this_field_validators = filter_field_decorator_info_by_field(decorators.validators.values(), name)\n",
      "\u001b[36mFile \u001b[39m\u001b[32m~/github/catalpainternational/formkit-ninja/.venv/lib/python3.11/site-packages/pydantic/_internal/_generate_schema.py:2279\u001b[39m, in \u001b[36mGenerateSchema._apply_annotations\u001b[39m\u001b[34m(self, source_type, annotations, transform_inner_schema)\u001b[39m\n\u001b[32m   2274\u001b[39m         \u001b[38;5;28;01mcontinue\u001b[39;00m\n\u001b[32m   2275\u001b[39m     get_inner_schema = \u001b[38;5;28mself\u001b[39m._get_wrapped_inner_schema(\n\u001b[32m   2276\u001b[39m         get_inner_schema, annotation, pydantic_js_annotation_functions\n\u001b[32m   2277\u001b[39m     )\n\u001b[32m-> \u001b[39m\u001b[32m2279\u001b[39m schema = \u001b[43mget_inner_schema\u001b[49m\u001b[43m(\u001b[49m\u001b[43msource_type\u001b[49m\u001b[43m)\u001b[49m\n\u001b[32m   2280\u001b[39m \u001b[38;5;28;01mif\u001b[39;00m pydantic_js_annotation_functions:\n\u001b[32m   2281\u001b[39m     core_metadata = schema.setdefault(\u001b[33m'\u001b[39m\u001b[33mmetadata\u001b[39m\u001b[33m'\u001b[39m, {})\n",
      "    \u001b[31m[... skipping similar frames: CallbackGetCoreSchemaHandler.__call__ at line 83 (25 times), PlainValidator.__get_pydantic_core_schema__ at line 212 (24 times), GenerateSchema._get_wrapped_inner_schema.<locals>.new_handler at line 2353 (24 times), GenerateSchema._generate_schema_inner at line 1004 (2 times), GenerateSchema.match_type at line 1118 (2 times), GenerateSchema._match_generic_type at line 1141 (1 times), GenerateSchema._union_schema at line 1429 (1 times), GenerateSchema.generate_schema at line 706 (1 times), GenerateSchema._apply_annotations.<locals>.inner_handler at line 2261 (1 times)]\u001b[39m\n",
      "\u001b[36mFile \u001b[39m\u001b[32m~/github/catalpainternational/formkit-ninja/.venv/lib/python3.11/site-packages/pydantic/_internal/_generate_schema.py:1145\u001b[39m, in \u001b[36mGenerateSchema._match_generic_type\u001b[39m\u001b[34m(self, obj, origin)\u001b[39m\n\u001b[32m   1143\u001b[39m     \u001b[38;5;28;01mreturn\u001b[39;00m \u001b[38;5;28mself\u001b[39m._tuple_schema(obj)\n\u001b[32m   1144\u001b[39m \u001b[38;5;28;01melif\u001b[39;00m origin \u001b[38;5;129;01min\u001b[39;00m LIST_TYPES:\n\u001b[32m-> \u001b[39m\u001b[32m1145\u001b[39m     \u001b[38;5;28;01mreturn\u001b[39;00m \u001b[38;5;28;43mself\u001b[39;49m\u001b[43m.\u001b[49m\u001b[43m_list_schema\u001b[49m\u001b[43m(\u001b[49m\u001b[38;5;28;43mself\u001b[39;49m\u001b[43m.\u001b[49m\u001b[43m_get_first_arg_or_any\u001b[49m\u001b[43m(\u001b[49m\u001b[43mobj\u001b[49m\u001b[43m)\u001b[49m\u001b[43m)\u001b[49m\n\u001b[32m   1146\u001b[39m \u001b[38;5;28;01melif\u001b[39;00m origin \u001b[38;5;129;01min\u001b[39;00m SET_TYPES:\n\u001b[32m   1147\u001b[39m     \u001b[38;5;28;01mreturn\u001b[39;00m \u001b[38;5;28mself\u001b[39m._set_schema(\u001b[38;5;28mself\u001b[39m._get_first_arg_or_any(obj))\n",
      "\u001b[36mFile \u001b[39m\u001b[32m~/github/catalpainternational/formkit-ninja/.venv/lib/python3.11/site-packages/pydantic/_internal/_generate_schema.py:367\u001b[39m, in \u001b[36mGenerateSchema._list_schema\u001b[39m\u001b[34m(self, items_type)\u001b[39m\n\u001b[32m    366\u001b[39m \u001b[38;5;28;01mdef\u001b[39;00m\u001b[38;5;250m \u001b[39m\u001b[34m_list_schema\u001b[39m(\u001b[38;5;28mself\u001b[39m, items_type: Any) -> CoreSchema:\n\u001b[32m--> \u001b[39m\u001b[32m367\u001b[39m     \u001b[38;5;28;01mreturn\u001b[39;00m core_schema.list_schema(\u001b[38;5;28;43mself\u001b[39;49m\u001b[43m.\u001b[49m\u001b[43mgenerate_schema\u001b[49m\u001b[43m(\u001b[49m\u001b[43mitems_type\u001b[49m\u001b[43m)\u001b[49m)\n",
      "    \u001b[31m[... skipping similar frames: CallbackGetCoreSchemaHandler.__call__ at line 83 (536 times), PlainValidator.__get_pydantic_core_schema__ at line 212 (520 times), GenerateSchema._get_wrapped_inner_schema.<locals>.new_handler at line 2353 (520 times), GenerateSchema.generate_schema at line 706 (50 times), GenerateSchema._generate_schema_inner at line 1004 (49 times), GenerateSchema.match_type at line 1118 (49 times), GenerateSchema._match_generic_type at line 1141 (33 times), GenerateSchema._union_schema at line 1429 (33 times), GenerateSchema._generate_schema_inner at line 999 (17 times), <dictcomp> at line 832 (16 times), GenerateSchema._apply_annotations at line 2279 (16 times), GenerateSchema._common_field_schema at line 1367 (16 times), GenerateSchema._generate_md_field_schema at line 1201 (16 times), GenerateSchema._list_schema at line 367 (16 times), GenerateSchema._match_generic_type at line 1145 (16 times), GenerateSchema._model_schema at line 832 (16 times), GenerateSchema._apply_annotations.<locals>.inner_handler at line 2261 (16 times)]\u001b[39m\n",
      "\u001b[36mFile \u001b[39m\u001b[32m~/github/catalpainternational/formkit-ninja/.venv/lib/python3.11/site-packages/pydantic/_internal/_generate_schema.py:832\u001b[39m, in \u001b[36mGenerateSchema._model_schema\u001b[39m\u001b[34m(self, cls)\u001b[39m\n\u001b[32m    820\u001b[39m     model_schema = core_schema.model_schema(\n\u001b[32m    821\u001b[39m         \u001b[38;5;28mcls\u001b[39m,\n\u001b[32m    822\u001b[39m         inner_schema,\n\u001b[32m   (...)\u001b[39m\u001b[32m    828\u001b[39m         ref=model_ref,\n\u001b[32m    829\u001b[39m     )\n\u001b[32m    830\u001b[39m \u001b[38;5;28;01melse\u001b[39;00m:\n\u001b[32m    831\u001b[39m     fields_schema: core_schema.CoreSchema = core_schema.model_fields_schema(\n\u001b[32m--> \u001b[39m\u001b[32m832\u001b[39m         \u001b[43m{\u001b[49m\u001b[43mk\u001b[49m\u001b[43m:\u001b[49m\u001b[43m \u001b[49m\u001b[38;5;28;43mself\u001b[39;49m\u001b[43m.\u001b[49m\u001b[43m_generate_md_field_schema\u001b[49m\u001b[43m(\u001b[49m\u001b[43mk\u001b[49m\u001b[43m,\u001b[49m\u001b[43m \u001b[49m\u001b[43mv\u001b[49m\u001b[43m,\u001b[49m\u001b[43m \u001b[49m\u001b[43mdecorators\u001b[49m\u001b[43m)\u001b[49m\u001b[43m \u001b[49m\u001b[38;5;28;43;01mfor\u001b[39;49;00m\u001b[43m \u001b[49m\u001b[43mk\u001b[49m\u001b[43m,\u001b[49m\u001b[43m \u001b[49m\u001b[43mv\u001b[49m\u001b[43m \u001b[49m\u001b[38;5;129;43;01min\u001b[39;49;00m\u001b[43m \u001b[49m\u001b[43mfields\u001b[49m\u001b[43m.\u001b[49m\u001b[43mitems\u001b[49m\u001b[43m(\u001b[49m\u001b[43m)\u001b[49m\u001b[43m}\u001b[49m,\n\u001b[32m    833\u001b[39m         computed_fields=[\n\u001b[32m    834\u001b[39m             \u001b[38;5;28mself\u001b[39m._computed_field_schema(d, decorators.field_serializers)\n\u001b[32m    835\u001b[39m             \u001b[38;5;28;01mfor\u001b[39;00m d \u001b[38;5;129;01min\u001b[39;00m computed_fields.values()\n\u001b[32m    836\u001b[39m         ],\n\u001b[32m    837\u001b[39m         extras_schema=extras_schema,\n\u001b[32m    838\u001b[39m         extras_keys_schema=extras_keys_schema,\n\u001b[32m    839\u001b[39m         model_name=\u001b[38;5;28mcls\u001b[39m.\u001b[34m__name__\u001b[39m,\n\u001b[32m    840\u001b[39m     )\n\u001b[32m    841\u001b[39m     inner_schema = apply_validators(fields_schema, decorators.root_validators.values(), \u001b[38;5;28;01mNone\u001b[39;00m)\n\u001b[32m    842\u001b[39m     inner_schema = apply_model_validators(inner_schema, model_validators, \u001b[33m'\u001b[39m\u001b[33minner\u001b[39m\u001b[33m'\u001b[39m)\n",
      "\u001b[36mFile \u001b[39m\u001b[32m~/github/catalpainternational/formkit-ninja/.venv/lib/python3.11/site-packages/pydantic/_internal/_generate_schema.py:832\u001b[39m, in \u001b[36m<dictcomp>\u001b[39m\u001b[34m(.0)\u001b[39m\n\u001b[32m    820\u001b[39m     model_schema = core_schema.model_schema(\n\u001b[32m    821\u001b[39m         \u001b[38;5;28mcls\u001b[39m,\n\u001b[32m    822\u001b[39m         inner_schema,\n\u001b[32m   (...)\u001b[39m\u001b[32m    828\u001b[39m         ref=model_ref,\n\u001b[32m    829\u001b[39m     )\n\u001b[32m    830\u001b[39m \u001b[38;5;28;01melse\u001b[39;00m:\n\u001b[32m    831\u001b[39m     fields_schema: core_schema.CoreSchema = core_schema.model_fields_schema(\n\u001b[32m--> \u001b[39m\u001b[32m832\u001b[39m         {k: \u001b[38;5;28;43mself\u001b[39;49m\u001b[43m.\u001b[49m\u001b[43m_generate_md_field_schema\u001b[49m\u001b[43m(\u001b[49m\u001b[43mk\u001b[49m\u001b[43m,\u001b[49m\u001b[43m \u001b[49m\u001b[43mv\u001b[49m\u001b[43m,\u001b[49m\u001b[43m \u001b[49m\u001b[43mdecorators\u001b[49m\u001b[43m)\u001b[49m \u001b[38;5;28;01mfor\u001b[39;00m k, v \u001b[38;5;129;01min\u001b[39;00m fields.items()},\n\u001b[32m    833\u001b[39m         computed_fields=[\n\u001b[32m    834\u001b[39m             \u001b[38;5;28mself\u001b[39m._computed_field_schema(d, decorators.field_serializers)\n\u001b[32m    835\u001b[39m             \u001b[38;5;28;01mfor\u001b[39;00m d \u001b[38;5;129;01min\u001b[39;00m computed_fields.values()\n\u001b[32m    836\u001b[39m         ],\n\u001b[32m    837\u001b[39m         extras_schema=extras_schema,\n\u001b[32m    838\u001b[39m         extras_keys_schema=extras_keys_schema,\n\u001b[32m    839\u001b[39m         model_name=\u001b[38;5;28mcls\u001b[39m.\u001b[34m__name__\u001b[39m,\n\u001b[32m    840\u001b[39m     )\n\u001b[32m    841\u001b[39m     inner_schema = apply_validators(fields_schema, decorators.root_validators.values(), \u001b[38;5;28;01mNone\u001b[39;00m)\n\u001b[32m    842\u001b[39m     inner_schema = apply_model_validators(inner_schema, model_validators, \u001b[33m'\u001b[39m\u001b[33minner\u001b[39m\u001b[33m'\u001b[39m)\n",
      "\u001b[36mFile \u001b[39m\u001b[32m~/github/catalpainternational/formkit-ninja/.venv/lib/python3.11/site-packages/pydantic/_internal/_generate_schema.py:1201\u001b[39m, in \u001b[36mGenerateSchema._generate_md_field_schema\u001b[39m\u001b[34m(self, name, field_info, decorators)\u001b[39m\n\u001b[32m   1194\u001b[39m \u001b[38;5;28;01mdef\u001b[39;00m\u001b[38;5;250m \u001b[39m\u001b[34m_generate_md_field_schema\u001b[39m(\n\u001b[32m   1195\u001b[39m     \u001b[38;5;28mself\u001b[39m,\n\u001b[32m   1196\u001b[39m     name: \u001b[38;5;28mstr\u001b[39m,\n\u001b[32m   1197\u001b[39m     field_info: FieldInfo,\n\u001b[32m   1198\u001b[39m     decorators: DecoratorInfos,\n\u001b[32m   1199\u001b[39m ) -> core_schema.ModelField:\n\u001b[32m   1200\u001b[39m \u001b[38;5;250m    \u001b[39m\u001b[33;03m\"\"\"Prepare a ModelField to represent a model field.\"\"\"\u001b[39;00m\n\u001b[32m-> \u001b[39m\u001b[32m1201\u001b[39m     common_field = \u001b[38;5;28;43mself\u001b[39;49m\u001b[43m.\u001b[49m\u001b[43m_common_field_schema\u001b[49m\u001b[43m(\u001b[49m\u001b[43mname\u001b[49m\u001b[43m,\u001b[49m\u001b[43m \u001b[49m\u001b[43mfield_info\u001b[49m\u001b[43m,\u001b[49m\u001b[43m \u001b[49m\u001b[43mdecorators\u001b[49m\u001b[43m)\u001b[49m\n\u001b[32m   1202\u001b[39m     \u001b[38;5;28;01mreturn\u001b[39;00m core_schema.model_field(\n\u001b[32m   1203\u001b[39m         common_field[\u001b[33m'\u001b[39m\u001b[33mschema\u001b[39m\u001b[33m'\u001b[39m],\n\u001b[32m   1204\u001b[39m         serialization_exclude=common_field[\u001b[33m'\u001b[39m\u001b[33mserialization_exclude\u001b[39m\u001b[33m'\u001b[39m],\n\u001b[32m   (...)\u001b[39m\u001b[32m   1208\u001b[39m         metadata=common_field[\u001b[33m'\u001b[39m\u001b[33mmetadata\u001b[39m\u001b[33m'\u001b[39m],\n\u001b[32m   1209\u001b[39m     )\n",
      "\u001b[36mFile \u001b[39m\u001b[32m~/github/catalpainternational/formkit-ninja/.venv/lib/python3.11/site-packages/pydantic/_internal/_generate_schema.py:1367\u001b[39m, in \u001b[36mGenerateSchema._common_field_schema\u001b[39m\u001b[34m(self, name, field_info, decorators)\u001b[39m\n\u001b[32m   1363\u001b[39m         schema = \u001b[38;5;28mself\u001b[39m._apply_annotations(\n\u001b[32m   1364\u001b[39m             source_type, annotations + validators_from_decorators, transform_inner_schema=set_discriminator\n\u001b[32m   1365\u001b[39m         )\n\u001b[32m   1366\u001b[39m     \u001b[38;5;28;01melse\u001b[39;00m:\n\u001b[32m-> \u001b[39m\u001b[32m1367\u001b[39m         schema = \u001b[38;5;28;43mself\u001b[39;49m\u001b[43m.\u001b[49m\u001b[43m_apply_annotations\u001b[49m\u001b[43m(\u001b[49m\n\u001b[32m   1368\u001b[39m \u001b[43m            \u001b[49m\u001b[43msource_type\u001b[49m\u001b[43m,\u001b[49m\n\u001b[32m   1369\u001b[39m \u001b[43m            \u001b[49m\u001b[43mannotations\u001b[49m\u001b[43m \u001b[49m\u001b[43m+\u001b[49m\u001b[43m \u001b[49m\u001b[43mvalidators_from_decorators\u001b[49m\u001b[43m,\u001b[49m\n\u001b[32m   1370\u001b[39m \u001b[43m        \u001b[49m\u001b[43m)\u001b[49m\n\u001b[32m   1372\u001b[39m \u001b[38;5;66;03m# This V1 compatibility shim should eventually be removed\u001b[39;00m\n\u001b[32m   1373\u001b[39m \u001b[38;5;66;03m# push down any `each_item=True` validators\u001b[39;00m\n\u001b[32m   1374\u001b[39m \u001b[38;5;66;03m# note that this won't work for any Annotated types that get wrapped by a function validator\u001b[39;00m\n\u001b[32m   1375\u001b[39m \u001b[38;5;66;03m# but that's okay because that didn't exist in V1\u001b[39;00m\n\u001b[32m   1376\u001b[39m this_field_validators = filter_field_decorator_info_by_field(decorators.validators.values(), name)\n",
      "\u001b[36mFile \u001b[39m\u001b[32m~/github/catalpainternational/formkit-ninja/.venv/lib/python3.11/site-packages/pydantic/_internal/_generate_schema.py:2279\u001b[39m, in \u001b[36mGenerateSchema._apply_annotations\u001b[39m\u001b[34m(self, source_type, annotations, transform_inner_schema)\u001b[39m\n\u001b[32m   2274\u001b[39m         \u001b[38;5;28;01mcontinue\u001b[39;00m\n\u001b[32m   2275\u001b[39m     get_inner_schema = \u001b[38;5;28mself\u001b[39m._get_wrapped_inner_schema(\n\u001b[32m   2276\u001b[39m         get_inner_schema, annotation, pydantic_js_annotation_functions\n\u001b[32m   2277\u001b[39m     )\n\u001b[32m-> \u001b[39m\u001b[32m2279\u001b[39m schema = \u001b[43mget_inner_schema\u001b[49m\u001b[43m(\u001b[49m\u001b[43msource_type\u001b[49m\u001b[43m)\u001b[49m\n\u001b[32m   2280\u001b[39m \u001b[38;5;28;01mif\u001b[39;00m pydantic_js_annotation_functions:\n\u001b[32m   2281\u001b[39m     core_metadata = schema.setdefault(\u001b[33m'\u001b[39m\u001b[33mmetadata\u001b[39m\u001b[33m'\u001b[39m, {})\n",
      "    \u001b[31m[... skipping similar frames: CallbackGetCoreSchemaHandler.__call__ at line 83 (41 times), PlainValidator.__get_pydantic_core_schema__ at line 212 (40 times), GenerateSchema._get_wrapped_inner_schema.<locals>.new_handler at line 2353 (40 times)]\u001b[39m\n",
      "\u001b[36mFile \u001b[39m\u001b[32m~/github/catalpainternational/formkit-ninja/.venv/lib/python3.11/site-packages/pydantic/_internal/_generate_schema.py:2353\u001b[39m, in \u001b[36mGenerateSchema._get_wrapped_inner_schema.<locals>.new_handler\u001b[39m\u001b[34m(source)\u001b[39m\n\u001b[32m   2351\u001b[39m \u001b[38;5;28;01mdef\u001b[39;00m\u001b[38;5;250m \u001b[39m\u001b[34mnew_handler\u001b[39m(source: Any) -> core_schema.CoreSchema:\n\u001b[32m   2352\u001b[39m     \u001b[38;5;28;01mif\u001b[39;00m annotation_get_schema \u001b[38;5;129;01mis\u001b[39;00m \u001b[38;5;129;01mnot\u001b[39;00m \u001b[38;5;28;01mNone\u001b[39;00m:\n\u001b[32m-> \u001b[39m\u001b[32m2353\u001b[39m         schema = \u001b[43mannotation_get_schema\u001b[49m\u001b[43m(\u001b[49m\u001b[43msource\u001b[49m\u001b[43m,\u001b[49m\u001b[43m \u001b[49m\u001b[43mget_inner_schema\u001b[49m\u001b[43m)\u001b[49m\n\u001b[32m   2354\u001b[39m     \u001b[38;5;28;01melse\u001b[39;00m:\n\u001b[32m   2355\u001b[39m         schema = get_inner_schema(source)\n",
      "\u001b[36mFile \u001b[39m\u001b[32m~/github/catalpainternational/formkit-ninja/.venv/lib/python3.11/site-packages/pydantic/functional_validators.py:212\u001b[39m, in \u001b[36mPlainValidator.__get_pydantic_core_schema__\u001b[39m\u001b[34m(self, source_type, handler)\u001b[39m\n\u001b[32m    209\u001b[39m \u001b[38;5;28;01mfrom\u001b[39;00m\u001b[38;5;250m \u001b[39m\u001b[34;01mpydantic\u001b[39;00m\u001b[38;5;250m \u001b[39m\u001b[38;5;28;01mimport\u001b[39;00m PydanticSchemaGenerationError\n\u001b[32m    211\u001b[39m \u001b[38;5;28;01mtry\u001b[39;00m:\n\u001b[32m--> \u001b[39m\u001b[32m212\u001b[39m     schema = \u001b[43mhandler\u001b[49m\u001b[43m(\u001b[49m\u001b[43msource_type\u001b[49m\u001b[43m)\u001b[49m\n\u001b[32m    213\u001b[39m     \u001b[38;5;66;03m# TODO if `schema['serialization']` is one of `'include-exclude-dict/sequence',\u001b[39;00m\n\u001b[32m    214\u001b[39m     \u001b[38;5;66;03m# schema validation will fail. That's why we use 'type ignore' comments below.\u001b[39;00m\n\u001b[32m    215\u001b[39m     serialization = schema.get(\n\u001b[32m    216\u001b[39m         \u001b[33m'\u001b[39m\u001b[33mserialization\u001b[39m\u001b[33m'\u001b[39m,\n\u001b[32m    217\u001b[39m         core_schema.wrap_serializer_function_ser_schema(\n\u001b[32m   (...)\u001b[39m\u001b[32m    221\u001b[39m         ),\n\u001b[32m    222\u001b[39m     )\n",
      "\u001b[36mFile \u001b[39m\u001b[32m~/github/catalpainternational/formkit-ninja/.venv/lib/python3.11/site-packages/pydantic/_internal/_schema_generation_shared.py:83\u001b[39m, in \u001b[36mCallbackGetCoreSchemaHandler.__call__\u001b[39m\u001b[34m(self, source_type)\u001b[39m\n\u001b[32m     82\u001b[39m \u001b[38;5;28;01mdef\u001b[39;00m\u001b[38;5;250m \u001b[39m\u001b[34m__call__\u001b[39m(\u001b[38;5;28mself\u001b[39m, source_type: Any, /) -> core_schema.CoreSchema:\n\u001b[32m---> \u001b[39m\u001b[32m83\u001b[39m     schema = \u001b[38;5;28;43mself\u001b[39;49m\u001b[43m.\u001b[49m\u001b[43m_handler\u001b[49m\u001b[43m(\u001b[49m\u001b[43msource_type\u001b[49m\u001b[43m)\u001b[49m\n\u001b[32m     84\u001b[39m     \u001b[38;5;28;01mif\u001b[39;00m \u001b[38;5;28mself\u001b[39m._ref_mode == \u001b[33m'\u001b[39m\u001b[33mto-def\u001b[39m\u001b[33m'\u001b[39m:\n\u001b[32m     85\u001b[39m         ref = schema.get(\u001b[33m'\u001b[39m\u001b[33mref\u001b[39m\u001b[33m'\u001b[39m)\n",
      "\u001b[36mFile \u001b[39m\u001b[32m~/github/catalpainternational/formkit-ninja/.venv/lib/python3.11/site-packages/pydantic/_internal/_generate_schema.py:2261\u001b[39m, in \u001b[36mGenerateSchema._apply_annotations.<locals>.inner_handler\u001b[39m\u001b[34m(obj)\u001b[39m\n\u001b[32m   2258\u001b[39m schema = \u001b[38;5;28mself\u001b[39m._generate_schema_from_get_schema_method(obj, source_type)\n\u001b[32m   2260\u001b[39m \u001b[38;5;28;01mif\u001b[39;00m schema \u001b[38;5;129;01mis\u001b[39;00m \u001b[38;5;28;01mNone\u001b[39;00m:\n\u001b[32m-> \u001b[39m\u001b[32m2261\u001b[39m     schema = \u001b[38;5;28;43mself\u001b[39;49m\u001b[43m.\u001b[49m\u001b[43m_generate_schema_inner\u001b[49m\u001b[43m(\u001b[49m\u001b[43mobj\u001b[49m\u001b[43m)\u001b[49m\n\u001b[32m   2263\u001b[39m metadata_js_function = _extract_get_pydantic_json_schema(obj)\n\u001b[32m   2264\u001b[39m \u001b[38;5;28;01mif\u001b[39;00m metadata_js_function \u001b[38;5;129;01mis\u001b[39;00m \u001b[38;5;129;01mnot\u001b[39;00m \u001b[38;5;28;01mNone\u001b[39;00m:\n",
      "    \u001b[31m[... skipping similar frames: GenerateSchema._generate_schema_inner at line 1004 (2 times), GenerateSchema.match_type at line 1118 (2 times), GenerateSchema._match_generic_type at line 1141 (1 times), GenerateSchema._union_schema at line 1429 (1 times), GenerateSchema.generate_schema at line 706 (1 times)]\u001b[39m\n",
      "\u001b[36mFile \u001b[39m\u001b[32m~/github/catalpainternational/formkit-ninja/.venv/lib/python3.11/site-packages/pydantic/_internal/_generate_schema.py:1145\u001b[39m, in \u001b[36mGenerateSchema._match_generic_type\u001b[39m\u001b[34m(self, obj, origin)\u001b[39m\n\u001b[32m   1143\u001b[39m     \u001b[38;5;28;01mreturn\u001b[39;00m \u001b[38;5;28mself\u001b[39m._tuple_schema(obj)\n\u001b[32m   1144\u001b[39m \u001b[38;5;28;01melif\u001b[39;00m origin \u001b[38;5;129;01min\u001b[39;00m LIST_TYPES:\n\u001b[32m-> \u001b[39m\u001b[32m1145\u001b[39m     \u001b[38;5;28;01mreturn\u001b[39;00m \u001b[38;5;28;43mself\u001b[39;49m\u001b[43m.\u001b[49m\u001b[43m_list_schema\u001b[49m\u001b[43m(\u001b[49m\u001b[38;5;28;43mself\u001b[39;49m\u001b[43m.\u001b[49m\u001b[43m_get_first_arg_or_any\u001b[49m\u001b[43m(\u001b[49m\u001b[43mobj\u001b[49m\u001b[43m)\u001b[49m\u001b[43m)\u001b[49m\n\u001b[32m   1146\u001b[39m \u001b[38;5;28;01melif\u001b[39;00m origin \u001b[38;5;129;01min\u001b[39;00m SET_TYPES:\n\u001b[32m   1147\u001b[39m     \u001b[38;5;28;01mreturn\u001b[39;00m \u001b[38;5;28mself\u001b[39m._set_schema(\u001b[38;5;28mself\u001b[39m._get_first_arg_or_any(obj))\n",
      "\u001b[36mFile \u001b[39m\u001b[32m~/github/catalpainternational/formkit-ninja/.venv/lib/python3.11/site-packages/pydantic/_internal/_generate_schema.py:367\u001b[39m, in \u001b[36mGenerateSchema._list_schema\u001b[39m\u001b[34m(self, items_type)\u001b[39m\n\u001b[32m    366\u001b[39m \u001b[38;5;28;01mdef\u001b[39;00m\u001b[38;5;250m \u001b[39m\u001b[34m_list_schema\u001b[39m(\u001b[38;5;28mself\u001b[39m, items_type: Any) -> CoreSchema:\n\u001b[32m--> \u001b[39m\u001b[32m367\u001b[39m     \u001b[38;5;28;01mreturn\u001b[39;00m core_schema.list_schema(\u001b[38;5;28;43mself\u001b[39;49m\u001b[43m.\u001b[49m\u001b[43mgenerate_schema\u001b[49m\u001b[43m(\u001b[49m\u001b[43mitems_type\u001b[49m\u001b[43m)\u001b[49m)\n",
      "    \u001b[31m[... skipping similar frames: GenerateSchema.generate_schema at line 706 (1 times)]\u001b[39m\n",
      "\u001b[36mFile \u001b[39m\u001b[32m~/github/catalpainternational/formkit-ninja/.venv/lib/python3.11/site-packages/pydantic/_internal/_generate_schema.py:1004\u001b[39m, in \u001b[36mGenerateSchema._generate_schema_inner\u001b[39m\u001b[34m(self, obj)\u001b[39m\n\u001b[32m   1001\u001b[39m \u001b[38;5;28;01mif\u001b[39;00m \u001b[38;5;28misinstance\u001b[39m(obj, PydanticRecursiveRef):\n\u001b[32m   1002\u001b[39m     \u001b[38;5;28;01mreturn\u001b[39;00m core_schema.definition_reference_schema(schema_ref=obj.type_ref)\n\u001b[32m-> \u001b[39m\u001b[32m1004\u001b[39m \u001b[38;5;28;01mreturn\u001b[39;00m \u001b[38;5;28;43mself\u001b[39;49m\u001b[43m.\u001b[49m\u001b[43mmatch_type\u001b[49m\u001b[43m(\u001b[49m\u001b[43mobj\u001b[49m\u001b[43m)\u001b[49m\n",
      "\u001b[36mFile \u001b[39m\u001b[32m~/github/catalpainternational/formkit-ninja/.venv/lib/python3.11/site-packages/pydantic/_internal/_generate_schema.py:1118\u001b[39m, in \u001b[36mGenerateSchema.match_type\u001b[39m\u001b[34m(self, obj)\u001b[39m\n\u001b[32m   1116\u001b[39m origin = get_origin(obj)\n\u001b[32m   1117\u001b[39m \u001b[38;5;28;01mif\u001b[39;00m origin \u001b[38;5;129;01mis\u001b[39;00m \u001b[38;5;129;01mnot\u001b[39;00m \u001b[38;5;28;01mNone\u001b[39;00m:\n\u001b[32m-> \u001b[39m\u001b[32m1118\u001b[39m     \u001b[38;5;28;01mreturn\u001b[39;00m \u001b[38;5;28;43mself\u001b[39;49m\u001b[43m.\u001b[49m\u001b[43m_match_generic_type\u001b[49m\u001b[43m(\u001b[49m\u001b[43mobj\u001b[49m\u001b[43m,\u001b[49m\u001b[43m \u001b[49m\u001b[43morigin\u001b[49m\u001b[43m)\u001b[49m\n\u001b[32m   1120\u001b[39m \u001b[38;5;28;01mif\u001b[39;00m \u001b[38;5;28mself\u001b[39m._arbitrary_types:\n\u001b[32m   1121\u001b[39m     \u001b[38;5;28;01mreturn\u001b[39;00m \u001b[38;5;28mself\u001b[39m._arbitrary_type_schema(obj)\n",
      "\u001b[36mFile \u001b[39m\u001b[32m~/github/catalpainternational/formkit-ninja/.venv/lib/python3.11/site-packages/pydantic/_internal/_generate_schema.py:1141\u001b[39m, in \u001b[36mGenerateSchema._match_generic_type\u001b[39m\u001b[34m(self, obj, origin)\u001b[39m\n\u001b[32m   1139\u001b[39m     \u001b[38;5;28;01mreturn\u001b[39;00m \u001b[38;5;28mself\u001b[39m._type_alias_type_schema(obj)\n\u001b[32m   1140\u001b[39m \u001b[38;5;28;01melif\u001b[39;00m is_union_origin(origin):\n\u001b[32m-> \u001b[39m\u001b[32m1141\u001b[39m     \u001b[38;5;28;01mreturn\u001b[39;00m \u001b[38;5;28;43mself\u001b[39;49m\u001b[43m.\u001b[49m\u001b[43m_union_schema\u001b[49m\u001b[43m(\u001b[49m\u001b[43mobj\u001b[49m\u001b[43m)\u001b[49m\n\u001b[32m   1142\u001b[39m \u001b[38;5;28;01melif\u001b[39;00m origin \u001b[38;5;129;01min\u001b[39;00m TUPLE_TYPES:\n\u001b[32m   1143\u001b[39m     \u001b[38;5;28;01mreturn\u001b[39;00m \u001b[38;5;28mself\u001b[39m._tuple_schema(obj)\n",
      "\u001b[36mFile \u001b[39m\u001b[32m~/github/catalpainternational/formkit-ninja/.venv/lib/python3.11/site-packages/pydantic/_internal/_generate_schema.py:1429\u001b[39m, in \u001b[36mGenerateSchema._union_schema\u001b[39m\u001b[34m(self, union_type)\u001b[39m\n\u001b[32m   1427\u001b[39m         nullable = \u001b[38;5;28;01mTrue\u001b[39;00m\n\u001b[32m   1428\u001b[39m     \u001b[38;5;28;01melse\u001b[39;00m:\n\u001b[32m-> \u001b[39m\u001b[32m1429\u001b[39m         choices.append(\u001b[38;5;28;43mself\u001b[39;49m\u001b[43m.\u001b[49m\u001b[43mgenerate_schema\u001b[49m\u001b[43m(\u001b[49m\u001b[43marg\u001b[49m\u001b[43m)\u001b[49m)\n\u001b[32m   1431\u001b[39m \u001b[38;5;28;01mif\u001b[39;00m \u001b[38;5;28mlen\u001b[39m(choices) == \u001b[32m1\u001b[39m:\n\u001b[32m   1432\u001b[39m     s = choices[\u001b[32m0\u001b[39m]\n",
      "\u001b[36mFile \u001b[39m\u001b[32m~/github/catalpainternational/formkit-ninja/.venv/lib/python3.11/site-packages/pydantic/_internal/_generate_schema.py:706\u001b[39m, in \u001b[36mGenerateSchema.generate_schema\u001b[39m\u001b[34m(self, obj)\u001b[39m\n\u001b[32m    703\u001b[39m schema = \u001b[38;5;28mself\u001b[39m._generate_schema_from_get_schema_method(obj, obj)\n\u001b[32m    705\u001b[39m \u001b[38;5;28;01mif\u001b[39;00m schema \u001b[38;5;129;01mis\u001b[39;00m \u001b[38;5;28;01mNone\u001b[39;00m:\n\u001b[32m--> \u001b[39m\u001b[32m706\u001b[39m     schema = \u001b[38;5;28;43mself\u001b[39;49m\u001b[43m.\u001b[49m\u001b[43m_generate_schema_inner\u001b[49m\u001b[43m(\u001b[49m\u001b[43mobj\u001b[49m\u001b[43m)\u001b[49m\n\u001b[32m    708\u001b[39m metadata_js_function = _extract_get_pydantic_json_schema(obj)\n\u001b[32m    709\u001b[39m \u001b[38;5;28;01mif\u001b[39;00m metadata_js_function \u001b[38;5;129;01mis\u001b[39;00m \u001b[38;5;129;01mnot\u001b[39;00m \u001b[38;5;28;01mNone\u001b[39;00m:\n",
      "\u001b[36mFile \u001b[39m\u001b[32m~/github/catalpainternational/formkit-ninja/.venv/lib/python3.11/site-packages/pydantic/_internal/_generate_schema.py:999\u001b[39m, in \u001b[36mGenerateSchema._generate_schema_inner\u001b[39m\u001b[34m(self, obj)\u001b[39m\n\u001b[32m    997\u001b[39m \u001b[38;5;28;01mif\u001b[39;00m lenient_issubclass(obj, BaseModel):\n\u001b[32m    998\u001b[39m     \u001b[38;5;28;01mwith\u001b[39;00m \u001b[38;5;28mself\u001b[39m.model_type_stack.push(obj):\n\u001b[32m--> \u001b[39m\u001b[32m999\u001b[39m         \u001b[38;5;28;01mreturn\u001b[39;00m \u001b[38;5;28;43mself\u001b[39;49m\u001b[43m.\u001b[49m\u001b[43m_model_schema\u001b[49m\u001b[43m(\u001b[49m\u001b[43mobj\u001b[49m\u001b[43m)\u001b[49m\n\u001b[32m   1001\u001b[39m \u001b[38;5;28;01mif\u001b[39;00m \u001b[38;5;28misinstance\u001b[39m(obj, PydanticRecursiveRef):\n\u001b[32m   1002\u001b[39m     \u001b[38;5;28;01mreturn\u001b[39;00m core_schema.definition_reference_schema(schema_ref=obj.type_ref)\n",
      "\u001b[36mFile \u001b[39m\u001b[32m~/github/catalpainternational/formkit-ninja/.venv/lib/python3.11/site-packages/pydantic/_internal/_generate_schema.py:760\u001b[39m, in \u001b[36mGenerateSchema._model_schema\u001b[39m\u001b[34m(self, cls)\u001b[39m\n\u001b[32m    755\u001b[39m     \u001b[38;5;28;01mraise\u001b[39;00m PydanticUndefinedAnnotation(\n\u001b[32m    756\u001b[39m         name=\u001b[38;5;28mcls\u001b[39m.\u001b[34m__name__\u001b[39m,\n\u001b[32m    757\u001b[39m         message=\u001b[33mf\u001b[39m\u001b[33m'\u001b[39m\u001b[33mClass \u001b[39m\u001b[38;5;132;01m{\u001b[39;00m\u001b[38;5;28mcls\u001b[39m.\u001b[34m__name__\u001b[39m\u001b[38;5;132;01m!r}\u001b[39;00m\u001b[33m is not defined\u001b[39m\u001b[33m'\u001b[39m,\n\u001b[32m    758\u001b[39m     )\n\u001b[32m    759\u001b[39m \u001b[38;5;28;01mtry\u001b[39;00m:\n\u001b[32m--> \u001b[39m\u001b[32m760\u001b[39m     fields = \u001b[43mrebuild_model_fields\u001b[49m\u001b[43m(\u001b[49m\n\u001b[32m    761\u001b[39m \u001b[43m        \u001b[49m\u001b[38;5;28;43mcls\u001b[39;49m\u001b[43m,\u001b[49m\n\u001b[32m    762\u001b[39m \u001b[43m        \u001b[49m\u001b[43mns_resolver\u001b[49m\u001b[43m=\u001b[49m\u001b[38;5;28;43mself\u001b[39;49m\u001b[43m.\u001b[49m\u001b[43m_ns_resolver\u001b[49m\u001b[43m,\u001b[49m\n\u001b[32m    763\u001b[39m \u001b[43m        \u001b[49m\u001b[43mtypevars_map\u001b[49m\u001b[43m=\u001b[49m\u001b[38;5;28;43mself\u001b[39;49m\u001b[43m.\u001b[49m\u001b[43m_typevars_map\u001b[49m\u001b[43m \u001b[49m\u001b[38;5;129;43;01mor\u001b[39;49;00m\u001b[43m \u001b[49m\u001b[43m{\u001b[49m\u001b[43m}\u001b[49m\u001b[43m,\u001b[49m\n\u001b[32m    764\u001b[39m \u001b[43m    \u001b[49m\u001b[43m)\u001b[49m\n\u001b[32m    765\u001b[39m \u001b[38;5;28;01mexcept\u001b[39;00m \u001b[38;5;167;01mNameError\u001b[39;00m \u001b[38;5;28;01mas\u001b[39;00m e:\n\u001b[32m    766\u001b[39m     \u001b[38;5;28;01mraise\u001b[39;00m PydanticUndefinedAnnotation.from_name_error(e) \u001b[38;5;28;01mfrom\u001b[39;00m\u001b[38;5;250m \u001b[39m\u001b[34;01me\u001b[39;00m\n",
      "\u001b[36mFile \u001b[39m\u001b[32m~/github/catalpainternational/formkit-ninja/.venv/lib/python3.11/site-packages/pydantic/_internal/_fields.py:323\u001b[39m, in \u001b[36mrebuild_model_fields\u001b[39m\u001b[34m(cls, ns_resolver, typevars_map)\u001b[39m\n\u001b[32m    321\u001b[39m \u001b[38;5;28;01melse\u001b[39;00m:\n\u001b[32m    322\u001b[39m     existing_desc = field_info.description\n\u001b[32m--> \u001b[39m\u001b[32m323\u001b[39m     ann = \u001b[43m_typing_extra\u001b[49m\u001b[43m.\u001b[49m\u001b[43meval_type\u001b[49m\u001b[43m(\u001b[49m\n\u001b[32m    324\u001b[39m \u001b[43m        \u001b[49m\u001b[43mfield_info\u001b[49m\u001b[43m.\u001b[49m\u001b[43m_original_annotation\u001b[49m\u001b[43m,\u001b[49m\n\u001b[32m    325\u001b[39m \u001b[43m        \u001b[49m\u001b[43m*\u001b[49m\u001b[43mns_resolver\u001b[49m\u001b[43m.\u001b[49m\u001b[43mtypes_namespace\u001b[49m\u001b[43m,\u001b[49m\n\u001b[32m    326\u001b[39m \u001b[43m    \u001b[49m\u001b[43m)\u001b[49m\n\u001b[32m    327\u001b[39m     ann = _generics.replace_types(ann, typevars_map)\n\u001b[32m    329\u001b[39m     \u001b[38;5;28;01mif\u001b[39;00m (assign := field_info._original_assignment) \u001b[38;5;129;01mis\u001b[39;00m PydanticUndefined:\n",
      "\u001b[36mFile \u001b[39m\u001b[32m~/github/catalpainternational/formkit-ninja/.venv/lib/python3.11/site-packages/pydantic/_internal/_typing_extra.py:397\u001b[39m, in \u001b[36meval_type\u001b[39m\u001b[34m(value, globalns, localns)\u001b[39m\n\u001b[32m    388\u001b[39m \u001b[38;5;250m\u001b[39m\u001b[33;03m\"\"\"Evaluate the annotation using the provided namespaces.\u001b[39;00m\n\u001b[32m    389\u001b[39m \n\u001b[32m    390\u001b[39m \u001b[33;03mArgs:\u001b[39;00m\n\u001b[32m   (...)\u001b[39m\u001b[32m    394\u001b[39m \u001b[33;03m    globalns: The local namespace to use during annotation evaluation.\u001b[39;00m\n\u001b[32m    395\u001b[39m \u001b[33;03m\"\"\"\u001b[39;00m\n\u001b[32m    396\u001b[39m value = _type_convert(value)\n\u001b[32m--> \u001b[39m\u001b[32m397\u001b[39m \u001b[38;5;28;01mreturn\u001b[39;00m \u001b[43meval_type_backport\u001b[49m\u001b[43m(\u001b[49m\u001b[43mvalue\u001b[49m\u001b[43m,\u001b[49m\u001b[43m \u001b[49m\u001b[43mglobalns\u001b[49m\u001b[43m,\u001b[49m\u001b[43m \u001b[49m\u001b[43mlocalns\u001b[49m\u001b[43m)\u001b[49m\n",
      "\u001b[36mFile \u001b[39m\u001b[32m~/github/catalpainternational/formkit-ninja/.venv/lib/python3.11/site-packages/pydantic/_internal/_typing_extra.py:429\u001b[39m, in \u001b[36meval_type_backport\u001b[39m\u001b[34m(value, globalns, localns, type_params)\u001b[39m\n\u001b[32m    419\u001b[39m \u001b[38;5;250m\u001b[39m\u001b[33;03m\"\"\"An enhanced version of `typing._eval_type` which will fall back to using the `eval_type_backport`\u001b[39;00m\n\u001b[32m    420\u001b[39m \u001b[33;03mpackage if it's installed to let older Python versions use newer typing constructs.\u001b[39;00m\n\u001b[32m    421\u001b[39m \n\u001b[32m   (...)\u001b[39m\u001b[32m    426\u001b[39m \u001b[33;03mThis function will also display a helpful error if the value passed fails to evaluate.\u001b[39;00m\n\u001b[32m    427\u001b[39m \u001b[33;03m\"\"\"\u001b[39;00m\n\u001b[32m    428\u001b[39m \u001b[38;5;28;01mtry\u001b[39;00m:\n\u001b[32m--> \u001b[39m\u001b[32m429\u001b[39m     \u001b[38;5;28;01mreturn\u001b[39;00m \u001b[43m_eval_type_backport\u001b[49m\u001b[43m(\u001b[49m\u001b[43mvalue\u001b[49m\u001b[43m,\u001b[49m\u001b[43m \u001b[49m\u001b[43mglobalns\u001b[49m\u001b[43m,\u001b[49m\u001b[43m \u001b[49m\u001b[43mlocalns\u001b[49m\u001b[43m,\u001b[49m\u001b[43m \u001b[49m\u001b[43mtype_params\u001b[49m\u001b[43m)\u001b[49m\n\u001b[32m    430\u001b[39m \u001b[38;5;28;01mexcept\u001b[39;00m \u001b[38;5;167;01mTypeError\u001b[39;00m \u001b[38;5;28;01mas\u001b[39;00m e:\n\u001b[32m    431\u001b[39m     \u001b[38;5;28;01mif\u001b[39;00m \u001b[33m'\u001b[39m\u001b[33mUnable to evaluate type annotation\u001b[39m\u001b[33m'\u001b[39m \u001b[38;5;129;01min\u001b[39;00m \u001b[38;5;28mstr\u001b[39m(e):\n",
      "\u001b[36mFile \u001b[39m\u001b[32m~/github/catalpainternational/formkit-ninja/.venv/lib/python3.11/site-packages/pydantic/_internal/_typing_extra.py:466\u001b[39m, in \u001b[36m_eval_type_backport\u001b[39m\u001b[34m(value, globalns, localns, type_params)\u001b[39m\n\u001b[32m    459\u001b[39m \u001b[38;5;28;01mdef\u001b[39;00m\u001b[38;5;250m \u001b[39m\u001b[34m_eval_type_backport\u001b[39m(\n\u001b[32m    460\u001b[39m     value: Any,\n\u001b[32m    461\u001b[39m     globalns: GlobalsNamespace | \u001b[38;5;28;01mNone\u001b[39;00m = \u001b[38;5;28;01mNone\u001b[39;00m,\n\u001b[32m    462\u001b[39m     localns: MappingNamespace | \u001b[38;5;28;01mNone\u001b[39;00m = \u001b[38;5;28;01mNone\u001b[39;00m,\n\u001b[32m    463\u001b[39m     type_params: \u001b[38;5;28mtuple\u001b[39m[Any, ...] | \u001b[38;5;28;01mNone\u001b[39;00m = \u001b[38;5;28;01mNone\u001b[39;00m,\n\u001b[32m    464\u001b[39m ) -> Any:\n\u001b[32m    465\u001b[39m     \u001b[38;5;28;01mtry\u001b[39;00m:\n\u001b[32m--> \u001b[39m\u001b[32m466\u001b[39m         \u001b[38;5;28;01mreturn\u001b[39;00m \u001b[43m_eval_type\u001b[49m\u001b[43m(\u001b[49m\u001b[43mvalue\u001b[49m\u001b[43m,\u001b[49m\u001b[43m \u001b[49m\u001b[43mglobalns\u001b[49m\u001b[43m,\u001b[49m\u001b[43m \u001b[49m\u001b[43mlocalns\u001b[49m\u001b[43m,\u001b[49m\u001b[43m \u001b[49m\u001b[43mtype_params\u001b[49m\u001b[43m)\u001b[49m\n\u001b[32m    467\u001b[39m     \u001b[38;5;28;01mexcept\u001b[39;00m \u001b[38;5;167;01mTypeError\u001b[39;00m \u001b[38;5;28;01mas\u001b[39;00m e:\n\u001b[32m    468\u001b[39m         \u001b[38;5;28;01mif\u001b[39;00m \u001b[38;5;129;01mnot\u001b[39;00m (\u001b[38;5;28misinstance\u001b[39m(value, typing.ForwardRef) \u001b[38;5;129;01mand\u001b[39;00m is_backport_fixable_error(e)):\n",
      "\u001b[36mFile \u001b[39m\u001b[32m~/github/catalpainternational/formkit-ninja/.venv/lib/python3.11/site-packages/pydantic/_internal/_typing_extra.py:500\u001b[39m, in \u001b[36m_eval_type\u001b[39m\u001b[34m(value, globalns, localns, type_params)\u001b[39m\n\u001b[32m    496\u001b[39m     \u001b[38;5;28;01mreturn\u001b[39;00m typing._eval_type(  \u001b[38;5;66;03m# type: ignore\u001b[39;00m\n\u001b[32m    497\u001b[39m         value, globalns, localns, type_params=type_params\n\u001b[32m    498\u001b[39m     )\n\u001b[32m    499\u001b[39m \u001b[38;5;28;01melse\u001b[39;00m:\n\u001b[32m--> \u001b[39m\u001b[32m500\u001b[39m     \u001b[38;5;28;01mreturn\u001b[39;00m \u001b[43mtyping\u001b[49m\u001b[43m.\u001b[49m\u001b[43m_eval_type\u001b[49m\u001b[43m(\u001b[49m\u001b[43m  \u001b[49m\u001b[38;5;66;43;03m# type: ignore\u001b[39;49;00m\n\u001b[32m    501\u001b[39m \u001b[43m        \u001b[49m\u001b[43mvalue\u001b[49m\u001b[43m,\u001b[49m\u001b[43m \u001b[49m\u001b[43mglobalns\u001b[49m\u001b[43m,\u001b[49m\u001b[43m \u001b[49m\u001b[43mlocalns\u001b[49m\n\u001b[32m    502\u001b[39m \u001b[43m    \u001b[49m\u001b[43m)\u001b[49m\n",
      "\u001b[36mFile \u001b[39m\u001b[32m~/.local/share/uv/python/cpython-3.11.10-linux-x86_64-gnu/lib/python3.11/typing.py:395\u001b[39m, in \u001b[36m_eval_type\u001b[39m\u001b[34m(t, globalns, localns, recursive_guard)\u001b[39m\n\u001b[32m    388\u001b[39m \u001b[38;5;250m\u001b[39m\u001b[33;03m\"\"\"Evaluate all forward references in the given type t.\u001b[39;00m\n\u001b[32m    389\u001b[39m \n\u001b[32m    390\u001b[39m \u001b[33;03mFor use of globalns and localns see the docstring for get_type_hints().\u001b[39;00m\n\u001b[32m    391\u001b[39m \u001b[33;03mrecursive_guard is used to prevent infinite recursion with a recursive\u001b[39;00m\n\u001b[32m    392\u001b[39m \u001b[33;03mForwardRef.\u001b[39;00m\n\u001b[32m    393\u001b[39m \u001b[33;03m\"\"\"\u001b[39;00m\n\u001b[32m    394\u001b[39m \u001b[38;5;28;01mif\u001b[39;00m \u001b[38;5;28misinstance\u001b[39m(t, ForwardRef):\n\u001b[32m--> \u001b[39m\u001b[32m395\u001b[39m     \u001b[38;5;28;01mreturn\u001b[39;00m \u001b[43mt\u001b[49m\u001b[43m.\u001b[49m\u001b[43m_evaluate\u001b[49m\u001b[43m(\u001b[49m\u001b[43mglobalns\u001b[49m\u001b[43m,\u001b[49m\u001b[43m \u001b[49m\u001b[43mlocalns\u001b[49m\u001b[43m,\u001b[49m\u001b[43m \u001b[49m\u001b[43mrecursive_guard\u001b[49m\u001b[43m)\u001b[49m\n\u001b[32m    396\u001b[39m \u001b[38;5;28;01mif\u001b[39;00m \u001b[38;5;28misinstance\u001b[39m(t, (_GenericAlias, GenericAlias, types.UnionType)):\n\u001b[32m    397\u001b[39m     \u001b[38;5;28;01mif\u001b[39;00m \u001b[38;5;28misinstance\u001b[39m(t, GenericAlias):\n",
      "\u001b[36mFile \u001b[39m\u001b[32m~/.local/share/uv/python/cpython-3.11.10-linux-x86_64-gnu/lib/python3.11/typing.py:905\u001b[39m, in \u001b[36mForwardRef._evaluate\u001b[39m\u001b[34m(self, globalns, localns, recursive_guard)\u001b[39m\n\u001b[32m    900\u001b[39m \u001b[38;5;28;01mif\u001b[39;00m \u001b[38;5;28mself\u001b[39m.__forward_module__ \u001b[38;5;129;01mis\u001b[39;00m \u001b[38;5;129;01mnot\u001b[39;00m \u001b[38;5;28;01mNone\u001b[39;00m:\n\u001b[32m    901\u001b[39m     globalns = \u001b[38;5;28mgetattr\u001b[39m(\n\u001b[32m    902\u001b[39m         sys.modules.get(\u001b[38;5;28mself\u001b[39m.__forward_module__, \u001b[38;5;28;01mNone\u001b[39;00m), \u001b[33m'\u001b[39m\u001b[33m__dict__\u001b[39m\u001b[33m'\u001b[39m, globalns\n\u001b[32m    903\u001b[39m     )\n\u001b[32m    904\u001b[39m type_ = _type_check(\n\u001b[32m--> \u001b[39m\u001b[32m905\u001b[39m     \u001b[38;5;28meval\u001b[39m(\u001b[38;5;28mself\u001b[39m.__forward_code__, globalns, localns),\n\u001b[32m    906\u001b[39m     \u001b[33m\"\u001b[39m\u001b[33mForward references must evaluate to types.\u001b[39m\u001b[33m\"\u001b[39m,\n\u001b[32m    907\u001b[39m     is_argument=\u001b[38;5;28mself\u001b[39m.__forward_is_argument__,\n\u001b[32m    908\u001b[39m     allow_special_forms=\u001b[38;5;28mself\u001b[39m.__forward_is_class__,\n\u001b[32m    909\u001b[39m )\n\u001b[32m    910\u001b[39m \u001b[38;5;28mself\u001b[39m.__forward_value__ = _eval_type(\n\u001b[32m    911\u001b[39m     type_, globalns, localns, recursive_guard | {\u001b[38;5;28mself\u001b[39m.__forward_arg__}\n\u001b[32m    912\u001b[39m )\n\u001b[32m    913\u001b[39m \u001b[38;5;28mself\u001b[39m.__forward_evaluated__ = \u001b[38;5;28;01mTrue\u001b[39;00m\n",
      "\u001b[36mFile \u001b[39m\u001b[32m<string>:1\u001b[39m\n",
      "\u001b[36mFile \u001b[39m\u001b[32m~/.local/share/uv/python/cpython-3.11.10-linux-x86_64-gnu/lib/python3.11/typing.py:2239\u001b[39m, in \u001b[36mAnnotated.__class_getitem__\u001b[39m\u001b[34m(cls, params)\u001b[39m\n\u001b[32m   2237\u001b[39m \u001b[38;5;28;01mif\u001b[39;00m \u001b[38;5;129;01mnot\u001b[39;00m \u001b[38;5;28misinstance\u001b[39m(params, \u001b[38;5;28mtuple\u001b[39m):\n\u001b[32m   2238\u001b[39m     params = (params,)\n\u001b[32m-> \u001b[39m\u001b[32m2239\u001b[39m \u001b[38;5;28;01mreturn\u001b[39;00m \u001b[38;5;28;43mcls\u001b[39;49m\u001b[43m.\u001b[49m\u001b[43m_class_getitem_inner\u001b[49m\u001b[43m(\u001b[49m\u001b[38;5;28;43mcls\u001b[39;49m\u001b[43m,\u001b[49m\u001b[43m \u001b[49m\u001b[43m*\u001b[49m\u001b[43mparams\u001b[49m\u001b[43m)\u001b[49m\n",
      "\u001b[36mFile \u001b[39m\u001b[32m~/.local/share/uv/python/cpython-3.11.10-linux-x86_64-gnu/lib/python3.11/typing.py:376\u001b[39m, in \u001b[36m_tp_cache.<locals>.decorator.<locals>.inner\u001b[39m\u001b[34m(*args, **kwds)\u001b[39m\n\u001b[32m    373\u001b[39m \u001b[38;5;129m@functools\u001b[39m.wraps(func)\n\u001b[32m    374\u001b[39m \u001b[38;5;28;01mdef\u001b[39;00m\u001b[38;5;250m \u001b[39m\u001b[34minner\u001b[39m(*args, **kwds):\n\u001b[32m    375\u001b[39m     \u001b[38;5;28;01mtry\u001b[39;00m:\n\u001b[32m--> \u001b[39m\u001b[32m376\u001b[39m         \u001b[38;5;28;01mreturn\u001b[39;00m \u001b[43mcached\u001b[49m\u001b[43m(\u001b[49m\u001b[43m*\u001b[49m\u001b[43margs\u001b[49m\u001b[43m,\u001b[49m\u001b[43m \u001b[49m\u001b[43m*\u001b[49m\u001b[43m*\u001b[49m\u001b[43mkwds\u001b[49m\u001b[43m)\u001b[49m\n\u001b[32m    377\u001b[39m     \u001b[38;5;28;01mexcept\u001b[39;00m \u001b[38;5;167;01mTypeError\u001b[39;00m:\n\u001b[32m    378\u001b[39m         \u001b[38;5;28;01mpass\u001b[39;00m  \u001b[38;5;66;03m# All real errors (not unhashable args) are raised below.\u001b[39;00m\n",
      "\u001b[31mRecursionError\u001b[39m: maximum recursion depth exceeded in comparison",
      "If you made use of an implicit recursive type alias (e.g. `MyType = list['MyType']), consider using PEP 695 type aliases instead. For more details, refer to the documentation: https://docs.pydantic.dev/2.11/concepts/types/#named-recursive-types"
     ]
    }
   ],
   "source": [
    "import os\n",
    "import django\n",
    "from pathlib import Path\n",
    "os.chdir(Path.cwd().parent)\n",
    "os.environ[\"DJANGO_ALLOW_ASYNC_UNSAFE\"] = \"true\"\n",
    "os.environ.setdefault('DJANGO_SETTINGS_MODULE', 'testproject.settings')\n",
    "django.setup()"
   ]
  },
  {
   "cell_type": "markdown",
   "metadata": {},
   "source": [
    "# Formkit-Ninja\n",
    "\n",
    "What is Formkit-Ninja?\n",
    "It's a Django application to store and convert FormKit schemas between JSON, Pydantic models, and database backend. It supports most of the FormKit syntax as well as some of the \"extra\" goodies."
   ]
  },
  {
   "cell_type": "code",
   "execution_count": 2,
   "metadata": {},
   "outputs": [],
   "source": [
    "\n",
    "# Here we're defining some functions to help us display data in a nice way \n",
    "\n",
    "from typing import Any\n",
    "from rich.table import Table\n",
    "from rich.jupyter import print\n",
    "from pydantic import BaseModel\n",
    "\n",
    "def kvtable(inputelement: dict[str, Any], title: str | None = None):\n",
    "    table = Table(title=title)\n",
    "    table.add_column(\"Key\", style=\"cyan\", no_wrap=True)\n",
    "    table.add_column(\"Value\", style=\"magenta\")\n",
    "    for key, value in sorted(inputelement.items()):\n",
    "        table.add_row(str(key), str(value))\n",
    "    print(table)\n",
    "\n",
    "def modeltable(inputmodel: BaseModel):\n",
    "    kvtable(inputmodel.model_dump(exclude_none=True, by_alias=True), title=inputmodel.__class__.__name__)\n",
    "\n",
    "def manytable(inputelements: list[dict[str, Any]], title: str | None = None):\n",
    "    table = Table(title=title)\n",
    "    table.add_column(\"Index\", style=\"cyan\", no_wrap=True)\n",
    "    # Set of all keys\n",
    "    keys = set()\n",
    "    for element in inputelements:\n",
    "        keys.update(element.keys())\n",
    "    # These are the \"rows\"\n",
    "    rows = sorted(keys)\n",
    "    # These are the \"columns\"\n",
    "    range(len(inputelements))\n",
    "    # Add the columns\n",
    "    for index, i in enumerate(inputelements):\n",
    "        table.add_column(str(index), style=\"magenta\")\n",
    "    # Add the rows\n",
    "    for row in rows:\n",
    "        content = []\n",
    "        for index, i in enumerate(inputelements):\n",
    "            content.append(str(i.get(row, \"\")))\n",
    "        table.add_row(row, *content)\n",
    "    print(table)\n",
    "\n",
    "def manynodetable(inputelements: list[BaseModel], title: str | None = None):\n",
    "    manytable([i.model_dump(exclude_none=True, by_alias=True) for i in inputelements], title=title) \n",
    "    \n"
   ]
  },
  {
   "cell_type": "code",
   "execution_count": 3,
   "metadata": {},
   "outputs": [
    {
     "data": {
      "text/html": [
       "<pre style=\"white-space:pre;overflow-x:auto;line-height:normal;font-family:Menlo,'DejaVu Sans Mono',consolas,'Courier New',monospace\">┏━━━━━━━━━━━━┳━━━━━━━━━━━━━━━━━━━━━━━━━━┓\n",
       "┃<span style=\"font-weight: bold\"> Key        </span>┃<span style=\"font-weight: bold\"> Value                    </span>┃\n",
       "┡━━━━━━━━━━━━╇━━━━━━━━━━━━━━━━━━━━━━━━━━┩\n",
       "│<span style=\"color: #008080; text-decoration-color: #008080\"> $formkit   </span>│<span style=\"color: #800080; text-decoration-color: #800080\"> tel                      </span>│\n",
       "│<span style=\"color: #008080; text-decoration-color: #008080\"> label      </span>│<span style=\"color: #800080; text-decoration-color: #800080\"> $gettext(\"Phone number\") </span>│\n",
       "│<span style=\"color: #008080; text-decoration-color: #008080\"> maxLength  </span>│<span style=\"color: #800080; text-decoration-color: #800080\"> 8                        </span>│\n",
       "│<span style=\"color: #008080; text-decoration-color: #008080\"> name       </span>│<span style=\"color: #800080; text-decoration-color: #800080\"> phone_number             </span>│\n",
       "│<span style=\"color: #008080; text-decoration-color: #008080\"> validation </span>│<span style=\"color: #800080; text-decoration-color: #800080\"> number|length:8,8        </span>│\n",
       "└────────────┴──────────────────────────┘\n",
       "</pre>\n"
      ],
      "text/plain": [
       "┏━━━━━━━━━━━━┳━━━━━━━━━━━━━━━━━━━━━━━━━━┓\n",
       "┃\u001b[1m \u001b[0m\u001b[1mKey       \u001b[0m\u001b[1m \u001b[0m┃\u001b[1m \u001b[0m\u001b[1mValue                   \u001b[0m\u001b[1m \u001b[0m┃\n",
       "┡━━━━━━━━━━━━╇━━━━━━━━━━━━━━━━━━━━━━━━━━┩\n",
       "│\u001b[36m \u001b[0m\u001b[36m$formkit  \u001b[0m\u001b[36m \u001b[0m│\u001b[35m \u001b[0m\u001b[35mtel                     \u001b[0m\u001b[35m \u001b[0m│\n",
       "│\u001b[36m \u001b[0m\u001b[36mlabel     \u001b[0m\u001b[36m \u001b[0m│\u001b[35m \u001b[0m\u001b[35m$gettext(\"Phone number\")\u001b[0m\u001b[35m \u001b[0m│\n",
       "│\u001b[36m \u001b[0m\u001b[36mmaxLength \u001b[0m\u001b[36m \u001b[0m│\u001b[35m \u001b[0m\u001b[35m8                       \u001b[0m\u001b[35m \u001b[0m│\n",
       "│\u001b[36m \u001b[0m\u001b[36mname      \u001b[0m\u001b[36m \u001b[0m│\u001b[35m \u001b[0m\u001b[35mphone_number            \u001b[0m\u001b[35m \u001b[0m│\n",
       "│\u001b[36m \u001b[0m\u001b[36mvalidation\u001b[0m\u001b[36m \u001b[0m│\u001b[35m \u001b[0m\u001b[35mnumber|length:8,8       \u001b[0m\u001b[35m \u001b[0m│\n",
       "└────────────┴──────────────────────────┘\n"
      ]
     },
     "metadata": {},
     "output_type": "display_data"
    }
   ],
   "source": [
    "# Add a \"Telephone\" input\n",
    "\n",
    "# This is a simple input with validation and a label\n",
    "# Note that the label is translated using the gettext function (client side)\n",
    "tel = {\n",
    "    \"$formkit\": \"tel\",\n",
    "    \"label\": '$gettext(\"Phone number\")',\n",
    "    \"maxLength\": 8,\n",
    "    \"name\": \"phone_number\",\n",
    "    \"validation\": \"number|length:8,8\",\n",
    "}\n",
    "kvtable(tel)"
   ]
  },
  {
   "cell_type": "code",
   "execution_count": 4,
   "metadata": {},
   "outputs": [
    {
     "data": {
      "text/html": [
       "<pre style=\"white-space:pre;overflow-x:auto;line-height:normal;font-family:Menlo,'DejaVu Sans Mono',consolas,'Courier New',monospace\"><span style=\"font-style: italic\">                 TelNode                 </span>\n",
       "┏━━━━━━━━━━━━┳━━━━━━━━━━━━━━━━━━━━━━━━━━┓\n",
       "┃<span style=\"font-weight: bold\"> Key        </span>┃<span style=\"font-weight: bold\"> Value                    </span>┃\n",
       "┡━━━━━━━━━━━━╇━━━━━━━━━━━━━━━━━━━━━━━━━━┩\n",
       "│<span style=\"color: #008080; text-decoration-color: #008080\"> $formkit   </span>│<span style=\"color: #800080; text-decoration-color: #800080\"> tel                      </span>│\n",
       "│<span style=\"color: #008080; text-decoration-color: #008080\"> label      </span>│<span style=\"color: #800080; text-decoration-color: #800080\"> $gettext(\"Phone number\") </span>│\n",
       "│<span style=\"color: #008080; text-decoration-color: #008080\"> maxLength  </span>│<span style=\"color: #800080; text-decoration-color: #800080\"> 8                        </span>│\n",
       "│<span style=\"color: #008080; text-decoration-color: #008080\"> name       </span>│<span style=\"color: #800080; text-decoration-color: #800080\"> phone_number             </span>│\n",
       "│<span style=\"color: #008080; text-decoration-color: #008080\"> validation </span>│<span style=\"color: #800080; text-decoration-color: #800080\"> number|length:8,8        </span>│\n",
       "└────────────┴──────────────────────────┘\n",
       "</pre>\n"
      ],
      "text/plain": [
       "\u001b[3m                 TelNode                 \u001b[0m\n",
       "┏━━━━━━━━━━━━┳━━━━━━━━━━━━━━━━━━━━━━━━━━┓\n",
       "┃\u001b[1m \u001b[0m\u001b[1mKey       \u001b[0m\u001b[1m \u001b[0m┃\u001b[1m \u001b[0m\u001b[1mValue                   \u001b[0m\u001b[1m \u001b[0m┃\n",
       "┡━━━━━━━━━━━━╇━━━━━━━━━━━━━━━━━━━━━━━━━━┩\n",
       "│\u001b[36m \u001b[0m\u001b[36m$formkit  \u001b[0m\u001b[36m \u001b[0m│\u001b[35m \u001b[0m\u001b[35mtel                     \u001b[0m\u001b[35m \u001b[0m│\n",
       "│\u001b[36m \u001b[0m\u001b[36mlabel     \u001b[0m\u001b[36m \u001b[0m│\u001b[35m \u001b[0m\u001b[35m$gettext(\"Phone number\")\u001b[0m\u001b[35m \u001b[0m│\n",
       "│\u001b[36m \u001b[0m\u001b[36mmaxLength \u001b[0m\u001b[36m \u001b[0m│\u001b[35m \u001b[0m\u001b[35m8                       \u001b[0m\u001b[35m \u001b[0m│\n",
       "│\u001b[36m \u001b[0m\u001b[36mname      \u001b[0m\u001b[36m \u001b[0m│\u001b[35m \u001b[0m\u001b[35mphone_number            \u001b[0m\u001b[35m \u001b[0m│\n",
       "│\u001b[36m \u001b[0m\u001b[36mvalidation\u001b[0m\u001b[36m \u001b[0m│\u001b[35m \u001b[0m\u001b[35mnumber|length:8,8       \u001b[0m\u001b[35m \u001b[0m│\n",
       "└────────────┴──────────────────────────┘\n"
      ]
     },
     "metadata": {},
     "output_type": "display_data"
    }
   ],
   "source": [
    "\n",
    "# This is in Python / Pydantic a \"TelNode\"\n",
    "# We can create this node from the dictionary above\n",
    "\n",
    "from formkit_ninja.formkit_schema import TelNode\n",
    "\n",
    "node = TelNode(**tel)\n",
    "\n",
    "modeltable(node)"
   ]
  },
  {
   "cell_type": "code",
   "execution_count": 5,
   "metadata": {},
   "outputs": [
    {
     "data": {
      "text/html": [
       "<pre style=\"white-space:pre;overflow-x:auto;line-height:normal;font-family:Menlo,'DejaVu Sans Mono',consolas,'Courier New',monospace\"><span style=\"font-style: italic\">          DiscriminatedNodeType          </span>\n",
       "┏━━━━━━━━━━━━┳━━━━━━━━━━━━━━━━━━━━━━━━━━┓\n",
       "┃<span style=\"font-weight: bold\"> Key        </span>┃<span style=\"font-weight: bold\"> Value                    </span>┃\n",
       "┡━━━━━━━━━━━━╇━━━━━━━━━━━━━━━━━━━━━━━━━━┩\n",
       "│<span style=\"color: #008080; text-decoration-color: #008080\"> $formkit   </span>│<span style=\"color: #800080; text-decoration-color: #800080\"> tel                      </span>│\n",
       "│<span style=\"color: #008080; text-decoration-color: #008080\"> label      </span>│<span style=\"color: #800080; text-decoration-color: #800080\"> $gettext(\"Phone number\") </span>│\n",
       "│<span style=\"color: #008080; text-decoration-color: #008080\"> maxLength  </span>│<span style=\"color: #800080; text-decoration-color: #800080\"> 8                        </span>│\n",
       "│<span style=\"color: #008080; text-decoration-color: #008080\"> name       </span>│<span style=\"color: #800080; text-decoration-color: #800080\"> phone_number             </span>│\n",
       "│<span style=\"color: #008080; text-decoration-color: #008080\"> validation </span>│<span style=\"color: #800080; text-decoration-color: #800080\"> number|length:8,8        </span>│\n",
       "└────────────┴──────────────────────────┘\n",
       "</pre>\n"
      ],
      "text/plain": [
       "\u001b[3m          DiscriminatedNodeType          \u001b[0m\n",
       "┏━━━━━━━━━━━━┳━━━━━━━━━━━━━━━━━━━━━━━━━━┓\n",
       "┃\u001b[1m \u001b[0m\u001b[1mKey       \u001b[0m\u001b[1m \u001b[0m┃\u001b[1m \u001b[0m\u001b[1mValue                   \u001b[0m\u001b[1m \u001b[0m┃\n",
       "┡━━━━━━━━━━━━╇━━━━━━━━━━━━━━━━━━━━━━━━━━┩\n",
       "│\u001b[36m \u001b[0m\u001b[36m$formkit  \u001b[0m\u001b[36m \u001b[0m│\u001b[35m \u001b[0m\u001b[35mtel                     \u001b[0m\u001b[35m \u001b[0m│\n",
       "│\u001b[36m \u001b[0m\u001b[36mlabel     \u001b[0m\u001b[36m \u001b[0m│\u001b[35m \u001b[0m\u001b[35m$gettext(\"Phone number\")\u001b[0m\u001b[35m \u001b[0m│\n",
       "│\u001b[36m \u001b[0m\u001b[36mmaxLength \u001b[0m\u001b[36m \u001b[0m│\u001b[35m \u001b[0m\u001b[35m8                       \u001b[0m\u001b[35m \u001b[0m│\n",
       "│\u001b[36m \u001b[0m\u001b[36mname      \u001b[0m\u001b[36m \u001b[0m│\u001b[35m \u001b[0m\u001b[35mphone_number            \u001b[0m\u001b[35m \u001b[0m│\n",
       "│\u001b[36m \u001b[0m\u001b[36mvalidation\u001b[0m\u001b[36m \u001b[0m│\u001b[35m \u001b[0m\u001b[35mnumber|length:8,8       \u001b[0m\u001b[35m \u001b[0m│\n",
       "└────────────┴──────────────────────────┘\n"
      ]
     },
     "metadata": {},
     "output_type": "display_data"
    }
   ],
   "source": [
    "# What if we don't know the type of node beforehand?\n",
    "# We can use the \"FormkitNode\" class to create the node from the dictionary\n",
    "from formkit_ninja.formkit_schema import DiscriminatedNodeType\n",
    "node = DiscriminatedNodeType(**tel)\n",
    "\n",
    "# The DiscriminatedNodeType can convert a variety of \"node\" types\n",
    "modeltable(node)"
   ]
  },
  {
   "cell_type": "code",
   "execution_count": 6,
   "metadata": {},
   "outputs": [
    {
     "data": {
      "text/plain": [
       "DiscriminatedNodeType(root=TelNode(children=None, key=None, if_condition=None, for_loop=None, bind=None, meta=None, id=None, name='phone_number', label='$gettext(\"Phone number\")', help=None, validation='number|length:8,8', validationLabel=None, validationVisibility=None, validationMessages=None, placeholder=None, value=None, prefixIcon=None, classes=None, additional_props={'maxLength': 8}, node_type='formkit', readonly=None, formkit='tel'))"
      ]
     },
     "execution_count": 6,
     "metadata": {},
     "output_type": "execute_result"
    }
   ],
   "source": [
    "node"
   ]
  },
  {
   "cell_type": "code",
   "execution_count": 7,
   "metadata": {},
   "outputs": [
    {
     "data": {
      "text/html": [
       "<pre style=\"white-space:pre;overflow-x:auto;line-height:normal;font-family:Menlo,'DejaVu Sans Mono',consolas,'Courier New',monospace\"><span style=\"color: #7fbfbf; text-decoration-color: #7fbfbf\">[03:34:32] </span><span style=\"color: #008000; text-decoration-color: #008000\">Creating  </span><span style=\"color: #008000; text-decoration-color: #008000\">9bc164cb-12e1-45c4-8dfd-2abc34cf3e79</span>                                             <a href=\"file:///app/src/formkit_ninja/models.py\" target=\"_blank\"><span style=\"color: #7f7f7f; text-decoration-color: #7f7f7f\">models.py</span></a><span style=\"color: #7f7f7f; text-decoration-color: #7f7f7f\">:</span><a href=\"file:///app/src/formkit_ninja/models.py#571\" target=\"_blank\"><span style=\"color: #7f7f7f; text-decoration-color: #7f7f7f\">571</span></a>\n",
       "</pre>\n"
      ],
      "text/plain": [
       "\u001b[2;36m[03:34:32]\u001b[0m\u001b[2;36m \u001b[0m\u001b[32mCreating  \u001b[0m\u001b[32m9bc164cb-12e1-45c4-8dfd-2abc34cf3e79\u001b[0m                                             \u001b]8;id=158133;file:///app/src/formkit_ninja/models.py\u001b\\\u001b[2mmodels.py\u001b[0m\u001b]8;;\u001b\\\u001b[2m:\u001b[0m\u001b]8;id=163272;file:///app/src/formkit_ninja/models.py#571\u001b\\\u001b[2m571\u001b[0m\u001b]8;;\u001b\\\n"
      ]
     },
     "metadata": {},
     "output_type": "display_data"
    },
    {
     "data": {
      "text/html": [
       "<pre style=\"white-space:pre;overflow-x:auto;line-height:normal;font-family:Menlo,'DejaVu Sans Mono',consolas,'Courier New',monospace\"><span style=\"color: #7fbfbf; text-decoration-color: #7fbfbf\">           </span><span style=\"color: #008000; text-decoration-color: #008000\">Yielding: Node: phone_number</span>                                                               <a href=\"file:///app/src/formkit_ninja/models.py\" target=\"_blank\"><span style=\"color: #7f7f7f; text-decoration-color: #7f7f7f\">models.py</span></a><span style=\"color: #7f7f7f; text-decoration-color: #7f7f7f\">:</span><a href=\"file:///app/src/formkit_ninja/models.py#593\" target=\"_blank\"><span style=\"color: #7f7f7f; text-decoration-color: #7f7f7f\">593</span></a>\n",
       "</pre>\n"
      ],
      "text/plain": [
       "\u001b[2;36m          \u001b[0m\u001b[2;36m \u001b[0m\u001b[32mYielding: Node: phone_number\u001b[0m                                                               \u001b]8;id=946727;file:///app/src/formkit_ninja/models.py\u001b\\\u001b[2mmodels.py\u001b[0m\u001b]8;;\u001b\\\u001b[2m:\u001b[0m\u001b]8;id=822911;file:///app/src/formkit_ninja/models.py#593\u001b\\\u001b[2m593\u001b[0m\u001b]8;;\u001b\\\n"
      ]
     },
     "metadata": {},
     "output_type": "display_data"
    }
   ],
   "source": [
    "# And, we can save this in the database...\n",
    "\n",
    "from formkit_ninja.models import FormKitSchemaNode\n",
    "\n",
    "# This has a `from_pydantic` method\n",
    "nodes = list(FormKitSchemaNode.from_pydantic(node))\n"
   ]
  },
  {
   "cell_type": "code",
   "execution_count": 8,
   "metadata": {},
   "outputs": [
    {
     "data": {
      "text/plain": [
       "[<FormKitSchemaNode: Node: phone_number>]"
      ]
     },
     "execution_count": 8,
     "metadata": {},
     "output_type": "execute_result"
    }
   ],
   "source": [
    "nodes"
   ]
  },
  {
   "cell_type": "code",
   "execution_count": 9,
   "metadata": {},
   "outputs": [
    {
     "data": {
      "text/html": [
       "<pre style=\"white-space:pre;overflow-x:auto;line-height:normal;font-family:Menlo,'DejaVu Sans Mono',consolas,'Courier New',monospace\">┏━━━━━━━━━━━━━━━━━━┳━━━━━━━━━━━━━━━━━━━━━━━━━━┓\n",
       "┃<span style=\"font-weight: bold\"> Key              </span>┃<span style=\"font-weight: bold\"> Value                    </span>┃\n",
       "┡━━━━━━━━━━━━━━━━━━╇━━━━━━━━━━━━━━━━━━━━━━━━━━┩\n",
       "│<span style=\"color: #008080; text-decoration-color: #008080\"> $formkit         </span>│<span style=\"color: #800080; text-decoration-color: #800080\"> tel                      </span>│\n",
       "│<span style=\"color: #008080; text-decoration-color: #008080\"> additional_props </span>│<span style=\"color: #800080; text-decoration-color: #800080\"> {'maxLength': 8}         </span>│\n",
       "│<span style=\"color: #008080; text-decoration-color: #008080\"> label            </span>│<span style=\"color: #800080; text-decoration-color: #800080\"> $gettext(\"Phone number\") </span>│\n",
       "│<span style=\"color: #008080; text-decoration-color: #008080\"> name             </span>│<span style=\"color: #800080; text-decoration-color: #800080\"> phone_number             </span>│\n",
       "│<span style=\"color: #008080; text-decoration-color: #008080\"> validation       </span>│<span style=\"color: #800080; text-decoration-color: #800080\"> number|length:8,8        </span>│\n",
       "└──────────────────┴──────────────────────────┘\n",
       "</pre>\n"
      ],
      "text/plain": [
       "┏━━━━━━━━━━━━━━━━━━┳━━━━━━━━━━━━━━━━━━━━━━━━━━┓\n",
       "┃\u001b[1m \u001b[0m\u001b[1mKey             \u001b[0m\u001b[1m \u001b[0m┃\u001b[1m \u001b[0m\u001b[1mValue                   \u001b[0m\u001b[1m \u001b[0m┃\n",
       "┡━━━━━━━━━━━━━━━━━━╇━━━━━━━━━━━━━━━━━━━━━━━━━━┩\n",
       "│\u001b[36m \u001b[0m\u001b[36m$formkit        \u001b[0m\u001b[36m \u001b[0m│\u001b[35m \u001b[0m\u001b[35mtel                     \u001b[0m\u001b[35m \u001b[0m│\n",
       "│\u001b[36m \u001b[0m\u001b[36madditional_props\u001b[0m\u001b[36m \u001b[0m│\u001b[35m \u001b[0m\u001b[35m{'maxLength': 8}        \u001b[0m\u001b[35m \u001b[0m│\n",
       "│\u001b[36m \u001b[0m\u001b[36mlabel           \u001b[0m\u001b[36m \u001b[0m│\u001b[35m \u001b[0m\u001b[35m$gettext(\"Phone number\")\u001b[0m\u001b[35m \u001b[0m│\n",
       "│\u001b[36m \u001b[0m\u001b[36mname            \u001b[0m\u001b[36m \u001b[0m│\u001b[35m \u001b[0m\u001b[35mphone_number            \u001b[0m\u001b[35m \u001b[0m│\n",
       "│\u001b[36m \u001b[0m\u001b[36mvalidation      \u001b[0m\u001b[36m \u001b[0m│\u001b[35m \u001b[0m\u001b[35mnumber|length:8,8       \u001b[0m\u001b[35m \u001b[0m│\n",
       "└──────────────────┴──────────────────────────┘\n"
      ]
     },
     "metadata": {},
     "output_type": "display_data"
    },
    {
     "data": {
      "text/html": [
       "<pre style=\"white-space:pre;overflow-x:auto;line-height:normal;font-family:Menlo,'DejaVu Sans Mono',consolas,'Courier New',monospace\"><span style=\"font-style: italic\">                 TelNode                 </span>\n",
       "┏━━━━━━━━━━━━┳━━━━━━━━━━━━━━━━━━━━━━━━━━┓\n",
       "┃<span style=\"font-weight: bold\"> Key        </span>┃<span style=\"font-weight: bold\"> Value                    </span>┃\n",
       "┡━━━━━━━━━━━━╇━━━━━━━━━━━━━━━━━━━━━━━━━━┩\n",
       "│<span style=\"color: #008080; text-decoration-color: #008080\"> $formkit   </span>│<span style=\"color: #800080; text-decoration-color: #800080\"> tel                      </span>│\n",
       "│<span style=\"color: #008080; text-decoration-color: #008080\"> label      </span>│<span style=\"color: #800080; text-decoration-color: #800080\"> $gettext(\"Phone number\") </span>│\n",
       "│<span style=\"color: #008080; text-decoration-color: #008080\"> maxLength  </span>│<span style=\"color: #800080; text-decoration-color: #800080\"> 8                        </span>│\n",
       "│<span style=\"color: #008080; text-decoration-color: #008080\"> name       </span>│<span style=\"color: #800080; text-decoration-color: #800080\"> phone_number             </span>│\n",
       "│<span style=\"color: #008080; text-decoration-color: #008080\"> validation </span>│<span style=\"color: #800080; text-decoration-color: #800080\"> number|length:8,8        </span>│\n",
       "└────────────┴──────────────────────────┘\n",
       "</pre>\n"
      ],
      "text/plain": [
       "\u001b[3m                 TelNode                 \u001b[0m\n",
       "┏━━━━━━━━━━━━┳━━━━━━━━━━━━━━━━━━━━━━━━━━┓\n",
       "┃\u001b[1m \u001b[0m\u001b[1mKey       \u001b[0m\u001b[1m \u001b[0m┃\u001b[1m \u001b[0m\u001b[1mValue                   \u001b[0m\u001b[1m \u001b[0m┃\n",
       "┡━━━━━━━━━━━━╇━━━━━━━━━━━━━━━━━━━━━━━━━━┩\n",
       "│\u001b[36m \u001b[0m\u001b[36m$formkit  \u001b[0m\u001b[36m \u001b[0m│\u001b[35m \u001b[0m\u001b[35mtel                     \u001b[0m\u001b[35m \u001b[0m│\n",
       "│\u001b[36m \u001b[0m\u001b[36mlabel     \u001b[0m\u001b[36m \u001b[0m│\u001b[35m \u001b[0m\u001b[35m$gettext(\"Phone number\")\u001b[0m\u001b[35m \u001b[0m│\n",
       "│\u001b[36m \u001b[0m\u001b[36mmaxLength \u001b[0m\u001b[36m \u001b[0m│\u001b[35m \u001b[0m\u001b[35m8                       \u001b[0m\u001b[35m \u001b[0m│\n",
       "│\u001b[36m \u001b[0m\u001b[36mname      \u001b[0m\u001b[36m \u001b[0m│\u001b[35m \u001b[0m\u001b[35mphone_number            \u001b[0m\u001b[35m \u001b[0m│\n",
       "│\u001b[36m \u001b[0m\u001b[36mvalidation\u001b[0m\u001b[36m \u001b[0m│\u001b[35m \u001b[0m\u001b[35mnumber|length:8,8       \u001b[0m\u001b[35m \u001b[0m│\n",
       "└────────────┴──────────────────────────┘\n"
      ]
     },
     "metadata": {},
     "output_type": "display_data"
    }
   ],
   "source": [
    "for n in nodes:\n",
    "    kvtable(n.get_node_values())\n",
    "    modeltable(n.get_node())"
   ]
  },
  {
   "cell_type": "markdown",
   "metadata": {},
   "source": [
    "## A More Complex Example\n",
    "\n",
    "The following example is a \"datepicker\""
   ]
  },
  {
   "cell_type": "code",
   "execution_count": 10,
   "metadata": {},
   "outputs": [],
   "source": [
    "sf_41_datpicker = {\n",
    "    \"$formkit\": \"datepicker\",\n",
    "    \"_currentDate\": \"$getCurrentDate\",\n",
    "    \"calendarIcon\": \"calendar\",\n",
    "    \"format\": \"DD/MM/YYYY\",\n",
    "    \"id\": \"date\",\n",
    "    \"key\": \"date\",\n",
    "    \"label\": '$gettext(\"Date\")',\n",
    "    \"name\": \"date\",\n",
    "    \"nextIcon\": \"angleRight\",\n",
    "    \"prevIcon\": \"angleLeft\",\n",
    "    \"sectionsSchema\": {\n",
    "        \"day\": {\n",
    "            \"children\": [\n",
    "                \"$day.getDate()\",\n",
    "                {\n",
    "                    \"children\": [\n",
    "                        {\n",
    "                            \"children\": [\n",
    "                                {\n",
    "                                    \"$el\": \"div\",\n",
    "                                    \"attrs\": {\"class\": \"formkit-day-highlight\"},\n",
    "                                    \"if\": \"$attrs._currentDate().year === $day.getFullYear()\",\n",
    "                                }\n",
    "                            ],\n",
    "                            \"if\": \"$attrs._currentDate().month === $day.getMonth()\",\n",
    "                        }\n",
    "                    ],\n",
    "                    \"if\": \"$attrs._currentDate().day === $day.getDate()\",\n",
    "                },\n",
    "            ]\n",
    "        }\n",
    "    },\n",
    "}\n"
   ]
  },
  {
   "cell_type": "code",
   "execution_count": 11,
   "metadata": {},
   "outputs": [],
   "source": [
    "# When we run this we should get a valid node\n",
    "sf_41_node = DiscriminatedNodeType(**sf_41_datpicker)"
   ]
  },
  {
   "cell_type": "code",
   "execution_count": 12,
   "metadata": {},
   "outputs": [
    {
     "data": {
      "text/html": [
       "<pre style=\"white-space:pre;overflow-x:auto;line-height:normal;font-family:Menlo,'DejaVu Sans Mono',consolas,'Courier New',monospace\">┏━━━━━━━━━━━━━━━━┳━━━━━━━━━━━━━━━━━━━━━━━━━━━━━━━━━━━━━━━━━━━━━━━━━━━━━━━━━━━━━━━━━━━━━━━━━━━━━━━━━━━━━━━━━━━━━━━━┓\n",
       "┃<span style=\"font-weight: bold\"> Key            </span>┃<span style=\"font-weight: bold\"> Value                                                                                          </span>┃\n",
       "┡━━━━━━━━━━━━━━━━╇━━━━━━━━━━━━━━━━━━━━━━━━━━━━━━━━━━━━━━━━━━━━━━━━━━━━━━━━━━━━━━━━━━━━━━━━━━━━━━━━━━━━━━━━━━━━━━━━┩\n",
       "│<span style=\"color: #008080; text-decoration-color: #008080\"> $formkit       </span>│<span style=\"color: #800080; text-decoration-color: #800080\"> datepicker                                                                                     </span>│\n",
       "│<span style=\"color: #008080; text-decoration-color: #008080\"> _currentDate   </span>│<span style=\"color: #800080; text-decoration-color: #800080\"> $getCurrentDate                                                                                </span>│\n",
       "│<span style=\"color: #008080; text-decoration-color: #008080\"> calendarIcon   </span>│<span style=\"color: #800080; text-decoration-color: #800080\"> calendar                                                                                       </span>│\n",
       "│<span style=\"color: #008080; text-decoration-color: #008080\"> format         </span>│<span style=\"color: #800080; text-decoration-color: #800080\"> DD/MM/YYYY                                                                                     </span>│\n",
       "│<span style=\"color: #008080; text-decoration-color: #008080\"> id             </span>│<span style=\"color: #800080; text-decoration-color: #800080\"> date                                                                                           </span>│\n",
       "│<span style=\"color: #008080; text-decoration-color: #008080\"> key            </span>│<span style=\"color: #800080; text-decoration-color: #800080\"> date                                                                                           </span>│\n",
       "│<span style=\"color: #008080; text-decoration-color: #008080\"> label          </span>│<span style=\"color: #800080; text-decoration-color: #800080\"> $gettext(\"Date\")                                                                               </span>│\n",
       "│<span style=\"color: #008080; text-decoration-color: #008080\"> name           </span>│<span style=\"color: #800080; text-decoration-color: #800080\"> date                                                                                           </span>│\n",
       "│<span style=\"color: #008080; text-decoration-color: #008080\"> nextIcon       </span>│<span style=\"color: #800080; text-decoration-color: #800080\"> angleRight                                                                                     </span>│\n",
       "│<span style=\"color: #008080; text-decoration-color: #008080\"> prevIcon       </span>│<span style=\"color: #800080; text-decoration-color: #800080\"> angleLeft                                                                                      </span>│\n",
       "│<span style=\"color: #008080; text-decoration-color: #008080\"> sectionsSchema </span>│<span style=\"color: #800080; text-decoration-color: #800080\"> {'day': {'children': ['$day.getDate()', {'children': [{'children': [{'$el': 'div', 'attrs':    </span>│\n",
       "│<span style=\"color: #008080; text-decoration-color: #008080\">                </span>│<span style=\"color: #800080; text-decoration-color: #800080\"> {'class': 'formkit-day-highlight'}, 'if': '$attrs._currentDate().year ===                      </span>│\n",
       "│<span style=\"color: #008080; text-decoration-color: #008080\">                </span>│<span style=\"color: #800080; text-decoration-color: #800080\"> $day.getFullYear()'}], 'if': '$attrs._currentDate().month === $day.getMonth()'}], 'if':        </span>│\n",
       "│<span style=\"color: #008080; text-decoration-color: #008080\">                </span>│<span style=\"color: #800080; text-decoration-color: #800080\"> '$attrs._currentDate().day === $day.getDate()'}]}}                                             </span>│\n",
       "└────────────────┴────────────────────────────────────────────────────────────────────────────────────────────────┘\n",
       "</pre>\n"
      ],
      "text/plain": [
       "┏━━━━━━━━━━━━━━━━┳━━━━━━━━━━━━━━━━━━━━━━━━━━━━━━━━━━━━━━━━━━━━━━━━━━━━━━━━━━━━━━━━━━━━━━━━━━━━━━━━━━━━━━━━━━━━━━━━┓\n",
       "┃\u001b[1m \u001b[0m\u001b[1mKey           \u001b[0m\u001b[1m \u001b[0m┃\u001b[1m \u001b[0m\u001b[1mValue                                                                                         \u001b[0m\u001b[1m \u001b[0m┃\n",
       "┡━━━━━━━━━━━━━━━━╇━━━━━━━━━━━━━━━━━━━━━━━━━━━━━━━━━━━━━━━━━━━━━━━━━━━━━━━━━━━━━━━━━━━━━━━━━━━━━━━━━━━━━━━━━━━━━━━━┩\n",
       "│\u001b[36m \u001b[0m\u001b[36m$formkit      \u001b[0m\u001b[36m \u001b[0m│\u001b[35m \u001b[0m\u001b[35mdatepicker                                                                                    \u001b[0m\u001b[35m \u001b[0m│\n",
       "│\u001b[36m \u001b[0m\u001b[36m_currentDate  \u001b[0m\u001b[36m \u001b[0m│\u001b[35m \u001b[0m\u001b[35m$getCurrentDate                                                                               \u001b[0m\u001b[35m \u001b[0m│\n",
       "│\u001b[36m \u001b[0m\u001b[36mcalendarIcon  \u001b[0m\u001b[36m \u001b[0m│\u001b[35m \u001b[0m\u001b[35mcalendar                                                                                      \u001b[0m\u001b[35m \u001b[0m│\n",
       "│\u001b[36m \u001b[0m\u001b[36mformat        \u001b[0m\u001b[36m \u001b[0m│\u001b[35m \u001b[0m\u001b[35mDD/MM/YYYY                                                                                    \u001b[0m\u001b[35m \u001b[0m│\n",
       "│\u001b[36m \u001b[0m\u001b[36mid            \u001b[0m\u001b[36m \u001b[0m│\u001b[35m \u001b[0m\u001b[35mdate                                                                                          \u001b[0m\u001b[35m \u001b[0m│\n",
       "│\u001b[36m \u001b[0m\u001b[36mkey           \u001b[0m\u001b[36m \u001b[0m│\u001b[35m \u001b[0m\u001b[35mdate                                                                                          \u001b[0m\u001b[35m \u001b[0m│\n",
       "│\u001b[36m \u001b[0m\u001b[36mlabel         \u001b[0m\u001b[36m \u001b[0m│\u001b[35m \u001b[0m\u001b[35m$gettext(\"Date\")                                                                              \u001b[0m\u001b[35m \u001b[0m│\n",
       "│\u001b[36m \u001b[0m\u001b[36mname          \u001b[0m\u001b[36m \u001b[0m│\u001b[35m \u001b[0m\u001b[35mdate                                                                                          \u001b[0m\u001b[35m \u001b[0m│\n",
       "│\u001b[36m \u001b[0m\u001b[36mnextIcon      \u001b[0m\u001b[36m \u001b[0m│\u001b[35m \u001b[0m\u001b[35mangleRight                                                                                    \u001b[0m\u001b[35m \u001b[0m│\n",
       "│\u001b[36m \u001b[0m\u001b[36mprevIcon      \u001b[0m\u001b[36m \u001b[0m│\u001b[35m \u001b[0m\u001b[35mangleLeft                                                                                     \u001b[0m\u001b[35m \u001b[0m│\n",
       "│\u001b[36m \u001b[0m\u001b[36msectionsSchema\u001b[0m\u001b[36m \u001b[0m│\u001b[35m \u001b[0m\u001b[35m{'day': {'children': ['$day.getDate()', {'children': [{'children': [{'$el': 'div', 'attrs':   \u001b[0m\u001b[35m \u001b[0m│\n",
       "│\u001b[36m                \u001b[0m│\u001b[35m \u001b[0m\u001b[35m{'class': 'formkit-day-highlight'}, 'if': '$attrs._currentDate().year ===                     \u001b[0m\u001b[35m \u001b[0m│\n",
       "│\u001b[36m                \u001b[0m│\u001b[35m \u001b[0m\u001b[35m$day.getFullYear()'}], 'if': '$attrs._currentDate().month === $day.getMonth()'}], 'if':       \u001b[0m\u001b[35m \u001b[0m│\n",
       "│\u001b[36m                \u001b[0m│\u001b[35m \u001b[0m\u001b[35m'$attrs._currentDate().day === $day.getDate()'}]}}                                            \u001b[0m\u001b[35m \u001b[0m│\n",
       "└────────────────┴────────────────────────────────────────────────────────────────────────────────────────────────┘\n"
      ]
     },
     "metadata": {},
     "output_type": "display_data"
    },
    {
     "data": {
      "text/html": [
       "<pre style=\"white-space:pre;overflow-x:auto;line-height:normal;font-family:Menlo,'DejaVu Sans Mono',consolas,'Courier New',monospace\"><span style=\"font-style: italic\">                                               DiscriminatedNodeType                                               </span>\n",
       "┏━━━━━━━━━━━━━━━━┳━━━━━━━━━━━━━━━━━━━━━━━━━━━━━━━━━━━━━━━━━━━━━━━━━━━━━━━━━━━━━━━━━━━━━━━━━━━━━━━━━━━━━━━━━━━━━━━━┓\n",
       "┃<span style=\"font-weight: bold\"> Key            </span>┃<span style=\"font-weight: bold\"> Value                                                                                          </span>┃\n",
       "┡━━━━━━━━━━━━━━━━╇━━━━━━━━━━━━━━━━━━━━━━━━━━━━━━━━━━━━━━━━━━━━━━━━━━━━━━━━━━━━━━━━━━━━━━━━━━━━━━━━━━━━━━━━━━━━━━━━┩\n",
       "│<span style=\"color: #008080; text-decoration-color: #008080\"> $formkit       </span>│<span style=\"color: #800080; text-decoration-color: #800080\"> datepicker                                                                                     </span>│\n",
       "│<span style=\"color: #008080; text-decoration-color: #008080\"> _currentDate   </span>│<span style=\"color: #800080; text-decoration-color: #800080\"> $getCurrentDate                                                                                </span>│\n",
       "│<span style=\"color: #008080; text-decoration-color: #008080\"> calendarIcon   </span>│<span style=\"color: #800080; text-decoration-color: #800080\"> calendar                                                                                       </span>│\n",
       "│<span style=\"color: #008080; text-decoration-color: #008080\"> format         </span>│<span style=\"color: #800080; text-decoration-color: #800080\"> DD/MM/YYYY                                                                                     </span>│\n",
       "│<span style=\"color: #008080; text-decoration-color: #008080\"> id             </span>│<span style=\"color: #800080; text-decoration-color: #800080\"> date                                                                                           </span>│\n",
       "│<span style=\"color: #008080; text-decoration-color: #008080\"> key            </span>│<span style=\"color: #800080; text-decoration-color: #800080\"> date                                                                                           </span>│\n",
       "│<span style=\"color: #008080; text-decoration-color: #008080\"> label          </span>│<span style=\"color: #800080; text-decoration-color: #800080\"> $gettext(\"Date\")                                                                               </span>│\n",
       "│<span style=\"color: #008080; text-decoration-color: #008080\"> name           </span>│<span style=\"color: #800080; text-decoration-color: #800080\"> date                                                                                           </span>│\n",
       "│<span style=\"color: #008080; text-decoration-color: #008080\"> nextIcon       </span>│<span style=\"color: #800080; text-decoration-color: #800080\"> angleRight                                                                                     </span>│\n",
       "│<span style=\"color: #008080; text-decoration-color: #008080\"> prevIcon       </span>│<span style=\"color: #800080; text-decoration-color: #800080\"> angleLeft                                                                                      </span>│\n",
       "│<span style=\"color: #008080; text-decoration-color: #008080\"> sectionsSchema </span>│<span style=\"color: #800080; text-decoration-color: #800080\"> {'day': {'children': ['$day.getDate()', {'children': [{'children': [{'$el': 'div', 'attrs':    </span>│\n",
       "│<span style=\"color: #008080; text-decoration-color: #008080\">                </span>│<span style=\"color: #800080; text-decoration-color: #800080\"> {'class': 'formkit-day-highlight'}, 'if': '$attrs._currentDate().year ===                      </span>│\n",
       "│<span style=\"color: #008080; text-decoration-color: #008080\">                </span>│<span style=\"color: #800080; text-decoration-color: #800080\"> $day.getFullYear()'}], 'if': '$attrs._currentDate().month === $day.getMonth()'}], 'if':        </span>│\n",
       "│<span style=\"color: #008080; text-decoration-color: #008080\">                </span>│<span style=\"color: #800080; text-decoration-color: #800080\"> '$attrs._currentDate().day === $day.getDate()'}]}}                                             </span>│\n",
       "└────────────────┴────────────────────────────────────────────────────────────────────────────────────────────────┘\n",
       "</pre>\n"
      ],
      "text/plain": [
       "\u001b[3m                                               DiscriminatedNodeType                                               \u001b[0m\n",
       "┏━━━━━━━━━━━━━━━━┳━━━━━━━━━━━━━━━━━━━━━━━━━━━━━━━━━━━━━━━━━━━━━━━━━━━━━━━━━━━━━━━━━━━━━━━━━━━━━━━━━━━━━━━━━━━━━━━━┓\n",
       "┃\u001b[1m \u001b[0m\u001b[1mKey           \u001b[0m\u001b[1m \u001b[0m┃\u001b[1m \u001b[0m\u001b[1mValue                                                                                         \u001b[0m\u001b[1m \u001b[0m┃\n",
       "┡━━━━━━━━━━━━━━━━╇━━━━━━━━━━━━━━━━━━━━━━━━━━━━━━━━━━━━━━━━━━━━━━━━━━━━━━━━━━━━━━━━━━━━━━━━━━━━━━━━━━━━━━━━━━━━━━━━┩\n",
       "│\u001b[36m \u001b[0m\u001b[36m$formkit      \u001b[0m\u001b[36m \u001b[0m│\u001b[35m \u001b[0m\u001b[35mdatepicker                                                                                    \u001b[0m\u001b[35m \u001b[0m│\n",
       "│\u001b[36m \u001b[0m\u001b[36m_currentDate  \u001b[0m\u001b[36m \u001b[0m│\u001b[35m \u001b[0m\u001b[35m$getCurrentDate                                                                               \u001b[0m\u001b[35m \u001b[0m│\n",
       "│\u001b[36m \u001b[0m\u001b[36mcalendarIcon  \u001b[0m\u001b[36m \u001b[0m│\u001b[35m \u001b[0m\u001b[35mcalendar                                                                                      \u001b[0m\u001b[35m \u001b[0m│\n",
       "│\u001b[36m \u001b[0m\u001b[36mformat        \u001b[0m\u001b[36m \u001b[0m│\u001b[35m \u001b[0m\u001b[35mDD/MM/YYYY                                                                                    \u001b[0m\u001b[35m \u001b[0m│\n",
       "│\u001b[36m \u001b[0m\u001b[36mid            \u001b[0m\u001b[36m \u001b[0m│\u001b[35m \u001b[0m\u001b[35mdate                                                                                          \u001b[0m\u001b[35m \u001b[0m│\n",
       "│\u001b[36m \u001b[0m\u001b[36mkey           \u001b[0m\u001b[36m \u001b[0m│\u001b[35m \u001b[0m\u001b[35mdate                                                                                          \u001b[0m\u001b[35m \u001b[0m│\n",
       "│\u001b[36m \u001b[0m\u001b[36mlabel         \u001b[0m\u001b[36m \u001b[0m│\u001b[35m \u001b[0m\u001b[35m$gettext(\"Date\")                                                                              \u001b[0m\u001b[35m \u001b[0m│\n",
       "│\u001b[36m \u001b[0m\u001b[36mname          \u001b[0m\u001b[36m \u001b[0m│\u001b[35m \u001b[0m\u001b[35mdate                                                                                          \u001b[0m\u001b[35m \u001b[0m│\n",
       "│\u001b[36m \u001b[0m\u001b[36mnextIcon      \u001b[0m\u001b[36m \u001b[0m│\u001b[35m \u001b[0m\u001b[35mangleRight                                                                                    \u001b[0m\u001b[35m \u001b[0m│\n",
       "│\u001b[36m \u001b[0m\u001b[36mprevIcon      \u001b[0m\u001b[36m \u001b[0m│\u001b[35m \u001b[0m\u001b[35mangleLeft                                                                                     \u001b[0m\u001b[35m \u001b[0m│\n",
       "│\u001b[36m \u001b[0m\u001b[36msectionsSchema\u001b[0m\u001b[36m \u001b[0m│\u001b[35m \u001b[0m\u001b[35m{'day': {'children': ['$day.getDate()', {'children': [{'children': [{'$el': 'div', 'attrs':   \u001b[0m\u001b[35m \u001b[0m│\n",
       "│\u001b[36m                \u001b[0m│\u001b[35m \u001b[0m\u001b[35m{'class': 'formkit-day-highlight'}, 'if': '$attrs._currentDate().year ===                     \u001b[0m\u001b[35m \u001b[0m│\n",
       "│\u001b[36m                \u001b[0m│\u001b[35m \u001b[0m\u001b[35m$day.getFullYear()'}], 'if': '$attrs._currentDate().month === $day.getMonth()'}], 'if':       \u001b[0m\u001b[35m \u001b[0m│\n",
       "│\u001b[36m                \u001b[0m│\u001b[35m \u001b[0m\u001b[35m'$attrs._currentDate().day === $day.getDate()'}]}}                                            \u001b[0m\u001b[35m \u001b[0m│\n",
       "└────────────────┴────────────────────────────────────────────────────────────────────────────────────────────────┘\n"
      ]
     },
     "metadata": {},
     "output_type": "display_data"
    }
   ],
   "source": [
    "kvtable(sf_41_datpicker)\n",
    "modeltable(sf_41_node)"
   ]
  },
  {
   "cell_type": "code",
   "execution_count": 13,
   "metadata": {},
   "outputs": [
    {
     "data": {
      "text/html": [
       "<pre style=\"white-space:pre;overflow-x:auto;line-height:normal;font-family:Menlo,'DejaVu Sans Mono',consolas,'Courier New',monospace\"><span style=\"color: #7fbfbf; text-decoration-color: #7fbfbf\">[03:34:33] </span><span style=\"color: #008000; text-decoration-color: #008000\">Creating  </span><span style=\"color: #008000; text-decoration-color: #008000\">876cd51c-fe51-4f80-a54b-822c3c23aa73</span>                                             <a href=\"file:///app/src/formkit_ninja/models.py\" target=\"_blank\"><span style=\"color: #7f7f7f; text-decoration-color: #7f7f7f\">models.py</span></a><span style=\"color: #7f7f7f; text-decoration-color: #7f7f7f\">:</span><a href=\"file:///app/src/formkit_ninja/models.py#571\" target=\"_blank\"><span style=\"color: #7f7f7f; text-decoration-color: #7f7f7f\">571</span></a>\n",
       "</pre>\n"
      ],
      "text/plain": [
       "\u001b[2;36m[03:34:33]\u001b[0m\u001b[2;36m \u001b[0m\u001b[32mCreating  \u001b[0m\u001b[32m876cd51c-fe51-4f80-a54b-822c3c23aa73\u001b[0m                                             \u001b]8;id=362397;file:///app/src/formkit_ninja/models.py\u001b\\\u001b[2mmodels.py\u001b[0m\u001b]8;;\u001b\\\u001b[2m:\u001b[0m\u001b]8;id=556779;file:///app/src/formkit_ninja/models.py#571\u001b\\\u001b[2m571\u001b[0m\u001b]8;;\u001b\\\n"
      ]
     },
     "metadata": {},
     "output_type": "display_data"
    },
    {
     "data": {
      "text/html": [
       "<pre style=\"white-space:pre;overflow-x:auto;line-height:normal;font-family:Menlo,'DejaVu Sans Mono',consolas,'Courier New',monospace\"><span style=\"color: #7fbfbf; text-decoration-color: #7fbfbf\">           </span><span style=\"color: #008000; text-decoration-color: #008000\">Yielding: Node: date</span>                                                                       <a href=\"file:///app/src/formkit_ninja/models.py\" target=\"_blank\"><span style=\"color: #7f7f7f; text-decoration-color: #7f7f7f\">models.py</span></a><span style=\"color: #7f7f7f; text-decoration-color: #7f7f7f\">:</span><a href=\"file:///app/src/formkit_ninja/models.py#593\" target=\"_blank\"><span style=\"color: #7f7f7f; text-decoration-color: #7f7f7f\">593</span></a>\n",
       "</pre>\n"
      ],
      "text/plain": [
       "\u001b[2;36m          \u001b[0m\u001b[2;36m \u001b[0m\u001b[32mYielding: Node: date\u001b[0m                                                                       \u001b]8;id=714230;file:///app/src/formkit_ninja/models.py\u001b\\\u001b[2mmodels.py\u001b[0m\u001b]8;;\u001b\\\u001b[2m:\u001b[0m\u001b]8;id=669302;file:///app/src/formkit_ninja/models.py#593\u001b\\\u001b[2m593\u001b[0m\u001b]8;;\u001b\\\n"
      ]
     },
     "metadata": {},
     "output_type": "display_data"
    }
   ],
   "source": [
    "# Does it serialize to postgres? Let's see!\n",
    "# from_pydantic will return a list of nodes\n",
    "nodes = list(FormKitSchemaNode.from_pydantic(sf_41_node))\n",
    "\n",
    "\n"
   ]
  },
  {
   "cell_type": "code",
   "execution_count": 14,
   "metadata": {},
   "outputs": [
    {
     "data": {
      "text/html": [
       "<pre style=\"white-space:pre;overflow-x:auto;line-height:normal;font-family:Menlo,'DejaVu Sans Mono',consolas,'Courier New',monospace\">┏━━━━━━━━━━━━━━━━━━┳━━━━━━━━━━━━━━━━━━━━━━━━━━━━━━━━━━━━━━━━━━━━━━━━━━━━━━━━━━━━━━━━━━━━━━━━━━━━━━━━━━━━━━━━━━━━━━┓\n",
       "┃<span style=\"font-weight: bold\"> Key              </span>┃<span style=\"font-weight: bold\"> Value                                                                                        </span>┃\n",
       "┡━━━━━━━━━━━━━━━━━━╇━━━━━━━━━━━━━━━━━━━━━━━━━━━━━━━━━━━━━━━━━━━━━━━━━━━━━━━━━━━━━━━━━━━━━━━━━━━━━━━━━━━━━━━━━━━━━━┩\n",
       "│<span style=\"color: #008080; text-decoration-color: #008080\"> $formkit         </span>│<span style=\"color: #800080; text-decoration-color: #800080\"> datepicker                                                                                   </span>│\n",
       "│<span style=\"color: #008080; text-decoration-color: #008080\"> additional_props </span>│<span style=\"color: #800080; text-decoration-color: #800080\"> {'_currentDate': '$getCurrentDate', 'sectionsSchema': {'day': {'children':                   </span>│\n",
       "│<span style=\"color: #008080; text-decoration-color: #008080\">                  </span>│<span style=\"color: #800080; text-decoration-color: #800080\"> ['$day.getDate()', {'children': [{'children': [{'$el': 'div', 'attrs': {'class':             </span>│\n",
       "│<span style=\"color: #008080; text-decoration-color: #008080\">                  </span>│<span style=\"color: #800080; text-decoration-color: #800080\"> 'formkit-day-highlight'}, 'if': '$attrs._currentDate().year === $day.getFullYear()'}], 'if': </span>│\n",
       "│<span style=\"color: #008080; text-decoration-color: #008080\">                  </span>│<span style=\"color: #800080; text-decoration-color: #800080\"> '$attrs._currentDate().month === $day.getMonth()'}], 'if': '$attrs._currentDate().day ===    </span>│\n",
       "│<span style=\"color: #008080; text-decoration-color: #008080\">                  </span>│<span style=\"color: #800080; text-decoration-color: #800080\"> $day.getDate()'}]}}}                                                                         </span>│\n",
       "│<span style=\"color: #008080; text-decoration-color: #008080\"> calendarIcon     </span>│<span style=\"color: #800080; text-decoration-color: #800080\"> calendar                                                                                     </span>│\n",
       "│<span style=\"color: #008080; text-decoration-color: #008080\"> format           </span>│<span style=\"color: #800080; text-decoration-color: #800080\"> DD/MM/YYYY                                                                                   </span>│\n",
       "│<span style=\"color: #008080; text-decoration-color: #008080\"> id               </span>│<span style=\"color: #800080; text-decoration-color: #800080\"> date                                                                                         </span>│\n",
       "│<span style=\"color: #008080; text-decoration-color: #008080\"> key              </span>│<span style=\"color: #800080; text-decoration-color: #800080\"> date                                                                                         </span>│\n",
       "│<span style=\"color: #008080; text-decoration-color: #008080\"> label            </span>│<span style=\"color: #800080; text-decoration-color: #800080\"> $gettext(\"Date\")                                                                             </span>│\n",
       "│<span style=\"color: #008080; text-decoration-color: #008080\"> name             </span>│<span style=\"color: #800080; text-decoration-color: #800080\"> date                                                                                         </span>│\n",
       "│<span style=\"color: #008080; text-decoration-color: #008080\"> nextIcon         </span>│<span style=\"color: #800080; text-decoration-color: #800080\"> angleRight                                                                                   </span>│\n",
       "│<span style=\"color: #008080; text-decoration-color: #008080\"> prevIcon         </span>│<span style=\"color: #800080; text-decoration-color: #800080\"> angleLeft                                                                                    </span>│\n",
       "└──────────────────┴──────────────────────────────────────────────────────────────────────────────────────────────┘\n",
       "</pre>\n"
      ],
      "text/plain": [
       "┏━━━━━━━━━━━━━━━━━━┳━━━━━━━━━━━━━━━━━━━━━━━━━━━━━━━━━━━━━━━━━━━━━━━━━━━━━━━━━━━━━━━━━━━━━━━━━━━━━━━━━━━━━━━━━━━━━━┓\n",
       "┃\u001b[1m \u001b[0m\u001b[1mKey             \u001b[0m\u001b[1m \u001b[0m┃\u001b[1m \u001b[0m\u001b[1mValue                                                                                       \u001b[0m\u001b[1m \u001b[0m┃\n",
       "┡━━━━━━━━━━━━━━━━━━╇━━━━━━━━━━━━━━━━━━━━━━━━━━━━━━━━━━━━━━━━━━━━━━━━━━━━━━━━━━━━━━━━━━━━━━━━━━━━━━━━━━━━━━━━━━━━━━┩\n",
       "│\u001b[36m \u001b[0m\u001b[36m$formkit        \u001b[0m\u001b[36m \u001b[0m│\u001b[35m \u001b[0m\u001b[35mdatepicker                                                                                  \u001b[0m\u001b[35m \u001b[0m│\n",
       "│\u001b[36m \u001b[0m\u001b[36madditional_props\u001b[0m\u001b[36m \u001b[0m│\u001b[35m \u001b[0m\u001b[35m{'_currentDate': '$getCurrentDate', 'sectionsSchema': {'day': {'children':                  \u001b[0m\u001b[35m \u001b[0m│\n",
       "│\u001b[36m                  \u001b[0m│\u001b[35m \u001b[0m\u001b[35m['$day.getDate()', {'children': [{'children': [{'$el': 'div', 'attrs': {'class':            \u001b[0m\u001b[35m \u001b[0m│\n",
       "│\u001b[36m                  \u001b[0m│\u001b[35m \u001b[0m\u001b[35m'formkit-day-highlight'}, 'if': '$attrs._currentDate().year === $day.getFullYear()'}], 'if':\u001b[0m\u001b[35m \u001b[0m│\n",
       "│\u001b[36m                  \u001b[0m│\u001b[35m \u001b[0m\u001b[35m'$attrs._currentDate().month === $day.getMonth()'}], 'if': '$attrs._currentDate().day ===   \u001b[0m\u001b[35m \u001b[0m│\n",
       "│\u001b[36m                  \u001b[0m│\u001b[35m \u001b[0m\u001b[35m$day.getDate()'}]}}}                                                                        \u001b[0m\u001b[35m \u001b[0m│\n",
       "│\u001b[36m \u001b[0m\u001b[36mcalendarIcon    \u001b[0m\u001b[36m \u001b[0m│\u001b[35m \u001b[0m\u001b[35mcalendar                                                                                    \u001b[0m\u001b[35m \u001b[0m│\n",
       "│\u001b[36m \u001b[0m\u001b[36mformat          \u001b[0m\u001b[36m \u001b[0m│\u001b[35m \u001b[0m\u001b[35mDD/MM/YYYY                                                                                  \u001b[0m\u001b[35m \u001b[0m│\n",
       "│\u001b[36m \u001b[0m\u001b[36mid              \u001b[0m\u001b[36m \u001b[0m│\u001b[35m \u001b[0m\u001b[35mdate                                                                                        \u001b[0m\u001b[35m \u001b[0m│\n",
       "│\u001b[36m \u001b[0m\u001b[36mkey             \u001b[0m\u001b[36m \u001b[0m│\u001b[35m \u001b[0m\u001b[35mdate                                                                                        \u001b[0m\u001b[35m \u001b[0m│\n",
       "│\u001b[36m \u001b[0m\u001b[36mlabel           \u001b[0m\u001b[36m \u001b[0m│\u001b[35m \u001b[0m\u001b[35m$gettext(\"Date\")                                                                            \u001b[0m\u001b[35m \u001b[0m│\n",
       "│\u001b[36m \u001b[0m\u001b[36mname            \u001b[0m\u001b[36m \u001b[0m│\u001b[35m \u001b[0m\u001b[35mdate                                                                                        \u001b[0m\u001b[35m \u001b[0m│\n",
       "│\u001b[36m \u001b[0m\u001b[36mnextIcon        \u001b[0m\u001b[36m \u001b[0m│\u001b[35m \u001b[0m\u001b[35mangleRight                                                                                  \u001b[0m\u001b[35m \u001b[0m│\n",
       "│\u001b[36m \u001b[0m\u001b[36mprevIcon        \u001b[0m\u001b[36m \u001b[0m│\u001b[35m \u001b[0m\u001b[35mangleLeft                                                                                   \u001b[0m\u001b[35m \u001b[0m│\n",
       "└──────────────────┴──────────────────────────────────────────────────────────────────────────────────────────────┘\n"
      ]
     },
     "metadata": {},
     "output_type": "display_data"
    },
    {
     "data": {
      "text/html": [
       "<pre style=\"white-space:pre;overflow-x:auto;line-height:normal;font-family:Menlo,'DejaVu Sans Mono',consolas,'Courier New',monospace\"><span style=\"font-style: italic\">                                                  DatePickerNode                                                   </span>\n",
       "┏━━━━━━━━━━━━━━━━┳━━━━━━━━━━━━━━━━━━━━━━━━━━━━━━━━━━━━━━━━━━━━━━━━━━━━━━━━━━━━━━━━━━━━━━━━━━━━━━━━━━━━━━━━━━━━━━━━┓\n",
       "┃<span style=\"font-weight: bold\"> Key            </span>┃<span style=\"font-weight: bold\"> Value                                                                                          </span>┃\n",
       "┡━━━━━━━━━━━━━━━━╇━━━━━━━━━━━━━━━━━━━━━━━━━━━━━━━━━━━━━━━━━━━━━━━━━━━━━━━━━━━━━━━━━━━━━━━━━━━━━━━━━━━━━━━━━━━━━━━━┩\n",
       "│<span style=\"color: #008080; text-decoration-color: #008080\"> $formkit       </span>│<span style=\"color: #800080; text-decoration-color: #800080\"> datepicker                                                                                     </span>│\n",
       "│<span style=\"color: #008080; text-decoration-color: #008080\"> _currentDate   </span>│<span style=\"color: #800080; text-decoration-color: #800080\"> $getCurrentDate                                                                                </span>│\n",
       "│<span style=\"color: #008080; text-decoration-color: #008080\"> calendarIcon   </span>│<span style=\"color: #800080; text-decoration-color: #800080\"> calendar                                                                                       </span>│\n",
       "│<span style=\"color: #008080; text-decoration-color: #008080\"> format         </span>│<span style=\"color: #800080; text-decoration-color: #800080\"> DD/MM/YYYY                                                                                     </span>│\n",
       "│<span style=\"color: #008080; text-decoration-color: #008080\"> id             </span>│<span style=\"color: #800080; text-decoration-color: #800080\"> date                                                                                           </span>│\n",
       "│<span style=\"color: #008080; text-decoration-color: #008080\"> key            </span>│<span style=\"color: #800080; text-decoration-color: #800080\"> date                                                                                           </span>│\n",
       "│<span style=\"color: #008080; text-decoration-color: #008080\"> label          </span>│<span style=\"color: #800080; text-decoration-color: #800080\"> $gettext(\"Date\")                                                                               </span>│\n",
       "│<span style=\"color: #008080; text-decoration-color: #008080\"> name           </span>│<span style=\"color: #800080; text-decoration-color: #800080\"> date                                                                                           </span>│\n",
       "│<span style=\"color: #008080; text-decoration-color: #008080\"> nextIcon       </span>│<span style=\"color: #800080; text-decoration-color: #800080\"> angleRight                                                                                     </span>│\n",
       "│<span style=\"color: #008080; text-decoration-color: #008080\"> prevIcon       </span>│<span style=\"color: #800080; text-decoration-color: #800080\"> angleLeft                                                                                      </span>│\n",
       "│<span style=\"color: #008080; text-decoration-color: #008080\"> sectionsSchema </span>│<span style=\"color: #800080; text-decoration-color: #800080\"> {'day': {'children': ['$day.getDate()', {'children': [{'children': [{'$el': 'div', 'attrs':    </span>│\n",
       "│<span style=\"color: #008080; text-decoration-color: #008080\">                </span>│<span style=\"color: #800080; text-decoration-color: #800080\"> {'class': 'formkit-day-highlight'}, 'if': '$attrs._currentDate().year ===                      </span>│\n",
       "│<span style=\"color: #008080; text-decoration-color: #008080\">                </span>│<span style=\"color: #800080; text-decoration-color: #800080\"> $day.getFullYear()'}], 'if': '$attrs._currentDate().month === $day.getMonth()'}], 'if':        </span>│\n",
       "│<span style=\"color: #008080; text-decoration-color: #008080\">                </span>│<span style=\"color: #800080; text-decoration-color: #800080\"> '$attrs._currentDate().day === $day.getDate()'}]}}                                             </span>│\n",
       "└────────────────┴────────────────────────────────────────────────────────────────────────────────────────────────┘\n",
       "</pre>\n"
      ],
      "text/plain": [
       "\u001b[3m                                                  DatePickerNode                                                   \u001b[0m\n",
       "┏━━━━━━━━━━━━━━━━┳━━━━━━━━━━━━━━━━━━━━━━━━━━━━━━━━━━━━━━━━━━━━━━━━━━━━━━━━━━━━━━━━━━━━━━━━━━━━━━━━━━━━━━━━━━━━━━━━┓\n",
       "┃\u001b[1m \u001b[0m\u001b[1mKey           \u001b[0m\u001b[1m \u001b[0m┃\u001b[1m \u001b[0m\u001b[1mValue                                                                                         \u001b[0m\u001b[1m \u001b[0m┃\n",
       "┡━━━━━━━━━━━━━━━━╇━━━━━━━━━━━━━━━━━━━━━━━━━━━━━━━━━━━━━━━━━━━━━━━━━━━━━━━━━━━━━━━━━━━━━━━━━━━━━━━━━━━━━━━━━━━━━━━━┩\n",
       "│\u001b[36m \u001b[0m\u001b[36m$formkit      \u001b[0m\u001b[36m \u001b[0m│\u001b[35m \u001b[0m\u001b[35mdatepicker                                                                                    \u001b[0m\u001b[35m \u001b[0m│\n",
       "│\u001b[36m \u001b[0m\u001b[36m_currentDate  \u001b[0m\u001b[36m \u001b[0m│\u001b[35m \u001b[0m\u001b[35m$getCurrentDate                                                                               \u001b[0m\u001b[35m \u001b[0m│\n",
       "│\u001b[36m \u001b[0m\u001b[36mcalendarIcon  \u001b[0m\u001b[36m \u001b[0m│\u001b[35m \u001b[0m\u001b[35mcalendar                                                                                      \u001b[0m\u001b[35m \u001b[0m│\n",
       "│\u001b[36m \u001b[0m\u001b[36mformat        \u001b[0m\u001b[36m \u001b[0m│\u001b[35m \u001b[0m\u001b[35mDD/MM/YYYY                                                                                    \u001b[0m\u001b[35m \u001b[0m│\n",
       "│\u001b[36m \u001b[0m\u001b[36mid            \u001b[0m\u001b[36m \u001b[0m│\u001b[35m \u001b[0m\u001b[35mdate                                                                                          \u001b[0m\u001b[35m \u001b[0m│\n",
       "│\u001b[36m \u001b[0m\u001b[36mkey           \u001b[0m\u001b[36m \u001b[0m│\u001b[35m \u001b[0m\u001b[35mdate                                                                                          \u001b[0m\u001b[35m \u001b[0m│\n",
       "│\u001b[36m \u001b[0m\u001b[36mlabel         \u001b[0m\u001b[36m \u001b[0m│\u001b[35m \u001b[0m\u001b[35m$gettext(\"Date\")                                                                              \u001b[0m\u001b[35m \u001b[0m│\n",
       "│\u001b[36m \u001b[0m\u001b[36mname          \u001b[0m\u001b[36m \u001b[0m│\u001b[35m \u001b[0m\u001b[35mdate                                                                                          \u001b[0m\u001b[35m \u001b[0m│\n",
       "│\u001b[36m \u001b[0m\u001b[36mnextIcon      \u001b[0m\u001b[36m \u001b[0m│\u001b[35m \u001b[0m\u001b[35mangleRight                                                                                    \u001b[0m\u001b[35m \u001b[0m│\n",
       "│\u001b[36m \u001b[0m\u001b[36mprevIcon      \u001b[0m\u001b[36m \u001b[0m│\u001b[35m \u001b[0m\u001b[35mangleLeft                                                                                     \u001b[0m\u001b[35m \u001b[0m│\n",
       "│\u001b[36m \u001b[0m\u001b[36msectionsSchema\u001b[0m\u001b[36m \u001b[0m│\u001b[35m \u001b[0m\u001b[35m{'day': {'children': ['$day.getDate()', {'children': [{'children': [{'$el': 'div', 'attrs':   \u001b[0m\u001b[35m \u001b[0m│\n",
       "│\u001b[36m                \u001b[0m│\u001b[35m \u001b[0m\u001b[35m{'class': 'formkit-day-highlight'}, 'if': '$attrs._currentDate().year ===                     \u001b[0m\u001b[35m \u001b[0m│\n",
       "│\u001b[36m                \u001b[0m│\u001b[35m \u001b[0m\u001b[35m$day.getFullYear()'}], 'if': '$attrs._currentDate().month === $day.getMonth()'}], 'if':       \u001b[0m\u001b[35m \u001b[0m│\n",
       "│\u001b[36m                \u001b[0m│\u001b[35m \u001b[0m\u001b[35m'$attrs._currentDate().day === $day.getDate()'}]}}                                            \u001b[0m\u001b[35m \u001b[0m│\n",
       "└────────────────┴────────────────────────────────────────────────────────────────────────────────────────────────┘\n"
      ]
     },
     "metadata": {},
     "output_type": "display_data"
    }
   ],
   "source": [
    "for n in nodes:\n",
    "    kvtable(n.get_node_values())\n",
    "    modeltable(n.get_node())\n",
    "\n",
    "# Note that there is one difference on postgres\n",
    "# Because `sectionsSchema` is something we don't\n",
    "# have in the postgres schema, it's held within the `additional_props` field"
   ]
  },
  {
   "cell_type": "code",
   "execution_count": 15,
   "metadata": {},
   "outputs": [],
   "source": [
    "# Schemas\n",
    "# Usually one input is not enough, we need a schema to hold multiple inputs\n",
    "# This is a JSON object not real javascript\n",
    "schema = '''\n",
    "[\n",
    "  {\n",
    "    $el: 'h1',\n",
    "    children: 'Register',\n",
    "    attrs: {\n",
    "      class: 'text-2xl font-bold mb-4',\n",
    "    },\n",
    "  },\n",
    "  {\n",
    "    $formkit: 'text',\n",
    "    name: 'email',\n",
    "    label: 'Email',\n",
    "    help: 'This will be used for your account.',\n",
    "    validation: 'required|email',\n",
    "  },\n",
    "  {\n",
    "    $formkit: 'password',\n",
    "    name: 'password',\n",
    "    label: 'Password',\n",
    "    help: 'Enter your new password.',\n",
    "    validation: 'required|length:5,16',\n",
    "  },\n",
    "  {\n",
    "    $formkit: 'password',\n",
    "    name: 'password_confirm',\n",
    "    label: 'Confirm password',\n",
    "    help: 'Enter your new password again to confirm it.',\n",
    "    validation: 'required|confirm',\n",
    "    validationLabel: 'password confirmation',\n",
    "  },\n",
    "  {\n",
    "    $cmp: 'FormKit',\n",
    "    props: {\n",
    "      name: 'eu_citizen',\n",
    "      type: 'checkbox',\n",
    "      id: 'eu',\n",
    "      label: 'Are you a european citizen?',\n",
    "    },\n",
    "  },\n",
    "  {\n",
    "    $formkit: 'select',\n",
    "    if: '$get(eu).value', // 👀 Oooo, conditionals!\n",
    "    name: 'cookie_notice',\n",
    "    label: 'Cookie notice frequency',\n",
    "    options: {\n",
    "      refresh: 'Every page load',\n",
    "      hourly: 'Ever hour',\n",
    "      daily: 'Every day',\n",
    "    },\n",
    "    help: 'How often should we display a cookie notice?',\n",
    "  },\n",
    "]\n",
    "'''\n",
    "\n",
    "import json5\n",
    "schema_as_js = json5.loads(schema)"
   ]
  },
  {
   "cell_type": "code",
   "execution_count": null,
   "metadata": {},
   "outputs": [],
   "source": []
  },
  {
   "cell_type": "code",
   "execution_count": 16,
   "metadata": {},
   "outputs": [
    {
     "data": {
      "text/html": [
       "<pre style=\"white-space:pre;overflow-x:auto;line-height:normal;font-family:Menlo,'DejaVu Sans Mono',consolas,'Courier New',monospace\">┏━━━━━━━━━━┳━━━━━━━━━━━━━━━━━━━━━━━━━━━━━━━━━━━━━━┓\n",
       "┃<span style=\"font-weight: bold\"> Key      </span>┃<span style=\"font-weight: bold\"> Value                                </span>┃\n",
       "┡━━━━━━━━━━╇━━━━━━━━━━━━━━━━━━━━━━━━━━━━━━━━━━━━━━┩\n",
       "│<span style=\"color: #008080; text-decoration-color: #008080\"> $el      </span>│<span style=\"color: #800080; text-decoration-color: #800080\"> h1                                   </span>│\n",
       "│<span style=\"color: #008080; text-decoration-color: #008080\"> attrs    </span>│<span style=\"color: #800080; text-decoration-color: #800080\"> {'class': 'text-2xl font-bold mb-4'} </span>│\n",
       "│<span style=\"color: #008080; text-decoration-color: #008080\"> children </span>│<span style=\"color: #800080; text-decoration-color: #800080\"> Register                             </span>│\n",
       "└──────────┴──────────────────────────────────────┘\n",
       "</pre>\n"
      ],
      "text/plain": [
       "┏━━━━━━━━━━┳━━━━━━━━━━━━━━━━━━━━━━━━━━━━━━━━━━━━━━┓\n",
       "┃\u001b[1m \u001b[0m\u001b[1mKey     \u001b[0m\u001b[1m \u001b[0m┃\u001b[1m \u001b[0m\u001b[1mValue                               \u001b[0m\u001b[1m \u001b[0m┃\n",
       "┡━━━━━━━━━━╇━━━━━━━━━━━━━━━━━━━━━━━━━━━━━━━━━━━━━━┩\n",
       "│\u001b[36m \u001b[0m\u001b[36m$el     \u001b[0m\u001b[36m \u001b[0m│\u001b[35m \u001b[0m\u001b[35mh1                                  \u001b[0m\u001b[35m \u001b[0m│\n",
       "│\u001b[36m \u001b[0m\u001b[36mattrs   \u001b[0m\u001b[36m \u001b[0m│\u001b[35m \u001b[0m\u001b[35m{'class': 'text-2xl font-bold mb-4'}\u001b[0m\u001b[35m \u001b[0m│\n",
       "│\u001b[36m \u001b[0m\u001b[36mchildren\u001b[0m\u001b[36m \u001b[0m│\u001b[35m \u001b[0m\u001b[35mRegister                            \u001b[0m\u001b[35m \u001b[0m│\n",
       "└──────────┴──────────────────────────────────────┘\n"
      ]
     },
     "metadata": {},
     "output_type": "display_data"
    },
    {
     "data": {
      "text/html": [
       "<pre style=\"white-space:pre;overflow-x:auto;line-height:normal;font-family:Menlo,'DejaVu Sans Mono',consolas,'Courier New',monospace\">┏━━━━━━━━━━━━┳━━━━━━━━━━━━━━━━━━━━━━━━━━━━━━━━━━━━━┓\n",
       "┃<span style=\"font-weight: bold\"> Key        </span>┃<span style=\"font-weight: bold\"> Value                               </span>┃\n",
       "┡━━━━━━━━━━━━╇━━━━━━━━━━━━━━━━━━━━━━━━━━━━━━━━━━━━━┩\n",
       "│<span style=\"color: #008080; text-decoration-color: #008080\"> $formkit   </span>│<span style=\"color: #800080; text-decoration-color: #800080\"> text                                </span>│\n",
       "│<span style=\"color: #008080; text-decoration-color: #008080\"> help       </span>│<span style=\"color: #800080; text-decoration-color: #800080\"> This will be used for your account. </span>│\n",
       "│<span style=\"color: #008080; text-decoration-color: #008080\"> label      </span>│<span style=\"color: #800080; text-decoration-color: #800080\"> Email                               </span>│\n",
       "│<span style=\"color: #008080; text-decoration-color: #008080\"> name       </span>│<span style=\"color: #800080; text-decoration-color: #800080\"> email                               </span>│\n",
       "│<span style=\"color: #008080; text-decoration-color: #008080\"> validation </span>│<span style=\"color: #800080; text-decoration-color: #800080\"> required|email                      </span>│\n",
       "└────────────┴─────────────────────────────────────┘\n",
       "</pre>\n"
      ],
      "text/plain": [
       "┏━━━━━━━━━━━━┳━━━━━━━━━━━━━━━━━━━━━━━━━━━━━━━━━━━━━┓\n",
       "┃\u001b[1m \u001b[0m\u001b[1mKey       \u001b[0m\u001b[1m \u001b[0m┃\u001b[1m \u001b[0m\u001b[1mValue                              \u001b[0m\u001b[1m \u001b[0m┃\n",
       "┡━━━━━━━━━━━━╇━━━━━━━━━━━━━━━━━━━━━━━━━━━━━━━━━━━━━┩\n",
       "│\u001b[36m \u001b[0m\u001b[36m$formkit  \u001b[0m\u001b[36m \u001b[0m│\u001b[35m \u001b[0m\u001b[35mtext                               \u001b[0m\u001b[35m \u001b[0m│\n",
       "│\u001b[36m \u001b[0m\u001b[36mhelp      \u001b[0m\u001b[36m \u001b[0m│\u001b[35m \u001b[0m\u001b[35mThis will be used for your account.\u001b[0m\u001b[35m \u001b[0m│\n",
       "│\u001b[36m \u001b[0m\u001b[36mlabel     \u001b[0m\u001b[36m \u001b[0m│\u001b[35m \u001b[0m\u001b[35mEmail                              \u001b[0m\u001b[35m \u001b[0m│\n",
       "│\u001b[36m \u001b[0m\u001b[36mname      \u001b[0m\u001b[36m \u001b[0m│\u001b[35m \u001b[0m\u001b[35memail                              \u001b[0m\u001b[35m \u001b[0m│\n",
       "│\u001b[36m \u001b[0m\u001b[36mvalidation\u001b[0m\u001b[36m \u001b[0m│\u001b[35m \u001b[0m\u001b[35mrequired|email                     \u001b[0m\u001b[35m \u001b[0m│\n",
       "└────────────┴─────────────────────────────────────┘\n"
      ]
     },
     "metadata": {},
     "output_type": "display_data"
    },
    {
     "data": {
      "text/html": [
       "<pre style=\"white-space:pre;overflow-x:auto;line-height:normal;font-family:Menlo,'DejaVu Sans Mono',consolas,'Courier New',monospace\">┏━━━━━━━━━━━━┳━━━━━━━━━━━━━━━━━━━━━━━━━━┓\n",
       "┃<span style=\"font-weight: bold\"> Key        </span>┃<span style=\"font-weight: bold\"> Value                    </span>┃\n",
       "┡━━━━━━━━━━━━╇━━━━━━━━━━━━━━━━━━━━━━━━━━┩\n",
       "│<span style=\"color: #008080; text-decoration-color: #008080\"> $formkit   </span>│<span style=\"color: #800080; text-decoration-color: #800080\"> password                 </span>│\n",
       "│<span style=\"color: #008080; text-decoration-color: #008080\"> help       </span>│<span style=\"color: #800080; text-decoration-color: #800080\"> Enter your new password. </span>│\n",
       "│<span style=\"color: #008080; text-decoration-color: #008080\"> label      </span>│<span style=\"color: #800080; text-decoration-color: #800080\"> Password                 </span>│\n",
       "│<span style=\"color: #008080; text-decoration-color: #008080\"> name       </span>│<span style=\"color: #800080; text-decoration-color: #800080\"> password                 </span>│\n",
       "│<span style=\"color: #008080; text-decoration-color: #008080\"> validation </span>│<span style=\"color: #800080; text-decoration-color: #800080\"> required|length:5,16     </span>│\n",
       "└────────────┴──────────────────────────┘\n",
       "</pre>\n"
      ],
      "text/plain": [
       "┏━━━━━━━━━━━━┳━━━━━━━━━━━━━━━━━━━━━━━━━━┓\n",
       "┃\u001b[1m \u001b[0m\u001b[1mKey       \u001b[0m\u001b[1m \u001b[0m┃\u001b[1m \u001b[0m\u001b[1mValue                   \u001b[0m\u001b[1m \u001b[0m┃\n",
       "┡━━━━━━━━━━━━╇━━━━━━━━━━━━━━━━━━━━━━━━━━┩\n",
       "│\u001b[36m \u001b[0m\u001b[36m$formkit  \u001b[0m\u001b[36m \u001b[0m│\u001b[35m \u001b[0m\u001b[35mpassword                \u001b[0m\u001b[35m \u001b[0m│\n",
       "│\u001b[36m \u001b[0m\u001b[36mhelp      \u001b[0m\u001b[36m \u001b[0m│\u001b[35m \u001b[0m\u001b[35mEnter your new password.\u001b[0m\u001b[35m \u001b[0m│\n",
       "│\u001b[36m \u001b[0m\u001b[36mlabel     \u001b[0m\u001b[36m \u001b[0m│\u001b[35m \u001b[0m\u001b[35mPassword                \u001b[0m\u001b[35m \u001b[0m│\n",
       "│\u001b[36m \u001b[0m\u001b[36mname      \u001b[0m\u001b[36m \u001b[0m│\u001b[35m \u001b[0m\u001b[35mpassword                \u001b[0m\u001b[35m \u001b[0m│\n",
       "│\u001b[36m \u001b[0m\u001b[36mvalidation\u001b[0m\u001b[36m \u001b[0m│\u001b[35m \u001b[0m\u001b[35mrequired|length:5,16    \u001b[0m\u001b[35m \u001b[0m│\n",
       "└────────────┴──────────────────────────┘\n"
      ]
     },
     "metadata": {},
     "output_type": "display_data"
    },
    {
     "data": {
      "text/html": [
       "<pre style=\"white-space:pre;overflow-x:auto;line-height:normal;font-family:Menlo,'DejaVu Sans Mono',consolas,'Courier New',monospace\">┏━━━━━━━━━━━━━━━━━┳━━━━━━━━━━━━━━━━━━━━━━━━━━━━━━━━━━━━━━━━━━━━━━┓\n",
       "┃<span style=\"font-weight: bold\"> Key             </span>┃<span style=\"font-weight: bold\"> Value                                        </span>┃\n",
       "┡━━━━━━━━━━━━━━━━━╇━━━━━━━━━━━━━━━━━━━━━━━━━━━━━━━━━━━━━━━━━━━━━━┩\n",
       "│<span style=\"color: #008080; text-decoration-color: #008080\"> $formkit        </span>│<span style=\"color: #800080; text-decoration-color: #800080\"> password                                     </span>│\n",
       "│<span style=\"color: #008080; text-decoration-color: #008080\"> help            </span>│<span style=\"color: #800080; text-decoration-color: #800080\"> Enter your new password again to confirm it. </span>│\n",
       "│<span style=\"color: #008080; text-decoration-color: #008080\"> label           </span>│<span style=\"color: #800080; text-decoration-color: #800080\"> Confirm password                             </span>│\n",
       "│<span style=\"color: #008080; text-decoration-color: #008080\"> name            </span>│<span style=\"color: #800080; text-decoration-color: #800080\"> password_confirm                             </span>│\n",
       "│<span style=\"color: #008080; text-decoration-color: #008080\"> validation      </span>│<span style=\"color: #800080; text-decoration-color: #800080\"> required|confirm                             </span>│\n",
       "│<span style=\"color: #008080; text-decoration-color: #008080\"> validationLabel </span>│<span style=\"color: #800080; text-decoration-color: #800080\"> password confirmation                        </span>│\n",
       "└─────────────────┴──────────────────────────────────────────────┘\n",
       "</pre>\n"
      ],
      "text/plain": [
       "┏━━━━━━━━━━━━━━━━━┳━━━━━━━━━━━━━━━━━━━━━━━━━━━━━━━━━━━━━━━━━━━━━━┓\n",
       "┃\u001b[1m \u001b[0m\u001b[1mKey            \u001b[0m\u001b[1m \u001b[0m┃\u001b[1m \u001b[0m\u001b[1mValue                                       \u001b[0m\u001b[1m \u001b[0m┃\n",
       "┡━━━━━━━━━━━━━━━━━╇━━━━━━━━━━━━━━━━━━━━━━━━━━━━━━━━━━━━━━━━━━━━━━┩\n",
       "│\u001b[36m \u001b[0m\u001b[36m$formkit       \u001b[0m\u001b[36m \u001b[0m│\u001b[35m \u001b[0m\u001b[35mpassword                                    \u001b[0m\u001b[35m \u001b[0m│\n",
       "│\u001b[36m \u001b[0m\u001b[36mhelp           \u001b[0m\u001b[36m \u001b[0m│\u001b[35m \u001b[0m\u001b[35mEnter your new password again to confirm it.\u001b[0m\u001b[35m \u001b[0m│\n",
       "│\u001b[36m \u001b[0m\u001b[36mlabel          \u001b[0m\u001b[36m \u001b[0m│\u001b[35m \u001b[0m\u001b[35mConfirm password                            \u001b[0m\u001b[35m \u001b[0m│\n",
       "│\u001b[36m \u001b[0m\u001b[36mname           \u001b[0m\u001b[36m \u001b[0m│\u001b[35m \u001b[0m\u001b[35mpassword_confirm                            \u001b[0m\u001b[35m \u001b[0m│\n",
       "│\u001b[36m \u001b[0m\u001b[36mvalidation     \u001b[0m\u001b[36m \u001b[0m│\u001b[35m \u001b[0m\u001b[35mrequired|confirm                            \u001b[0m\u001b[35m \u001b[0m│\n",
       "│\u001b[36m \u001b[0m\u001b[36mvalidationLabel\u001b[0m\u001b[36m \u001b[0m│\u001b[35m \u001b[0m\u001b[35mpassword confirmation                       \u001b[0m\u001b[35m \u001b[0m│\n",
       "└─────────────────┴──────────────────────────────────────────────┘\n"
      ]
     },
     "metadata": {},
     "output_type": "display_data"
    },
    {
     "data": {
      "text/html": [
       "<pre style=\"white-space:pre;overflow-x:auto;line-height:normal;font-family:Menlo,'DejaVu Sans Mono',consolas,'Courier New',monospace\">┏━━━━━━━┳━━━━━━━━━━━━━━━━━━━━━━━━━━━━━━━━━━━━━━━━━━━━━━━━━━━━━━━━━━━━━━━━━━━━━━━━━━━━━━━━━━━━━━━━━━━━━━━━┓\n",
       "┃<span style=\"font-weight: bold\"> Key   </span>┃<span style=\"font-weight: bold\"> Value                                                                                          </span>┃\n",
       "┡━━━━━━━╇━━━━━━━━━━━━━━━━━━━━━━━━━━━━━━━━━━━━━━━━━━━━━━━━━━━━━━━━━━━━━━━━━━━━━━━━━━━━━━━━━━━━━━━━━━━━━━━━┩\n",
       "│<span style=\"color: #008080; text-decoration-color: #008080\"> $cmp  </span>│<span style=\"color: #800080; text-decoration-color: #800080\"> FormKit                                                                                        </span>│\n",
       "│<span style=\"color: #008080; text-decoration-color: #008080\"> props </span>│<span style=\"color: #800080; text-decoration-color: #800080\"> {'name': 'eu_citizen', 'type': 'checkbox', 'id': 'eu', 'label': 'Are you a european citizen?'} </span>│\n",
       "└───────┴────────────────────────────────────────────────────────────────────────────────────────────────┘\n",
       "</pre>\n"
      ],
      "text/plain": [
       "┏━━━━━━━┳━━━━━━━━━━━━━━━━━━━━━━━━━━━━━━━━━━━━━━━━━━━━━━━━━━━━━━━━━━━━━━━━━━━━━━━━━━━━━━━━━━━━━━━━━━━━━━━━┓\n",
       "┃\u001b[1m \u001b[0m\u001b[1mKey  \u001b[0m\u001b[1m \u001b[0m┃\u001b[1m \u001b[0m\u001b[1mValue                                                                                         \u001b[0m\u001b[1m \u001b[0m┃\n",
       "┡━━━━━━━╇━━━━━━━━━━━━━━━━━━━━━━━━━━━━━━━━━━━━━━━━━━━━━━━━━━━━━━━━━━━━━━━━━━━━━━━━━━━━━━━━━━━━━━━━━━━━━━━━┩\n",
       "│\u001b[36m \u001b[0m\u001b[36m$cmp \u001b[0m\u001b[36m \u001b[0m│\u001b[35m \u001b[0m\u001b[35mFormKit                                                                                       \u001b[0m\u001b[35m \u001b[0m│\n",
       "│\u001b[36m \u001b[0m\u001b[36mprops\u001b[0m\u001b[36m \u001b[0m│\u001b[35m \u001b[0m\u001b[35m{'name': 'eu_citizen', 'type': 'checkbox', 'id': 'eu', 'label': 'Are you a european citizen?'}\u001b[0m\u001b[35m \u001b[0m│\n",
       "└───────┴────────────────────────────────────────────────────────────────────────────────────────────────┘\n"
      ]
     },
     "metadata": {},
     "output_type": "display_data"
    },
    {
     "data": {
      "text/html": [
       "<pre style=\"white-space:pre;overflow-x:auto;line-height:normal;font-family:Menlo,'DejaVu Sans Mono',consolas,'Courier New',monospace\">┏━━━━━━━━━━┳━━━━━━━━━━━━━━━━━━━━━━━━━━━━━━━━━━━━━━━━━━━━━━━━━━━━━━━━━━━━━━━━━━━━━━━━━━━━━┓\n",
       "┃<span style=\"font-weight: bold\"> Key      </span>┃<span style=\"font-weight: bold\"> Value                                                                       </span>┃\n",
       "┡━━━━━━━━━━╇━━━━━━━━━━━━━━━━━━━━━━━━━━━━━━━━━━━━━━━━━━━━━━━━━━━━━━━━━━━━━━━━━━━━━━━━━━━━━┩\n",
       "│<span style=\"color: #008080; text-decoration-color: #008080\"> $formkit </span>│<span style=\"color: #800080; text-decoration-color: #800080\"> select                                                                      </span>│\n",
       "│<span style=\"color: #008080; text-decoration-color: #008080\"> help     </span>│<span style=\"color: #800080; text-decoration-color: #800080\"> How often should we display a cookie notice?                                </span>│\n",
       "│<span style=\"color: #008080; text-decoration-color: #008080\"> if       </span>│<span style=\"color: #800080; text-decoration-color: #800080\"> $get(eu).value                                                              </span>│\n",
       "│<span style=\"color: #008080; text-decoration-color: #008080\"> label    </span>│<span style=\"color: #800080; text-decoration-color: #800080\"> Cookie notice frequency                                                     </span>│\n",
       "│<span style=\"color: #008080; text-decoration-color: #008080\"> name     </span>│<span style=\"color: #800080; text-decoration-color: #800080\"> cookie_notice                                                               </span>│\n",
       "│<span style=\"color: #008080; text-decoration-color: #008080\"> options  </span>│<span style=\"color: #800080; text-decoration-color: #800080\"> {'refresh': 'Every page load', 'hourly': 'Ever hour', 'daily': 'Every day'} </span>│\n",
       "└──────────┴─────────────────────────────────────────────────────────────────────────────┘\n",
       "</pre>\n"
      ],
      "text/plain": [
       "┏━━━━━━━━━━┳━━━━━━━━━━━━━━━━━━━━━━━━━━━━━━━━━━━━━━━━━━━━━━━━━━━━━━━━━━━━━━━━━━━━━━━━━━━━━┓\n",
       "┃\u001b[1m \u001b[0m\u001b[1mKey     \u001b[0m\u001b[1m \u001b[0m┃\u001b[1m \u001b[0m\u001b[1mValue                                                                      \u001b[0m\u001b[1m \u001b[0m┃\n",
       "┡━━━━━━━━━━╇━━━━━━━━━━━━━━━━━━━━━━━━━━━━━━━━━━━━━━━━━━━━━━━━━━━━━━━━━━━━━━━━━━━━━━━━━━━━━┩\n",
       "│\u001b[36m \u001b[0m\u001b[36m$formkit\u001b[0m\u001b[36m \u001b[0m│\u001b[35m \u001b[0m\u001b[35mselect                                                                     \u001b[0m\u001b[35m \u001b[0m│\n",
       "│\u001b[36m \u001b[0m\u001b[36mhelp    \u001b[0m\u001b[36m \u001b[0m│\u001b[35m \u001b[0m\u001b[35mHow often should we display a cookie notice?                               \u001b[0m\u001b[35m \u001b[0m│\n",
       "│\u001b[36m \u001b[0m\u001b[36mif      \u001b[0m\u001b[36m \u001b[0m│\u001b[35m \u001b[0m\u001b[35m$get(eu).value                                                             \u001b[0m\u001b[35m \u001b[0m│\n",
       "│\u001b[36m \u001b[0m\u001b[36mlabel   \u001b[0m\u001b[36m \u001b[0m│\u001b[35m \u001b[0m\u001b[35mCookie notice frequency                                                    \u001b[0m\u001b[35m \u001b[0m│\n",
       "│\u001b[36m \u001b[0m\u001b[36mname    \u001b[0m\u001b[36m \u001b[0m│\u001b[35m \u001b[0m\u001b[35mcookie_notice                                                              \u001b[0m\u001b[35m \u001b[0m│\n",
       "│\u001b[36m \u001b[0m\u001b[36moptions \u001b[0m\u001b[36m \u001b[0m│\u001b[35m \u001b[0m\u001b[35m{'refresh': 'Every page load', 'hourly': 'Ever hour', 'daily': 'Every day'}\u001b[0m\u001b[35m \u001b[0m│\n",
       "└──────────┴─────────────────────────────────────────────────────────────────────────────┘\n"
      ]
     },
     "metadata": {},
     "output_type": "display_data"
    }
   ],
   "source": [
    "# So, what happens when we try to parse this?\n",
    "# It's a list of FormKitNodes\n",
    "for n in schema_as_js:\n",
    "    kvtable(n)"
   ]
  },
  {
   "cell_type": "code",
   "execution_count": 17,
   "metadata": {},
   "outputs": [
    {
     "data": {
      "text/html": [
       "<pre style=\"white-space:pre;overflow-x:auto;line-height:normal;font-family:Menlo,'DejaVu Sans Mono',consolas,'Courier New',monospace\"><span style=\"color: #7fbfbf; text-decoration-color: #7fbfbf\">           </span><span style=\"color: #008000; text-decoration-color: #008000\">Creating  </span><span style=\"color: #008000; text-decoration-color: #008000\">d9933d07-4216-4cb9-8b6e-8e50edd830a2</span>                                             <a href=\"file:///app/src/formkit_ninja/models.py\" target=\"_blank\"><span style=\"color: #7f7f7f; text-decoration-color: #7f7f7f\">models.py</span></a><span style=\"color: #7f7f7f; text-decoration-color: #7f7f7f\">:</span><a href=\"file:///app/src/formkit_ninja/models.py#571\" target=\"_blank\"><span style=\"color: #7f7f7f; text-decoration-color: #7f7f7f\">571</span></a>\n",
       "</pre>\n"
      ],
      "text/plain": [
       "\u001b[2;36m          \u001b[0m\u001b[2;36m \u001b[0m\u001b[32mCreating  \u001b[0m\u001b[32md9933d07-4216-4cb9-8b6e-8e50edd830a2\u001b[0m                                             \u001b]8;id=571736;file:///app/src/formkit_ninja/models.py\u001b\\\u001b[2mmodels.py\u001b[0m\u001b]8;;\u001b\\\u001b[2m:\u001b[0m\u001b]8;id=778473;file:///app/src/formkit_ninja/models.py#571\u001b\\\u001b[2m571\u001b[0m\u001b]8;;\u001b\\\n"
      ]
     },
     "metadata": {},
     "output_type": "display_data"
    },
    {
     "data": {
      "text/html": [
       "<pre style=\"white-space:pre;overflow-x:auto;line-height:normal;font-family:Menlo,'DejaVu Sans Mono',consolas,'Courier New',monospace\"><span style=\"color: #7fbfbf; text-decoration-color: #7fbfbf\">           </span><span style=\"color: #008000; text-decoration-color: #008000\">Yielding: $el </span><span style=\"color: #008000; text-decoration-color: #008000\">d9933d07-4216-4cb9-8b6e-8e50edd830a2</span>                                         <a href=\"file:///app/src/formkit_ninja/models.py\" target=\"_blank\"><span style=\"color: #7f7f7f; text-decoration-color: #7f7f7f\">models.py</span></a><span style=\"color: #7f7f7f; text-decoration-color: #7f7f7f\">:</span><a href=\"file:///app/src/formkit_ninja/models.py#593\" target=\"_blank\"><span style=\"color: #7f7f7f; text-decoration-color: #7f7f7f\">593</span></a>\n",
       "</pre>\n"
      ],
      "text/plain": [
       "\u001b[2;36m          \u001b[0m\u001b[2;36m \u001b[0m\u001b[32mYielding: $el \u001b[0m\u001b[32md9933d07-4216-4cb9-8b6e-8e50edd830a2\u001b[0m                                         \u001b]8;id=419870;file:///app/src/formkit_ninja/models.py\u001b\\\u001b[2mmodels.py\u001b[0m\u001b]8;;\u001b\\\u001b[2m:\u001b[0m\u001b]8;id=521789;file:///app/src/formkit_ninja/models.py#593\u001b\\\u001b[2m593\u001b[0m\u001b]8;;\u001b\\\n"
      ]
     },
     "metadata": {},
     "output_type": "display_data"
    },
    {
     "data": {
      "text/html": [
       "<pre style=\"white-space:pre;overflow-x:auto;line-height:normal;font-family:Menlo,'DejaVu Sans Mono',consolas,'Courier New',monospace\"><span style=\"color: #7fbfbf; text-decoration-color: #7fbfbf\">           </span>    Node: Register                                                                         <a href=\"file:///app/src/formkit_ninja/models.py\" target=\"_blank\"><span style=\"color: #7f7f7f; text-decoration-color: #7f7f7f\">models.py</span></a><span style=\"color: #7f7f7f; text-decoration-color: #7f7f7f\">:</span><a href=\"file:///app/src/formkit_ninja/models.py#636\" target=\"_blank\"><span style=\"color: #7f7f7f; text-decoration-color: #7f7f7f\">636</span></a>\n",
       "</pre>\n"
      ],
      "text/plain": [
       "\u001b[2;36m          \u001b[0m\u001b[2;36m \u001b[0m    Node: Register                                                                         \u001b]8;id=328986;file:///app/src/formkit_ninja/models.py\u001b\\\u001b[2mmodels.py\u001b[0m\u001b]8;;\u001b\\\u001b[2m:\u001b[0m\u001b]8;id=535476;file:///app/src/formkit_ninja/models.py#636\u001b\\\u001b[2m636\u001b[0m\u001b]8;;\u001b\\\n"
      ]
     },
     "metadata": {},
     "output_type": "display_data"
    },
    {
     "data": {
      "text/html": [
       "<pre style=\"white-space:pre;overflow-x:auto;line-height:normal;font-family:Menlo,'DejaVu Sans Mono',consolas,'Courier New',monospace\"><span style=\"color: #7fbfbf; text-decoration-color: #7fbfbf\">           </span><span style=\"color: #808000; text-decoration-color: #808000\">Saving $el </span><span style=\"color: #808000; text-decoration-color: #808000\">d9933d07-4216-4cb9-8b6e-8e50edd830a2</span>                                            <a href=\"file:///app/src/formkit_ninja/models.py\" target=\"_blank\"><span style=\"color: #7f7f7f; text-decoration-color: #7f7f7f\">models.py</span></a><span style=\"color: #7f7f7f; text-decoration-color: #7f7f7f\">:</span><a href=\"file:///app/src/formkit_ninja/models.py#765\" target=\"_blank\"><span style=\"color: #7f7f7f; text-decoration-color: #7f7f7f\">765</span></a>\n",
       "</pre>\n"
      ],
      "text/plain": [
       "\u001b[2;36m          \u001b[0m\u001b[2;36m \u001b[0m\u001b[33mSaving $el \u001b[0m\u001b[33md9933d07-4216-4cb9-8b6e-8e50edd830a2\u001b[0m                                            \u001b]8;id=843172;file:///app/src/formkit_ninja/models.py\u001b\\\u001b[2mmodels.py\u001b[0m\u001b]8;;\u001b\\\u001b[2m:\u001b[0m\u001b]8;id=812932;file:///app/src/formkit_ninja/models.py#765\u001b\\\u001b[2m765\u001b[0m\u001b]8;;\u001b\\\n"
      ]
     },
     "metadata": {},
     "output_type": "display_data"
    },
    {
     "data": {
      "text/html": [
       "<pre style=\"white-space:pre;overflow-x:auto;line-height:normal;font-family:Menlo,'DejaVu Sans Mono',consolas,'Courier New',monospace\"><span style=\"color: #7fbfbf; text-decoration-color: #7fbfbf\">           </span><span style=\"color: #008000; text-decoration-color: #008000\">Creating  </span><span style=\"color: #008000; text-decoration-color: #008000\">5207ecdd-757c-49ad-923d-f3929d908bf6</span>                                             <a href=\"file:///app/src/formkit_ninja/models.py\" target=\"_blank\"><span style=\"color: #7f7f7f; text-decoration-color: #7f7f7f\">models.py</span></a><span style=\"color: #7f7f7f; text-decoration-color: #7f7f7f\">:</span><a href=\"file:///app/src/formkit_ninja/models.py#571\" target=\"_blank\"><span style=\"color: #7f7f7f; text-decoration-color: #7f7f7f\">571</span></a>\n",
       "</pre>\n"
      ],
      "text/plain": [
       "\u001b[2;36m          \u001b[0m\u001b[2;36m \u001b[0m\u001b[32mCreating  \u001b[0m\u001b[32m5207ecdd-757c-49ad-923d-f3929d908bf6\u001b[0m                                             \u001b]8;id=709744;file:///app/src/formkit_ninja/models.py\u001b\\\u001b[2mmodels.py\u001b[0m\u001b]8;;\u001b\\\u001b[2m:\u001b[0m\u001b]8;id=664667;file:///app/src/formkit_ninja/models.py#571\u001b\\\u001b[2m571\u001b[0m\u001b]8;;\u001b\\\n"
      ]
     },
     "metadata": {},
     "output_type": "display_data"
    },
    {
     "data": {
      "text/html": [
       "<pre style=\"white-space:pre;overflow-x:auto;line-height:normal;font-family:Menlo,'DejaVu Sans Mono',consolas,'Courier New',monospace\"><span style=\"color: #7fbfbf; text-decoration-color: #7fbfbf\">           </span><span style=\"color: #008000; text-decoration-color: #008000\">Yielding: Node: email</span>                                                                      <a href=\"file:///app/src/formkit_ninja/models.py\" target=\"_blank\"><span style=\"color: #7f7f7f; text-decoration-color: #7f7f7f\">models.py</span></a><span style=\"color: #7f7f7f; text-decoration-color: #7f7f7f\">:</span><a href=\"file:///app/src/formkit_ninja/models.py#593\" target=\"_blank\"><span style=\"color: #7f7f7f; text-decoration-color: #7f7f7f\">593</span></a>\n",
       "</pre>\n"
      ],
      "text/plain": [
       "\u001b[2;36m          \u001b[0m\u001b[2;36m \u001b[0m\u001b[32mYielding: Node: email\u001b[0m                                                                      \u001b]8;id=234987;file:///app/src/formkit_ninja/models.py\u001b\\\u001b[2mmodels.py\u001b[0m\u001b]8;;\u001b\\\u001b[2m:\u001b[0m\u001b]8;id=307013;file:///app/src/formkit_ninja/models.py#593\u001b\\\u001b[2m593\u001b[0m\u001b]8;;\u001b\\\n"
      ]
     },
     "metadata": {},
     "output_type": "display_data"
    },
    {
     "data": {
      "text/html": [
       "<pre style=\"white-space:pre;overflow-x:auto;line-height:normal;font-family:Menlo,'DejaVu Sans Mono',consolas,'Courier New',monospace\"><span style=\"color: #7fbfbf; text-decoration-color: #7fbfbf\">           </span><span style=\"color: #808000; text-decoration-color: #808000\">Saving Node: email</span>                                                                         <a href=\"file:///app/src/formkit_ninja/models.py\" target=\"_blank\"><span style=\"color: #7f7f7f; text-decoration-color: #7f7f7f\">models.py</span></a><span style=\"color: #7f7f7f; text-decoration-color: #7f7f7f\">:</span><a href=\"file:///app/src/formkit_ninja/models.py#765\" target=\"_blank\"><span style=\"color: #7f7f7f; text-decoration-color: #7f7f7f\">765</span></a>\n",
       "</pre>\n"
      ],
      "text/plain": [
       "\u001b[2;36m          \u001b[0m\u001b[2;36m \u001b[0m\u001b[33mSaving Node: email\u001b[0m                                                                         \u001b]8;id=901660;file:///app/src/formkit_ninja/models.py\u001b\\\u001b[2mmodels.py\u001b[0m\u001b]8;;\u001b\\\u001b[2m:\u001b[0m\u001b]8;id=846539;file:///app/src/formkit_ninja/models.py#765\u001b\\\u001b[2m765\u001b[0m\u001b]8;;\u001b\\\n"
      ]
     },
     "metadata": {},
     "output_type": "display_data"
    },
    {
     "data": {
      "text/html": [
       "<pre style=\"white-space:pre;overflow-x:auto;line-height:normal;font-family:Menlo,'DejaVu Sans Mono',consolas,'Courier New',monospace\"><span style=\"color: #7fbfbf; text-decoration-color: #7fbfbf\">           </span><span style=\"color: #008000; text-decoration-color: #008000\">Creating  </span><span style=\"color: #008000; text-decoration-color: #008000\">3423536b-f96c-4d72-bbb3-a8550bf60fb9</span>                                             <a href=\"file:///app/src/formkit_ninja/models.py\" target=\"_blank\"><span style=\"color: #7f7f7f; text-decoration-color: #7f7f7f\">models.py</span></a><span style=\"color: #7f7f7f; text-decoration-color: #7f7f7f\">:</span><a href=\"file:///app/src/formkit_ninja/models.py#571\" target=\"_blank\"><span style=\"color: #7f7f7f; text-decoration-color: #7f7f7f\">571</span></a>\n",
       "</pre>\n"
      ],
      "text/plain": [
       "\u001b[2;36m          \u001b[0m\u001b[2;36m \u001b[0m\u001b[32mCreating  \u001b[0m\u001b[32m3423536b-f96c-4d72-bbb3-a8550bf60fb9\u001b[0m                                             \u001b]8;id=224217;file:///app/src/formkit_ninja/models.py\u001b\\\u001b[2mmodels.py\u001b[0m\u001b]8;;\u001b\\\u001b[2m:\u001b[0m\u001b]8;id=918182;file:///app/src/formkit_ninja/models.py#571\u001b\\\u001b[2m571\u001b[0m\u001b]8;;\u001b\\\n"
      ]
     },
     "metadata": {},
     "output_type": "display_data"
    },
    {
     "data": {
      "text/html": [
       "<pre style=\"white-space:pre;overflow-x:auto;line-height:normal;font-family:Menlo,'DejaVu Sans Mono',consolas,'Courier New',monospace\"><span style=\"color: #7fbfbf; text-decoration-color: #7fbfbf\">           </span><span style=\"color: #008000; text-decoration-color: #008000\">Yielding: Node: password</span>                                                                   <a href=\"file:///app/src/formkit_ninja/models.py\" target=\"_blank\"><span style=\"color: #7f7f7f; text-decoration-color: #7f7f7f\">models.py</span></a><span style=\"color: #7f7f7f; text-decoration-color: #7f7f7f\">:</span><a href=\"file:///app/src/formkit_ninja/models.py#593\" target=\"_blank\"><span style=\"color: #7f7f7f; text-decoration-color: #7f7f7f\">593</span></a>\n",
       "</pre>\n"
      ],
      "text/plain": [
       "\u001b[2;36m          \u001b[0m\u001b[2;36m \u001b[0m\u001b[32mYielding: Node: password\u001b[0m                                                                   \u001b]8;id=566802;file:///app/src/formkit_ninja/models.py\u001b\\\u001b[2mmodels.py\u001b[0m\u001b]8;;\u001b\\\u001b[2m:\u001b[0m\u001b]8;id=297903;file:///app/src/formkit_ninja/models.py#593\u001b\\\u001b[2m593\u001b[0m\u001b]8;;\u001b\\\n"
      ]
     },
     "metadata": {},
     "output_type": "display_data"
    },
    {
     "data": {
      "text/html": [
       "<pre style=\"white-space:pre;overflow-x:auto;line-height:normal;font-family:Menlo,'DejaVu Sans Mono',consolas,'Courier New',monospace\"><span style=\"color: #7fbfbf; text-decoration-color: #7fbfbf\">           </span><span style=\"color: #808000; text-decoration-color: #808000\">Saving Node: password</span>                                                                      <a href=\"file:///app/src/formkit_ninja/models.py\" target=\"_blank\"><span style=\"color: #7f7f7f; text-decoration-color: #7f7f7f\">models.py</span></a><span style=\"color: #7f7f7f; text-decoration-color: #7f7f7f\">:</span><a href=\"file:///app/src/formkit_ninja/models.py#765\" target=\"_blank\"><span style=\"color: #7f7f7f; text-decoration-color: #7f7f7f\">765</span></a>\n",
       "</pre>\n"
      ],
      "text/plain": [
       "\u001b[2;36m          \u001b[0m\u001b[2;36m \u001b[0m\u001b[33mSaving Node: password\u001b[0m                                                                      \u001b]8;id=516257;file:///app/src/formkit_ninja/models.py\u001b\\\u001b[2mmodels.py\u001b[0m\u001b]8;;\u001b\\\u001b[2m:\u001b[0m\u001b]8;id=621207;file:///app/src/formkit_ninja/models.py#765\u001b\\\u001b[2m765\u001b[0m\u001b]8;;\u001b\\\n"
      ]
     },
     "metadata": {},
     "output_type": "display_data"
    },
    {
     "data": {
      "text/html": [
       "<pre style=\"white-space:pre;overflow-x:auto;line-height:normal;font-family:Menlo,'DejaVu Sans Mono',consolas,'Courier New',monospace\"><span style=\"color: #7fbfbf; text-decoration-color: #7fbfbf\">           </span><span style=\"color: #008000; text-decoration-color: #008000\">Creating  </span><span style=\"color: #008000; text-decoration-color: #008000\">e1589784-57d7-46eb-acf0-741dbecde066</span>                                             <a href=\"file:///app/src/formkit_ninja/models.py\" target=\"_blank\"><span style=\"color: #7f7f7f; text-decoration-color: #7f7f7f\">models.py</span></a><span style=\"color: #7f7f7f; text-decoration-color: #7f7f7f\">:</span><a href=\"file:///app/src/formkit_ninja/models.py#571\" target=\"_blank\"><span style=\"color: #7f7f7f; text-decoration-color: #7f7f7f\">571</span></a>\n",
       "</pre>\n"
      ],
      "text/plain": [
       "\u001b[2;36m          \u001b[0m\u001b[2;36m \u001b[0m\u001b[32mCreating  \u001b[0m\u001b[32me1589784-57d7-46eb-acf0-741dbecde066\u001b[0m                                             \u001b]8;id=971701;file:///app/src/formkit_ninja/models.py\u001b\\\u001b[2mmodels.py\u001b[0m\u001b]8;;\u001b\\\u001b[2m:\u001b[0m\u001b]8;id=507779;file:///app/src/formkit_ninja/models.py#571\u001b\\\u001b[2m571\u001b[0m\u001b]8;;\u001b\\\n"
      ]
     },
     "metadata": {},
     "output_type": "display_data"
    },
    {
     "data": {
      "text/html": [
       "<pre style=\"white-space:pre;overflow-x:auto;line-height:normal;font-family:Menlo,'DejaVu Sans Mono',consolas,'Courier New',monospace\"><span style=\"color: #7fbfbf; text-decoration-color: #7fbfbf\">           </span><span style=\"color: #008000; text-decoration-color: #008000\">Yielding: Node: password_confirm</span>                                                           <a href=\"file:///app/src/formkit_ninja/models.py\" target=\"_blank\"><span style=\"color: #7f7f7f; text-decoration-color: #7f7f7f\">models.py</span></a><span style=\"color: #7f7f7f; text-decoration-color: #7f7f7f\">:</span><a href=\"file:///app/src/formkit_ninja/models.py#593\" target=\"_blank\"><span style=\"color: #7f7f7f; text-decoration-color: #7f7f7f\">593</span></a>\n",
       "</pre>\n"
      ],
      "text/plain": [
       "\u001b[2;36m          \u001b[0m\u001b[2;36m \u001b[0m\u001b[32mYielding: Node: password_confirm\u001b[0m                                                           \u001b]8;id=991247;file:///app/src/formkit_ninja/models.py\u001b\\\u001b[2mmodels.py\u001b[0m\u001b]8;;\u001b\\\u001b[2m:\u001b[0m\u001b]8;id=387056;file:///app/src/formkit_ninja/models.py#593\u001b\\\u001b[2m593\u001b[0m\u001b]8;;\u001b\\\n"
      ]
     },
     "metadata": {},
     "output_type": "display_data"
    },
    {
     "data": {
      "text/html": [
       "<pre style=\"white-space:pre;overflow-x:auto;line-height:normal;font-family:Menlo,'DejaVu Sans Mono',consolas,'Courier New',monospace\"><span style=\"color: #7fbfbf; text-decoration-color: #7fbfbf\">           </span><span style=\"color: #808000; text-decoration-color: #808000\">Saving Node: password_confirm</span>                                                              <a href=\"file:///app/src/formkit_ninja/models.py\" target=\"_blank\"><span style=\"color: #7f7f7f; text-decoration-color: #7f7f7f\">models.py</span></a><span style=\"color: #7f7f7f; text-decoration-color: #7f7f7f\">:</span><a href=\"file:///app/src/formkit_ninja/models.py#765\" target=\"_blank\"><span style=\"color: #7f7f7f; text-decoration-color: #7f7f7f\">765</span></a>\n",
       "</pre>\n"
      ],
      "text/plain": [
       "\u001b[2;36m          \u001b[0m\u001b[2;36m \u001b[0m\u001b[33mSaving Node: password_confirm\u001b[0m                                                              \u001b]8;id=345720;file:///app/src/formkit_ninja/models.py\u001b\\\u001b[2mmodels.py\u001b[0m\u001b]8;;\u001b\\\u001b[2m:\u001b[0m\u001b]8;id=320894;file:///app/src/formkit_ninja/models.py#765\u001b\\\u001b[2m765\u001b[0m\u001b]8;;\u001b\\\n"
      ]
     },
     "metadata": {},
     "output_type": "display_data"
    },
    {
     "data": {
      "text/html": [
       "<pre style=\"white-space:pre;overflow-x:auto;line-height:normal;font-family:Menlo,'DejaVu Sans Mono',consolas,'Courier New',monospace\"><span style=\"color: #7fbfbf; text-decoration-color: #7fbfbf\">[03:34:34] </span><span style=\"color: #008000; text-decoration-color: #008000\">Creating  </span><span style=\"color: #008000; text-decoration-color: #008000\">8c4c2567-0293-4072-99a4-5600c9770fdc</span>                                             <a href=\"file:///app/src/formkit_ninja/models.py\" target=\"_blank\"><span style=\"color: #7f7f7f; text-decoration-color: #7f7f7f\">models.py</span></a><span style=\"color: #7f7f7f; text-decoration-color: #7f7f7f\">:</span><a href=\"file:///app/src/formkit_ninja/models.py#571\" target=\"_blank\"><span style=\"color: #7f7f7f; text-decoration-color: #7f7f7f\">571</span></a>\n",
       "</pre>\n"
      ],
      "text/plain": [
       "\u001b[2;36m[03:34:34]\u001b[0m\u001b[2;36m \u001b[0m\u001b[32mCreating  \u001b[0m\u001b[32m8c4c2567-0293-4072-99a4-5600c9770fdc\u001b[0m                                             \u001b]8;id=775159;file:///app/src/formkit_ninja/models.py\u001b\\\u001b[2mmodels.py\u001b[0m\u001b]8;;\u001b\\\u001b[2m:\u001b[0m\u001b]8;id=359891;file:///app/src/formkit_ninja/models.py#571\u001b\\\u001b[2m571\u001b[0m\u001b]8;;\u001b\\\n"
      ]
     },
     "metadata": {},
     "output_type": "display_data"
    },
    {
     "data": {
      "text/html": [
       "<pre style=\"white-space:pre;overflow-x:auto;line-height:normal;font-family:Menlo,'DejaVu Sans Mono',consolas,'Courier New',monospace\"><span style=\"color: #7fbfbf; text-decoration-color: #7fbfbf\">           </span><span style=\"color: #008000; text-decoration-color: #008000\">Yielding: $cmp </span><span style=\"color: #008000; text-decoration-color: #008000\">8c4c2567-0293-4072-99a4-5600c9770fdc</span>                                        <a href=\"file:///app/src/formkit_ninja/models.py\" target=\"_blank\"><span style=\"color: #7f7f7f; text-decoration-color: #7f7f7f\">models.py</span></a><span style=\"color: #7f7f7f; text-decoration-color: #7f7f7f\">:</span><a href=\"file:///app/src/formkit_ninja/models.py#593\" target=\"_blank\"><span style=\"color: #7f7f7f; text-decoration-color: #7f7f7f\">593</span></a>\n",
       "</pre>\n"
      ],
      "text/plain": [
       "\u001b[2;36m          \u001b[0m\u001b[2;36m \u001b[0m\u001b[32mYielding: $cmp \u001b[0m\u001b[32m8c4c2567-0293-4072-99a4-5600c9770fdc\u001b[0m                                        \u001b]8;id=651436;file:///app/src/formkit_ninja/models.py\u001b\\\u001b[2mmodels.py\u001b[0m\u001b]8;;\u001b\\\u001b[2m:\u001b[0m\u001b]8;id=636575;file:///app/src/formkit_ninja/models.py#593\u001b\\\u001b[2m593\u001b[0m\u001b]8;;\u001b\\\n"
      ]
     },
     "metadata": {},
     "output_type": "display_data"
    },
    {
     "data": {
      "text/html": [
       "<pre style=\"white-space:pre;overflow-x:auto;line-height:normal;font-family:Menlo,'DejaVu Sans Mono',consolas,'Courier New',monospace\"><span style=\"color: #7fbfbf; text-decoration-color: #7fbfbf\">           </span><span style=\"color: #808000; text-decoration-color: #808000\">Saving $cmp </span><span style=\"color: #808000; text-decoration-color: #808000\">8c4c2567-0293-4072-99a4-5600c9770fdc</span>                                           <a href=\"file:///app/src/formkit_ninja/models.py\" target=\"_blank\"><span style=\"color: #7f7f7f; text-decoration-color: #7f7f7f\">models.py</span></a><span style=\"color: #7f7f7f; text-decoration-color: #7f7f7f\">:</span><a href=\"file:///app/src/formkit_ninja/models.py#765\" target=\"_blank\"><span style=\"color: #7f7f7f; text-decoration-color: #7f7f7f\">765</span></a>\n",
       "</pre>\n"
      ],
      "text/plain": [
       "\u001b[2;36m          \u001b[0m\u001b[2;36m \u001b[0m\u001b[33mSaving $cmp \u001b[0m\u001b[33m8c4c2567-0293-4072-99a4-5600c9770fdc\u001b[0m                                           \u001b]8;id=871595;file:///app/src/formkit_ninja/models.py\u001b\\\u001b[2mmodels.py\u001b[0m\u001b]8;;\u001b\\\u001b[2m:\u001b[0m\u001b]8;id=298622;file:///app/src/formkit_ninja/models.py#765\u001b\\\u001b[2m765\u001b[0m\u001b]8;;\u001b\\\n"
      ]
     },
     "metadata": {},
     "output_type": "display_data"
    },
    {
     "data": {
      "text/html": [
       "<pre style=\"white-space:pre;overflow-x:auto;line-height:normal;font-family:Menlo,'DejaVu Sans Mono',consolas,'Courier New',monospace\"><span style=\"color: #7fbfbf; text-decoration-color: #7fbfbf\">           </span><span style=\"color: #008000; text-decoration-color: #008000\">Creating  </span><span style=\"color: #008000; text-decoration-color: #008000\">bcf095a2-dd18-4999-9b28-cc454598356f</span>                                             <a href=\"file:///app/src/formkit_ninja/models.py\" target=\"_blank\"><span style=\"color: #7f7f7f; text-decoration-color: #7f7f7f\">models.py</span></a><span style=\"color: #7f7f7f; text-decoration-color: #7f7f7f\">:</span><a href=\"file:///app/src/formkit_ninja/models.py#571\" target=\"_blank\"><span style=\"color: #7f7f7f; text-decoration-color: #7f7f7f\">571</span></a>\n",
       "</pre>\n"
      ],
      "text/plain": [
       "\u001b[2;36m          \u001b[0m\u001b[2;36m \u001b[0m\u001b[32mCreating  \u001b[0m\u001b[32mbcf095a2-dd18-4999-9b28-cc454598356f\u001b[0m                                             \u001b]8;id=170266;file:///app/src/formkit_ninja/models.py\u001b\\\u001b[2mmodels.py\u001b[0m\u001b]8;;\u001b\\\u001b[2m:\u001b[0m\u001b]8;id=254117;file:///app/src/formkit_ninja/models.py#571\u001b\\\u001b[2m571\u001b[0m\u001b]8;;\u001b\\\n"
      ]
     },
     "metadata": {},
     "output_type": "display_data"
    },
    {
     "data": {
      "text/html": [
       "<pre style=\"white-space:pre;overflow-x:auto;line-height:normal;font-family:Menlo,'DejaVu Sans Mono',consolas,'Courier New',monospace\"><span style=\"color: #7fbfbf; text-decoration-color: #7fbfbf\">           </span><span style=\"color: #008000; text-decoration-color: #008000\">Yielding: Node: cookie_notice</span>                                                              <a href=\"file:///app/src/formkit_ninja/models.py\" target=\"_blank\"><span style=\"color: #7f7f7f; text-decoration-color: #7f7f7f\">models.py</span></a><span style=\"color: #7f7f7f; text-decoration-color: #7f7f7f\">:</span><a href=\"file:///app/src/formkit_ninja/models.py#593\" target=\"_blank\"><span style=\"color: #7f7f7f; text-decoration-color: #7f7f7f\">593</span></a>\n",
       "</pre>\n"
      ],
      "text/plain": [
       "\u001b[2;36m          \u001b[0m\u001b[2;36m \u001b[0m\u001b[32mYielding: Node: cookie_notice\u001b[0m                                                              \u001b]8;id=22832;file:///app/src/formkit_ninja/models.py\u001b\\\u001b[2mmodels.py\u001b[0m\u001b]8;;\u001b\\\u001b[2m:\u001b[0m\u001b]8;id=978479;file:///app/src/formkit_ninja/models.py#593\u001b\\\u001b[2m593\u001b[0m\u001b]8;;\u001b\\\n"
      ]
     },
     "metadata": {},
     "output_type": "display_data"
    },
    {
     "data": {
      "text/html": [
       "<pre style=\"white-space:pre;overflow-x:auto;line-height:normal;font-family:Menlo,'DejaVu Sans Mono',consolas,'Courier New',monospace\"><span style=\"color: #7fbfbf; text-decoration-color: #7fbfbf\">           </span><span style=\"color: #808000; text-decoration-color: #808000\">Saving Node: cookie_notice</span>                                                                 <a href=\"file:///app/src/formkit_ninja/models.py\" target=\"_blank\"><span style=\"color: #7f7f7f; text-decoration-color: #7f7f7f\">models.py</span></a><span style=\"color: #7f7f7f; text-decoration-color: #7f7f7f\">:</span><a href=\"file:///app/src/formkit_ninja/models.py#765\" target=\"_blank\"><span style=\"color: #7f7f7f; text-decoration-color: #7f7f7f\">765</span></a>\n",
       "</pre>\n"
      ],
      "text/plain": [
       "\u001b[2;36m          \u001b[0m\u001b[2;36m \u001b[0m\u001b[33mSaving Node: cookie_notice\u001b[0m                                                                 \u001b]8;id=697387;file:///app/src/formkit_ninja/models.py\u001b\\\u001b[2mmodels.py\u001b[0m\u001b]8;;\u001b\\\u001b[2m:\u001b[0m\u001b]8;id=557222;file:///app/src/formkit_ninja/models.py#765\u001b\\\u001b[2m765\u001b[0m\u001b]8;;\u001b\\\n"
      ]
     },
     "metadata": {},
     "output_type": "display_data"
    },
    {
     "data": {
      "text/html": [
       "<pre style=\"white-space:pre;overflow-x:auto;line-height:normal;font-family:Menlo,'DejaVu Sans Mono',consolas,'Courier New',monospace\"><span style=\"color: #ffff00; text-decoration-color: #ffff00\">fb684b7f-b1d7-4ec3-af0e-ec32a511e57a</span>\n",
       "</pre>\n"
      ],
      "text/plain": [
       "\u001b[93mfb684b7f-b1d7-4ec3-af0e-ec32a511e57a\u001b[0m\n"
      ]
     },
     "metadata": {},
     "output_type": "display_data"
    }
   ],
   "source": [
    "from formkit_ninja.formkit_schema import DiscriminatedNodeTypeSchema\n",
    "from formkit_ninja.models import FormKitSchema\n",
    "\n",
    "# Our \"schema\"\n",
    "\n",
    "schema_as_pydantic = DiscriminatedNodeTypeSchema(schema_as_js)\n",
    "\n",
    "\n",
    "\n",
    "nodes = FormKitSchema.from_pydantic(schema_as_pydantic)\n",
    "print(nodes)"
   ]
  },
  {
   "cell_type": "code",
   "execution_count": 18,
   "metadata": {},
   "outputs": [
    {
     "data": {
      "text/plain": [
       "<PublishedForm: fb684b7f-b1d7-4ec3-af0e-ec32a511e57a (published: 2025-04-04 - current)>"
      ]
     },
     "execution_count": 18,
     "metadata": {},
     "output_type": "execute_result"
    }
   ],
   "source": [
    "nodes.publish()"
   ]
  },
  {
   "cell_type": "code",
   "execution_count": 19,
   "metadata": {},
   "outputs": [
    {
     "data": {
      "text/plain": [
       "<FormKitSchema: fb684b7f-b1d7-4ec3-af0e-ec32a511e57a>"
      ]
     },
     "execution_count": 19,
     "metadata": {},
     "output_type": "execute_result"
    }
   ],
   "source": [
    "nodes"
   ]
  },
  {
   "cell_type": "code",
   "execution_count": 20,
   "metadata": {},
   "outputs": [
    {
     "data": {
      "text/html": [
       "<pre style=\"white-space:pre;overflow-x:auto;line-height:normal;font-family:Menlo,'DejaVu Sans Mono',consolas,'Courier New',monospace\">┏━━━━━━━━━━━━━━━━━┳━━━━━━━━━━━━━━━┳━━━━━━━━━━━━━━━┳━━━━━━━━━━━━━━━┳━━━━━━━━━━━━━━━┳━━━━━━━━━━━━━━━┳━━━━━━━━━━━━━━━┓\n",
       "┃<span style=\"font-weight: bold\"> Index           </span>┃<span style=\"font-weight: bold\"> 0             </span>┃<span style=\"font-weight: bold\"> 1             </span>┃<span style=\"font-weight: bold\"> 2             </span>┃<span style=\"font-weight: bold\"> 3             </span>┃<span style=\"font-weight: bold\"> 4             </span>┃<span style=\"font-weight: bold\"> 5             </span>┃\n",
       "┡━━━━━━━━━━━━━━━━━╇━━━━━━━━━━━━━━━╇━━━━━━━━━━━━━━━╇━━━━━━━━━━━━━━━╇━━━━━━━━━━━━━━━╇━━━━━━━━━━━━━━━╇━━━━━━━━━━━━━━━┩\n",
       "│<span style=\"color: #008080; text-decoration-color: #008080\"> $cmp            </span>│<span style=\"color: #800080; text-decoration-color: #800080\">               </span>│<span style=\"color: #800080; text-decoration-color: #800080\">               </span>│<span style=\"color: #800080; text-decoration-color: #800080\">               </span>│<span style=\"color: #800080; text-decoration-color: #800080\">               </span>│<span style=\"color: #800080; text-decoration-color: #800080\"> FormKit       </span>│<span style=\"color: #800080; text-decoration-color: #800080\">               </span>│\n",
       "│<span style=\"color: #008080; text-decoration-color: #008080\"> $el             </span>│<span style=\"color: #800080; text-decoration-color: #800080\"> h1            </span>│<span style=\"color: #800080; text-decoration-color: #800080\">               </span>│<span style=\"color: #800080; text-decoration-color: #800080\">               </span>│<span style=\"color: #800080; text-decoration-color: #800080\">               </span>│<span style=\"color: #800080; text-decoration-color: #800080\">               </span>│<span style=\"color: #800080; text-decoration-color: #800080\">               </span>│\n",
       "│<span style=\"color: #008080; text-decoration-color: #008080\"> $formkit        </span>│<span style=\"color: #800080; text-decoration-color: #800080\">               </span>│<span style=\"color: #800080; text-decoration-color: #800080\"> text          </span>│<span style=\"color: #800080; text-decoration-color: #800080\"> password      </span>│<span style=\"color: #800080; text-decoration-color: #800080\"> password      </span>│<span style=\"color: #800080; text-decoration-color: #800080\">               </span>│<span style=\"color: #800080; text-decoration-color: #800080\"> select        </span>│\n",
       "│<span style=\"color: #008080; text-decoration-color: #008080\"> attrs           </span>│<span style=\"color: #800080; text-decoration-color: #800080\"> {'class':     </span>│<span style=\"color: #800080; text-decoration-color: #800080\">               </span>│<span style=\"color: #800080; text-decoration-color: #800080\">               </span>│<span style=\"color: #800080; text-decoration-color: #800080\">               </span>│<span style=\"color: #800080; text-decoration-color: #800080\">               </span>│<span style=\"color: #800080; text-decoration-color: #800080\">               </span>│\n",
       "│<span style=\"color: #008080; text-decoration-color: #008080\">                 </span>│<span style=\"color: #800080; text-decoration-color: #800080\"> 'text-2xl     </span>│<span style=\"color: #800080; text-decoration-color: #800080\">               </span>│<span style=\"color: #800080; text-decoration-color: #800080\">               </span>│<span style=\"color: #800080; text-decoration-color: #800080\">               </span>│<span style=\"color: #800080; text-decoration-color: #800080\">               </span>│<span style=\"color: #800080; text-decoration-color: #800080\">               </span>│\n",
       "│<span style=\"color: #008080; text-decoration-color: #008080\">                 </span>│<span style=\"color: #800080; text-decoration-color: #800080\"> font-bold     </span>│<span style=\"color: #800080; text-decoration-color: #800080\">               </span>│<span style=\"color: #800080; text-decoration-color: #800080\">               </span>│<span style=\"color: #800080; text-decoration-color: #800080\">               </span>│<span style=\"color: #800080; text-decoration-color: #800080\">               </span>│<span style=\"color: #800080; text-decoration-color: #800080\">               </span>│\n",
       "│<span style=\"color: #008080; text-decoration-color: #008080\">                 </span>│<span style=\"color: #800080; text-decoration-color: #800080\"> mb-4'}        </span>│<span style=\"color: #800080; text-decoration-color: #800080\">               </span>│<span style=\"color: #800080; text-decoration-color: #800080\">               </span>│<span style=\"color: #800080; text-decoration-color: #800080\">               </span>│<span style=\"color: #800080; text-decoration-color: #800080\">               </span>│<span style=\"color: #800080; text-decoration-color: #800080\">               </span>│\n",
       "│<span style=\"color: #008080; text-decoration-color: #008080\"> children        </span>│<span style=\"color: #800080; text-decoration-color: #800080\"> Register      </span>│<span style=\"color: #800080; text-decoration-color: #800080\">               </span>│<span style=\"color: #800080; text-decoration-color: #800080\">               </span>│<span style=\"color: #800080; text-decoration-color: #800080\">               </span>│<span style=\"color: #800080; text-decoration-color: #800080\">               </span>│<span style=\"color: #800080; text-decoration-color: #800080\">               </span>│\n",
       "│<span style=\"color: #008080; text-decoration-color: #008080\"> help            </span>│<span style=\"color: #800080; text-decoration-color: #800080\">               </span>│<span style=\"color: #800080; text-decoration-color: #800080\"> This will be  </span>│<span style=\"color: #800080; text-decoration-color: #800080\"> Enter your    </span>│<span style=\"color: #800080; text-decoration-color: #800080\"> Enter your    </span>│<span style=\"color: #800080; text-decoration-color: #800080\">               </span>│<span style=\"color: #800080; text-decoration-color: #800080\"> How often     </span>│\n",
       "│<span style=\"color: #008080; text-decoration-color: #008080\">                 </span>│<span style=\"color: #800080; text-decoration-color: #800080\">               </span>│<span style=\"color: #800080; text-decoration-color: #800080\"> used for your </span>│<span style=\"color: #800080; text-decoration-color: #800080\"> new password. </span>│<span style=\"color: #800080; text-decoration-color: #800080\"> new password  </span>│<span style=\"color: #800080; text-decoration-color: #800080\">               </span>│<span style=\"color: #800080; text-decoration-color: #800080\"> should we     </span>│\n",
       "│<span style=\"color: #008080; text-decoration-color: #008080\">                 </span>│<span style=\"color: #800080; text-decoration-color: #800080\">               </span>│<span style=\"color: #800080; text-decoration-color: #800080\"> account.      </span>│<span style=\"color: #800080; text-decoration-color: #800080\">               </span>│<span style=\"color: #800080; text-decoration-color: #800080\"> again to      </span>│<span style=\"color: #800080; text-decoration-color: #800080\">               </span>│<span style=\"color: #800080; text-decoration-color: #800080\"> display a     </span>│\n",
       "│<span style=\"color: #008080; text-decoration-color: #008080\">                 </span>│<span style=\"color: #800080; text-decoration-color: #800080\">               </span>│<span style=\"color: #800080; text-decoration-color: #800080\">               </span>│<span style=\"color: #800080; text-decoration-color: #800080\">               </span>│<span style=\"color: #800080; text-decoration-color: #800080\"> confirm it.   </span>│<span style=\"color: #800080; text-decoration-color: #800080\">               </span>│<span style=\"color: #800080; text-decoration-color: #800080\"> cookie        </span>│\n",
       "│<span style=\"color: #008080; text-decoration-color: #008080\">                 </span>│<span style=\"color: #800080; text-decoration-color: #800080\">               </span>│<span style=\"color: #800080; text-decoration-color: #800080\">               </span>│<span style=\"color: #800080; text-decoration-color: #800080\">               </span>│<span style=\"color: #800080; text-decoration-color: #800080\">               </span>│<span style=\"color: #800080; text-decoration-color: #800080\">               </span>│<span style=\"color: #800080; text-decoration-color: #800080\"> notice?       </span>│\n",
       "│<span style=\"color: #008080; text-decoration-color: #008080\"> if              </span>│<span style=\"color: #800080; text-decoration-color: #800080\">               </span>│<span style=\"color: #800080; text-decoration-color: #800080\">               </span>│<span style=\"color: #800080; text-decoration-color: #800080\">               </span>│<span style=\"color: #800080; text-decoration-color: #800080\">               </span>│<span style=\"color: #800080; text-decoration-color: #800080\">               </span>│<span style=\"color: #800080; text-decoration-color: #800080\"> $get(eu).val… </span>│\n",
       "│<span style=\"color: #008080; text-decoration-color: #008080\"> label           </span>│<span style=\"color: #800080; text-decoration-color: #800080\">               </span>│<span style=\"color: #800080; text-decoration-color: #800080\"> Email         </span>│<span style=\"color: #800080; text-decoration-color: #800080\"> Password      </span>│<span style=\"color: #800080; text-decoration-color: #800080\"> Confirm       </span>│<span style=\"color: #800080; text-decoration-color: #800080\">               </span>│<span style=\"color: #800080; text-decoration-color: #800080\"> Cookie notice </span>│\n",
       "│<span style=\"color: #008080; text-decoration-color: #008080\">                 </span>│<span style=\"color: #800080; text-decoration-color: #800080\">               </span>│<span style=\"color: #800080; text-decoration-color: #800080\">               </span>│<span style=\"color: #800080; text-decoration-color: #800080\">               </span>│<span style=\"color: #800080; text-decoration-color: #800080\"> password      </span>│<span style=\"color: #800080; text-decoration-color: #800080\">               </span>│<span style=\"color: #800080; text-decoration-color: #800080\"> frequency     </span>│\n",
       "│<span style=\"color: #008080; text-decoration-color: #008080\"> name            </span>│<span style=\"color: #800080; text-decoration-color: #800080\">               </span>│<span style=\"color: #800080; text-decoration-color: #800080\"> email         </span>│<span style=\"color: #800080; text-decoration-color: #800080\"> password      </span>│<span style=\"color: #800080; text-decoration-color: #800080\"> password_con… </span>│<span style=\"color: #800080; text-decoration-color: #800080\">               </span>│<span style=\"color: #800080; text-decoration-color: #800080\"> cookie_notice </span>│\n",
       "│<span style=\"color: #008080; text-decoration-color: #008080\"> options         </span>│<span style=\"color: #800080; text-decoration-color: #800080\">               </span>│<span style=\"color: #800080; text-decoration-color: #800080\">               </span>│<span style=\"color: #800080; text-decoration-color: #800080\">               </span>│<span style=\"color: #800080; text-decoration-color: #800080\">               </span>│<span style=\"color: #800080; text-decoration-color: #800080\">               </span>│<span style=\"color: #800080; text-decoration-color: #800080\"> {'refresh':   </span>│\n",
       "│<span style=\"color: #008080; text-decoration-color: #008080\">                 </span>│<span style=\"color: #800080; text-decoration-color: #800080\">               </span>│<span style=\"color: #800080; text-decoration-color: #800080\">               </span>│<span style=\"color: #800080; text-decoration-color: #800080\">               </span>│<span style=\"color: #800080; text-decoration-color: #800080\">               </span>│<span style=\"color: #800080; text-decoration-color: #800080\">               </span>│<span style=\"color: #800080; text-decoration-color: #800080\"> 'Every page   </span>│\n",
       "│<span style=\"color: #008080; text-decoration-color: #008080\">                 </span>│<span style=\"color: #800080; text-decoration-color: #800080\">               </span>│<span style=\"color: #800080; text-decoration-color: #800080\">               </span>│<span style=\"color: #800080; text-decoration-color: #800080\">               </span>│<span style=\"color: #800080; text-decoration-color: #800080\">               </span>│<span style=\"color: #800080; text-decoration-color: #800080\">               </span>│<span style=\"color: #800080; text-decoration-color: #800080\"> load',        </span>│\n",
       "│<span style=\"color: #008080; text-decoration-color: #008080\">                 </span>│<span style=\"color: #800080; text-decoration-color: #800080\">               </span>│<span style=\"color: #800080; text-decoration-color: #800080\">               </span>│<span style=\"color: #800080; text-decoration-color: #800080\">               </span>│<span style=\"color: #800080; text-decoration-color: #800080\">               </span>│<span style=\"color: #800080; text-decoration-color: #800080\">               </span>│<span style=\"color: #800080; text-decoration-color: #800080\"> 'hourly':     </span>│\n",
       "│<span style=\"color: #008080; text-decoration-color: #008080\">                 </span>│<span style=\"color: #800080; text-decoration-color: #800080\">               </span>│<span style=\"color: #800080; text-decoration-color: #800080\">               </span>│<span style=\"color: #800080; text-decoration-color: #800080\">               </span>│<span style=\"color: #800080; text-decoration-color: #800080\">               </span>│<span style=\"color: #800080; text-decoration-color: #800080\">               </span>│<span style=\"color: #800080; text-decoration-color: #800080\"> 'Ever hour',  </span>│\n",
       "│<span style=\"color: #008080; text-decoration-color: #008080\">                 </span>│<span style=\"color: #800080; text-decoration-color: #800080\">               </span>│<span style=\"color: #800080; text-decoration-color: #800080\">               </span>│<span style=\"color: #800080; text-decoration-color: #800080\">               </span>│<span style=\"color: #800080; text-decoration-color: #800080\">               </span>│<span style=\"color: #800080; text-decoration-color: #800080\">               </span>│<span style=\"color: #800080; text-decoration-color: #800080\"> 'daily':      </span>│\n",
       "│<span style=\"color: #008080; text-decoration-color: #008080\">                 </span>│<span style=\"color: #800080; text-decoration-color: #800080\">               </span>│<span style=\"color: #800080; text-decoration-color: #800080\">               </span>│<span style=\"color: #800080; text-decoration-color: #800080\">               </span>│<span style=\"color: #800080; text-decoration-color: #800080\">               </span>│<span style=\"color: #800080; text-decoration-color: #800080\">               </span>│<span style=\"color: #800080; text-decoration-color: #800080\"> 'Every day'}  </span>│\n",
       "│<span style=\"color: #008080; text-decoration-color: #008080\"> props           </span>│<span style=\"color: #800080; text-decoration-color: #800080\">               </span>│<span style=\"color: #800080; text-decoration-color: #800080\">               </span>│<span style=\"color: #800080; text-decoration-color: #800080\">               </span>│<span style=\"color: #800080; text-decoration-color: #800080\">               </span>│<span style=\"color: #800080; text-decoration-color: #800080\"> {'name':      </span>│<span style=\"color: #800080; text-decoration-color: #800080\">               </span>│\n",
       "│<span style=\"color: #008080; text-decoration-color: #008080\">                 </span>│<span style=\"color: #800080; text-decoration-color: #800080\">               </span>│<span style=\"color: #800080; text-decoration-color: #800080\">               </span>│<span style=\"color: #800080; text-decoration-color: #800080\">               </span>│<span style=\"color: #800080; text-decoration-color: #800080\">               </span>│<span style=\"color: #800080; text-decoration-color: #800080\"> 'eu_citizen', </span>│<span style=\"color: #800080; text-decoration-color: #800080\">               </span>│\n",
       "│<span style=\"color: #008080; text-decoration-color: #008080\">                 </span>│<span style=\"color: #800080; text-decoration-color: #800080\">               </span>│<span style=\"color: #800080; text-decoration-color: #800080\">               </span>│<span style=\"color: #800080; text-decoration-color: #800080\">               </span>│<span style=\"color: #800080; text-decoration-color: #800080\">               </span>│<span style=\"color: #800080; text-decoration-color: #800080\"> 'type':       </span>│<span style=\"color: #800080; text-decoration-color: #800080\">               </span>│\n",
       "│<span style=\"color: #008080; text-decoration-color: #008080\">                 </span>│<span style=\"color: #800080; text-decoration-color: #800080\">               </span>│<span style=\"color: #800080; text-decoration-color: #800080\">               </span>│<span style=\"color: #800080; text-decoration-color: #800080\">               </span>│<span style=\"color: #800080; text-decoration-color: #800080\">               </span>│<span style=\"color: #800080; text-decoration-color: #800080\"> 'checkbox',   </span>│<span style=\"color: #800080; text-decoration-color: #800080\">               </span>│\n",
       "│<span style=\"color: #008080; text-decoration-color: #008080\">                 </span>│<span style=\"color: #800080; text-decoration-color: #800080\">               </span>│<span style=\"color: #800080; text-decoration-color: #800080\">               </span>│<span style=\"color: #800080; text-decoration-color: #800080\">               </span>│<span style=\"color: #800080; text-decoration-color: #800080\">               </span>│<span style=\"color: #800080; text-decoration-color: #800080\"> 'id': 'eu',   </span>│<span style=\"color: #800080; text-decoration-color: #800080\">               </span>│\n",
       "│<span style=\"color: #008080; text-decoration-color: #008080\">                 </span>│<span style=\"color: #800080; text-decoration-color: #800080\">               </span>│<span style=\"color: #800080; text-decoration-color: #800080\">               </span>│<span style=\"color: #800080; text-decoration-color: #800080\">               </span>│<span style=\"color: #800080; text-decoration-color: #800080\">               </span>│<span style=\"color: #800080; text-decoration-color: #800080\"> 'label': 'Are </span>│<span style=\"color: #800080; text-decoration-color: #800080\">               </span>│\n",
       "│<span style=\"color: #008080; text-decoration-color: #008080\">                 </span>│<span style=\"color: #800080; text-decoration-color: #800080\">               </span>│<span style=\"color: #800080; text-decoration-color: #800080\">               </span>│<span style=\"color: #800080; text-decoration-color: #800080\">               </span>│<span style=\"color: #800080; text-decoration-color: #800080\">               </span>│<span style=\"color: #800080; text-decoration-color: #800080\"> you a         </span>│<span style=\"color: #800080; text-decoration-color: #800080\">               </span>│\n",
       "│<span style=\"color: #008080; text-decoration-color: #008080\">                 </span>│<span style=\"color: #800080; text-decoration-color: #800080\">               </span>│<span style=\"color: #800080; text-decoration-color: #800080\">               </span>│<span style=\"color: #800080; text-decoration-color: #800080\">               </span>│<span style=\"color: #800080; text-decoration-color: #800080\">               </span>│<span style=\"color: #800080; text-decoration-color: #800080\"> european      </span>│<span style=\"color: #800080; text-decoration-color: #800080\">               </span>│\n",
       "│<span style=\"color: #008080; text-decoration-color: #008080\">                 </span>│<span style=\"color: #800080; text-decoration-color: #800080\">               </span>│<span style=\"color: #800080; text-decoration-color: #800080\">               </span>│<span style=\"color: #800080; text-decoration-color: #800080\">               </span>│<span style=\"color: #800080; text-decoration-color: #800080\">               </span>│<span style=\"color: #800080; text-decoration-color: #800080\"> citizen?'}    </span>│<span style=\"color: #800080; text-decoration-color: #800080\">               </span>│\n",
       "│<span style=\"color: #008080; text-decoration-color: #008080\"> validation      </span>│<span style=\"color: #800080; text-decoration-color: #800080\">               </span>│<span style=\"color: #800080; text-decoration-color: #800080\"> required|ema… </span>│<span style=\"color: #800080; text-decoration-color: #800080\"> required|len… </span>│<span style=\"color: #800080; text-decoration-color: #800080\"> required|con… </span>│<span style=\"color: #800080; text-decoration-color: #800080\">               </span>│<span style=\"color: #800080; text-decoration-color: #800080\">               </span>│\n",
       "│<span style=\"color: #008080; text-decoration-color: #008080\"> validationLabel </span>│<span style=\"color: #800080; text-decoration-color: #800080\">               </span>│<span style=\"color: #800080; text-decoration-color: #800080\">               </span>│<span style=\"color: #800080; text-decoration-color: #800080\">               </span>│<span style=\"color: #800080; text-decoration-color: #800080\"> password      </span>│<span style=\"color: #800080; text-decoration-color: #800080\">               </span>│<span style=\"color: #800080; text-decoration-color: #800080\">               </span>│\n",
       "│<span style=\"color: #008080; text-decoration-color: #008080\">                 </span>│<span style=\"color: #800080; text-decoration-color: #800080\">               </span>│<span style=\"color: #800080; text-decoration-color: #800080\">               </span>│<span style=\"color: #800080; text-decoration-color: #800080\">               </span>│<span style=\"color: #800080; text-decoration-color: #800080\"> confirmation  </span>│<span style=\"color: #800080; text-decoration-color: #800080\">               </span>│<span style=\"color: #800080; text-decoration-color: #800080\">               </span>│\n",
       "└─────────────────┴───────────────┴───────────────┴───────────────┴───────────────┴───────────────┴───────────────┘\n",
       "</pre>\n"
      ],
      "text/plain": [
       "┏━━━━━━━━━━━━━━━━━┳━━━━━━━━━━━━━━━┳━━━━━━━━━━━━━━━┳━━━━━━━━━━━━━━━┳━━━━━━━━━━━━━━━┳━━━━━━━━━━━━━━━┳━━━━━━━━━━━━━━━┓\n",
       "┃\u001b[1m \u001b[0m\u001b[1mIndex          \u001b[0m\u001b[1m \u001b[0m┃\u001b[1m \u001b[0m\u001b[1m0            \u001b[0m\u001b[1m \u001b[0m┃\u001b[1m \u001b[0m\u001b[1m1            \u001b[0m\u001b[1m \u001b[0m┃\u001b[1m \u001b[0m\u001b[1m2            \u001b[0m\u001b[1m \u001b[0m┃\u001b[1m \u001b[0m\u001b[1m3            \u001b[0m\u001b[1m \u001b[0m┃\u001b[1m \u001b[0m\u001b[1m4            \u001b[0m\u001b[1m \u001b[0m┃\u001b[1m \u001b[0m\u001b[1m5            \u001b[0m\u001b[1m \u001b[0m┃\n",
       "┡━━━━━━━━━━━━━━━━━╇━━━━━━━━━━━━━━━╇━━━━━━━━━━━━━━━╇━━━━━━━━━━━━━━━╇━━━━━━━━━━━━━━━╇━━━━━━━━━━━━━━━╇━━━━━━━━━━━━━━━┩\n",
       "│\u001b[36m \u001b[0m\u001b[36m$cmp           \u001b[0m\u001b[36m \u001b[0m│\u001b[35m \u001b[0m\u001b[35m             \u001b[0m\u001b[35m \u001b[0m│\u001b[35m \u001b[0m\u001b[35m             \u001b[0m\u001b[35m \u001b[0m│\u001b[35m \u001b[0m\u001b[35m             \u001b[0m\u001b[35m \u001b[0m│\u001b[35m \u001b[0m\u001b[35m             \u001b[0m\u001b[35m \u001b[0m│\u001b[35m \u001b[0m\u001b[35mFormKit      \u001b[0m\u001b[35m \u001b[0m│\u001b[35m \u001b[0m\u001b[35m             \u001b[0m\u001b[35m \u001b[0m│\n",
       "│\u001b[36m \u001b[0m\u001b[36m$el            \u001b[0m\u001b[36m \u001b[0m│\u001b[35m \u001b[0m\u001b[35mh1           \u001b[0m\u001b[35m \u001b[0m│\u001b[35m \u001b[0m\u001b[35m             \u001b[0m\u001b[35m \u001b[0m│\u001b[35m \u001b[0m\u001b[35m             \u001b[0m\u001b[35m \u001b[0m│\u001b[35m \u001b[0m\u001b[35m             \u001b[0m\u001b[35m \u001b[0m│\u001b[35m \u001b[0m\u001b[35m             \u001b[0m\u001b[35m \u001b[0m│\u001b[35m \u001b[0m\u001b[35m             \u001b[0m\u001b[35m \u001b[0m│\n",
       "│\u001b[36m \u001b[0m\u001b[36m$formkit       \u001b[0m\u001b[36m \u001b[0m│\u001b[35m \u001b[0m\u001b[35m             \u001b[0m\u001b[35m \u001b[0m│\u001b[35m \u001b[0m\u001b[35mtext         \u001b[0m\u001b[35m \u001b[0m│\u001b[35m \u001b[0m\u001b[35mpassword     \u001b[0m\u001b[35m \u001b[0m│\u001b[35m \u001b[0m\u001b[35mpassword     \u001b[0m\u001b[35m \u001b[0m│\u001b[35m \u001b[0m\u001b[35m             \u001b[0m\u001b[35m \u001b[0m│\u001b[35m \u001b[0m\u001b[35mselect       \u001b[0m\u001b[35m \u001b[0m│\n",
       "│\u001b[36m \u001b[0m\u001b[36mattrs          \u001b[0m\u001b[36m \u001b[0m│\u001b[35m \u001b[0m\u001b[35m{'class':    \u001b[0m\u001b[35m \u001b[0m│\u001b[35m \u001b[0m\u001b[35m             \u001b[0m\u001b[35m \u001b[0m│\u001b[35m \u001b[0m\u001b[35m             \u001b[0m\u001b[35m \u001b[0m│\u001b[35m \u001b[0m\u001b[35m             \u001b[0m\u001b[35m \u001b[0m│\u001b[35m \u001b[0m\u001b[35m             \u001b[0m\u001b[35m \u001b[0m│\u001b[35m \u001b[0m\u001b[35m             \u001b[0m\u001b[35m \u001b[0m│\n",
       "│\u001b[36m                 \u001b[0m│\u001b[35m \u001b[0m\u001b[35m'text-2xl    \u001b[0m\u001b[35m \u001b[0m│\u001b[35m               \u001b[0m│\u001b[35m               \u001b[0m│\u001b[35m               \u001b[0m│\u001b[35m               \u001b[0m│\u001b[35m               \u001b[0m│\n",
       "│\u001b[36m                 \u001b[0m│\u001b[35m \u001b[0m\u001b[35mfont-bold    \u001b[0m\u001b[35m \u001b[0m│\u001b[35m               \u001b[0m│\u001b[35m               \u001b[0m│\u001b[35m               \u001b[0m│\u001b[35m               \u001b[0m│\u001b[35m               \u001b[0m│\n",
       "│\u001b[36m                 \u001b[0m│\u001b[35m \u001b[0m\u001b[35mmb-4'}       \u001b[0m\u001b[35m \u001b[0m│\u001b[35m               \u001b[0m│\u001b[35m               \u001b[0m│\u001b[35m               \u001b[0m│\u001b[35m               \u001b[0m│\u001b[35m               \u001b[0m│\n",
       "│\u001b[36m \u001b[0m\u001b[36mchildren       \u001b[0m\u001b[36m \u001b[0m│\u001b[35m \u001b[0m\u001b[35mRegister     \u001b[0m\u001b[35m \u001b[0m│\u001b[35m \u001b[0m\u001b[35m             \u001b[0m\u001b[35m \u001b[0m│\u001b[35m \u001b[0m\u001b[35m             \u001b[0m\u001b[35m \u001b[0m│\u001b[35m \u001b[0m\u001b[35m             \u001b[0m\u001b[35m \u001b[0m│\u001b[35m \u001b[0m\u001b[35m             \u001b[0m\u001b[35m \u001b[0m│\u001b[35m \u001b[0m\u001b[35m             \u001b[0m\u001b[35m \u001b[0m│\n",
       "│\u001b[36m \u001b[0m\u001b[36mhelp           \u001b[0m\u001b[36m \u001b[0m│\u001b[35m \u001b[0m\u001b[35m             \u001b[0m\u001b[35m \u001b[0m│\u001b[35m \u001b[0m\u001b[35mThis will be \u001b[0m\u001b[35m \u001b[0m│\u001b[35m \u001b[0m\u001b[35mEnter your   \u001b[0m\u001b[35m \u001b[0m│\u001b[35m \u001b[0m\u001b[35mEnter your   \u001b[0m\u001b[35m \u001b[0m│\u001b[35m \u001b[0m\u001b[35m             \u001b[0m\u001b[35m \u001b[0m│\u001b[35m \u001b[0m\u001b[35mHow often    \u001b[0m\u001b[35m \u001b[0m│\n",
       "│\u001b[36m                 \u001b[0m│\u001b[35m               \u001b[0m│\u001b[35m \u001b[0m\u001b[35mused for your\u001b[0m\u001b[35m \u001b[0m│\u001b[35m \u001b[0m\u001b[35mnew password.\u001b[0m\u001b[35m \u001b[0m│\u001b[35m \u001b[0m\u001b[35mnew password \u001b[0m\u001b[35m \u001b[0m│\u001b[35m               \u001b[0m│\u001b[35m \u001b[0m\u001b[35mshould we    \u001b[0m\u001b[35m \u001b[0m│\n",
       "│\u001b[36m                 \u001b[0m│\u001b[35m               \u001b[0m│\u001b[35m \u001b[0m\u001b[35maccount.     \u001b[0m\u001b[35m \u001b[0m│\u001b[35m               \u001b[0m│\u001b[35m \u001b[0m\u001b[35magain to     \u001b[0m\u001b[35m \u001b[0m│\u001b[35m               \u001b[0m│\u001b[35m \u001b[0m\u001b[35mdisplay a    \u001b[0m\u001b[35m \u001b[0m│\n",
       "│\u001b[36m                 \u001b[0m│\u001b[35m               \u001b[0m│\u001b[35m               \u001b[0m│\u001b[35m               \u001b[0m│\u001b[35m \u001b[0m\u001b[35mconfirm it.  \u001b[0m\u001b[35m \u001b[0m│\u001b[35m               \u001b[0m│\u001b[35m \u001b[0m\u001b[35mcookie       \u001b[0m\u001b[35m \u001b[0m│\n",
       "│\u001b[36m                 \u001b[0m│\u001b[35m               \u001b[0m│\u001b[35m               \u001b[0m│\u001b[35m               \u001b[0m│\u001b[35m               \u001b[0m│\u001b[35m               \u001b[0m│\u001b[35m \u001b[0m\u001b[35mnotice?      \u001b[0m\u001b[35m \u001b[0m│\n",
       "│\u001b[36m \u001b[0m\u001b[36mif             \u001b[0m\u001b[36m \u001b[0m│\u001b[35m \u001b[0m\u001b[35m             \u001b[0m\u001b[35m \u001b[0m│\u001b[35m \u001b[0m\u001b[35m             \u001b[0m\u001b[35m \u001b[0m│\u001b[35m \u001b[0m\u001b[35m             \u001b[0m\u001b[35m \u001b[0m│\u001b[35m \u001b[0m\u001b[35m             \u001b[0m\u001b[35m \u001b[0m│\u001b[35m \u001b[0m\u001b[35m             \u001b[0m\u001b[35m \u001b[0m│\u001b[35m \u001b[0m\u001b[35m$get(eu).val…\u001b[0m\u001b[35m \u001b[0m│\n",
       "│\u001b[36m \u001b[0m\u001b[36mlabel          \u001b[0m\u001b[36m \u001b[0m│\u001b[35m \u001b[0m\u001b[35m             \u001b[0m\u001b[35m \u001b[0m│\u001b[35m \u001b[0m\u001b[35mEmail        \u001b[0m\u001b[35m \u001b[0m│\u001b[35m \u001b[0m\u001b[35mPassword     \u001b[0m\u001b[35m \u001b[0m│\u001b[35m \u001b[0m\u001b[35mConfirm      \u001b[0m\u001b[35m \u001b[0m│\u001b[35m \u001b[0m\u001b[35m             \u001b[0m\u001b[35m \u001b[0m│\u001b[35m \u001b[0m\u001b[35mCookie notice\u001b[0m\u001b[35m \u001b[0m│\n",
       "│\u001b[36m                 \u001b[0m│\u001b[35m               \u001b[0m│\u001b[35m               \u001b[0m│\u001b[35m               \u001b[0m│\u001b[35m \u001b[0m\u001b[35mpassword     \u001b[0m\u001b[35m \u001b[0m│\u001b[35m               \u001b[0m│\u001b[35m \u001b[0m\u001b[35mfrequency    \u001b[0m\u001b[35m \u001b[0m│\n",
       "│\u001b[36m \u001b[0m\u001b[36mname           \u001b[0m\u001b[36m \u001b[0m│\u001b[35m \u001b[0m\u001b[35m             \u001b[0m\u001b[35m \u001b[0m│\u001b[35m \u001b[0m\u001b[35memail        \u001b[0m\u001b[35m \u001b[0m│\u001b[35m \u001b[0m\u001b[35mpassword     \u001b[0m\u001b[35m \u001b[0m│\u001b[35m \u001b[0m\u001b[35mpassword_con…\u001b[0m\u001b[35m \u001b[0m│\u001b[35m \u001b[0m\u001b[35m             \u001b[0m\u001b[35m \u001b[0m│\u001b[35m \u001b[0m\u001b[35mcookie_notice\u001b[0m\u001b[35m \u001b[0m│\n",
       "│\u001b[36m \u001b[0m\u001b[36moptions        \u001b[0m\u001b[36m \u001b[0m│\u001b[35m \u001b[0m\u001b[35m             \u001b[0m\u001b[35m \u001b[0m│\u001b[35m \u001b[0m\u001b[35m             \u001b[0m\u001b[35m \u001b[0m│\u001b[35m \u001b[0m\u001b[35m             \u001b[0m\u001b[35m \u001b[0m│\u001b[35m \u001b[0m\u001b[35m             \u001b[0m\u001b[35m \u001b[0m│\u001b[35m \u001b[0m\u001b[35m             \u001b[0m\u001b[35m \u001b[0m│\u001b[35m \u001b[0m\u001b[35m{'refresh':  \u001b[0m\u001b[35m \u001b[0m│\n",
       "│\u001b[36m                 \u001b[0m│\u001b[35m               \u001b[0m│\u001b[35m               \u001b[0m│\u001b[35m               \u001b[0m│\u001b[35m               \u001b[0m│\u001b[35m               \u001b[0m│\u001b[35m \u001b[0m\u001b[35m'Every page  \u001b[0m\u001b[35m \u001b[0m│\n",
       "│\u001b[36m                 \u001b[0m│\u001b[35m               \u001b[0m│\u001b[35m               \u001b[0m│\u001b[35m               \u001b[0m│\u001b[35m               \u001b[0m│\u001b[35m               \u001b[0m│\u001b[35m \u001b[0m\u001b[35mload',       \u001b[0m\u001b[35m \u001b[0m│\n",
       "│\u001b[36m                 \u001b[0m│\u001b[35m               \u001b[0m│\u001b[35m               \u001b[0m│\u001b[35m               \u001b[0m│\u001b[35m               \u001b[0m│\u001b[35m               \u001b[0m│\u001b[35m \u001b[0m\u001b[35m'hourly':    \u001b[0m\u001b[35m \u001b[0m│\n",
       "│\u001b[36m                 \u001b[0m│\u001b[35m               \u001b[0m│\u001b[35m               \u001b[0m│\u001b[35m               \u001b[0m│\u001b[35m               \u001b[0m│\u001b[35m               \u001b[0m│\u001b[35m \u001b[0m\u001b[35m'Ever hour', \u001b[0m\u001b[35m \u001b[0m│\n",
       "│\u001b[36m                 \u001b[0m│\u001b[35m               \u001b[0m│\u001b[35m               \u001b[0m│\u001b[35m               \u001b[0m│\u001b[35m               \u001b[0m│\u001b[35m               \u001b[0m│\u001b[35m \u001b[0m\u001b[35m'daily':     \u001b[0m\u001b[35m \u001b[0m│\n",
       "│\u001b[36m                 \u001b[0m│\u001b[35m               \u001b[0m│\u001b[35m               \u001b[0m│\u001b[35m               \u001b[0m│\u001b[35m               \u001b[0m│\u001b[35m               \u001b[0m│\u001b[35m \u001b[0m\u001b[35m'Every day'} \u001b[0m\u001b[35m \u001b[0m│\n",
       "│\u001b[36m \u001b[0m\u001b[36mprops          \u001b[0m\u001b[36m \u001b[0m│\u001b[35m \u001b[0m\u001b[35m             \u001b[0m\u001b[35m \u001b[0m│\u001b[35m \u001b[0m\u001b[35m             \u001b[0m\u001b[35m \u001b[0m│\u001b[35m \u001b[0m\u001b[35m             \u001b[0m\u001b[35m \u001b[0m│\u001b[35m \u001b[0m\u001b[35m             \u001b[0m\u001b[35m \u001b[0m│\u001b[35m \u001b[0m\u001b[35m{'name':     \u001b[0m\u001b[35m \u001b[0m│\u001b[35m \u001b[0m\u001b[35m             \u001b[0m\u001b[35m \u001b[0m│\n",
       "│\u001b[36m                 \u001b[0m│\u001b[35m               \u001b[0m│\u001b[35m               \u001b[0m│\u001b[35m               \u001b[0m│\u001b[35m               \u001b[0m│\u001b[35m \u001b[0m\u001b[35m'eu_citizen',\u001b[0m\u001b[35m \u001b[0m│\u001b[35m               \u001b[0m│\n",
       "│\u001b[36m                 \u001b[0m│\u001b[35m               \u001b[0m│\u001b[35m               \u001b[0m│\u001b[35m               \u001b[0m│\u001b[35m               \u001b[0m│\u001b[35m \u001b[0m\u001b[35m'type':      \u001b[0m\u001b[35m \u001b[0m│\u001b[35m               \u001b[0m│\n",
       "│\u001b[36m                 \u001b[0m│\u001b[35m               \u001b[0m│\u001b[35m               \u001b[0m│\u001b[35m               \u001b[0m│\u001b[35m               \u001b[0m│\u001b[35m \u001b[0m\u001b[35m'checkbox',  \u001b[0m\u001b[35m \u001b[0m│\u001b[35m               \u001b[0m│\n",
       "│\u001b[36m                 \u001b[0m│\u001b[35m               \u001b[0m│\u001b[35m               \u001b[0m│\u001b[35m               \u001b[0m│\u001b[35m               \u001b[0m│\u001b[35m \u001b[0m\u001b[35m'id': 'eu',  \u001b[0m\u001b[35m \u001b[0m│\u001b[35m               \u001b[0m│\n",
       "│\u001b[36m                 \u001b[0m│\u001b[35m               \u001b[0m│\u001b[35m               \u001b[0m│\u001b[35m               \u001b[0m│\u001b[35m               \u001b[0m│\u001b[35m \u001b[0m\u001b[35m'label': 'Are\u001b[0m\u001b[35m \u001b[0m│\u001b[35m               \u001b[0m│\n",
       "│\u001b[36m                 \u001b[0m│\u001b[35m               \u001b[0m│\u001b[35m               \u001b[0m│\u001b[35m               \u001b[0m│\u001b[35m               \u001b[0m│\u001b[35m \u001b[0m\u001b[35myou a        \u001b[0m\u001b[35m \u001b[0m│\u001b[35m               \u001b[0m│\n",
       "│\u001b[36m                 \u001b[0m│\u001b[35m               \u001b[0m│\u001b[35m               \u001b[0m│\u001b[35m               \u001b[0m│\u001b[35m               \u001b[0m│\u001b[35m \u001b[0m\u001b[35meuropean     \u001b[0m\u001b[35m \u001b[0m│\u001b[35m               \u001b[0m│\n",
       "│\u001b[36m                 \u001b[0m│\u001b[35m               \u001b[0m│\u001b[35m               \u001b[0m│\u001b[35m               \u001b[0m│\u001b[35m               \u001b[0m│\u001b[35m \u001b[0m\u001b[35mcitizen?'}   \u001b[0m\u001b[35m \u001b[0m│\u001b[35m               \u001b[0m│\n",
       "│\u001b[36m \u001b[0m\u001b[36mvalidation     \u001b[0m\u001b[36m \u001b[0m│\u001b[35m \u001b[0m\u001b[35m             \u001b[0m\u001b[35m \u001b[0m│\u001b[35m \u001b[0m\u001b[35mrequired|ema…\u001b[0m\u001b[35m \u001b[0m│\u001b[35m \u001b[0m\u001b[35mrequired|len…\u001b[0m\u001b[35m \u001b[0m│\u001b[35m \u001b[0m\u001b[35mrequired|con…\u001b[0m\u001b[35m \u001b[0m│\u001b[35m \u001b[0m\u001b[35m             \u001b[0m\u001b[35m \u001b[0m│\u001b[35m \u001b[0m\u001b[35m             \u001b[0m\u001b[35m \u001b[0m│\n",
       "│\u001b[36m \u001b[0m\u001b[36mvalidationLabel\u001b[0m\u001b[36m \u001b[0m│\u001b[35m \u001b[0m\u001b[35m             \u001b[0m\u001b[35m \u001b[0m│\u001b[35m \u001b[0m\u001b[35m             \u001b[0m\u001b[35m \u001b[0m│\u001b[35m \u001b[0m\u001b[35m             \u001b[0m\u001b[35m \u001b[0m│\u001b[35m \u001b[0m\u001b[35mpassword     \u001b[0m\u001b[35m \u001b[0m│\u001b[35m \u001b[0m\u001b[35m             \u001b[0m\u001b[35m \u001b[0m│\u001b[35m \u001b[0m\u001b[35m             \u001b[0m\u001b[35m \u001b[0m│\n",
       "│\u001b[36m                 \u001b[0m│\u001b[35m               \u001b[0m│\u001b[35m               \u001b[0m│\u001b[35m               \u001b[0m│\u001b[35m \u001b[0m\u001b[35mconfirmation \u001b[0m\u001b[35m \u001b[0m│\u001b[35m               \u001b[0m│\u001b[35m               \u001b[0m│\n",
       "└─────────────────┴───────────────┴───────────────┴───────────────┴───────────────┴───────────────┴───────────────┘\n"
      ]
     },
     "metadata": {},
     "output_type": "display_data"
    },
    {
     "ename": "TypeError",
     "evalue": "'FormKitSchema' object is not iterable",
     "output_type": "error",
     "traceback": [
      "\u001b[31m---------------------------------------------------------------------------\u001b[39m",
      "\u001b[31mTypeError\u001b[39m                                 Traceback (most recent call last)",
      "\u001b[36mCell\u001b[39m\u001b[36m \u001b[39m\u001b[32mIn[20]\u001b[39m\u001b[32m, line 2\u001b[39m\n\u001b[32m      1\u001b[39m manytable(schema_as_js)\n\u001b[32m----> \u001b[39m\u001b[32m2\u001b[39m manytable(\u001b[43m[\u001b[49m\u001b[43mn\u001b[49m\u001b[43m.\u001b[49m\u001b[43mget_node_values\u001b[49m\u001b[43m(\u001b[49m\u001b[43m)\u001b[49m\u001b[43m \u001b[49m\u001b[38;5;28;43;01mfor\u001b[39;49;00m\u001b[43m \u001b[49m\u001b[43mn\u001b[49m\u001b[43m \u001b[49m\u001b[38;5;129;43;01min\u001b[39;49;00m\u001b[43m \u001b[49m\u001b[43mnodes\u001b[49m\u001b[43m]\u001b[49m)\n\u001b[32m      3\u001b[39m manynodetable([n.get_node() \u001b[38;5;28;01mfor\u001b[39;00m n \u001b[38;5;129;01min\u001b[39;00m nodes])\n",
      "\u001b[31mTypeError\u001b[39m: 'FormKitSchema' object is not iterable"
     ]
    }
   ],
   "source": [
    "manytable(schema_as_js)\n",
    "manytable([n.get_node_values() for n in nodes])\n",
    "manynodetable([n.get_node() for n in nodes])"
   ]
  },
  {
   "cell_type": "code",
   "execution_count": null,
   "metadata": {},
   "outputs": [],
   "source": [
    "# nodes[3].get_node_values()\n",
    "schema_as_js[3]\n",
    "\n",
    "from formkit_ninja.formkit_schema import PasswordNode\n",
    "PasswordNode(**schema_as_js[3])\n",
    "\n",
    "schema_as_js[3][\"validation-label\"] = schema_as_js[3].pop(\"validationLabel\")\n",
    "PasswordNode(**schema_as_js[3])"
   ]
  },
  {
   "cell_type": "code",
   "execution_count": null,
   "metadata": {},
   "outputs": [],
   "source": [
    "sf_41_node"
   ]
  },
  {
   "cell_type": "code",
   "execution_count": null,
   "metadata": {},
   "outputs": [],
   "source": [
    "schema"
   ]
  }
 ],
 "metadata": {
  "kernelspec": {
   "display_name": ".venv",
   "language": "python",
   "name": "python3"
  },
  "language_info": {
   "codemirror_mode": {
    "name": "ipython",
    "version": 3
   },
   "file_extension": ".py",
   "mimetype": "text/x-python",
   "name": "python",
   "nbconvert_exporter": "python",
   "pygments_lexer": "ipython3",
   "version": "3.11.10"
  }
 },
 "nbformat": 4,
 "nbformat_minor": 2
}
