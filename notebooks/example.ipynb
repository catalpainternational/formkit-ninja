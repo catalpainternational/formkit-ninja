{
 "cells": [
  {
   "cell_type": "markdown",
   "metadata": {},
   "source": []
  },
  {
   "cell_type": "code",
   "execution_count": 1,
   "metadata": {},
   "outputs": [],
   "source": [
    "import os\n",
    "import django\n",
    "os.chdir('/app')\n",
    "os.environ[\"DJANGO_ALLOW_ASYNC_UNSAFE\"] = \"true\"\n",
    "os.environ.setdefault('DJANGO_SETTINGS_MODULE', 'testproject.settings')\n",
    "django.setup()"
   ]
  },
  {
   "cell_type": "markdown",
   "metadata": {},
   "source": [
    "# Formkit-Ninja\n",
    "\n",
    "What is Formkit-Ninja?\n",
    "It's a Django application to store and convert FormKit schemas between JSON, Pydantic models, and database backend. It supports most of the FormKit syntax as well as some of the \"extra\" goodies."
   ]
  },
  {
   "cell_type": "code",
   "execution_count": 2,
   "metadata": {},
   "outputs": [],
   "source": [
    "\n",
    "# Here we're defining some functions to help us display data in a nice way \n",
    "\n",
    "from typing import Any\n",
    "from rich.table import Table\n",
    "from rich.jupyter import print\n",
    "from pydantic import BaseModel\n",
    "\n",
    "def kvtable(inputelement: dict[str, Any], title: str | None = None):\n",
    "    table = Table(title=title)\n",
    "    table.add_column(\"Key\", style=\"cyan\", no_wrap=True)\n",
    "    table.add_column(\"Value\", style=\"magenta\")\n",
    "    for key, value in sorted(inputelement.items()):\n",
    "        table.add_row(str(key), str(value))\n",
    "    print(table)\n",
    "\n",
    "def modeltable(inputmodel: BaseModel):\n",
    "    kvtable(inputmodel.model_dump(exclude_none=True, by_alias=True), title=inputmodel.__class__.__name__)\n",
    "\n",
    "def manytable(inputelements: list[dict[str, Any]], title: str | None = None):\n",
    "    table = Table(title=title)\n",
    "    table.add_column(\"Index\", style=\"cyan\", no_wrap=True)\n",
    "    # Set of all keys\n",
    "    keys = set()\n",
    "    for element in inputelements:\n",
    "        keys.update(element.keys())\n",
    "    # These are the \"rows\"\n",
    "    rows = sorted(keys)\n",
    "    # These are the \"columns\"\n",
    "    range(len(inputelements))\n",
    "    # Add the columns\n",
    "    for index, i in enumerate(inputelements):\n",
    "        table.add_column(str(index), style=\"magenta\")\n",
    "    # Add the rows\n",
    "    for row in rows:\n",
    "        content = []\n",
    "        for index, i in enumerate(inputelements):\n",
    "            content.append(str(i.get(row, \"\")))\n",
    "        table.add_row(row, *content)\n",
    "    print(table)\n",
    "\n",
    "def manynodetable(inputelements: list[BaseModel], title: str | None = None):\n",
    "    manytable([i.model_dump(exclude_none=True, by_alias=True) for i in inputelements], title=title) \n",
    "    \n"
   ]
  },
  {
   "cell_type": "code",
   "execution_count": 3,
   "metadata": {},
   "outputs": [
    {
     "data": {
      "text/html": [
       "<pre style=\"white-space:pre;overflow-x:auto;line-height:normal;font-family:Menlo,'DejaVu Sans Mono',consolas,'Courier New',monospace\">┏━━━━━━━━━━━━┳━━━━━━━━━━━━━━━━━━━━━━━━━━┓\n",
       "┃<span style=\"font-weight: bold\"> Key        </span>┃<span style=\"font-weight: bold\"> Value                    </span>┃\n",
       "┡━━━━━━━━━━━━╇━━━━━━━━━━━━━━━━━━━━━━━━━━┩\n",
       "│<span style=\"color: #008080; text-decoration-color: #008080\"> $formkit   </span>│<span style=\"color: #800080; text-decoration-color: #800080\"> tel                      </span>│\n",
       "│<span style=\"color: #008080; text-decoration-color: #008080\"> label      </span>│<span style=\"color: #800080; text-decoration-color: #800080\"> $gettext(\"Phone number\") </span>│\n",
       "│<span style=\"color: #008080; text-decoration-color: #008080\"> maxLength  </span>│<span style=\"color: #800080; text-decoration-color: #800080\"> 8                        </span>│\n",
       "│<span style=\"color: #008080; text-decoration-color: #008080\"> name       </span>│<span style=\"color: #800080; text-decoration-color: #800080\"> phone_number             </span>│\n",
       "│<span style=\"color: #008080; text-decoration-color: #008080\"> validation </span>│<span style=\"color: #800080; text-decoration-color: #800080\"> number|length:8,8        </span>│\n",
       "└────────────┴──────────────────────────┘\n",
       "</pre>\n"
      ],
      "text/plain": [
       "┏━━━━━━━━━━━━┳━━━━━━━━━━━━━━━━━━━━━━━━━━┓\n",
       "┃\u001b[1m \u001b[0m\u001b[1mKey       \u001b[0m\u001b[1m \u001b[0m┃\u001b[1m \u001b[0m\u001b[1mValue                   \u001b[0m\u001b[1m \u001b[0m┃\n",
       "┡━━━━━━━━━━━━╇━━━━━━━━━━━━━━━━━━━━━━━━━━┩\n",
       "│\u001b[36m \u001b[0m\u001b[36m$formkit  \u001b[0m\u001b[36m \u001b[0m│\u001b[35m \u001b[0m\u001b[35mtel                     \u001b[0m\u001b[35m \u001b[0m│\n",
       "│\u001b[36m \u001b[0m\u001b[36mlabel     \u001b[0m\u001b[36m \u001b[0m│\u001b[35m \u001b[0m\u001b[35m$gettext(\"Phone number\")\u001b[0m\u001b[35m \u001b[0m│\n",
       "│\u001b[36m \u001b[0m\u001b[36mmaxLength \u001b[0m\u001b[36m \u001b[0m│\u001b[35m \u001b[0m\u001b[35m8                       \u001b[0m\u001b[35m \u001b[0m│\n",
       "│\u001b[36m \u001b[0m\u001b[36mname      \u001b[0m\u001b[36m \u001b[0m│\u001b[35m \u001b[0m\u001b[35mphone_number            \u001b[0m\u001b[35m \u001b[0m│\n",
       "│\u001b[36m \u001b[0m\u001b[36mvalidation\u001b[0m\u001b[36m \u001b[0m│\u001b[35m \u001b[0m\u001b[35mnumber|length:8,8       \u001b[0m\u001b[35m \u001b[0m│\n",
       "└────────────┴──────────────────────────┘\n"
      ]
     },
     "metadata": {},
     "output_type": "display_data"
    }
   ],
   "source": [
    "# Add a \"Telephone\" input\n",
    "\n",
    "# This is a simple input with validation and a label\n",
    "# Note that the label is translated using the gettext function (client side)\n",
    "tel = {\n",
    "    \"$formkit\": \"tel\",\n",
    "    \"label\": '$gettext(\"Phone number\")',\n",
    "    \"maxLength\": 8,\n",
    "    \"name\": \"phone_number\",\n",
    "    \"validation\": \"number|length:8,8\",\n",
    "}\n",
    "kvtable(tel)"
   ]
  },
  {
   "cell_type": "code",
   "execution_count": 4,
   "metadata": {},
   "outputs": [
    {
     "data": {
      "text/html": [
       "<pre style=\"white-space:pre;overflow-x:auto;line-height:normal;font-family:Menlo,'DejaVu Sans Mono',consolas,'Courier New',monospace\"><span style=\"font-style: italic\">                 TelNode                 </span>\n",
       "┏━━━━━━━━━━━━┳━━━━━━━━━━━━━━━━━━━━━━━━━━┓\n",
       "┃<span style=\"font-weight: bold\"> Key        </span>┃<span style=\"font-weight: bold\"> Value                    </span>┃\n",
       "┡━━━━━━━━━━━━╇━━━━━━━━━━━━━━━━━━━━━━━━━━┩\n",
       "│<span style=\"color: #008080; text-decoration-color: #008080\"> $formkit   </span>│<span style=\"color: #800080; text-decoration-color: #800080\"> tel                      </span>│\n",
       "│<span style=\"color: #008080; text-decoration-color: #008080\"> label      </span>│<span style=\"color: #800080; text-decoration-color: #800080\"> $gettext(\"Phone number\") </span>│\n",
       "│<span style=\"color: #008080; text-decoration-color: #008080\"> maxLength  </span>│<span style=\"color: #800080; text-decoration-color: #800080\"> 8                        </span>│\n",
       "│<span style=\"color: #008080; text-decoration-color: #008080\"> name       </span>│<span style=\"color: #800080; text-decoration-color: #800080\"> phone_number             </span>│\n",
       "│<span style=\"color: #008080; text-decoration-color: #008080\"> validation </span>│<span style=\"color: #800080; text-decoration-color: #800080\"> number|length:8,8        </span>│\n",
       "└────────────┴──────────────────────────┘\n",
       "</pre>\n"
      ],
      "text/plain": [
       "\u001b[3m                 TelNode                 \u001b[0m\n",
       "┏━━━━━━━━━━━━┳━━━━━━━━━━━━━━━━━━━━━━━━━━┓\n",
       "┃\u001b[1m \u001b[0m\u001b[1mKey       \u001b[0m\u001b[1m \u001b[0m┃\u001b[1m \u001b[0m\u001b[1mValue                   \u001b[0m\u001b[1m \u001b[0m┃\n",
       "┡━━━━━━━━━━━━╇━━━━━━━━━━━━━━━━━━━━━━━━━━┩\n",
       "│\u001b[36m \u001b[0m\u001b[36m$formkit  \u001b[0m\u001b[36m \u001b[0m│\u001b[35m \u001b[0m\u001b[35mtel                     \u001b[0m\u001b[35m \u001b[0m│\n",
       "│\u001b[36m \u001b[0m\u001b[36mlabel     \u001b[0m\u001b[36m \u001b[0m│\u001b[35m \u001b[0m\u001b[35m$gettext(\"Phone number\")\u001b[0m\u001b[35m \u001b[0m│\n",
       "│\u001b[36m \u001b[0m\u001b[36mmaxLength \u001b[0m\u001b[36m \u001b[0m│\u001b[35m \u001b[0m\u001b[35m8                       \u001b[0m\u001b[35m \u001b[0m│\n",
       "│\u001b[36m \u001b[0m\u001b[36mname      \u001b[0m\u001b[36m \u001b[0m│\u001b[35m \u001b[0m\u001b[35mphone_number            \u001b[0m\u001b[35m \u001b[0m│\n",
       "│\u001b[36m \u001b[0m\u001b[36mvalidation\u001b[0m\u001b[36m \u001b[0m│\u001b[35m \u001b[0m\u001b[35mnumber|length:8,8       \u001b[0m\u001b[35m \u001b[0m│\n",
       "└────────────┴──────────────────────────┘\n"
      ]
     },
     "metadata": {},
     "output_type": "display_data"
    }
   ],
   "source": [
    "\n",
    "# This is in Python / Pydantic a \"TelNode\"\n",
    "# We can create this node from the dictionary above\n",
    "\n",
    "from formkit_ninja.formkit_schema import TelNode\n",
    "\n",
    "node = TelNode(**tel)\n",
    "\n",
    "modeltable(node)"
   ]
  },
  {
   "cell_type": "code",
   "execution_count": 5,
   "metadata": {},
   "outputs": [
    {
     "data": {
      "text/html": [
       "<pre style=\"white-space:pre;overflow-x:auto;line-height:normal;font-family:Menlo,'DejaVu Sans Mono',consolas,'Courier New',monospace\"><span style=\"font-style: italic\">          DiscriminatedNodeType          </span>\n",
       "┏━━━━━━━━━━━━┳━━━━━━━━━━━━━━━━━━━━━━━━━━┓\n",
       "┃<span style=\"font-weight: bold\"> Key        </span>┃<span style=\"font-weight: bold\"> Value                    </span>┃\n",
       "┡━━━━━━━━━━━━╇━━━━━━━━━━━━━━━━━━━━━━━━━━┩\n",
       "│<span style=\"color: #008080; text-decoration-color: #008080\"> $formkit   </span>│<span style=\"color: #800080; text-decoration-color: #800080\"> tel                      </span>│\n",
       "│<span style=\"color: #008080; text-decoration-color: #008080\"> label      </span>│<span style=\"color: #800080; text-decoration-color: #800080\"> $gettext(\"Phone number\") </span>│\n",
       "│<span style=\"color: #008080; text-decoration-color: #008080\"> maxLength  </span>│<span style=\"color: #800080; text-decoration-color: #800080\"> 8                        </span>│\n",
       "│<span style=\"color: #008080; text-decoration-color: #008080\"> name       </span>│<span style=\"color: #800080; text-decoration-color: #800080\"> phone_number             </span>│\n",
       "│<span style=\"color: #008080; text-decoration-color: #008080\"> validation </span>│<span style=\"color: #800080; text-decoration-color: #800080\"> number|length:8,8        </span>│\n",
       "└────────────┴──────────────────────────┘\n",
       "</pre>\n"
      ],
      "text/plain": [
       "\u001b[3m          DiscriminatedNodeType          \u001b[0m\n",
       "┏━━━━━━━━━━━━┳━━━━━━━━━━━━━━━━━━━━━━━━━━┓\n",
       "┃\u001b[1m \u001b[0m\u001b[1mKey       \u001b[0m\u001b[1m \u001b[0m┃\u001b[1m \u001b[0m\u001b[1mValue                   \u001b[0m\u001b[1m \u001b[0m┃\n",
       "┡━━━━━━━━━━━━╇━━━━━━━━━━━━━━━━━━━━━━━━━━┩\n",
       "│\u001b[36m \u001b[0m\u001b[36m$formkit  \u001b[0m\u001b[36m \u001b[0m│\u001b[35m \u001b[0m\u001b[35mtel                     \u001b[0m\u001b[35m \u001b[0m│\n",
       "│\u001b[36m \u001b[0m\u001b[36mlabel     \u001b[0m\u001b[36m \u001b[0m│\u001b[35m \u001b[0m\u001b[35m$gettext(\"Phone number\")\u001b[0m\u001b[35m \u001b[0m│\n",
       "│\u001b[36m \u001b[0m\u001b[36mmaxLength \u001b[0m\u001b[36m \u001b[0m│\u001b[35m \u001b[0m\u001b[35m8                       \u001b[0m\u001b[35m \u001b[0m│\n",
       "│\u001b[36m \u001b[0m\u001b[36mname      \u001b[0m\u001b[36m \u001b[0m│\u001b[35m \u001b[0m\u001b[35mphone_number            \u001b[0m\u001b[35m \u001b[0m│\n",
       "│\u001b[36m \u001b[0m\u001b[36mvalidation\u001b[0m\u001b[36m \u001b[0m│\u001b[35m \u001b[0m\u001b[35mnumber|length:8,8       \u001b[0m\u001b[35m \u001b[0m│\n",
       "└────────────┴──────────────────────────┘\n"
      ]
     },
     "metadata": {},
     "output_type": "display_data"
    }
   ],
   "source": [
    "# What if we don't know the type of node beforehand?\n",
    "# We can use the \"FormkitNode\" class to create the node from the dictionary\n",
    "from formkit_ninja.formkit_schema import DiscriminatedNodeType\n",
    "node = DiscriminatedNodeType(**tel)\n",
    "\n",
    "# The DiscriminatedNodeType can convert a variety of \"node\" types\n",
    "modeltable(node)"
   ]
  },
  {
   "cell_type": "code",
   "execution_count": 6,
   "metadata": {},
   "outputs": [
    {
     "data": {
      "text/plain": [
       "DiscriminatedNodeType(root=TelNode(children=None, key=None, if_condition=None, for_loop=None, bind=None, meta=None, id=None, name='phone_number', label='$gettext(\"Phone number\")', help=None, validation='number|length:8,8', validationLabel=None, validationVisibility=None, validationMessages=None, placeholder=None, value=None, prefixIcon=None, classes=None, additional_props={'maxLength': 8}, node_type='formkit', readonly=None, formkit='tel'))"
      ]
     },
     "execution_count": 6,
     "metadata": {},
     "output_type": "execute_result"
    }
   ],
   "source": [
    "node"
   ]
  },
  {
   "cell_type": "code",
   "execution_count": 7,
   "metadata": {},
   "outputs": [
    {
     "data": {
      "text/html": [
       "<pre style=\"white-space:pre;overflow-x:auto;line-height:normal;font-family:Menlo,'DejaVu Sans Mono',consolas,'Courier New',monospace\"><span style=\"color: #7fbfbf; text-decoration-color: #7fbfbf\">[03:34:32] </span><span style=\"color: #008000; text-decoration-color: #008000\">Creating  </span><span style=\"color: #008000; text-decoration-color: #008000\">9bc164cb-12e1-45c4-8dfd-2abc34cf3e79</span>                                             <a href=\"file:///app/src/formkit_ninja/models.py\" target=\"_blank\"><span style=\"color: #7f7f7f; text-decoration-color: #7f7f7f\">models.py</span></a><span style=\"color: #7f7f7f; text-decoration-color: #7f7f7f\">:</span><a href=\"file:///app/src/formkit_ninja/models.py#571\" target=\"_blank\"><span style=\"color: #7f7f7f; text-decoration-color: #7f7f7f\">571</span></a>\n",
       "</pre>\n"
      ],
      "text/plain": [
       "\u001b[2;36m[03:34:32]\u001b[0m\u001b[2;36m \u001b[0m\u001b[32mCreating  \u001b[0m\u001b[32m9bc164cb-12e1-45c4-8dfd-2abc34cf3e79\u001b[0m                                             \u001b]8;id=158133;file:///app/src/formkit_ninja/models.py\u001b\\\u001b[2mmodels.py\u001b[0m\u001b]8;;\u001b\\\u001b[2m:\u001b[0m\u001b]8;id=163272;file:///app/src/formkit_ninja/models.py#571\u001b\\\u001b[2m571\u001b[0m\u001b]8;;\u001b\\\n"
      ]
     },
     "metadata": {},
     "output_type": "display_data"
    },
    {
     "data": {
      "text/html": [
       "<pre style=\"white-space:pre;overflow-x:auto;line-height:normal;font-family:Menlo,'DejaVu Sans Mono',consolas,'Courier New',monospace\"><span style=\"color: #7fbfbf; text-decoration-color: #7fbfbf\">           </span><span style=\"color: #008000; text-decoration-color: #008000\">Yielding: Node: phone_number</span>                                                               <a href=\"file:///app/src/formkit_ninja/models.py\" target=\"_blank\"><span style=\"color: #7f7f7f; text-decoration-color: #7f7f7f\">models.py</span></a><span style=\"color: #7f7f7f; text-decoration-color: #7f7f7f\">:</span><a href=\"file:///app/src/formkit_ninja/models.py#593\" target=\"_blank\"><span style=\"color: #7f7f7f; text-decoration-color: #7f7f7f\">593</span></a>\n",
       "</pre>\n"
      ],
      "text/plain": [
       "\u001b[2;36m          \u001b[0m\u001b[2;36m \u001b[0m\u001b[32mYielding: Node: phone_number\u001b[0m                                                               \u001b]8;id=946727;file:///app/src/formkit_ninja/models.py\u001b\\\u001b[2mmodels.py\u001b[0m\u001b]8;;\u001b\\\u001b[2m:\u001b[0m\u001b]8;id=822911;file:///app/src/formkit_ninja/models.py#593\u001b\\\u001b[2m593\u001b[0m\u001b]8;;\u001b\\\n"
      ]
     },
     "metadata": {},
     "output_type": "display_data"
    }
   ],
   "source": [
    "# And, we can save this in the database...\n",
    "\n",
    "from formkit_ninja.models import FormKitSchemaNode\n",
    "\n",
    "# This has a `from_pydantic` method\n",
    "nodes = list(FormKitSchemaNode.from_pydantic(node))\n"
   ]
  },
  {
   "cell_type": "code",
   "execution_count": 8,
   "metadata": {},
   "outputs": [
    {
     "data": {
      "text/plain": [
       "[<FormKitSchemaNode: Node: phone_number>]"
      ]
     },
     "execution_count": 8,
     "metadata": {},
     "output_type": "execute_result"
    }
   ],
   "source": [
    "nodes"
   ]
  },
  {
   "cell_type": "code",
   "execution_count": 9,
   "metadata": {},
   "outputs": [
    {
     "data": {
      "text/html": [
       "<pre style=\"white-space:pre;overflow-x:auto;line-height:normal;font-family:Menlo,'DejaVu Sans Mono',consolas,'Courier New',monospace\">┏━━━━━━━━━━━━━━━━━━┳━━━━━━━━━━━━━━━━━━━━━━━━━━┓\n",
       "┃<span style=\"font-weight: bold\"> Key              </span>┃<span style=\"font-weight: bold\"> Value                    </span>┃\n",
       "┡━━━━━━━━━━━━━━━━━━╇━━━━━━━━━━━━━━━━━━━━━━━━━━┩\n",
       "│<span style=\"color: #008080; text-decoration-color: #008080\"> $formkit         </span>│<span style=\"color: #800080; text-decoration-color: #800080\"> tel                      </span>│\n",
       "│<span style=\"color: #008080; text-decoration-color: #008080\"> additional_props </span>│<span style=\"color: #800080; text-decoration-color: #800080\"> {'maxLength': 8}         </span>│\n",
       "│<span style=\"color: #008080; text-decoration-color: #008080\"> label            </span>│<span style=\"color: #800080; text-decoration-color: #800080\"> $gettext(\"Phone number\") </span>│\n",
       "│<span style=\"color: #008080; text-decoration-color: #008080\"> name             </span>│<span style=\"color: #800080; text-decoration-color: #800080\"> phone_number             </span>│\n",
       "│<span style=\"color: #008080; text-decoration-color: #008080\"> validation       </span>│<span style=\"color: #800080; text-decoration-color: #800080\"> number|length:8,8        </span>│\n",
       "└──────────────────┴──────────────────────────┘\n",
       "</pre>\n"
      ],
      "text/plain": [
       "┏━━━━━━━━━━━━━━━━━━┳━━━━━━━━━━━━━━━━━━━━━━━━━━┓\n",
       "┃\u001b[1m \u001b[0m\u001b[1mKey             \u001b[0m\u001b[1m \u001b[0m┃\u001b[1m \u001b[0m\u001b[1mValue                   \u001b[0m\u001b[1m \u001b[0m┃\n",
       "┡━━━━━━━━━━━━━━━━━━╇━━━━━━━━━━━━━━━━━━━━━━━━━━┩\n",
       "│\u001b[36m \u001b[0m\u001b[36m$formkit        \u001b[0m\u001b[36m \u001b[0m│\u001b[35m \u001b[0m\u001b[35mtel                     \u001b[0m\u001b[35m \u001b[0m│\n",
       "│\u001b[36m \u001b[0m\u001b[36madditional_props\u001b[0m\u001b[36m \u001b[0m│\u001b[35m \u001b[0m\u001b[35m{'maxLength': 8}        \u001b[0m\u001b[35m \u001b[0m│\n",
       "│\u001b[36m \u001b[0m\u001b[36mlabel           \u001b[0m\u001b[36m \u001b[0m│\u001b[35m \u001b[0m\u001b[35m$gettext(\"Phone number\")\u001b[0m\u001b[35m \u001b[0m│\n",
       "│\u001b[36m \u001b[0m\u001b[36mname            \u001b[0m\u001b[36m \u001b[0m│\u001b[35m \u001b[0m\u001b[35mphone_number            \u001b[0m\u001b[35m \u001b[0m│\n",
       "│\u001b[36m \u001b[0m\u001b[36mvalidation      \u001b[0m\u001b[36m \u001b[0m│\u001b[35m \u001b[0m\u001b[35mnumber|length:8,8       \u001b[0m\u001b[35m \u001b[0m│\n",
       "└──────────────────┴──────────────────────────┘\n"
      ]
     },
     "metadata": {},
     "output_type": "display_data"
    },
    {
     "data": {
      "text/html": [
       "<pre style=\"white-space:pre;overflow-x:auto;line-height:normal;font-family:Menlo,'DejaVu Sans Mono',consolas,'Courier New',monospace\"><span style=\"font-style: italic\">                 TelNode                 </span>\n",
       "┏━━━━━━━━━━━━┳━━━━━━━━━━━━━━━━━━━━━━━━━━┓\n",
       "┃<span style=\"font-weight: bold\"> Key        </span>┃<span style=\"font-weight: bold\"> Value                    </span>┃\n",
       "┡━━━━━━━━━━━━╇━━━━━━━━━━━━━━━━━━━━━━━━━━┩\n",
       "│<span style=\"color: #008080; text-decoration-color: #008080\"> $formkit   </span>│<span style=\"color: #800080; text-decoration-color: #800080\"> tel                      </span>│\n",
       "│<span style=\"color: #008080; text-decoration-color: #008080\"> label      </span>│<span style=\"color: #800080; text-decoration-color: #800080\"> $gettext(\"Phone number\") </span>│\n",
       "│<span style=\"color: #008080; text-decoration-color: #008080\"> maxLength  </span>│<span style=\"color: #800080; text-decoration-color: #800080\"> 8                        </span>│\n",
       "│<span style=\"color: #008080; text-decoration-color: #008080\"> name       </span>│<span style=\"color: #800080; text-decoration-color: #800080\"> phone_number             </span>│\n",
       "│<span style=\"color: #008080; text-decoration-color: #008080\"> validation </span>│<span style=\"color: #800080; text-decoration-color: #800080\"> number|length:8,8        </span>│\n",
       "└────────────┴──────────────────────────┘\n",
       "</pre>\n"
      ],
      "text/plain": [
       "\u001b[3m                 TelNode                 \u001b[0m\n",
       "┏━━━━━━━━━━━━┳━━━━━━━━━━━━━━━━━━━━━━━━━━┓\n",
       "┃\u001b[1m \u001b[0m\u001b[1mKey       \u001b[0m\u001b[1m \u001b[0m┃\u001b[1m \u001b[0m\u001b[1mValue                   \u001b[0m\u001b[1m \u001b[0m┃\n",
       "┡━━━━━━━━━━━━╇━━━━━━━━━━━━━━━━━━━━━━━━━━┩\n",
       "│\u001b[36m \u001b[0m\u001b[36m$formkit  \u001b[0m\u001b[36m \u001b[0m│\u001b[35m \u001b[0m\u001b[35mtel                     \u001b[0m\u001b[35m \u001b[0m│\n",
       "│\u001b[36m \u001b[0m\u001b[36mlabel     \u001b[0m\u001b[36m \u001b[0m│\u001b[35m \u001b[0m\u001b[35m$gettext(\"Phone number\")\u001b[0m\u001b[35m \u001b[0m│\n",
       "│\u001b[36m \u001b[0m\u001b[36mmaxLength \u001b[0m\u001b[36m \u001b[0m│\u001b[35m \u001b[0m\u001b[35m8                       \u001b[0m\u001b[35m \u001b[0m│\n",
       "│\u001b[36m \u001b[0m\u001b[36mname      \u001b[0m\u001b[36m \u001b[0m│\u001b[35m \u001b[0m\u001b[35mphone_number            \u001b[0m\u001b[35m \u001b[0m│\n",
       "│\u001b[36m \u001b[0m\u001b[36mvalidation\u001b[0m\u001b[36m \u001b[0m│\u001b[35m \u001b[0m\u001b[35mnumber|length:8,8       \u001b[0m\u001b[35m \u001b[0m│\n",
       "└────────────┴──────────────────────────┘\n"
      ]
     },
     "metadata": {},
     "output_type": "display_data"
    }
   ],
   "source": [
    "for n in nodes:\n",
    "    kvtable(n.get_node_values())\n",
    "    modeltable(n.get_node())"
   ]
  },
  {
   "cell_type": "markdown",
   "metadata": {},
   "source": [
    "## A More Complex Example\n",
    "\n",
    "The following example is a \"datepicker\""
   ]
  },
  {
   "cell_type": "code",
   "execution_count": 10,
   "metadata": {},
   "outputs": [],
   "source": [
    "sf_41_datpicker = {\n",
    "    \"$formkit\": \"datepicker\",\n",
    "    \"_currentDate\": \"$getCurrentDate\",\n",
    "    \"calendarIcon\": \"calendar\",\n",
    "    \"format\": \"DD/MM/YYYY\",\n",
    "    \"id\": \"date\",\n",
    "    \"key\": \"date\",\n",
    "    \"label\": '$gettext(\"Date\")',\n",
    "    \"name\": \"date\",\n",
    "    \"nextIcon\": \"angleRight\",\n",
    "    \"prevIcon\": \"angleLeft\",\n",
    "    \"sectionsSchema\": {\n",
    "        \"day\": {\n",
    "            \"children\": [\n",
    "                \"$day.getDate()\",\n",
    "                {\n",
    "                    \"children\": [\n",
    "                        {\n",
    "                            \"children\": [\n",
    "                                {\n",
    "                                    \"$el\": \"div\",\n",
    "                                    \"attrs\": {\"class\": \"formkit-day-highlight\"},\n",
    "                                    \"if\": \"$attrs._currentDate().year === $day.getFullYear()\",\n",
    "                                }\n",
    "                            ],\n",
    "                            \"if\": \"$attrs._currentDate().month === $day.getMonth()\",\n",
    "                        }\n",
    "                    ],\n",
    "                    \"if\": \"$attrs._currentDate().day === $day.getDate()\",\n",
    "                },\n",
    "            ]\n",
    "        }\n",
    "    },\n",
    "}\n"
   ]
  },
  {
   "cell_type": "code",
   "execution_count": 11,
   "metadata": {},
   "outputs": [],
   "source": [
    "# When we run this we should get a valid node\n",
    "sf_41_node = DiscriminatedNodeType(**sf_41_datpicker)"
   ]
  },
  {
   "cell_type": "code",
   "execution_count": 12,
   "metadata": {},
   "outputs": [
    {
     "data": {
      "text/html": [
       "<pre style=\"white-space:pre;overflow-x:auto;line-height:normal;font-family:Menlo,'DejaVu Sans Mono',consolas,'Courier New',monospace\">┏━━━━━━━━━━━━━━━━┳━━━━━━━━━━━━━━━━━━━━━━━━━━━━━━━━━━━━━━━━━━━━━━━━━━━━━━━━━━━━━━━━━━━━━━━━━━━━━━━━━━━━━━━━━━━━━━━━┓\n",
       "┃<span style=\"font-weight: bold\"> Key            </span>┃<span style=\"font-weight: bold\"> Value                                                                                          </span>┃\n",
       "┡━━━━━━━━━━━━━━━━╇━━━━━━━━━━━━━━━━━━━━━━━━━━━━━━━━━━━━━━━━━━━━━━━━━━━━━━━━━━━━━━━━━━━━━━━━━━━━━━━━━━━━━━━━━━━━━━━━┩\n",
       "│<span style=\"color: #008080; text-decoration-color: #008080\"> $formkit       </span>│<span style=\"color: #800080; text-decoration-color: #800080\"> datepicker                                                                                     </span>│\n",
       "│<span style=\"color: #008080; text-decoration-color: #008080\"> _currentDate   </span>│<span style=\"color: #800080; text-decoration-color: #800080\"> $getCurrentDate                                                                                </span>│\n",
       "│<span style=\"color: #008080; text-decoration-color: #008080\"> calendarIcon   </span>│<span style=\"color: #800080; text-decoration-color: #800080\"> calendar                                                                                       </span>│\n",
       "│<span style=\"color: #008080; text-decoration-color: #008080\"> format         </span>│<span style=\"color: #800080; text-decoration-color: #800080\"> DD/MM/YYYY                                                                                     </span>│\n",
       "│<span style=\"color: #008080; text-decoration-color: #008080\"> id             </span>│<span style=\"color: #800080; text-decoration-color: #800080\"> date                                                                                           </span>│\n",
       "│<span style=\"color: #008080; text-decoration-color: #008080\"> key            </span>│<span style=\"color: #800080; text-decoration-color: #800080\"> date                                                                                           </span>│\n",
       "│<span style=\"color: #008080; text-decoration-color: #008080\"> label          </span>│<span style=\"color: #800080; text-decoration-color: #800080\"> $gettext(\"Date\")                                                                               </span>│\n",
       "│<span style=\"color: #008080; text-decoration-color: #008080\"> name           </span>│<span style=\"color: #800080; text-decoration-color: #800080\"> date                                                                                           </span>│\n",
       "│<span style=\"color: #008080; text-decoration-color: #008080\"> nextIcon       </span>│<span style=\"color: #800080; text-decoration-color: #800080\"> angleRight                                                                                     </span>│\n",
       "│<span style=\"color: #008080; text-decoration-color: #008080\"> prevIcon       </span>│<span style=\"color: #800080; text-decoration-color: #800080\"> angleLeft                                                                                      </span>│\n",
       "│<span style=\"color: #008080; text-decoration-color: #008080\"> sectionsSchema </span>│<span style=\"color: #800080; text-decoration-color: #800080\"> {'day': {'children': ['$day.getDate()', {'children': [{'children': [{'$el': 'div', 'attrs':    </span>│\n",
       "│<span style=\"color: #008080; text-decoration-color: #008080\">                </span>│<span style=\"color: #800080; text-decoration-color: #800080\"> {'class': 'formkit-day-highlight'}, 'if': '$attrs._currentDate().year ===                      </span>│\n",
       "│<span style=\"color: #008080; text-decoration-color: #008080\">                </span>│<span style=\"color: #800080; text-decoration-color: #800080\"> $day.getFullYear()'}], 'if': '$attrs._currentDate().month === $day.getMonth()'}], 'if':        </span>│\n",
       "│<span style=\"color: #008080; text-decoration-color: #008080\">                </span>│<span style=\"color: #800080; text-decoration-color: #800080\"> '$attrs._currentDate().day === $day.getDate()'}]}}                                             </span>│\n",
       "└────────────────┴────────────────────────────────────────────────────────────────────────────────────────────────┘\n",
       "</pre>\n"
      ],
      "text/plain": [
       "┏━━━━━━━━━━━━━━━━┳━━━━━━━━━━━━━━━━━━━━━━━━━━━━━━━━━━━━━━━━━━━━━━━━━━━━━━━━━━━━━━━━━━━━━━━━━━━━━━━━━━━━━━━━━━━━━━━━┓\n",
       "┃\u001b[1m \u001b[0m\u001b[1mKey           \u001b[0m\u001b[1m \u001b[0m┃\u001b[1m \u001b[0m\u001b[1mValue                                                                                         \u001b[0m\u001b[1m \u001b[0m┃\n",
       "┡━━━━━━━━━━━━━━━━╇━━━━━━━━━━━━━━━━━━━━━━━━━━━━━━━━━━━━━━━━━━━━━━━━━━━━━━━━━━━━━━━━━━━━━━━━━━━━━━━━━━━━━━━━━━━━━━━━┩\n",
       "│\u001b[36m \u001b[0m\u001b[36m$formkit      \u001b[0m\u001b[36m \u001b[0m│\u001b[35m \u001b[0m\u001b[35mdatepicker                                                                                    \u001b[0m\u001b[35m \u001b[0m│\n",
       "│\u001b[36m \u001b[0m\u001b[36m_currentDate  \u001b[0m\u001b[36m \u001b[0m│\u001b[35m \u001b[0m\u001b[35m$getCurrentDate                                                                               \u001b[0m\u001b[35m \u001b[0m│\n",
       "│\u001b[36m \u001b[0m\u001b[36mcalendarIcon  \u001b[0m\u001b[36m \u001b[0m│\u001b[35m \u001b[0m\u001b[35mcalendar                                                                                      \u001b[0m\u001b[35m \u001b[0m│\n",
       "│\u001b[36m \u001b[0m\u001b[36mformat        \u001b[0m\u001b[36m \u001b[0m│\u001b[35m \u001b[0m\u001b[35mDD/MM/YYYY                                                                                    \u001b[0m\u001b[35m \u001b[0m│\n",
       "│\u001b[36m \u001b[0m\u001b[36mid            \u001b[0m\u001b[36m \u001b[0m│\u001b[35m \u001b[0m\u001b[35mdate                                                                                          \u001b[0m\u001b[35m \u001b[0m│\n",
       "│\u001b[36m \u001b[0m\u001b[36mkey           \u001b[0m\u001b[36m \u001b[0m│\u001b[35m \u001b[0m\u001b[35mdate                                                                                          \u001b[0m\u001b[35m \u001b[0m│\n",
       "│\u001b[36m \u001b[0m\u001b[36mlabel         \u001b[0m\u001b[36m \u001b[0m│\u001b[35m \u001b[0m\u001b[35m$gettext(\"Date\")                                                                              \u001b[0m\u001b[35m \u001b[0m│\n",
       "│\u001b[36m \u001b[0m\u001b[36mname          \u001b[0m\u001b[36m \u001b[0m│\u001b[35m \u001b[0m\u001b[35mdate                                                                                          \u001b[0m\u001b[35m \u001b[0m│\n",
       "│\u001b[36m \u001b[0m\u001b[36mnextIcon      \u001b[0m\u001b[36m \u001b[0m│\u001b[35m \u001b[0m\u001b[35mangleRight                                                                                    \u001b[0m\u001b[35m \u001b[0m│\n",
       "│\u001b[36m \u001b[0m\u001b[36mprevIcon      \u001b[0m\u001b[36m \u001b[0m│\u001b[35m \u001b[0m\u001b[35mangleLeft                                                                                     \u001b[0m\u001b[35m \u001b[0m│\n",
       "│\u001b[36m \u001b[0m\u001b[36msectionsSchema\u001b[0m\u001b[36m \u001b[0m│\u001b[35m \u001b[0m\u001b[35m{'day': {'children': ['$day.getDate()', {'children': [{'children': [{'$el': 'div', 'attrs':   \u001b[0m\u001b[35m \u001b[0m│\n",
       "│\u001b[36m                \u001b[0m│\u001b[35m \u001b[0m\u001b[35m{'class': 'formkit-day-highlight'}, 'if': '$attrs._currentDate().year ===                     \u001b[0m\u001b[35m \u001b[0m│\n",
       "│\u001b[36m                \u001b[0m│\u001b[35m \u001b[0m\u001b[35m$day.getFullYear()'}], 'if': '$attrs._currentDate().month === $day.getMonth()'}], 'if':       \u001b[0m\u001b[35m \u001b[0m│\n",
       "│\u001b[36m                \u001b[0m│\u001b[35m \u001b[0m\u001b[35m'$attrs._currentDate().day === $day.getDate()'}]}}                                            \u001b[0m\u001b[35m \u001b[0m│\n",
       "└────────────────┴────────────────────────────────────────────────────────────────────────────────────────────────┘\n"
      ]
     },
     "metadata": {},
     "output_type": "display_data"
    },
    {
     "data": {
      "text/html": [
       "<pre style=\"white-space:pre;overflow-x:auto;line-height:normal;font-family:Menlo,'DejaVu Sans Mono',consolas,'Courier New',monospace\"><span style=\"font-style: italic\">                                               DiscriminatedNodeType                                               </span>\n",
       "┏━━━━━━━━━━━━━━━━┳━━━━━━━━━━━━━━━━━━━━━━━━━━━━━━━━━━━━━━━━━━━━━━━━━━━━━━━━━━━━━━━━━━━━━━━━━━━━━━━━━━━━━━━━━━━━━━━━┓\n",
       "┃<span style=\"font-weight: bold\"> Key            </span>┃<span style=\"font-weight: bold\"> Value                                                                                          </span>┃\n",
       "┡━━━━━━━━━━━━━━━━╇━━━━━━━━━━━━━━━━━━━━━━━━━━━━━━━━━━━━━━━━━━━━━━━━━━━━━━━━━━━━━━━━━━━━━━━━━━━━━━━━━━━━━━━━━━━━━━━━┩\n",
       "│<span style=\"color: #008080; text-decoration-color: #008080\"> $formkit       </span>│<span style=\"color: #800080; text-decoration-color: #800080\"> datepicker                                                                                     </span>│\n",
       "│<span style=\"color: #008080; text-decoration-color: #008080\"> _currentDate   </span>│<span style=\"color: #800080; text-decoration-color: #800080\"> $getCurrentDate                                                                                </span>│\n",
       "│<span style=\"color: #008080; text-decoration-color: #008080\"> calendarIcon   </span>│<span style=\"color: #800080; text-decoration-color: #800080\"> calendar                                                                                       </span>│\n",
       "│<span style=\"color: #008080; text-decoration-color: #008080\"> format         </span>│<span style=\"color: #800080; text-decoration-color: #800080\"> DD/MM/YYYY                                                                                     </span>│\n",
       "│<span style=\"color: #008080; text-decoration-color: #008080\"> id             </span>│<span style=\"color: #800080; text-decoration-color: #800080\"> date                                                                                           </span>│\n",
       "│<span style=\"color: #008080; text-decoration-color: #008080\"> key            </span>│<span style=\"color: #800080; text-decoration-color: #800080\"> date                                                                                           </span>│\n",
       "│<span style=\"color: #008080; text-decoration-color: #008080\"> label          </span>│<span style=\"color: #800080; text-decoration-color: #800080\"> $gettext(\"Date\")                                                                               </span>│\n",
       "│<span style=\"color: #008080; text-decoration-color: #008080\"> name           </span>│<span style=\"color: #800080; text-decoration-color: #800080\"> date                                                                                           </span>│\n",
       "│<span style=\"color: #008080; text-decoration-color: #008080\"> nextIcon       </span>│<span style=\"color: #800080; text-decoration-color: #800080\"> angleRight                                                                                     </span>│\n",
       "│<span style=\"color: #008080; text-decoration-color: #008080\"> prevIcon       </span>│<span style=\"color: #800080; text-decoration-color: #800080\"> angleLeft                                                                                      </span>│\n",
       "│<span style=\"color: #008080; text-decoration-color: #008080\"> sectionsSchema </span>│<span style=\"color: #800080; text-decoration-color: #800080\"> {'day': {'children': ['$day.getDate()', {'children': [{'children': [{'$el': 'div', 'attrs':    </span>│\n",
       "│<span style=\"color: #008080; text-decoration-color: #008080\">                </span>│<span style=\"color: #800080; text-decoration-color: #800080\"> {'class': 'formkit-day-highlight'}, 'if': '$attrs._currentDate().year ===                      </span>│\n",
       "│<span style=\"color: #008080; text-decoration-color: #008080\">                </span>│<span style=\"color: #800080; text-decoration-color: #800080\"> $day.getFullYear()'}], 'if': '$attrs._currentDate().month === $day.getMonth()'}], 'if':        </span>│\n",
       "│<span style=\"color: #008080; text-decoration-color: #008080\">                </span>│<span style=\"color: #800080; text-decoration-color: #800080\"> '$attrs._currentDate().day === $day.getDate()'}]}}                                             </span>│\n",
       "└────────────────┴────────────────────────────────────────────────────────────────────────────────────────────────┘\n",
       "</pre>\n"
      ],
      "text/plain": [
       "\u001b[3m                                               DiscriminatedNodeType                                               \u001b[0m\n",
       "┏━━━━━━━━━━━━━━━━┳━━━━━━━━━━━━━━━━━━━━━━━━━━━━━━━━━━━━━━━━━━━━━━━━━━━━━━━━━━━━━━━━━━━━━━━━━━━━━━━━━━━━━━━━━━━━━━━━┓\n",
       "┃\u001b[1m \u001b[0m\u001b[1mKey           \u001b[0m\u001b[1m \u001b[0m┃\u001b[1m \u001b[0m\u001b[1mValue                                                                                         \u001b[0m\u001b[1m \u001b[0m┃\n",
       "┡━━━━━━━━━━━━━━━━╇━━━━━━━━━━━━━━━━━━━━━━━━━━━━━━━━━━━━━━━━━━━━━━━━━━━━━━━━━━━━━━━━━━━━━━━━━━━━━━━━━━━━━━━━━━━━━━━━┩\n",
       "│\u001b[36m \u001b[0m\u001b[36m$formkit      \u001b[0m\u001b[36m \u001b[0m│\u001b[35m \u001b[0m\u001b[35mdatepicker                                                                                    \u001b[0m\u001b[35m \u001b[0m│\n",
       "│\u001b[36m \u001b[0m\u001b[36m_currentDate  \u001b[0m\u001b[36m \u001b[0m│\u001b[35m \u001b[0m\u001b[35m$getCurrentDate                                                                               \u001b[0m\u001b[35m \u001b[0m│\n",
       "│\u001b[36m \u001b[0m\u001b[36mcalendarIcon  \u001b[0m\u001b[36m \u001b[0m│\u001b[35m \u001b[0m\u001b[35mcalendar                                                                                      \u001b[0m\u001b[35m \u001b[0m│\n",
       "│\u001b[36m \u001b[0m\u001b[36mformat        \u001b[0m\u001b[36m \u001b[0m│\u001b[35m \u001b[0m\u001b[35mDD/MM/YYYY                                                                                    \u001b[0m\u001b[35m \u001b[0m│\n",
       "│\u001b[36m \u001b[0m\u001b[36mid            \u001b[0m\u001b[36m \u001b[0m│\u001b[35m \u001b[0m\u001b[35mdate                                                                                          \u001b[0m\u001b[35m \u001b[0m│\n",
       "│\u001b[36m \u001b[0m\u001b[36mkey           \u001b[0m\u001b[36m \u001b[0m│\u001b[35m \u001b[0m\u001b[35mdate                                                                                          \u001b[0m\u001b[35m \u001b[0m│\n",
       "│\u001b[36m \u001b[0m\u001b[36mlabel         \u001b[0m\u001b[36m \u001b[0m│\u001b[35m \u001b[0m\u001b[35m$gettext(\"Date\")                                                                              \u001b[0m\u001b[35m \u001b[0m│\n",
       "│\u001b[36m \u001b[0m\u001b[36mname          \u001b[0m\u001b[36m \u001b[0m│\u001b[35m \u001b[0m\u001b[35mdate                                                                                          \u001b[0m\u001b[35m \u001b[0m│\n",
       "│\u001b[36m \u001b[0m\u001b[36mnextIcon      \u001b[0m\u001b[36m \u001b[0m│\u001b[35m \u001b[0m\u001b[35mangleRight                                                                                    \u001b[0m\u001b[35m \u001b[0m│\n",
       "│\u001b[36m \u001b[0m\u001b[36mprevIcon      \u001b[0m\u001b[36m \u001b[0m│\u001b[35m \u001b[0m\u001b[35mangleLeft                                                                                     \u001b[0m\u001b[35m \u001b[0m│\n",
       "│\u001b[36m \u001b[0m\u001b[36msectionsSchema\u001b[0m\u001b[36m \u001b[0m│\u001b[35m \u001b[0m\u001b[35m{'day': {'children': ['$day.getDate()', {'children': [{'children': [{'$el': 'div', 'attrs':   \u001b[0m\u001b[35m \u001b[0m│\n",
       "│\u001b[36m                \u001b[0m│\u001b[35m \u001b[0m\u001b[35m{'class': 'formkit-day-highlight'}, 'if': '$attrs._currentDate().year ===                     \u001b[0m\u001b[35m \u001b[0m│\n",
       "│\u001b[36m                \u001b[0m│\u001b[35m \u001b[0m\u001b[35m$day.getFullYear()'}], 'if': '$attrs._currentDate().month === $day.getMonth()'}], 'if':       \u001b[0m\u001b[35m \u001b[0m│\n",
       "│\u001b[36m                \u001b[0m│\u001b[35m \u001b[0m\u001b[35m'$attrs._currentDate().day === $day.getDate()'}]}}                                            \u001b[0m\u001b[35m \u001b[0m│\n",
       "└────────────────┴────────────────────────────────────────────────────────────────────────────────────────────────┘\n"
      ]
     },
     "metadata": {},
     "output_type": "display_data"
    }
   ],
   "source": [
    "kvtable(sf_41_datpicker)\n",
    "modeltable(sf_41_node)"
   ]
  },
  {
   "cell_type": "code",
   "execution_count": 13,
   "metadata": {},
   "outputs": [
    {
     "data": {
      "text/html": [
       "<pre style=\"white-space:pre;overflow-x:auto;line-height:normal;font-family:Menlo,'DejaVu Sans Mono',consolas,'Courier New',monospace\"><span style=\"color: #7fbfbf; text-decoration-color: #7fbfbf\">[03:34:33] </span><span style=\"color: #008000; text-decoration-color: #008000\">Creating  </span><span style=\"color: #008000; text-decoration-color: #008000\">876cd51c-fe51-4f80-a54b-822c3c23aa73</span>                                             <a href=\"file:///app/src/formkit_ninja/models.py\" target=\"_blank\"><span style=\"color: #7f7f7f; text-decoration-color: #7f7f7f\">models.py</span></a><span style=\"color: #7f7f7f; text-decoration-color: #7f7f7f\">:</span><a href=\"file:///app/src/formkit_ninja/models.py#571\" target=\"_blank\"><span style=\"color: #7f7f7f; text-decoration-color: #7f7f7f\">571</span></a>\n",
       "</pre>\n"
      ],
      "text/plain": [
       "\u001b[2;36m[03:34:33]\u001b[0m\u001b[2;36m \u001b[0m\u001b[32mCreating  \u001b[0m\u001b[32m876cd51c-fe51-4f80-a54b-822c3c23aa73\u001b[0m                                             \u001b]8;id=362397;file:///app/src/formkit_ninja/models.py\u001b\\\u001b[2mmodels.py\u001b[0m\u001b]8;;\u001b\\\u001b[2m:\u001b[0m\u001b]8;id=556779;file:///app/src/formkit_ninja/models.py#571\u001b\\\u001b[2m571\u001b[0m\u001b]8;;\u001b\\\n"
      ]
     },
     "metadata": {},
     "output_type": "display_data"
    },
    {
     "data": {
      "text/html": [
       "<pre style=\"white-space:pre;overflow-x:auto;line-height:normal;font-family:Menlo,'DejaVu Sans Mono',consolas,'Courier New',monospace\"><span style=\"color: #7fbfbf; text-decoration-color: #7fbfbf\">           </span><span style=\"color: #008000; text-decoration-color: #008000\">Yielding: Node: date</span>                                                                       <a href=\"file:///app/src/formkit_ninja/models.py\" target=\"_blank\"><span style=\"color: #7f7f7f; text-decoration-color: #7f7f7f\">models.py</span></a><span style=\"color: #7f7f7f; text-decoration-color: #7f7f7f\">:</span><a href=\"file:///app/src/formkit_ninja/models.py#593\" target=\"_blank\"><span style=\"color: #7f7f7f; text-decoration-color: #7f7f7f\">593</span></a>\n",
       "</pre>\n"
      ],
      "text/plain": [
       "\u001b[2;36m          \u001b[0m\u001b[2;36m \u001b[0m\u001b[32mYielding: Node: date\u001b[0m                                                                       \u001b]8;id=714230;file:///app/src/formkit_ninja/models.py\u001b\\\u001b[2mmodels.py\u001b[0m\u001b]8;;\u001b\\\u001b[2m:\u001b[0m\u001b]8;id=669302;file:///app/src/formkit_ninja/models.py#593\u001b\\\u001b[2m593\u001b[0m\u001b]8;;\u001b\\\n"
      ]
     },
     "metadata": {},
     "output_type": "display_data"
    }
   ],
   "source": [
    "# Does it serialize to postgres? Let's see!\n",
    "# from_pydantic will return a list of nodes\n",
    "nodes = list(FormKitSchemaNode.from_pydantic(sf_41_node))\n",
    "\n",
    "\n"
   ]
  },
  {
   "cell_type": "code",
   "execution_count": 14,
   "metadata": {},
   "outputs": [
    {
     "data": {
      "text/html": [
       "<pre style=\"white-space:pre;overflow-x:auto;line-height:normal;font-family:Menlo,'DejaVu Sans Mono',consolas,'Courier New',monospace\">┏━━━━━━━━━━━━━━━━━━┳━━━━━━━━━━━━━━━━━━━━━━━━━━━━━━━━━━━━━━━━━━━━━━━━━━━━━━━━━━━━━━━━━━━━━━━━━━━━━━━━━━━━━━━━━━━━━━┓\n",
       "┃<span style=\"font-weight: bold\"> Key              </span>┃<span style=\"font-weight: bold\"> Value                                                                                        </span>┃\n",
       "┡━━━━━━━━━━━━━━━━━━╇━━━━━━━━━━━━━━━━━━━━━━━━━━━━━━━━━━━━━━━━━━━━━━━━━━━━━━━━━━━━━━━━━━━━━━━━━━━━━━━━━━━━━━━━━━━━━━┩\n",
       "│<span style=\"color: #008080; text-decoration-color: #008080\"> $formkit         </span>│<span style=\"color: #800080; text-decoration-color: #800080\"> datepicker                                                                                   </span>│\n",
       "│<span style=\"color: #008080; text-decoration-color: #008080\"> additional_props </span>│<span style=\"color: #800080; text-decoration-color: #800080\"> {'_currentDate': '$getCurrentDate', 'sectionsSchema': {'day': {'children':                   </span>│\n",
       "│<span style=\"color: #008080; text-decoration-color: #008080\">                  </span>│<span style=\"color: #800080; text-decoration-color: #800080\"> ['$day.getDate()', {'children': [{'children': [{'$el': 'div', 'attrs': {'class':             </span>│\n",
       "│<span style=\"color: #008080; text-decoration-color: #008080\">                  </span>│<span style=\"color: #800080; text-decoration-color: #800080\"> 'formkit-day-highlight'}, 'if': '$attrs._currentDate().year === $day.getFullYear()'}], 'if': </span>│\n",
       "│<span style=\"color: #008080; text-decoration-color: #008080\">                  </span>│<span style=\"color: #800080; text-decoration-color: #800080\"> '$attrs._currentDate().month === $day.getMonth()'}], 'if': '$attrs._currentDate().day ===    </span>│\n",
       "│<span style=\"color: #008080; text-decoration-color: #008080\">                  </span>│<span style=\"color: #800080; text-decoration-color: #800080\"> $day.getDate()'}]}}}                                                                         </span>│\n",
       "│<span style=\"color: #008080; text-decoration-color: #008080\"> calendarIcon     </span>│<span style=\"color: #800080; text-decoration-color: #800080\"> calendar                                                                                     </span>│\n",
       "│<span style=\"color: #008080; text-decoration-color: #008080\"> format           </span>│<span style=\"color: #800080; text-decoration-color: #800080\"> DD/MM/YYYY                                                                                   </span>│\n",
       "│<span style=\"color: #008080; text-decoration-color: #008080\"> id               </span>│<span style=\"color: #800080; text-decoration-color: #800080\"> date                                                                                         </span>│\n",
       "│<span style=\"color: #008080; text-decoration-color: #008080\"> key              </span>│<span style=\"color: #800080; text-decoration-color: #800080\"> date                                                                                         </span>│\n",
       "│<span style=\"color: #008080; text-decoration-color: #008080\"> label            </span>│<span style=\"color: #800080; text-decoration-color: #800080\"> $gettext(\"Date\")                                                                             </span>│\n",
       "│<span style=\"color: #008080; text-decoration-color: #008080\"> name             </span>│<span style=\"color: #800080; text-decoration-color: #800080\"> date                                                                                         </span>│\n",
       "│<span style=\"color: #008080; text-decoration-color: #008080\"> nextIcon         </span>│<span style=\"color: #800080; text-decoration-color: #800080\"> angleRight                                                                                   </span>│\n",
       "│<span style=\"color: #008080; text-decoration-color: #008080\"> prevIcon         </span>│<span style=\"color: #800080; text-decoration-color: #800080\"> angleLeft                                                                                    </span>│\n",
       "└──────────────────┴──────────────────────────────────────────────────────────────────────────────────────────────┘\n",
       "</pre>\n"
      ],
      "text/plain": [
       "┏━━━━━━━━━━━━━━━━━━┳━━━━━━━━━━━━━━━━━━━━━━━━━━━━━━━━━━━━━━━━━━━━━━━━━━━━━━━━━━━━━━━━━━━━━━━━━━━━━━━━━━━━━━━━━━━━━━┓\n",
       "┃\u001b[1m \u001b[0m\u001b[1mKey             \u001b[0m\u001b[1m \u001b[0m┃\u001b[1m \u001b[0m\u001b[1mValue                                                                                       \u001b[0m\u001b[1m \u001b[0m┃\n",
       "┡━━━━━━━━━━━━━━━━━━╇━━━━━━━━━━━━━━━━━━━━━━━━━━━━━━━━━━━━━━━━━━━━━━━━━━━━━━━━━━━━━━━━━━━━━━━━━━━━━━━━━━━━━━━━━━━━━━┩\n",
       "│\u001b[36m \u001b[0m\u001b[36m$formkit        \u001b[0m\u001b[36m \u001b[0m│\u001b[35m \u001b[0m\u001b[35mdatepicker                                                                                  \u001b[0m\u001b[35m \u001b[0m│\n",
       "│\u001b[36m \u001b[0m\u001b[36madditional_props\u001b[0m\u001b[36m \u001b[0m│\u001b[35m \u001b[0m\u001b[35m{'_currentDate': '$getCurrentDate', 'sectionsSchema': {'day': {'children':                  \u001b[0m\u001b[35m \u001b[0m│\n",
       "│\u001b[36m                  \u001b[0m│\u001b[35m \u001b[0m\u001b[35m['$day.getDate()', {'children': [{'children': [{'$el': 'div', 'attrs': {'class':            \u001b[0m\u001b[35m \u001b[0m│\n",
       "│\u001b[36m                  \u001b[0m│\u001b[35m \u001b[0m\u001b[35m'formkit-day-highlight'}, 'if': '$attrs._currentDate().year === $day.getFullYear()'}], 'if':\u001b[0m\u001b[35m \u001b[0m│\n",
       "│\u001b[36m                  \u001b[0m│\u001b[35m \u001b[0m\u001b[35m'$attrs._currentDate().month === $day.getMonth()'}], 'if': '$attrs._currentDate().day ===   \u001b[0m\u001b[35m \u001b[0m│\n",
       "│\u001b[36m                  \u001b[0m│\u001b[35m \u001b[0m\u001b[35m$day.getDate()'}]}}}                                                                        \u001b[0m\u001b[35m \u001b[0m│\n",
       "│\u001b[36m \u001b[0m\u001b[36mcalendarIcon    \u001b[0m\u001b[36m \u001b[0m│\u001b[35m \u001b[0m\u001b[35mcalendar                                                                                    \u001b[0m\u001b[35m \u001b[0m│\n",
       "│\u001b[36m \u001b[0m\u001b[36mformat          \u001b[0m\u001b[36m \u001b[0m│\u001b[35m \u001b[0m\u001b[35mDD/MM/YYYY                                                                                  \u001b[0m\u001b[35m \u001b[0m│\n",
       "│\u001b[36m \u001b[0m\u001b[36mid              \u001b[0m\u001b[36m \u001b[0m│\u001b[35m \u001b[0m\u001b[35mdate                                                                                        \u001b[0m\u001b[35m \u001b[0m│\n",
       "│\u001b[36m \u001b[0m\u001b[36mkey             \u001b[0m\u001b[36m \u001b[0m│\u001b[35m \u001b[0m\u001b[35mdate                                                                                        \u001b[0m\u001b[35m \u001b[0m│\n",
       "│\u001b[36m \u001b[0m\u001b[36mlabel           \u001b[0m\u001b[36m \u001b[0m│\u001b[35m \u001b[0m\u001b[35m$gettext(\"Date\")                                                                            \u001b[0m\u001b[35m \u001b[0m│\n",
       "│\u001b[36m \u001b[0m\u001b[36mname            \u001b[0m\u001b[36m \u001b[0m│\u001b[35m \u001b[0m\u001b[35mdate                                                                                        \u001b[0m\u001b[35m \u001b[0m│\n",
       "│\u001b[36m \u001b[0m\u001b[36mnextIcon        \u001b[0m\u001b[36m \u001b[0m│\u001b[35m \u001b[0m\u001b[35mangleRight                                                                                  \u001b[0m\u001b[35m \u001b[0m│\n",
       "│\u001b[36m \u001b[0m\u001b[36mprevIcon        \u001b[0m\u001b[36m \u001b[0m│\u001b[35m \u001b[0m\u001b[35mangleLeft                                                                                   \u001b[0m\u001b[35m \u001b[0m│\n",
       "└──────────────────┴──────────────────────────────────────────────────────────────────────────────────────────────┘\n"
      ]
     },
     "metadata": {},
     "output_type": "display_data"
    },
    {
     "data": {
      "text/html": [
       "<pre style=\"white-space:pre;overflow-x:auto;line-height:normal;font-family:Menlo,'DejaVu Sans Mono',consolas,'Courier New',monospace\"><span style=\"font-style: italic\">                                                  DatePickerNode                                                   </span>\n",
       "┏━━━━━━━━━━━━━━━━┳━━━━━━━━━━━━━━━━━━━━━━━━━━━━━━━━━━━━━━━━━━━━━━━━━━━━━━━━━━━━━━━━━━━━━━━━━━━━━━━━━━━━━━━━━━━━━━━━┓\n",
       "┃<span style=\"font-weight: bold\"> Key            </span>┃<span style=\"font-weight: bold\"> Value                                                                                          </span>┃\n",
       "┡━━━━━━━━━━━━━━━━╇━━━━━━━━━━━━━━━━━━━━━━━━━━━━━━━━━━━━━━━━━━━━━━━━━━━━━━━━━━━━━━━━━━━━━━━━━━━━━━━━━━━━━━━━━━━━━━━━┩\n",
       "│<span style=\"color: #008080; text-decoration-color: #008080\"> $formkit       </span>│<span style=\"color: #800080; text-decoration-color: #800080\"> datepicker                                                                                     </span>│\n",
       "│<span style=\"color: #008080; text-decoration-color: #008080\"> _currentDate   </span>│<span style=\"color: #800080; text-decoration-color: #800080\"> $getCurrentDate                                                                                </span>│\n",
       "│<span style=\"color: #008080; text-decoration-color: #008080\"> calendarIcon   </span>│<span style=\"color: #800080; text-decoration-color: #800080\"> calendar                                                                                       </span>│\n",
       "│<span style=\"color: #008080; text-decoration-color: #008080\"> format         </span>│<span style=\"color: #800080; text-decoration-color: #800080\"> DD/MM/YYYY                                                                                     </span>│\n",
       "│<span style=\"color: #008080; text-decoration-color: #008080\"> id             </span>│<span style=\"color: #800080; text-decoration-color: #800080\"> date                                                                                           </span>│\n",
       "│<span style=\"color: #008080; text-decoration-color: #008080\"> key            </span>│<span style=\"color: #800080; text-decoration-color: #800080\"> date                                                                                           </span>│\n",
       "│<span style=\"color: #008080; text-decoration-color: #008080\"> label          </span>│<span style=\"color: #800080; text-decoration-color: #800080\"> $gettext(\"Date\")                                                                               </span>│\n",
       "│<span style=\"color: #008080; text-decoration-color: #008080\"> name           </span>│<span style=\"color: #800080; text-decoration-color: #800080\"> date                                                                                           </span>│\n",
       "│<span style=\"color: #008080; text-decoration-color: #008080\"> nextIcon       </span>│<span style=\"color: #800080; text-decoration-color: #800080\"> angleRight                                                                                     </span>│\n",
       "│<span style=\"color: #008080; text-decoration-color: #008080\"> prevIcon       </span>│<span style=\"color: #800080; text-decoration-color: #800080\"> angleLeft                                                                                      </span>│\n",
       "│<span style=\"color: #008080; text-decoration-color: #008080\"> sectionsSchema </span>│<span style=\"color: #800080; text-decoration-color: #800080\"> {'day': {'children': ['$day.getDate()', {'children': [{'children': [{'$el': 'div', 'attrs':    </span>│\n",
       "│<span style=\"color: #008080; text-decoration-color: #008080\">                </span>│<span style=\"color: #800080; text-decoration-color: #800080\"> {'class': 'formkit-day-highlight'}, 'if': '$attrs._currentDate().year ===                      </span>│\n",
       "│<span style=\"color: #008080; text-decoration-color: #008080\">                </span>│<span style=\"color: #800080; text-decoration-color: #800080\"> $day.getFullYear()'}], 'if': '$attrs._currentDate().month === $day.getMonth()'}], 'if':        </span>│\n",
       "│<span style=\"color: #008080; text-decoration-color: #008080\">                </span>│<span style=\"color: #800080; text-decoration-color: #800080\"> '$attrs._currentDate().day === $day.getDate()'}]}}                                             </span>│\n",
       "└────────────────┴────────────────────────────────────────────────────────────────────────────────────────────────┘\n",
       "</pre>\n"
      ],
      "text/plain": [
       "\u001b[3m                                                  DatePickerNode                                                   \u001b[0m\n",
       "┏━━━━━━━━━━━━━━━━┳━━━━━━━━━━━━━━━━━━━━━━━━━━━━━━━━━━━━━━━━━━━━━━━━━━━━━━━━━━━━━━━━━━━━━━━━━━━━━━━━━━━━━━━━━━━━━━━━┓\n",
       "┃\u001b[1m \u001b[0m\u001b[1mKey           \u001b[0m\u001b[1m \u001b[0m┃\u001b[1m \u001b[0m\u001b[1mValue                                                                                         \u001b[0m\u001b[1m \u001b[0m┃\n",
       "┡━━━━━━━━━━━━━━━━╇━━━━━━━━━━━━━━━━━━━━━━━━━━━━━━━━━━━━━━━━━━━━━━━━━━━━━━━━━━━━━━━━━━━━━━━━━━━━━━━━━━━━━━━━━━━━━━━━┩\n",
       "│\u001b[36m \u001b[0m\u001b[36m$formkit      \u001b[0m\u001b[36m \u001b[0m│\u001b[35m \u001b[0m\u001b[35mdatepicker                                                                                    \u001b[0m\u001b[35m \u001b[0m│\n",
       "│\u001b[36m \u001b[0m\u001b[36m_currentDate  \u001b[0m\u001b[36m \u001b[0m│\u001b[35m \u001b[0m\u001b[35m$getCurrentDate                                                                               \u001b[0m\u001b[35m \u001b[0m│\n",
       "│\u001b[36m \u001b[0m\u001b[36mcalendarIcon  \u001b[0m\u001b[36m \u001b[0m│\u001b[35m \u001b[0m\u001b[35mcalendar                                                                                      \u001b[0m\u001b[35m \u001b[0m│\n",
       "│\u001b[36m \u001b[0m\u001b[36mformat        \u001b[0m\u001b[36m \u001b[0m│\u001b[35m \u001b[0m\u001b[35mDD/MM/YYYY                                                                                    \u001b[0m\u001b[35m \u001b[0m│\n",
       "│\u001b[36m \u001b[0m\u001b[36mid            \u001b[0m\u001b[36m \u001b[0m│\u001b[35m \u001b[0m\u001b[35mdate                                                                                          \u001b[0m\u001b[35m \u001b[0m│\n",
       "│\u001b[36m \u001b[0m\u001b[36mkey           \u001b[0m\u001b[36m \u001b[0m│\u001b[35m \u001b[0m\u001b[35mdate                                                                                          \u001b[0m\u001b[35m \u001b[0m│\n",
       "│\u001b[36m \u001b[0m\u001b[36mlabel         \u001b[0m\u001b[36m \u001b[0m│\u001b[35m \u001b[0m\u001b[35m$gettext(\"Date\")                                                                              \u001b[0m\u001b[35m \u001b[0m│\n",
       "│\u001b[36m \u001b[0m\u001b[36mname          \u001b[0m\u001b[36m \u001b[0m│\u001b[35m \u001b[0m\u001b[35mdate                                                                                          \u001b[0m\u001b[35m \u001b[0m│\n",
       "│\u001b[36m \u001b[0m\u001b[36mnextIcon      \u001b[0m\u001b[36m \u001b[0m│\u001b[35m \u001b[0m\u001b[35mangleRight                                                                                    \u001b[0m\u001b[35m \u001b[0m│\n",
       "│\u001b[36m \u001b[0m\u001b[36mprevIcon      \u001b[0m\u001b[36m \u001b[0m│\u001b[35m \u001b[0m\u001b[35mangleLeft                                                                                     \u001b[0m\u001b[35m \u001b[0m│\n",
       "│\u001b[36m \u001b[0m\u001b[36msectionsSchema\u001b[0m\u001b[36m \u001b[0m│\u001b[35m \u001b[0m\u001b[35m{'day': {'children': ['$day.getDate()', {'children': [{'children': [{'$el': 'div', 'attrs':   \u001b[0m\u001b[35m \u001b[0m│\n",
       "│\u001b[36m                \u001b[0m│\u001b[35m \u001b[0m\u001b[35m{'class': 'formkit-day-highlight'}, 'if': '$attrs._currentDate().year ===                     \u001b[0m\u001b[35m \u001b[0m│\n",
       "│\u001b[36m                \u001b[0m│\u001b[35m \u001b[0m\u001b[35m$day.getFullYear()'}], 'if': '$attrs._currentDate().month === $day.getMonth()'}], 'if':       \u001b[0m\u001b[35m \u001b[0m│\n",
       "│\u001b[36m                \u001b[0m│\u001b[35m \u001b[0m\u001b[35m'$attrs._currentDate().day === $day.getDate()'}]}}                                            \u001b[0m\u001b[35m \u001b[0m│\n",
       "└────────────────┴────────────────────────────────────────────────────────────────────────────────────────────────┘\n"
      ]
     },
     "metadata": {},
     "output_type": "display_data"
    }
   ],
   "source": [
    "for n in nodes:\n",
    "    kvtable(n.get_node_values())\n",
    "    modeltable(n.get_node())\n",
    "\n",
    "# Note that there is one difference on postgres\n",
    "# Because `sectionsSchema` is something we don't\n",
    "# have in the postgres schema, it's held within the `additional_props` field"
   ]
  },
  {
   "cell_type": "code",
   "execution_count": 15,
   "metadata": {},
   "outputs": [],
   "source": [
    "# Schemas\n",
    "# Usually one input is not enough, we need a schema to hold multiple inputs\n",
    "# This is a JSON object not real javascript\n",
    "schema = '''\n",
    "[\n",
    "  {\n",
    "    $el: 'h1',\n",
    "    children: 'Register',\n",
    "    attrs: {\n",
    "      class: 'text-2xl font-bold mb-4',\n",
    "    },\n",
    "  },\n",
    "  {\n",
    "    $formkit: 'text',\n",
    "    name: 'email',\n",
    "    label: 'Email',\n",
    "    help: 'This will be used for your account.',\n",
    "    validation: 'required|email',\n",
    "  },\n",
    "  {\n",
    "    $formkit: 'password',\n",
    "    name: 'password',\n",
    "    label: 'Password',\n",
    "    help: 'Enter your new password.',\n",
    "    validation: 'required|length:5,16',\n",
    "  },\n",
    "  {\n",
    "    $formkit: 'password',\n",
    "    name: 'password_confirm',\n",
    "    label: 'Confirm password',\n",
    "    help: 'Enter your new password again to confirm it.',\n",
    "    validation: 'required|confirm',\n",
    "    validationLabel: 'password confirmation',\n",
    "  },\n",
    "  {\n",
    "    $cmp: 'FormKit',\n",
    "    props: {\n",
    "      name: 'eu_citizen',\n",
    "      type: 'checkbox',\n",
    "      id: 'eu',\n",
    "      label: 'Are you a european citizen?',\n",
    "    },\n",
    "  },\n",
    "  {\n",
    "    $formkit: 'select',\n",
    "    if: '$get(eu).value', // 👀 Oooo, conditionals!\n",
    "    name: 'cookie_notice',\n",
    "    label: 'Cookie notice frequency',\n",
    "    options: {\n",
    "      refresh: 'Every page load',\n",
    "      hourly: 'Ever hour',\n",
    "      daily: 'Every day',\n",
    "    },\n",
    "    help: 'How often should we display a cookie notice?',\n",
    "  },\n",
    "]\n",
    "'''\n",
    "\n",
    "import json5\n",
    "schema_as_js = json5.loads(schema)"
   ]
  },
  {
   "cell_type": "code",
   "execution_count": null,
   "metadata": {},
   "outputs": [],
   "source": []
  },
  {
   "cell_type": "code",
   "execution_count": 16,
   "metadata": {},
   "outputs": [
    {
     "data": {
      "text/html": [
       "<pre style=\"white-space:pre;overflow-x:auto;line-height:normal;font-family:Menlo,'DejaVu Sans Mono',consolas,'Courier New',monospace\">┏━━━━━━━━━━┳━━━━━━━━━━━━━━━━━━━━━━━━━━━━━━━━━━━━━━┓\n",
       "┃<span style=\"font-weight: bold\"> Key      </span>┃<span style=\"font-weight: bold\"> Value                                </span>┃\n",
       "┡━━━━━━━━━━╇━━━━━━━━━━━━━━━━━━━━━━━━━━━━━━━━━━━━━━┩\n",
       "│<span style=\"color: #008080; text-decoration-color: #008080\"> $el      </span>│<span style=\"color: #800080; text-decoration-color: #800080\"> h1                                   </span>│\n",
       "│<span style=\"color: #008080; text-decoration-color: #008080\"> attrs    </span>│<span style=\"color: #800080; text-decoration-color: #800080\"> {'class': 'text-2xl font-bold mb-4'} </span>│\n",
       "│<span style=\"color: #008080; text-decoration-color: #008080\"> children </span>│<span style=\"color: #800080; text-decoration-color: #800080\"> Register                             </span>│\n",
       "└──────────┴──────────────────────────────────────┘\n",
       "</pre>\n"
      ],
      "text/plain": [
       "┏━━━━━━━━━━┳━━━━━━━━━━━━━━━━━━━━━━━━━━━━━━━━━━━━━━┓\n",
       "┃\u001b[1m \u001b[0m\u001b[1mKey     \u001b[0m\u001b[1m \u001b[0m┃\u001b[1m \u001b[0m\u001b[1mValue                               \u001b[0m\u001b[1m \u001b[0m┃\n",
       "┡━━━━━━━━━━╇━━━━━━━━━━━━━━━━━━━━━━━━━━━━━━━━━━━━━━┩\n",
       "│\u001b[36m \u001b[0m\u001b[36m$el     \u001b[0m\u001b[36m \u001b[0m│\u001b[35m \u001b[0m\u001b[35mh1                                  \u001b[0m\u001b[35m \u001b[0m│\n",
       "│\u001b[36m \u001b[0m\u001b[36mattrs   \u001b[0m\u001b[36m \u001b[0m│\u001b[35m \u001b[0m\u001b[35m{'class': 'text-2xl font-bold mb-4'}\u001b[0m\u001b[35m \u001b[0m│\n",
       "│\u001b[36m \u001b[0m\u001b[36mchildren\u001b[0m\u001b[36m \u001b[0m│\u001b[35m \u001b[0m\u001b[35mRegister                            \u001b[0m\u001b[35m \u001b[0m│\n",
       "└──────────┴──────────────────────────────────────┘\n"
      ]
     },
     "metadata": {},
     "output_type": "display_data"
    },
    {
     "data": {
      "text/html": [
       "<pre style=\"white-space:pre;overflow-x:auto;line-height:normal;font-family:Menlo,'DejaVu Sans Mono',consolas,'Courier New',monospace\">┏━━━━━━━━━━━━┳━━━━━━━━━━━━━━━━━━━━━━━━━━━━━━━━━━━━━┓\n",
       "┃<span style=\"font-weight: bold\"> Key        </span>┃<span style=\"font-weight: bold\"> Value                               </span>┃\n",
       "┡━━━━━━━━━━━━╇━━━━━━━━━━━━━━━━━━━━━━━━━━━━━━━━━━━━━┩\n",
       "│<span style=\"color: #008080; text-decoration-color: #008080\"> $formkit   </span>│<span style=\"color: #800080; text-decoration-color: #800080\"> text                                </span>│\n",
       "│<span style=\"color: #008080; text-decoration-color: #008080\"> help       </span>│<span style=\"color: #800080; text-decoration-color: #800080\"> This will be used for your account. </span>│\n",
       "│<span style=\"color: #008080; text-decoration-color: #008080\"> label      </span>│<span style=\"color: #800080; text-decoration-color: #800080\"> Email                               </span>│\n",
       "│<span style=\"color: #008080; text-decoration-color: #008080\"> name       </span>│<span style=\"color: #800080; text-decoration-color: #800080\"> email                               </span>│\n",
       "│<span style=\"color: #008080; text-decoration-color: #008080\"> validation </span>│<span style=\"color: #800080; text-decoration-color: #800080\"> required|email                      </span>│\n",
       "└────────────┴─────────────────────────────────────┘\n",
       "</pre>\n"
      ],
      "text/plain": [
       "┏━━━━━━━━━━━━┳━━━━━━━━━━━━━━━━━━━━━━━━━━━━━━━━━━━━━┓\n",
       "┃\u001b[1m \u001b[0m\u001b[1mKey       \u001b[0m\u001b[1m \u001b[0m┃\u001b[1m \u001b[0m\u001b[1mValue                              \u001b[0m\u001b[1m \u001b[0m┃\n",
       "┡━━━━━━━━━━━━╇━━━━━━━━━━━━━━━━━━━━━━━━━━━━━━━━━━━━━┩\n",
       "│\u001b[36m \u001b[0m\u001b[36m$formkit  \u001b[0m\u001b[36m \u001b[0m│\u001b[35m \u001b[0m\u001b[35mtext                               \u001b[0m\u001b[35m \u001b[0m│\n",
       "│\u001b[36m \u001b[0m\u001b[36mhelp      \u001b[0m\u001b[36m \u001b[0m│\u001b[35m \u001b[0m\u001b[35mThis will be used for your account.\u001b[0m\u001b[35m \u001b[0m│\n",
       "│\u001b[36m \u001b[0m\u001b[36mlabel     \u001b[0m\u001b[36m \u001b[0m│\u001b[35m \u001b[0m\u001b[35mEmail                              \u001b[0m\u001b[35m \u001b[0m│\n",
       "│\u001b[36m \u001b[0m\u001b[36mname      \u001b[0m\u001b[36m \u001b[0m│\u001b[35m \u001b[0m\u001b[35memail                              \u001b[0m\u001b[35m \u001b[0m│\n",
       "│\u001b[36m \u001b[0m\u001b[36mvalidation\u001b[0m\u001b[36m \u001b[0m│\u001b[35m \u001b[0m\u001b[35mrequired|email                     \u001b[0m\u001b[35m \u001b[0m│\n",
       "└────────────┴─────────────────────────────────────┘\n"
      ]
     },
     "metadata": {},
     "output_type": "display_data"
    },
    {
     "data": {
      "text/html": [
       "<pre style=\"white-space:pre;overflow-x:auto;line-height:normal;font-family:Menlo,'DejaVu Sans Mono',consolas,'Courier New',monospace\">┏━━━━━━━━━━━━┳━━━━━━━━━━━━━━━━━━━━━━━━━━┓\n",
       "┃<span style=\"font-weight: bold\"> Key        </span>┃<span style=\"font-weight: bold\"> Value                    </span>┃\n",
       "┡━━━━━━━━━━━━╇━━━━━━━━━━━━━━━━━━━━━━━━━━┩\n",
       "│<span style=\"color: #008080; text-decoration-color: #008080\"> $formkit   </span>│<span style=\"color: #800080; text-decoration-color: #800080\"> password                 </span>│\n",
       "│<span style=\"color: #008080; text-decoration-color: #008080\"> help       </span>│<span style=\"color: #800080; text-decoration-color: #800080\"> Enter your new password. </span>│\n",
       "│<span style=\"color: #008080; text-decoration-color: #008080\"> label      </span>│<span style=\"color: #800080; text-decoration-color: #800080\"> Password                 </span>│\n",
       "│<span style=\"color: #008080; text-decoration-color: #008080\"> name       </span>│<span style=\"color: #800080; text-decoration-color: #800080\"> password                 </span>│\n",
       "│<span style=\"color: #008080; text-decoration-color: #008080\"> validation </span>│<span style=\"color: #800080; text-decoration-color: #800080\"> required|length:5,16     </span>│\n",
       "└────────────┴──────────────────────────┘\n",
       "</pre>\n"
      ],
      "text/plain": [
       "┏━━━━━━━━━━━━┳━━━━━━━━━━━━━━━━━━━━━━━━━━┓\n",
       "┃\u001b[1m \u001b[0m\u001b[1mKey       \u001b[0m\u001b[1m \u001b[0m┃\u001b[1m \u001b[0m\u001b[1mValue                   \u001b[0m\u001b[1m \u001b[0m┃\n",
       "┡━━━━━━━━━━━━╇━━━━━━━━━━━━━━━━━━━━━━━━━━┩\n",
       "│\u001b[36m \u001b[0m\u001b[36m$formkit  \u001b[0m\u001b[36m \u001b[0m│\u001b[35m \u001b[0m\u001b[35mpassword                \u001b[0m\u001b[35m \u001b[0m│\n",
       "│\u001b[36m \u001b[0m\u001b[36mhelp      \u001b[0m\u001b[36m \u001b[0m│\u001b[35m \u001b[0m\u001b[35mEnter your new password.\u001b[0m\u001b[35m \u001b[0m│\n",
       "│\u001b[36m \u001b[0m\u001b[36mlabel     \u001b[0m\u001b[36m \u001b[0m│\u001b[35m \u001b[0m\u001b[35mPassword                \u001b[0m\u001b[35m \u001b[0m│\n",
       "│\u001b[36m \u001b[0m\u001b[36mname      \u001b[0m\u001b[36m \u001b[0m│\u001b[35m \u001b[0m\u001b[35mpassword                \u001b[0m\u001b[35m \u001b[0m│\n",
       "│\u001b[36m \u001b[0m\u001b[36mvalidation\u001b[0m\u001b[36m \u001b[0m│\u001b[35m \u001b[0m\u001b[35mrequired|length:5,16    \u001b[0m\u001b[35m \u001b[0m│\n",
       "└────────────┴──────────────────────────┘\n"
      ]
     },
     "metadata": {},
     "output_type": "display_data"
    },
    {
     "data": {
      "text/html": [
       "<pre style=\"white-space:pre;overflow-x:auto;line-height:normal;font-family:Menlo,'DejaVu Sans Mono',consolas,'Courier New',monospace\">┏━━━━━━━━━━━━━━━━━┳━━━━━━━━━━━━━━━━━━━━━━━━━━━━━━━━━━━━━━━━━━━━━━┓\n",
       "┃<span style=\"font-weight: bold\"> Key             </span>┃<span style=\"font-weight: bold\"> Value                                        </span>┃\n",
       "┡━━━━━━━━━━━━━━━━━╇━━━━━━━━━━━━━━━━━━━━━━━━━━━━━━━━━━━━━━━━━━━━━━┩\n",
       "│<span style=\"color: #008080; text-decoration-color: #008080\"> $formkit        </span>│<span style=\"color: #800080; text-decoration-color: #800080\"> password                                     </span>│\n",
       "│<span style=\"color: #008080; text-decoration-color: #008080\"> help            </span>│<span style=\"color: #800080; text-decoration-color: #800080\"> Enter your new password again to confirm it. </span>│\n",
       "│<span style=\"color: #008080; text-decoration-color: #008080\"> label           </span>│<span style=\"color: #800080; text-decoration-color: #800080\"> Confirm password                             </span>│\n",
       "│<span style=\"color: #008080; text-decoration-color: #008080\"> name            </span>│<span style=\"color: #800080; text-decoration-color: #800080\"> password_confirm                             </span>│\n",
       "│<span style=\"color: #008080; text-decoration-color: #008080\"> validation      </span>│<span style=\"color: #800080; text-decoration-color: #800080\"> required|confirm                             </span>│\n",
       "│<span style=\"color: #008080; text-decoration-color: #008080\"> validationLabel </span>│<span style=\"color: #800080; text-decoration-color: #800080\"> password confirmation                        </span>│\n",
       "└─────────────────┴──────────────────────────────────────────────┘\n",
       "</pre>\n"
      ],
      "text/plain": [
       "┏━━━━━━━━━━━━━━━━━┳━━━━━━━━━━━━━━━━━━━━━━━━━━━━━━━━━━━━━━━━━━━━━━┓\n",
       "┃\u001b[1m \u001b[0m\u001b[1mKey            \u001b[0m\u001b[1m \u001b[0m┃\u001b[1m \u001b[0m\u001b[1mValue                                       \u001b[0m\u001b[1m \u001b[0m┃\n",
       "┡━━━━━━━━━━━━━━━━━╇━━━━━━━━━━━━━━━━━━━━━━━━━━━━━━━━━━━━━━━━━━━━━━┩\n",
       "│\u001b[36m \u001b[0m\u001b[36m$formkit       \u001b[0m\u001b[36m \u001b[0m│\u001b[35m \u001b[0m\u001b[35mpassword                                    \u001b[0m\u001b[35m \u001b[0m│\n",
       "│\u001b[36m \u001b[0m\u001b[36mhelp           \u001b[0m\u001b[36m \u001b[0m│\u001b[35m \u001b[0m\u001b[35mEnter your new password again to confirm it.\u001b[0m\u001b[35m \u001b[0m│\n",
       "│\u001b[36m \u001b[0m\u001b[36mlabel          \u001b[0m\u001b[36m \u001b[0m│\u001b[35m \u001b[0m\u001b[35mConfirm password                            \u001b[0m\u001b[35m \u001b[0m│\n",
       "│\u001b[36m \u001b[0m\u001b[36mname           \u001b[0m\u001b[36m \u001b[0m│\u001b[35m \u001b[0m\u001b[35mpassword_confirm                            \u001b[0m\u001b[35m \u001b[0m│\n",
       "│\u001b[36m \u001b[0m\u001b[36mvalidation     \u001b[0m\u001b[36m \u001b[0m│\u001b[35m \u001b[0m\u001b[35mrequired|confirm                            \u001b[0m\u001b[35m \u001b[0m│\n",
       "│\u001b[36m \u001b[0m\u001b[36mvalidationLabel\u001b[0m\u001b[36m \u001b[0m│\u001b[35m \u001b[0m\u001b[35mpassword confirmation                       \u001b[0m\u001b[35m \u001b[0m│\n",
       "└─────────────────┴──────────────────────────────────────────────┘\n"
      ]
     },
     "metadata": {},
     "output_type": "display_data"
    },
    {
     "data": {
      "text/html": [
       "<pre style=\"white-space:pre;overflow-x:auto;line-height:normal;font-family:Menlo,'DejaVu Sans Mono',consolas,'Courier New',monospace\">┏━━━━━━━┳━━━━━━━━━━━━━━━━━━━━━━━━━━━━━━━━━━━━━━━━━━━━━━━━━━━━━━━━━━━━━━━━━━━━━━━━━━━━━━━━━━━━━━━━━━━━━━━━┓\n",
       "┃<span style=\"font-weight: bold\"> Key   </span>┃<span style=\"font-weight: bold\"> Value                                                                                          </span>┃\n",
       "┡━━━━━━━╇━━━━━━━━━━━━━━━━━━━━━━━━━━━━━━━━━━━━━━━━━━━━━━━━━━━━━━━━━━━━━━━━━━━━━━━━━━━━━━━━━━━━━━━━━━━━━━━━┩\n",
       "│<span style=\"color: #008080; text-decoration-color: #008080\"> $cmp  </span>│<span style=\"color: #800080; text-decoration-color: #800080\"> FormKit                                                                                        </span>│\n",
       "│<span style=\"color: #008080; text-decoration-color: #008080\"> props </span>│<span style=\"color: #800080; text-decoration-color: #800080\"> {'name': 'eu_citizen', 'type': 'checkbox', 'id': 'eu', 'label': 'Are you a european citizen?'} </span>│\n",
       "└───────┴────────────────────────────────────────────────────────────────────────────────────────────────┘\n",
       "</pre>\n"
      ],
      "text/plain": [
       "┏━━━━━━━┳━━━━━━━━━━━━━━━━━━━━━━━━━━━━━━━━━━━━━━━━━━━━━━━━━━━━━━━━━━━━━━━━━━━━━━━━━━━━━━━━━━━━━━━━━━━━━━━━┓\n",
       "┃\u001b[1m \u001b[0m\u001b[1mKey  \u001b[0m\u001b[1m \u001b[0m┃\u001b[1m \u001b[0m\u001b[1mValue                                                                                         \u001b[0m\u001b[1m \u001b[0m┃\n",
       "┡━━━━━━━╇━━━━━━━━━━━━━━━━━━━━━━━━━━━━━━━━━━━━━━━━━━━━━━━━━━━━━━━━━━━━━━━━━━━━━━━━━━━━━━━━━━━━━━━━━━━━━━━━┩\n",
       "│\u001b[36m \u001b[0m\u001b[36m$cmp \u001b[0m\u001b[36m \u001b[0m│\u001b[35m \u001b[0m\u001b[35mFormKit                                                                                       \u001b[0m\u001b[35m \u001b[0m│\n",
       "│\u001b[36m \u001b[0m\u001b[36mprops\u001b[0m\u001b[36m \u001b[0m│\u001b[35m \u001b[0m\u001b[35m{'name': 'eu_citizen', 'type': 'checkbox', 'id': 'eu', 'label': 'Are you a european citizen?'}\u001b[0m\u001b[35m \u001b[0m│\n",
       "└───────┴────────────────────────────────────────────────────────────────────────────────────────────────┘\n"
      ]
     },
     "metadata": {},
     "output_type": "display_data"
    },
    {
     "data": {
      "text/html": [
       "<pre style=\"white-space:pre;overflow-x:auto;line-height:normal;font-family:Menlo,'DejaVu Sans Mono',consolas,'Courier New',monospace\">┏━━━━━━━━━━┳━━━━━━━━━━━━━━━━━━━━━━━━━━━━━━━━━━━━━━━━━━━━━━━━━━━━━━━━━━━━━━━━━━━━━━━━━━━━━┓\n",
       "┃<span style=\"font-weight: bold\"> Key      </span>┃<span style=\"font-weight: bold\"> Value                                                                       </span>┃\n",
       "┡━━━━━━━━━━╇━━━━━━━━━━━━━━━━━━━━━━━━━━━━━━━━━━━━━━━━━━━━━━━━━━━━━━━━━━━━━━━━━━━━━━━━━━━━━┩\n",
       "│<span style=\"color: #008080; text-decoration-color: #008080\"> $formkit </span>│<span style=\"color: #800080; text-decoration-color: #800080\"> select                                                                      </span>│\n",
       "│<span style=\"color: #008080; text-decoration-color: #008080\"> help     </span>│<span style=\"color: #800080; text-decoration-color: #800080\"> How often should we display a cookie notice?                                </span>│\n",
       "│<span style=\"color: #008080; text-decoration-color: #008080\"> if       </span>│<span style=\"color: #800080; text-decoration-color: #800080\"> $get(eu).value                                                              </span>│\n",
       "│<span style=\"color: #008080; text-decoration-color: #008080\"> label    </span>│<span style=\"color: #800080; text-decoration-color: #800080\"> Cookie notice frequency                                                     </span>│\n",
       "│<span style=\"color: #008080; text-decoration-color: #008080\"> name     </span>│<span style=\"color: #800080; text-decoration-color: #800080\"> cookie_notice                                                               </span>│\n",
       "│<span style=\"color: #008080; text-decoration-color: #008080\"> options  </span>│<span style=\"color: #800080; text-decoration-color: #800080\"> {'refresh': 'Every page load', 'hourly': 'Ever hour', 'daily': 'Every day'} </span>│\n",
       "└──────────┴─────────────────────────────────────────────────────────────────────────────┘\n",
       "</pre>\n"
      ],
      "text/plain": [
       "┏━━━━━━━━━━┳━━━━━━━━━━━━━━━━━━━━━━━━━━━━━━━━━━━━━━━━━━━━━━━━━━━━━━━━━━━━━━━━━━━━━━━━━━━━━┓\n",
       "┃\u001b[1m \u001b[0m\u001b[1mKey     \u001b[0m\u001b[1m \u001b[0m┃\u001b[1m \u001b[0m\u001b[1mValue                                                                      \u001b[0m\u001b[1m \u001b[0m┃\n",
       "┡━━━━━━━━━━╇━━━━━━━━━━━━━━━━━━━━━━━━━━━━━━━━━━━━━━━━━━━━━━━━━━━━━━━━━━━━━━━━━━━━━━━━━━━━━┩\n",
       "│\u001b[36m \u001b[0m\u001b[36m$formkit\u001b[0m\u001b[36m \u001b[0m│\u001b[35m \u001b[0m\u001b[35mselect                                                                     \u001b[0m\u001b[35m \u001b[0m│\n",
       "│\u001b[36m \u001b[0m\u001b[36mhelp    \u001b[0m\u001b[36m \u001b[0m│\u001b[35m \u001b[0m\u001b[35mHow often should we display a cookie notice?                               \u001b[0m\u001b[35m \u001b[0m│\n",
       "│\u001b[36m \u001b[0m\u001b[36mif      \u001b[0m\u001b[36m \u001b[0m│\u001b[35m \u001b[0m\u001b[35m$get(eu).value                                                             \u001b[0m\u001b[35m \u001b[0m│\n",
       "│\u001b[36m \u001b[0m\u001b[36mlabel   \u001b[0m\u001b[36m \u001b[0m│\u001b[35m \u001b[0m\u001b[35mCookie notice frequency                                                    \u001b[0m\u001b[35m \u001b[0m│\n",
       "│\u001b[36m \u001b[0m\u001b[36mname    \u001b[0m\u001b[36m \u001b[0m│\u001b[35m \u001b[0m\u001b[35mcookie_notice                                                              \u001b[0m\u001b[35m \u001b[0m│\n",
       "│\u001b[36m \u001b[0m\u001b[36moptions \u001b[0m\u001b[36m \u001b[0m│\u001b[35m \u001b[0m\u001b[35m{'refresh': 'Every page load', 'hourly': 'Ever hour', 'daily': 'Every day'}\u001b[0m\u001b[35m \u001b[0m│\n",
       "└──────────┴─────────────────────────────────────────────────────────────────────────────┘\n"
      ]
     },
     "metadata": {},
     "output_type": "display_data"
    }
   ],
   "source": [
    "# So, what happens when we try to parse this?\n",
    "# It's a list of FormKitNodes\n",
    "for n in schema_as_js:\n",
    "    kvtable(n)"
   ]
  },
  {
   "cell_type": "code",
   "execution_count": 17,
   "metadata": {},
   "outputs": [
    {
     "data": {
      "text/html": [
       "<pre style=\"white-space:pre;overflow-x:auto;line-height:normal;font-family:Menlo,'DejaVu Sans Mono',consolas,'Courier New',monospace\"><span style=\"color: #7fbfbf; text-decoration-color: #7fbfbf\">           </span><span style=\"color: #008000; text-decoration-color: #008000\">Creating  </span><span style=\"color: #008000; text-decoration-color: #008000\">d9933d07-4216-4cb9-8b6e-8e50edd830a2</span>                                             <a href=\"file:///app/src/formkit_ninja/models.py\" target=\"_blank\"><span style=\"color: #7f7f7f; text-decoration-color: #7f7f7f\">models.py</span></a><span style=\"color: #7f7f7f; text-decoration-color: #7f7f7f\">:</span><a href=\"file:///app/src/formkit_ninja/models.py#571\" target=\"_blank\"><span style=\"color: #7f7f7f; text-decoration-color: #7f7f7f\">571</span></a>\n",
       "</pre>\n"
      ],
      "text/plain": [
       "\u001b[2;36m          \u001b[0m\u001b[2;36m \u001b[0m\u001b[32mCreating  \u001b[0m\u001b[32md9933d07-4216-4cb9-8b6e-8e50edd830a2\u001b[0m                                             \u001b]8;id=571736;file:///app/src/formkit_ninja/models.py\u001b\\\u001b[2mmodels.py\u001b[0m\u001b]8;;\u001b\\\u001b[2m:\u001b[0m\u001b]8;id=778473;file:///app/src/formkit_ninja/models.py#571\u001b\\\u001b[2m571\u001b[0m\u001b]8;;\u001b\\\n"
      ]
     },
     "metadata": {},
     "output_type": "display_data"
    },
    {
     "data": {
      "text/html": [
       "<pre style=\"white-space:pre;overflow-x:auto;line-height:normal;font-family:Menlo,'DejaVu Sans Mono',consolas,'Courier New',monospace\"><span style=\"color: #7fbfbf; text-decoration-color: #7fbfbf\">           </span><span style=\"color: #008000; text-decoration-color: #008000\">Yielding: $el </span><span style=\"color: #008000; text-decoration-color: #008000\">d9933d07-4216-4cb9-8b6e-8e50edd830a2</span>                                         <a href=\"file:///app/src/formkit_ninja/models.py\" target=\"_blank\"><span style=\"color: #7f7f7f; text-decoration-color: #7f7f7f\">models.py</span></a><span style=\"color: #7f7f7f; text-decoration-color: #7f7f7f\">:</span><a href=\"file:///app/src/formkit_ninja/models.py#593\" target=\"_blank\"><span style=\"color: #7f7f7f; text-decoration-color: #7f7f7f\">593</span></a>\n",
       "</pre>\n"
      ],
      "text/plain": [
       "\u001b[2;36m          \u001b[0m\u001b[2;36m \u001b[0m\u001b[32mYielding: $el \u001b[0m\u001b[32md9933d07-4216-4cb9-8b6e-8e50edd830a2\u001b[0m                                         \u001b]8;id=419870;file:///app/src/formkit_ninja/models.py\u001b\\\u001b[2mmodels.py\u001b[0m\u001b]8;;\u001b\\\u001b[2m:\u001b[0m\u001b]8;id=521789;file:///app/src/formkit_ninja/models.py#593\u001b\\\u001b[2m593\u001b[0m\u001b]8;;\u001b\\\n"
      ]
     },
     "metadata": {},
     "output_type": "display_data"
    },
    {
     "data": {
      "text/html": [
       "<pre style=\"white-space:pre;overflow-x:auto;line-height:normal;font-family:Menlo,'DejaVu Sans Mono',consolas,'Courier New',monospace\"><span style=\"color: #7fbfbf; text-decoration-color: #7fbfbf\">           </span>    Node: Register                                                                         <a href=\"file:///app/src/formkit_ninja/models.py\" target=\"_blank\"><span style=\"color: #7f7f7f; text-decoration-color: #7f7f7f\">models.py</span></a><span style=\"color: #7f7f7f; text-decoration-color: #7f7f7f\">:</span><a href=\"file:///app/src/formkit_ninja/models.py#636\" target=\"_blank\"><span style=\"color: #7f7f7f; text-decoration-color: #7f7f7f\">636</span></a>\n",
       "</pre>\n"
      ],
      "text/plain": [
       "\u001b[2;36m          \u001b[0m\u001b[2;36m \u001b[0m    Node: Register                                                                         \u001b]8;id=328986;file:///app/src/formkit_ninja/models.py\u001b\\\u001b[2mmodels.py\u001b[0m\u001b]8;;\u001b\\\u001b[2m:\u001b[0m\u001b]8;id=535476;file:///app/src/formkit_ninja/models.py#636\u001b\\\u001b[2m636\u001b[0m\u001b]8;;\u001b\\\n"
      ]
     },
     "metadata": {},
     "output_type": "display_data"
    },
    {
     "data": {
      "text/html": [
       "<pre style=\"white-space:pre;overflow-x:auto;line-height:normal;font-family:Menlo,'DejaVu Sans Mono',consolas,'Courier New',monospace\"><span style=\"color: #7fbfbf; text-decoration-color: #7fbfbf\">           </span><span style=\"color: #808000; text-decoration-color: #808000\">Saving $el </span><span style=\"color: #808000; text-decoration-color: #808000\">d9933d07-4216-4cb9-8b6e-8e50edd830a2</span>                                            <a href=\"file:///app/src/formkit_ninja/models.py\" target=\"_blank\"><span style=\"color: #7f7f7f; text-decoration-color: #7f7f7f\">models.py</span></a><span style=\"color: #7f7f7f; text-decoration-color: #7f7f7f\">:</span><a href=\"file:///app/src/formkit_ninja/models.py#765\" target=\"_blank\"><span style=\"color: #7f7f7f; text-decoration-color: #7f7f7f\">765</span></a>\n",
       "</pre>\n"
      ],
      "text/plain": [
       "\u001b[2;36m          \u001b[0m\u001b[2;36m \u001b[0m\u001b[33mSaving $el \u001b[0m\u001b[33md9933d07-4216-4cb9-8b6e-8e50edd830a2\u001b[0m                                            \u001b]8;id=843172;file:///app/src/formkit_ninja/models.py\u001b\\\u001b[2mmodels.py\u001b[0m\u001b]8;;\u001b\\\u001b[2m:\u001b[0m\u001b]8;id=812932;file:///app/src/formkit_ninja/models.py#765\u001b\\\u001b[2m765\u001b[0m\u001b]8;;\u001b\\\n"
      ]
     },
     "metadata": {},
     "output_type": "display_data"
    },
    {
     "data": {
      "text/html": [
       "<pre style=\"white-space:pre;overflow-x:auto;line-height:normal;font-family:Menlo,'DejaVu Sans Mono',consolas,'Courier New',monospace\"><span style=\"color: #7fbfbf; text-decoration-color: #7fbfbf\">           </span><span style=\"color: #008000; text-decoration-color: #008000\">Creating  </span><span style=\"color: #008000; text-decoration-color: #008000\">5207ecdd-757c-49ad-923d-f3929d908bf6</span>                                             <a href=\"file:///app/src/formkit_ninja/models.py\" target=\"_blank\"><span style=\"color: #7f7f7f; text-decoration-color: #7f7f7f\">models.py</span></a><span style=\"color: #7f7f7f; text-decoration-color: #7f7f7f\">:</span><a href=\"file:///app/src/formkit_ninja/models.py#571\" target=\"_blank\"><span style=\"color: #7f7f7f; text-decoration-color: #7f7f7f\">571</span></a>\n",
       "</pre>\n"
      ],
      "text/plain": [
       "\u001b[2;36m          \u001b[0m\u001b[2;36m \u001b[0m\u001b[32mCreating  \u001b[0m\u001b[32m5207ecdd-757c-49ad-923d-f3929d908bf6\u001b[0m                                             \u001b]8;id=709744;file:///app/src/formkit_ninja/models.py\u001b\\\u001b[2mmodels.py\u001b[0m\u001b]8;;\u001b\\\u001b[2m:\u001b[0m\u001b]8;id=664667;file:///app/src/formkit_ninja/models.py#571\u001b\\\u001b[2m571\u001b[0m\u001b]8;;\u001b\\\n"
      ]
     },
     "metadata": {},
     "output_type": "display_data"
    },
    {
     "data": {
      "text/html": [
       "<pre style=\"white-space:pre;overflow-x:auto;line-height:normal;font-family:Menlo,'DejaVu Sans Mono',consolas,'Courier New',monospace\"><span style=\"color: #7fbfbf; text-decoration-color: #7fbfbf\">           </span><span style=\"color: #008000; text-decoration-color: #008000\">Yielding: Node: email</span>                                                                      <a href=\"file:///app/src/formkit_ninja/models.py\" target=\"_blank\"><span style=\"color: #7f7f7f; text-decoration-color: #7f7f7f\">models.py</span></a><span style=\"color: #7f7f7f; text-decoration-color: #7f7f7f\">:</span><a href=\"file:///app/src/formkit_ninja/models.py#593\" target=\"_blank\"><span style=\"color: #7f7f7f; text-decoration-color: #7f7f7f\">593</span></a>\n",
       "</pre>\n"
      ],
      "text/plain": [
       "\u001b[2;36m          \u001b[0m\u001b[2;36m \u001b[0m\u001b[32mYielding: Node: email\u001b[0m                                                                      \u001b]8;id=234987;file:///app/src/formkit_ninja/models.py\u001b\\\u001b[2mmodels.py\u001b[0m\u001b]8;;\u001b\\\u001b[2m:\u001b[0m\u001b]8;id=307013;file:///app/src/formkit_ninja/models.py#593\u001b\\\u001b[2m593\u001b[0m\u001b]8;;\u001b\\\n"
      ]
     },
     "metadata": {},
     "output_type": "display_data"
    },
    {
     "data": {
      "text/html": [
       "<pre style=\"white-space:pre;overflow-x:auto;line-height:normal;font-family:Menlo,'DejaVu Sans Mono',consolas,'Courier New',monospace\"><span style=\"color: #7fbfbf; text-decoration-color: #7fbfbf\">           </span><span style=\"color: #808000; text-decoration-color: #808000\">Saving Node: email</span>                                                                         <a href=\"file:///app/src/formkit_ninja/models.py\" target=\"_blank\"><span style=\"color: #7f7f7f; text-decoration-color: #7f7f7f\">models.py</span></a><span style=\"color: #7f7f7f; text-decoration-color: #7f7f7f\">:</span><a href=\"file:///app/src/formkit_ninja/models.py#765\" target=\"_blank\"><span style=\"color: #7f7f7f; text-decoration-color: #7f7f7f\">765</span></a>\n",
       "</pre>\n"
      ],
      "text/plain": [
       "\u001b[2;36m          \u001b[0m\u001b[2;36m \u001b[0m\u001b[33mSaving Node: email\u001b[0m                                                                         \u001b]8;id=901660;file:///app/src/formkit_ninja/models.py\u001b\\\u001b[2mmodels.py\u001b[0m\u001b]8;;\u001b\\\u001b[2m:\u001b[0m\u001b]8;id=846539;file:///app/src/formkit_ninja/models.py#765\u001b\\\u001b[2m765\u001b[0m\u001b]8;;\u001b\\\n"
      ]
     },
     "metadata": {},
     "output_type": "display_data"
    },
    {
     "data": {
      "text/html": [
       "<pre style=\"white-space:pre;overflow-x:auto;line-height:normal;font-family:Menlo,'DejaVu Sans Mono',consolas,'Courier New',monospace\"><span style=\"color: #7fbfbf; text-decoration-color: #7fbfbf\">           </span><span style=\"color: #008000; text-decoration-color: #008000\">Creating  </span><span style=\"color: #008000; text-decoration-color: #008000\">3423536b-f96c-4d72-bbb3-a8550bf60fb9</span>                                             <a href=\"file:///app/src/formkit_ninja/models.py\" target=\"_blank\"><span style=\"color: #7f7f7f; text-decoration-color: #7f7f7f\">models.py</span></a><span style=\"color: #7f7f7f; text-decoration-color: #7f7f7f\">:</span><a href=\"file:///app/src/formkit_ninja/models.py#571\" target=\"_blank\"><span style=\"color: #7f7f7f; text-decoration-color: #7f7f7f\">571</span></a>\n",
       "</pre>\n"
      ],
      "text/plain": [
       "\u001b[2;36m          \u001b[0m\u001b[2;36m \u001b[0m\u001b[32mCreating  \u001b[0m\u001b[32m3423536b-f96c-4d72-bbb3-a8550bf60fb9\u001b[0m                                             \u001b]8;id=224217;file:///app/src/formkit_ninja/models.py\u001b\\\u001b[2mmodels.py\u001b[0m\u001b]8;;\u001b\\\u001b[2m:\u001b[0m\u001b]8;id=918182;file:///app/src/formkit_ninja/models.py#571\u001b\\\u001b[2m571\u001b[0m\u001b]8;;\u001b\\\n"
      ]
     },
     "metadata": {},
     "output_type": "display_data"
    },
    {
     "data": {
      "text/html": [
       "<pre style=\"white-space:pre;overflow-x:auto;line-height:normal;font-family:Menlo,'DejaVu Sans Mono',consolas,'Courier New',monospace\"><span style=\"color: #7fbfbf; text-decoration-color: #7fbfbf\">           </span><span style=\"color: #008000; text-decoration-color: #008000\">Yielding: Node: password</span>                                                                   <a href=\"file:///app/src/formkit_ninja/models.py\" target=\"_blank\"><span style=\"color: #7f7f7f; text-decoration-color: #7f7f7f\">models.py</span></a><span style=\"color: #7f7f7f; text-decoration-color: #7f7f7f\">:</span><a href=\"file:///app/src/formkit_ninja/models.py#593\" target=\"_blank\"><span style=\"color: #7f7f7f; text-decoration-color: #7f7f7f\">593</span></a>\n",
       "</pre>\n"
      ],
      "text/plain": [
       "\u001b[2;36m          \u001b[0m\u001b[2;36m \u001b[0m\u001b[32mYielding: Node: password\u001b[0m                                                                   \u001b]8;id=566802;file:///app/src/formkit_ninja/models.py\u001b\\\u001b[2mmodels.py\u001b[0m\u001b]8;;\u001b\\\u001b[2m:\u001b[0m\u001b]8;id=297903;file:///app/src/formkit_ninja/models.py#593\u001b\\\u001b[2m593\u001b[0m\u001b]8;;\u001b\\\n"
      ]
     },
     "metadata": {},
     "output_type": "display_data"
    },
    {
     "data": {
      "text/html": [
       "<pre style=\"white-space:pre;overflow-x:auto;line-height:normal;font-family:Menlo,'DejaVu Sans Mono',consolas,'Courier New',monospace\"><span style=\"color: #7fbfbf; text-decoration-color: #7fbfbf\">           </span><span style=\"color: #808000; text-decoration-color: #808000\">Saving Node: password</span>                                                                      <a href=\"file:///app/src/formkit_ninja/models.py\" target=\"_blank\"><span style=\"color: #7f7f7f; text-decoration-color: #7f7f7f\">models.py</span></a><span style=\"color: #7f7f7f; text-decoration-color: #7f7f7f\">:</span><a href=\"file:///app/src/formkit_ninja/models.py#765\" target=\"_blank\"><span style=\"color: #7f7f7f; text-decoration-color: #7f7f7f\">765</span></a>\n",
       "</pre>\n"
      ],
      "text/plain": [
       "\u001b[2;36m          \u001b[0m\u001b[2;36m \u001b[0m\u001b[33mSaving Node: password\u001b[0m                                                                      \u001b]8;id=516257;file:///app/src/formkit_ninja/models.py\u001b\\\u001b[2mmodels.py\u001b[0m\u001b]8;;\u001b\\\u001b[2m:\u001b[0m\u001b]8;id=621207;file:///app/src/formkit_ninja/models.py#765\u001b\\\u001b[2m765\u001b[0m\u001b]8;;\u001b\\\n"
      ]
     },
     "metadata": {},
     "output_type": "display_data"
    },
    {
     "data": {
      "text/html": [
       "<pre style=\"white-space:pre;overflow-x:auto;line-height:normal;font-family:Menlo,'DejaVu Sans Mono',consolas,'Courier New',monospace\"><span style=\"color: #7fbfbf; text-decoration-color: #7fbfbf\">           </span><span style=\"color: #008000; text-decoration-color: #008000\">Creating  </span><span style=\"color: #008000; text-decoration-color: #008000\">e1589784-57d7-46eb-acf0-741dbecde066</span>                                             <a href=\"file:///app/src/formkit_ninja/models.py\" target=\"_blank\"><span style=\"color: #7f7f7f; text-decoration-color: #7f7f7f\">models.py</span></a><span style=\"color: #7f7f7f; text-decoration-color: #7f7f7f\">:</span><a href=\"file:///app/src/formkit_ninja/models.py#571\" target=\"_blank\"><span style=\"color: #7f7f7f; text-decoration-color: #7f7f7f\">571</span></a>\n",
       "</pre>\n"
      ],
      "text/plain": [
       "\u001b[2;36m          \u001b[0m\u001b[2;36m \u001b[0m\u001b[32mCreating  \u001b[0m\u001b[32me1589784-57d7-46eb-acf0-741dbecde066\u001b[0m                                             \u001b]8;id=971701;file:///app/src/formkit_ninja/models.py\u001b\\\u001b[2mmodels.py\u001b[0m\u001b]8;;\u001b\\\u001b[2m:\u001b[0m\u001b]8;id=507779;file:///app/src/formkit_ninja/models.py#571\u001b\\\u001b[2m571\u001b[0m\u001b]8;;\u001b\\\n"
      ]
     },
     "metadata": {},
     "output_type": "display_data"
    },
    {
     "data": {
      "text/html": [
       "<pre style=\"white-space:pre;overflow-x:auto;line-height:normal;font-family:Menlo,'DejaVu Sans Mono',consolas,'Courier New',monospace\"><span style=\"color: #7fbfbf; text-decoration-color: #7fbfbf\">           </span><span style=\"color: #008000; text-decoration-color: #008000\">Yielding: Node: password_confirm</span>                                                           <a href=\"file:///app/src/formkit_ninja/models.py\" target=\"_blank\"><span style=\"color: #7f7f7f; text-decoration-color: #7f7f7f\">models.py</span></a><span style=\"color: #7f7f7f; text-decoration-color: #7f7f7f\">:</span><a href=\"file:///app/src/formkit_ninja/models.py#593\" target=\"_blank\"><span style=\"color: #7f7f7f; text-decoration-color: #7f7f7f\">593</span></a>\n",
       "</pre>\n"
      ],
      "text/plain": [
       "\u001b[2;36m          \u001b[0m\u001b[2;36m \u001b[0m\u001b[32mYielding: Node: password_confirm\u001b[0m                                                           \u001b]8;id=991247;file:///app/src/formkit_ninja/models.py\u001b\\\u001b[2mmodels.py\u001b[0m\u001b]8;;\u001b\\\u001b[2m:\u001b[0m\u001b]8;id=387056;file:///app/src/formkit_ninja/models.py#593\u001b\\\u001b[2m593\u001b[0m\u001b]8;;\u001b\\\n"
      ]
     },
     "metadata": {},
     "output_type": "display_data"
    },
    {
     "data": {
      "text/html": [
       "<pre style=\"white-space:pre;overflow-x:auto;line-height:normal;font-family:Menlo,'DejaVu Sans Mono',consolas,'Courier New',monospace\"><span style=\"color: #7fbfbf; text-decoration-color: #7fbfbf\">           </span><span style=\"color: #808000; text-decoration-color: #808000\">Saving Node: password_confirm</span>                                                              <a href=\"file:///app/src/formkit_ninja/models.py\" target=\"_blank\"><span style=\"color: #7f7f7f; text-decoration-color: #7f7f7f\">models.py</span></a><span style=\"color: #7f7f7f; text-decoration-color: #7f7f7f\">:</span><a href=\"file:///app/src/formkit_ninja/models.py#765\" target=\"_blank\"><span style=\"color: #7f7f7f; text-decoration-color: #7f7f7f\">765</span></a>\n",
       "</pre>\n"
      ],
      "text/plain": [
       "\u001b[2;36m          \u001b[0m\u001b[2;36m \u001b[0m\u001b[33mSaving Node: password_confirm\u001b[0m                                                              \u001b]8;id=345720;file:///app/src/formkit_ninja/models.py\u001b\\\u001b[2mmodels.py\u001b[0m\u001b]8;;\u001b\\\u001b[2m:\u001b[0m\u001b]8;id=320894;file:///app/src/formkit_ninja/models.py#765\u001b\\\u001b[2m765\u001b[0m\u001b]8;;\u001b\\\n"
      ]
     },
     "metadata": {},
     "output_type": "display_data"
    },
    {
     "data": {
      "text/html": [
       "<pre style=\"white-space:pre;overflow-x:auto;line-height:normal;font-family:Menlo,'DejaVu Sans Mono',consolas,'Courier New',monospace\"><span style=\"color: #7fbfbf; text-decoration-color: #7fbfbf\">[03:34:34] </span><span style=\"color: #008000; text-decoration-color: #008000\">Creating  </span><span style=\"color: #008000; text-decoration-color: #008000\">8c4c2567-0293-4072-99a4-5600c9770fdc</span>                                             <a href=\"file:///app/src/formkit_ninja/models.py\" target=\"_blank\"><span style=\"color: #7f7f7f; text-decoration-color: #7f7f7f\">models.py</span></a><span style=\"color: #7f7f7f; text-decoration-color: #7f7f7f\">:</span><a href=\"file:///app/src/formkit_ninja/models.py#571\" target=\"_blank\"><span style=\"color: #7f7f7f; text-decoration-color: #7f7f7f\">571</span></a>\n",
       "</pre>\n"
      ],
      "text/plain": [
       "\u001b[2;36m[03:34:34]\u001b[0m\u001b[2;36m \u001b[0m\u001b[32mCreating  \u001b[0m\u001b[32m8c4c2567-0293-4072-99a4-5600c9770fdc\u001b[0m                                             \u001b]8;id=775159;file:///app/src/formkit_ninja/models.py\u001b\\\u001b[2mmodels.py\u001b[0m\u001b]8;;\u001b\\\u001b[2m:\u001b[0m\u001b]8;id=359891;file:///app/src/formkit_ninja/models.py#571\u001b\\\u001b[2m571\u001b[0m\u001b]8;;\u001b\\\n"
      ]
     },
     "metadata": {},
     "output_type": "display_data"
    },
    {
     "data": {
      "text/html": [
       "<pre style=\"white-space:pre;overflow-x:auto;line-height:normal;font-family:Menlo,'DejaVu Sans Mono',consolas,'Courier New',monospace\"><span style=\"color: #7fbfbf; text-decoration-color: #7fbfbf\">           </span><span style=\"color: #008000; text-decoration-color: #008000\">Yielding: $cmp </span><span style=\"color: #008000; text-decoration-color: #008000\">8c4c2567-0293-4072-99a4-5600c9770fdc</span>                                        <a href=\"file:///app/src/formkit_ninja/models.py\" target=\"_blank\"><span style=\"color: #7f7f7f; text-decoration-color: #7f7f7f\">models.py</span></a><span style=\"color: #7f7f7f; text-decoration-color: #7f7f7f\">:</span><a href=\"file:///app/src/formkit_ninja/models.py#593\" target=\"_blank\"><span style=\"color: #7f7f7f; text-decoration-color: #7f7f7f\">593</span></a>\n",
       "</pre>\n"
      ],
      "text/plain": [
       "\u001b[2;36m          \u001b[0m\u001b[2;36m \u001b[0m\u001b[32mYielding: $cmp \u001b[0m\u001b[32m8c4c2567-0293-4072-99a4-5600c9770fdc\u001b[0m                                        \u001b]8;id=651436;file:///app/src/formkit_ninja/models.py\u001b\\\u001b[2mmodels.py\u001b[0m\u001b]8;;\u001b\\\u001b[2m:\u001b[0m\u001b]8;id=636575;file:///app/src/formkit_ninja/models.py#593\u001b\\\u001b[2m593\u001b[0m\u001b]8;;\u001b\\\n"
      ]
     },
     "metadata": {},
     "output_type": "display_data"
    },
    {
     "data": {
      "text/html": [
       "<pre style=\"white-space:pre;overflow-x:auto;line-height:normal;font-family:Menlo,'DejaVu Sans Mono',consolas,'Courier New',monospace\"><span style=\"color: #7fbfbf; text-decoration-color: #7fbfbf\">           </span><span style=\"color: #808000; text-decoration-color: #808000\">Saving $cmp </span><span style=\"color: #808000; text-decoration-color: #808000\">8c4c2567-0293-4072-99a4-5600c9770fdc</span>                                           <a href=\"file:///app/src/formkit_ninja/models.py\" target=\"_blank\"><span style=\"color: #7f7f7f; text-decoration-color: #7f7f7f\">models.py</span></a><span style=\"color: #7f7f7f; text-decoration-color: #7f7f7f\">:</span><a href=\"file:///app/src/formkit_ninja/models.py#765\" target=\"_blank\"><span style=\"color: #7f7f7f; text-decoration-color: #7f7f7f\">765</span></a>\n",
       "</pre>\n"
      ],
      "text/plain": [
       "\u001b[2;36m          \u001b[0m\u001b[2;36m \u001b[0m\u001b[33mSaving $cmp \u001b[0m\u001b[33m8c4c2567-0293-4072-99a4-5600c9770fdc\u001b[0m                                           \u001b]8;id=871595;file:///app/src/formkit_ninja/models.py\u001b\\\u001b[2mmodels.py\u001b[0m\u001b]8;;\u001b\\\u001b[2m:\u001b[0m\u001b]8;id=298622;file:///app/src/formkit_ninja/models.py#765\u001b\\\u001b[2m765\u001b[0m\u001b]8;;\u001b\\\n"
      ]
     },
     "metadata": {},
     "output_type": "display_data"
    },
    {
     "data": {
      "text/html": [
       "<pre style=\"white-space:pre;overflow-x:auto;line-height:normal;font-family:Menlo,'DejaVu Sans Mono',consolas,'Courier New',monospace\"><span style=\"color: #7fbfbf; text-decoration-color: #7fbfbf\">           </span><span style=\"color: #008000; text-decoration-color: #008000\">Creating  </span><span style=\"color: #008000; text-decoration-color: #008000\">bcf095a2-dd18-4999-9b28-cc454598356f</span>                                             <a href=\"file:///app/src/formkit_ninja/models.py\" target=\"_blank\"><span style=\"color: #7f7f7f; text-decoration-color: #7f7f7f\">models.py</span></a><span style=\"color: #7f7f7f; text-decoration-color: #7f7f7f\">:</span><a href=\"file:///app/src/formkit_ninja/models.py#571\" target=\"_blank\"><span style=\"color: #7f7f7f; text-decoration-color: #7f7f7f\">571</span></a>\n",
       "</pre>\n"
      ],
      "text/plain": [
       "\u001b[2;36m          \u001b[0m\u001b[2;36m \u001b[0m\u001b[32mCreating  \u001b[0m\u001b[32mbcf095a2-dd18-4999-9b28-cc454598356f\u001b[0m                                             \u001b]8;id=170266;file:///app/src/formkit_ninja/models.py\u001b\\\u001b[2mmodels.py\u001b[0m\u001b]8;;\u001b\\\u001b[2m:\u001b[0m\u001b]8;id=254117;file:///app/src/formkit_ninja/models.py#571\u001b\\\u001b[2m571\u001b[0m\u001b]8;;\u001b\\\n"
      ]
     },
     "metadata": {},
     "output_type": "display_data"
    },
    {
     "data": {
      "text/html": [
       "<pre style=\"white-space:pre;overflow-x:auto;line-height:normal;font-family:Menlo,'DejaVu Sans Mono',consolas,'Courier New',monospace\"><span style=\"color: #7fbfbf; text-decoration-color: #7fbfbf\">           </span><span style=\"color: #008000; text-decoration-color: #008000\">Yielding: Node: cookie_notice</span>                                                              <a href=\"file:///app/src/formkit_ninja/models.py\" target=\"_blank\"><span style=\"color: #7f7f7f; text-decoration-color: #7f7f7f\">models.py</span></a><span style=\"color: #7f7f7f; text-decoration-color: #7f7f7f\">:</span><a href=\"file:///app/src/formkit_ninja/models.py#593\" target=\"_blank\"><span style=\"color: #7f7f7f; text-decoration-color: #7f7f7f\">593</span></a>\n",
       "</pre>\n"
      ],
      "text/plain": [
       "\u001b[2;36m          \u001b[0m\u001b[2;36m \u001b[0m\u001b[32mYielding: Node: cookie_notice\u001b[0m                                                              \u001b]8;id=22832;file:///app/src/formkit_ninja/models.py\u001b\\\u001b[2mmodels.py\u001b[0m\u001b]8;;\u001b\\\u001b[2m:\u001b[0m\u001b]8;id=978479;file:///app/src/formkit_ninja/models.py#593\u001b\\\u001b[2m593\u001b[0m\u001b]8;;\u001b\\\n"
      ]
     },
     "metadata": {},
     "output_type": "display_data"
    },
    {
     "data": {
      "text/html": [
       "<pre style=\"white-space:pre;overflow-x:auto;line-height:normal;font-family:Menlo,'DejaVu Sans Mono',consolas,'Courier New',monospace\"><span style=\"color: #7fbfbf; text-decoration-color: #7fbfbf\">           </span><span style=\"color: #808000; text-decoration-color: #808000\">Saving Node: cookie_notice</span>                                                                 <a href=\"file:///app/src/formkit_ninja/models.py\" target=\"_blank\"><span style=\"color: #7f7f7f; text-decoration-color: #7f7f7f\">models.py</span></a><span style=\"color: #7f7f7f; text-decoration-color: #7f7f7f\">:</span><a href=\"file:///app/src/formkit_ninja/models.py#765\" target=\"_blank\"><span style=\"color: #7f7f7f; text-decoration-color: #7f7f7f\">765</span></a>\n",
       "</pre>\n"
      ],
      "text/plain": [
       "\u001b[2;36m          \u001b[0m\u001b[2;36m \u001b[0m\u001b[33mSaving Node: cookie_notice\u001b[0m                                                                 \u001b]8;id=697387;file:///app/src/formkit_ninja/models.py\u001b\\\u001b[2mmodels.py\u001b[0m\u001b]8;;\u001b\\\u001b[2m:\u001b[0m\u001b]8;id=557222;file:///app/src/formkit_ninja/models.py#765\u001b\\\u001b[2m765\u001b[0m\u001b]8;;\u001b\\\n"
      ]
     },
     "metadata": {},
     "output_type": "display_data"
    },
    {
     "data": {
      "text/html": [
       "<pre style=\"white-space:pre;overflow-x:auto;line-height:normal;font-family:Menlo,'DejaVu Sans Mono',consolas,'Courier New',monospace\"><span style=\"color: #ffff00; text-decoration-color: #ffff00\">fb684b7f-b1d7-4ec3-af0e-ec32a511e57a</span>\n",
       "</pre>\n"
      ],
      "text/plain": [
       "\u001b[93mfb684b7f-b1d7-4ec3-af0e-ec32a511e57a\u001b[0m\n"
      ]
     },
     "metadata": {},
     "output_type": "display_data"
    }
   ],
   "source": [
    "from formkit_ninja.formkit_schema import DiscriminatedNodeTypeSchema\n",
    "from formkit_ninja.models import FormKitSchema\n",
    "\n",
    "# Our \"schema\"\n",
    "\n",
    "schema_as_pydantic = DiscriminatedNodeTypeSchema(schema_as_js)\n",
    "\n",
    "\n",
    "\n",
    "nodes = FormKitSchema.from_pydantic(schema_as_pydantic)\n",
    "print(nodes)"
   ]
  },
  {
   "cell_type": "code",
   "execution_count": 18,
   "metadata": {},
   "outputs": [
    {
     "data": {
      "text/plain": [
       "<PublishedForm: fb684b7f-b1d7-4ec3-af0e-ec32a511e57a (published: 2025-04-04 - current)>"
      ]
     },
     "execution_count": 18,
     "metadata": {},
     "output_type": "execute_result"
    }
   ],
   "source": [
    "nodes.publish()"
   ]
  },
  {
   "cell_type": "code",
   "execution_count": 19,
   "metadata": {},
   "outputs": [
    {
     "data": {
      "text/plain": [
       "<FormKitSchema: fb684b7f-b1d7-4ec3-af0e-ec32a511e57a>"
      ]
     },
     "execution_count": 19,
     "metadata": {},
     "output_type": "execute_result"
    }
   ],
   "source": [
    "nodes"
   ]
  },
  {
   "cell_type": "code",
   "execution_count": 20,
   "metadata": {},
   "outputs": [
    {
     "data": {
      "text/html": [
       "<pre style=\"white-space:pre;overflow-x:auto;line-height:normal;font-family:Menlo,'DejaVu Sans Mono',consolas,'Courier New',monospace\">┏━━━━━━━━━━━━━━━━━┳━━━━━━━━━━━━━━━┳━━━━━━━━━━━━━━━┳━━━━━━━━━━━━━━━┳━━━━━━━━━━━━━━━┳━━━━━━━━━━━━━━━┳━━━━━━━━━━━━━━━┓\n",
       "┃<span style=\"font-weight: bold\"> Index           </span>┃<span style=\"font-weight: bold\"> 0             </span>┃<span style=\"font-weight: bold\"> 1             </span>┃<span style=\"font-weight: bold\"> 2             </span>┃<span style=\"font-weight: bold\"> 3             </span>┃<span style=\"font-weight: bold\"> 4             </span>┃<span style=\"font-weight: bold\"> 5             </span>┃\n",
       "┡━━━━━━━━━━━━━━━━━╇━━━━━━━━━━━━━━━╇━━━━━━━━━━━━━━━╇━━━━━━━━━━━━━━━╇━━━━━━━━━━━━━━━╇━━━━━━━━━━━━━━━╇━━━━━━━━━━━━━━━┩\n",
       "│<span style=\"color: #008080; text-decoration-color: #008080\"> $cmp            </span>│<span style=\"color: #800080; text-decoration-color: #800080\">               </span>│<span style=\"color: #800080; text-decoration-color: #800080\">               </span>│<span style=\"color: #800080; text-decoration-color: #800080\">               </span>│<span style=\"color: #800080; text-decoration-color: #800080\">               </span>│<span style=\"color: #800080; text-decoration-color: #800080\"> FormKit       </span>│<span style=\"color: #800080; text-decoration-color: #800080\">               </span>│\n",
       "│<span style=\"color: #008080; text-decoration-color: #008080\"> $el             </span>│<span style=\"color: #800080; text-decoration-color: #800080\"> h1            </span>│<span style=\"color: #800080; text-decoration-color: #800080\">               </span>│<span style=\"color: #800080; text-decoration-color: #800080\">               </span>│<span style=\"color: #800080; text-decoration-color: #800080\">               </span>│<span style=\"color: #800080; text-decoration-color: #800080\">               </span>│<span style=\"color: #800080; text-decoration-color: #800080\">               </span>│\n",
       "│<span style=\"color: #008080; text-decoration-color: #008080\"> $formkit        </span>│<span style=\"color: #800080; text-decoration-color: #800080\">               </span>│<span style=\"color: #800080; text-decoration-color: #800080\"> text          </span>│<span style=\"color: #800080; text-decoration-color: #800080\"> password      </span>│<span style=\"color: #800080; text-decoration-color: #800080\"> password      </span>│<span style=\"color: #800080; text-decoration-color: #800080\">               </span>│<span style=\"color: #800080; text-decoration-color: #800080\"> select        </span>│\n",
       "│<span style=\"color: #008080; text-decoration-color: #008080\"> attrs           </span>│<span style=\"color: #800080; text-decoration-color: #800080\"> {'class':     </span>│<span style=\"color: #800080; text-decoration-color: #800080\">               </span>│<span style=\"color: #800080; text-decoration-color: #800080\">               </span>│<span style=\"color: #800080; text-decoration-color: #800080\">               </span>│<span style=\"color: #800080; text-decoration-color: #800080\">               </span>│<span style=\"color: #800080; text-decoration-color: #800080\">               </span>│\n",
       "│<span style=\"color: #008080; text-decoration-color: #008080\">                 </span>│<span style=\"color: #800080; text-decoration-color: #800080\"> 'text-2xl     </span>│<span style=\"color: #800080; text-decoration-color: #800080\">               </span>│<span style=\"color: #800080; text-decoration-color: #800080\">               </span>│<span style=\"color: #800080; text-decoration-color: #800080\">               </span>│<span style=\"color: #800080; text-decoration-color: #800080\">               </span>│<span style=\"color: #800080; text-decoration-color: #800080\">               </span>│\n",
       "│<span style=\"color: #008080; text-decoration-color: #008080\">                 </span>│<span style=\"color: #800080; text-decoration-color: #800080\"> font-bold     </span>│<span style=\"color: #800080; text-decoration-color: #800080\">               </span>│<span style=\"color: #800080; text-decoration-color: #800080\">               </span>│<span style=\"color: #800080; text-decoration-color: #800080\">               </span>│<span style=\"color: #800080; text-decoration-color: #800080\">               </span>│<span style=\"color: #800080; text-decoration-color: #800080\">               </span>│\n",
       "│<span style=\"color: #008080; text-decoration-color: #008080\">                 </span>│<span style=\"color: #800080; text-decoration-color: #800080\"> mb-4'}        </span>│<span style=\"color: #800080; text-decoration-color: #800080\">               </span>│<span style=\"color: #800080; text-decoration-color: #800080\">               </span>│<span style=\"color: #800080; text-decoration-color: #800080\">               </span>│<span style=\"color: #800080; text-decoration-color: #800080\">               </span>│<span style=\"color: #800080; text-decoration-color: #800080\">               </span>│\n",
       "│<span style=\"color: #008080; text-decoration-color: #008080\"> children        </span>│<span style=\"color: #800080; text-decoration-color: #800080\"> Register      </span>│<span style=\"color: #800080; text-decoration-color: #800080\">               </span>│<span style=\"color: #800080; text-decoration-color: #800080\">               </span>│<span style=\"color: #800080; text-decoration-color: #800080\">               </span>│<span style=\"color: #800080; text-decoration-color: #800080\">               </span>│<span style=\"color: #800080; text-decoration-color: #800080\">               </span>│\n",
       "│<span style=\"color: #008080; text-decoration-color: #008080\"> help            </span>│<span style=\"color: #800080; text-decoration-color: #800080\">               </span>│<span style=\"color: #800080; text-decoration-color: #800080\"> This will be  </span>│<span style=\"color: #800080; text-decoration-color: #800080\"> Enter your    </span>│<span style=\"color: #800080; text-decoration-color: #800080\"> Enter your    </span>│<span style=\"color: #800080; text-decoration-color: #800080\">               </span>│<span style=\"color: #800080; text-decoration-color: #800080\"> How often     </span>│\n",
       "│<span style=\"color: #008080; text-decoration-color: #008080\">                 </span>│<span style=\"color: #800080; text-decoration-color: #800080\">               </span>│<span style=\"color: #800080; text-decoration-color: #800080\"> used for your </span>│<span style=\"color: #800080; text-decoration-color: #800080\"> new password. </span>│<span style=\"color: #800080; text-decoration-color: #800080\"> new password  </span>│<span style=\"color: #800080; text-decoration-color: #800080\">               </span>│<span style=\"color: #800080; text-decoration-color: #800080\"> should we     </span>│\n",
       "│<span style=\"color: #008080; text-decoration-color: #008080\">                 </span>│<span style=\"color: #800080; text-decoration-color: #800080\">               </span>│<span style=\"color: #800080; text-decoration-color: #800080\"> account.      </span>│<span style=\"color: #800080; text-decoration-color: #800080\">               </span>│<span style=\"color: #800080; text-decoration-color: #800080\"> again to      </span>│<span style=\"color: #800080; text-decoration-color: #800080\">               </span>│<span style=\"color: #800080; text-decoration-color: #800080\"> display a     </span>│\n",
       "│<span style=\"color: #008080; text-decoration-color: #008080\">                 </span>│<span style=\"color: #800080; text-decoration-color: #800080\">               </span>│<span style=\"color: #800080; text-decoration-color: #800080\">               </span>│<span style=\"color: #800080; text-decoration-color: #800080\">               </span>│<span style=\"color: #800080; text-decoration-color: #800080\"> confirm it.   </span>│<span style=\"color: #800080; text-decoration-color: #800080\">               </span>│<span style=\"color: #800080; text-decoration-color: #800080\"> cookie        </span>│\n",
       "│<span style=\"color: #008080; text-decoration-color: #008080\">                 </span>│<span style=\"color: #800080; text-decoration-color: #800080\">               </span>│<span style=\"color: #800080; text-decoration-color: #800080\">               </span>│<span style=\"color: #800080; text-decoration-color: #800080\">               </span>│<span style=\"color: #800080; text-decoration-color: #800080\">               </span>│<span style=\"color: #800080; text-decoration-color: #800080\">               </span>│<span style=\"color: #800080; text-decoration-color: #800080\"> notice?       </span>│\n",
       "│<span style=\"color: #008080; text-decoration-color: #008080\"> if              </span>│<span style=\"color: #800080; text-decoration-color: #800080\">               </span>│<span style=\"color: #800080; text-decoration-color: #800080\">               </span>│<span style=\"color: #800080; text-decoration-color: #800080\">               </span>│<span style=\"color: #800080; text-decoration-color: #800080\">               </span>│<span style=\"color: #800080; text-decoration-color: #800080\">               </span>│<span style=\"color: #800080; text-decoration-color: #800080\"> $get(eu).val… </span>│\n",
       "│<span style=\"color: #008080; text-decoration-color: #008080\"> label           </span>│<span style=\"color: #800080; text-decoration-color: #800080\">               </span>│<span style=\"color: #800080; text-decoration-color: #800080\"> Email         </span>│<span style=\"color: #800080; text-decoration-color: #800080\"> Password      </span>│<span style=\"color: #800080; text-decoration-color: #800080\"> Confirm       </span>│<span style=\"color: #800080; text-decoration-color: #800080\">               </span>│<span style=\"color: #800080; text-decoration-color: #800080\"> Cookie notice </span>│\n",
       "│<span style=\"color: #008080; text-decoration-color: #008080\">                 </span>│<span style=\"color: #800080; text-decoration-color: #800080\">               </span>│<span style=\"color: #800080; text-decoration-color: #800080\">               </span>│<span style=\"color: #800080; text-decoration-color: #800080\">               </span>│<span style=\"color: #800080; text-decoration-color: #800080\"> password      </span>│<span style=\"color: #800080; text-decoration-color: #800080\">               </span>│<span style=\"color: #800080; text-decoration-color: #800080\"> frequency     </span>│\n",
       "│<span style=\"color: #008080; text-decoration-color: #008080\"> name            </span>│<span style=\"color: #800080; text-decoration-color: #800080\">               </span>│<span style=\"color: #800080; text-decoration-color: #800080\"> email         </span>│<span style=\"color: #800080; text-decoration-color: #800080\"> password      </span>│<span style=\"color: #800080; text-decoration-color: #800080\"> password_con… </span>│<span style=\"color: #800080; text-decoration-color: #800080\">               </span>│<span style=\"color: #800080; text-decoration-color: #800080\"> cookie_notice </span>│\n",
       "│<span style=\"color: #008080; text-decoration-color: #008080\"> options         </span>│<span style=\"color: #800080; text-decoration-color: #800080\">               </span>│<span style=\"color: #800080; text-decoration-color: #800080\">               </span>│<span style=\"color: #800080; text-decoration-color: #800080\">               </span>│<span style=\"color: #800080; text-decoration-color: #800080\">               </span>│<span style=\"color: #800080; text-decoration-color: #800080\">               </span>│<span style=\"color: #800080; text-decoration-color: #800080\"> {'refresh':   </span>│\n",
       "│<span style=\"color: #008080; text-decoration-color: #008080\">                 </span>│<span style=\"color: #800080; text-decoration-color: #800080\">               </span>│<span style=\"color: #800080; text-decoration-color: #800080\">               </span>│<span style=\"color: #800080; text-decoration-color: #800080\">               </span>│<span style=\"color: #800080; text-decoration-color: #800080\">               </span>│<span style=\"color: #800080; text-decoration-color: #800080\">               </span>│<span style=\"color: #800080; text-decoration-color: #800080\"> 'Every page   </span>│\n",
       "│<span style=\"color: #008080; text-decoration-color: #008080\">                 </span>│<span style=\"color: #800080; text-decoration-color: #800080\">               </span>│<span style=\"color: #800080; text-decoration-color: #800080\">               </span>│<span style=\"color: #800080; text-decoration-color: #800080\">               </span>│<span style=\"color: #800080; text-decoration-color: #800080\">               </span>│<span style=\"color: #800080; text-decoration-color: #800080\">               </span>│<span style=\"color: #800080; text-decoration-color: #800080\"> load',        </span>│\n",
       "│<span style=\"color: #008080; text-decoration-color: #008080\">                 </span>│<span style=\"color: #800080; text-decoration-color: #800080\">               </span>│<span style=\"color: #800080; text-decoration-color: #800080\">               </span>│<span style=\"color: #800080; text-decoration-color: #800080\">               </span>│<span style=\"color: #800080; text-decoration-color: #800080\">               </span>│<span style=\"color: #800080; text-decoration-color: #800080\">               </span>│<span style=\"color: #800080; text-decoration-color: #800080\"> 'hourly':     </span>│\n",
       "│<span style=\"color: #008080; text-decoration-color: #008080\">                 </span>│<span style=\"color: #800080; text-decoration-color: #800080\">               </span>│<span style=\"color: #800080; text-decoration-color: #800080\">               </span>│<span style=\"color: #800080; text-decoration-color: #800080\">               </span>│<span style=\"color: #800080; text-decoration-color: #800080\">               </span>│<span style=\"color: #800080; text-decoration-color: #800080\">               </span>│<span style=\"color: #800080; text-decoration-color: #800080\"> 'Ever hour',  </span>│\n",
       "│<span style=\"color: #008080; text-decoration-color: #008080\">                 </span>│<span style=\"color: #800080; text-decoration-color: #800080\">               </span>│<span style=\"color: #800080; text-decoration-color: #800080\">               </span>│<span style=\"color: #800080; text-decoration-color: #800080\">               </span>│<span style=\"color: #800080; text-decoration-color: #800080\">               </span>│<span style=\"color: #800080; text-decoration-color: #800080\">               </span>│<span style=\"color: #800080; text-decoration-color: #800080\"> 'daily':      </span>│\n",
       "│<span style=\"color: #008080; text-decoration-color: #008080\">                 </span>│<span style=\"color: #800080; text-decoration-color: #800080\">               </span>│<span style=\"color: #800080; text-decoration-color: #800080\">               </span>│<span style=\"color: #800080; text-decoration-color: #800080\">               </span>│<span style=\"color: #800080; text-decoration-color: #800080\">               </span>│<span style=\"color: #800080; text-decoration-color: #800080\">               </span>│<span style=\"color: #800080; text-decoration-color: #800080\"> 'Every day'}  </span>│\n",
       "│<span style=\"color: #008080; text-decoration-color: #008080\"> props           </span>│<span style=\"color: #800080; text-decoration-color: #800080\">               </span>│<span style=\"color: #800080; text-decoration-color: #800080\">               </span>│<span style=\"color: #800080; text-decoration-color: #800080\">               </span>│<span style=\"color: #800080; text-decoration-color: #800080\">               </span>│<span style=\"color: #800080; text-decoration-color: #800080\"> {'name':      </span>│<span style=\"color: #800080; text-decoration-color: #800080\">               </span>│\n",
       "│<span style=\"color: #008080; text-decoration-color: #008080\">                 </span>│<span style=\"color: #800080; text-decoration-color: #800080\">               </span>│<span style=\"color: #800080; text-decoration-color: #800080\">               </span>│<span style=\"color: #800080; text-decoration-color: #800080\">               </span>│<span style=\"color: #800080; text-decoration-color: #800080\">               </span>│<span style=\"color: #800080; text-decoration-color: #800080\"> 'eu_citizen', </span>│<span style=\"color: #800080; text-decoration-color: #800080\">               </span>│\n",
       "│<span style=\"color: #008080; text-decoration-color: #008080\">                 </span>│<span style=\"color: #800080; text-decoration-color: #800080\">               </span>│<span style=\"color: #800080; text-decoration-color: #800080\">               </span>│<span style=\"color: #800080; text-decoration-color: #800080\">               </span>│<span style=\"color: #800080; text-decoration-color: #800080\">               </span>│<span style=\"color: #800080; text-decoration-color: #800080\"> 'type':       </span>│<span style=\"color: #800080; text-decoration-color: #800080\">               </span>│\n",
       "│<span style=\"color: #008080; text-decoration-color: #008080\">                 </span>│<span style=\"color: #800080; text-decoration-color: #800080\">               </span>│<span style=\"color: #800080; text-decoration-color: #800080\">               </span>│<span style=\"color: #800080; text-decoration-color: #800080\">               </span>│<span style=\"color: #800080; text-decoration-color: #800080\">               </span>│<span style=\"color: #800080; text-decoration-color: #800080\"> 'checkbox',   </span>│<span style=\"color: #800080; text-decoration-color: #800080\">               </span>│\n",
       "│<span style=\"color: #008080; text-decoration-color: #008080\">                 </span>│<span style=\"color: #800080; text-decoration-color: #800080\">               </span>│<span style=\"color: #800080; text-decoration-color: #800080\">               </span>│<span style=\"color: #800080; text-decoration-color: #800080\">               </span>│<span style=\"color: #800080; text-decoration-color: #800080\">               </span>│<span style=\"color: #800080; text-decoration-color: #800080\"> 'id': 'eu',   </span>│<span style=\"color: #800080; text-decoration-color: #800080\">               </span>│\n",
       "│<span style=\"color: #008080; text-decoration-color: #008080\">                 </span>│<span style=\"color: #800080; text-decoration-color: #800080\">               </span>│<span style=\"color: #800080; text-decoration-color: #800080\">               </span>│<span style=\"color: #800080; text-decoration-color: #800080\">               </span>│<span style=\"color: #800080; text-decoration-color: #800080\">               </span>│<span style=\"color: #800080; text-decoration-color: #800080\"> 'label': 'Are </span>│<span style=\"color: #800080; text-decoration-color: #800080\">               </span>│\n",
       "│<span style=\"color: #008080; text-decoration-color: #008080\">                 </span>│<span style=\"color: #800080; text-decoration-color: #800080\">               </span>│<span style=\"color: #800080; text-decoration-color: #800080\">               </span>│<span style=\"color: #800080; text-decoration-color: #800080\">               </span>│<span style=\"color: #800080; text-decoration-color: #800080\">               </span>│<span style=\"color: #800080; text-decoration-color: #800080\"> you a         </span>│<span style=\"color: #800080; text-decoration-color: #800080\">               </span>│\n",
       "│<span style=\"color: #008080; text-decoration-color: #008080\">                 </span>│<span style=\"color: #800080; text-decoration-color: #800080\">               </span>│<span style=\"color: #800080; text-decoration-color: #800080\">               </span>│<span style=\"color: #800080; text-decoration-color: #800080\">               </span>│<span style=\"color: #800080; text-decoration-color: #800080\">               </span>│<span style=\"color: #800080; text-decoration-color: #800080\"> european      </span>│<span style=\"color: #800080; text-decoration-color: #800080\">               </span>│\n",
       "│<span style=\"color: #008080; text-decoration-color: #008080\">                 </span>│<span style=\"color: #800080; text-decoration-color: #800080\">               </span>│<span style=\"color: #800080; text-decoration-color: #800080\">               </span>│<span style=\"color: #800080; text-decoration-color: #800080\">               </span>│<span style=\"color: #800080; text-decoration-color: #800080\">               </span>│<span style=\"color: #800080; text-decoration-color: #800080\"> citizen?'}    </span>│<span style=\"color: #800080; text-decoration-color: #800080\">               </span>│\n",
       "│<span style=\"color: #008080; text-decoration-color: #008080\"> validation      </span>│<span style=\"color: #800080; text-decoration-color: #800080\">               </span>│<span style=\"color: #800080; text-decoration-color: #800080\"> required|ema… </span>│<span style=\"color: #800080; text-decoration-color: #800080\"> required|len… </span>│<span style=\"color: #800080; text-decoration-color: #800080\"> required|con… </span>│<span style=\"color: #800080; text-decoration-color: #800080\">               </span>│<span style=\"color: #800080; text-decoration-color: #800080\">               </span>│\n",
       "│<span style=\"color: #008080; text-decoration-color: #008080\"> validationLabel </span>│<span style=\"color: #800080; text-decoration-color: #800080\">               </span>│<span style=\"color: #800080; text-decoration-color: #800080\">               </span>│<span style=\"color: #800080; text-decoration-color: #800080\">               </span>│<span style=\"color: #800080; text-decoration-color: #800080\"> password      </span>│<span style=\"color: #800080; text-decoration-color: #800080\">               </span>│<span style=\"color: #800080; text-decoration-color: #800080\">               </span>│\n",
       "│<span style=\"color: #008080; text-decoration-color: #008080\">                 </span>│<span style=\"color: #800080; text-decoration-color: #800080\">               </span>│<span style=\"color: #800080; text-decoration-color: #800080\">               </span>│<span style=\"color: #800080; text-decoration-color: #800080\">               </span>│<span style=\"color: #800080; text-decoration-color: #800080\"> confirmation  </span>│<span style=\"color: #800080; text-decoration-color: #800080\">               </span>│<span style=\"color: #800080; text-decoration-color: #800080\">               </span>│\n",
       "└─────────────────┴───────────────┴───────────────┴───────────────┴───────────────┴───────────────┴───────────────┘\n",
       "</pre>\n"
      ],
      "text/plain": [
       "┏━━━━━━━━━━━━━━━━━┳━━━━━━━━━━━━━━━┳━━━━━━━━━━━━━━━┳━━━━━━━━━━━━━━━┳━━━━━━━━━━━━━━━┳━━━━━━━━━━━━━━━┳━━━━━━━━━━━━━━━┓\n",
       "┃\u001b[1m \u001b[0m\u001b[1mIndex          \u001b[0m\u001b[1m \u001b[0m┃\u001b[1m \u001b[0m\u001b[1m0            \u001b[0m\u001b[1m \u001b[0m┃\u001b[1m \u001b[0m\u001b[1m1            \u001b[0m\u001b[1m \u001b[0m┃\u001b[1m \u001b[0m\u001b[1m2            \u001b[0m\u001b[1m \u001b[0m┃\u001b[1m \u001b[0m\u001b[1m3            \u001b[0m\u001b[1m \u001b[0m┃\u001b[1m \u001b[0m\u001b[1m4            \u001b[0m\u001b[1m \u001b[0m┃\u001b[1m \u001b[0m\u001b[1m5            \u001b[0m\u001b[1m \u001b[0m┃\n",
       "┡━━━━━━━━━━━━━━━━━╇━━━━━━━━━━━━━━━╇━━━━━━━━━━━━━━━╇━━━━━━━━━━━━━━━╇━━━━━━━━━━━━━━━╇━━━━━━━━━━━━━━━╇━━━━━━━━━━━━━━━┩\n",
       "│\u001b[36m \u001b[0m\u001b[36m$cmp           \u001b[0m\u001b[36m \u001b[0m│\u001b[35m \u001b[0m\u001b[35m             \u001b[0m\u001b[35m \u001b[0m│\u001b[35m \u001b[0m\u001b[35m             \u001b[0m\u001b[35m \u001b[0m│\u001b[35m \u001b[0m\u001b[35m             \u001b[0m\u001b[35m \u001b[0m│\u001b[35m \u001b[0m\u001b[35m             \u001b[0m\u001b[35m \u001b[0m│\u001b[35m \u001b[0m\u001b[35mFormKit      \u001b[0m\u001b[35m \u001b[0m│\u001b[35m \u001b[0m\u001b[35m             \u001b[0m\u001b[35m \u001b[0m│\n",
       "│\u001b[36m \u001b[0m\u001b[36m$el            \u001b[0m\u001b[36m \u001b[0m│\u001b[35m \u001b[0m\u001b[35mh1           \u001b[0m\u001b[35m \u001b[0m│\u001b[35m \u001b[0m\u001b[35m             \u001b[0m\u001b[35m \u001b[0m│\u001b[35m \u001b[0m\u001b[35m             \u001b[0m\u001b[35m \u001b[0m│\u001b[35m \u001b[0m\u001b[35m             \u001b[0m\u001b[35m \u001b[0m│\u001b[35m \u001b[0m\u001b[35m             \u001b[0m\u001b[35m \u001b[0m│\u001b[35m \u001b[0m\u001b[35m             \u001b[0m\u001b[35m \u001b[0m│\n",
       "│\u001b[36m \u001b[0m\u001b[36m$formkit       \u001b[0m\u001b[36m \u001b[0m│\u001b[35m \u001b[0m\u001b[35m             \u001b[0m\u001b[35m \u001b[0m│\u001b[35m \u001b[0m\u001b[35mtext         \u001b[0m\u001b[35m \u001b[0m│\u001b[35m \u001b[0m\u001b[35mpassword     \u001b[0m\u001b[35m \u001b[0m│\u001b[35m \u001b[0m\u001b[35mpassword     \u001b[0m\u001b[35m \u001b[0m│\u001b[35m \u001b[0m\u001b[35m             \u001b[0m\u001b[35m \u001b[0m│\u001b[35m \u001b[0m\u001b[35mselect       \u001b[0m\u001b[35m \u001b[0m│\n",
       "│\u001b[36m \u001b[0m\u001b[36mattrs          \u001b[0m\u001b[36m \u001b[0m│\u001b[35m \u001b[0m\u001b[35m{'class':    \u001b[0m\u001b[35m \u001b[0m│\u001b[35m \u001b[0m\u001b[35m             \u001b[0m\u001b[35m \u001b[0m│\u001b[35m \u001b[0m\u001b[35m             \u001b[0m\u001b[35m \u001b[0m│\u001b[35m \u001b[0m\u001b[35m             \u001b[0m\u001b[35m \u001b[0m│\u001b[35m \u001b[0m\u001b[35m             \u001b[0m\u001b[35m \u001b[0m│\u001b[35m \u001b[0m\u001b[35m             \u001b[0m\u001b[35m \u001b[0m│\n",
       "│\u001b[36m                 \u001b[0m│\u001b[35m \u001b[0m\u001b[35m'text-2xl    \u001b[0m\u001b[35m \u001b[0m│\u001b[35m               \u001b[0m│\u001b[35m               \u001b[0m│\u001b[35m               \u001b[0m│\u001b[35m               \u001b[0m│\u001b[35m               \u001b[0m│\n",
       "│\u001b[36m                 \u001b[0m│\u001b[35m \u001b[0m\u001b[35mfont-bold    \u001b[0m\u001b[35m \u001b[0m│\u001b[35m               \u001b[0m│\u001b[35m               \u001b[0m│\u001b[35m               \u001b[0m│\u001b[35m               \u001b[0m│\u001b[35m               \u001b[0m│\n",
       "│\u001b[36m                 \u001b[0m│\u001b[35m \u001b[0m\u001b[35mmb-4'}       \u001b[0m\u001b[35m \u001b[0m│\u001b[35m               \u001b[0m│\u001b[35m               \u001b[0m│\u001b[35m               \u001b[0m│\u001b[35m               \u001b[0m│\u001b[35m               \u001b[0m│\n",
       "│\u001b[36m \u001b[0m\u001b[36mchildren       \u001b[0m\u001b[36m \u001b[0m│\u001b[35m \u001b[0m\u001b[35mRegister     \u001b[0m\u001b[35m \u001b[0m│\u001b[35m \u001b[0m\u001b[35m             \u001b[0m\u001b[35m \u001b[0m│\u001b[35m \u001b[0m\u001b[35m             \u001b[0m\u001b[35m \u001b[0m│\u001b[35m \u001b[0m\u001b[35m             \u001b[0m\u001b[35m \u001b[0m│\u001b[35m \u001b[0m\u001b[35m             \u001b[0m\u001b[35m \u001b[0m│\u001b[35m \u001b[0m\u001b[35m             \u001b[0m\u001b[35m \u001b[0m│\n",
       "│\u001b[36m \u001b[0m\u001b[36mhelp           \u001b[0m\u001b[36m \u001b[0m│\u001b[35m \u001b[0m\u001b[35m             \u001b[0m\u001b[35m \u001b[0m│\u001b[35m \u001b[0m\u001b[35mThis will be \u001b[0m\u001b[35m \u001b[0m│\u001b[35m \u001b[0m\u001b[35mEnter your   \u001b[0m\u001b[35m \u001b[0m│\u001b[35m \u001b[0m\u001b[35mEnter your   \u001b[0m\u001b[35m \u001b[0m│\u001b[35m \u001b[0m\u001b[35m             \u001b[0m\u001b[35m \u001b[0m│\u001b[35m \u001b[0m\u001b[35mHow often    \u001b[0m\u001b[35m \u001b[0m│\n",
       "│\u001b[36m                 \u001b[0m│\u001b[35m               \u001b[0m│\u001b[35m \u001b[0m\u001b[35mused for your\u001b[0m\u001b[35m \u001b[0m│\u001b[35m \u001b[0m\u001b[35mnew password.\u001b[0m\u001b[35m \u001b[0m│\u001b[35m \u001b[0m\u001b[35mnew password \u001b[0m\u001b[35m \u001b[0m│\u001b[35m               \u001b[0m│\u001b[35m \u001b[0m\u001b[35mshould we    \u001b[0m\u001b[35m \u001b[0m│\n",
       "│\u001b[36m                 \u001b[0m│\u001b[35m               \u001b[0m│\u001b[35m \u001b[0m\u001b[35maccount.     \u001b[0m\u001b[35m \u001b[0m│\u001b[35m               \u001b[0m│\u001b[35m \u001b[0m\u001b[35magain to     \u001b[0m\u001b[35m \u001b[0m│\u001b[35m               \u001b[0m│\u001b[35m \u001b[0m\u001b[35mdisplay a    \u001b[0m\u001b[35m \u001b[0m│\n",
       "│\u001b[36m                 \u001b[0m│\u001b[35m               \u001b[0m│\u001b[35m               \u001b[0m│\u001b[35m               \u001b[0m│\u001b[35m \u001b[0m\u001b[35mconfirm it.  \u001b[0m\u001b[35m \u001b[0m│\u001b[35m               \u001b[0m│\u001b[35m \u001b[0m\u001b[35mcookie       \u001b[0m\u001b[35m \u001b[0m│\n",
       "│\u001b[36m                 \u001b[0m│\u001b[35m               \u001b[0m│\u001b[35m               \u001b[0m│\u001b[35m               \u001b[0m│\u001b[35m               \u001b[0m│\u001b[35m               \u001b[0m│\u001b[35m \u001b[0m\u001b[35mnotice?      \u001b[0m\u001b[35m \u001b[0m│\n",
       "│\u001b[36m \u001b[0m\u001b[36mif             \u001b[0m\u001b[36m \u001b[0m│\u001b[35m \u001b[0m\u001b[35m             \u001b[0m\u001b[35m \u001b[0m│\u001b[35m \u001b[0m\u001b[35m             \u001b[0m\u001b[35m \u001b[0m│\u001b[35m \u001b[0m\u001b[35m             \u001b[0m\u001b[35m \u001b[0m│\u001b[35m \u001b[0m\u001b[35m             \u001b[0m\u001b[35m \u001b[0m│\u001b[35m \u001b[0m\u001b[35m             \u001b[0m\u001b[35m \u001b[0m│\u001b[35m \u001b[0m\u001b[35m$get(eu).val…\u001b[0m\u001b[35m \u001b[0m│\n",
       "│\u001b[36m \u001b[0m\u001b[36mlabel          \u001b[0m\u001b[36m \u001b[0m│\u001b[35m \u001b[0m\u001b[35m             \u001b[0m\u001b[35m \u001b[0m│\u001b[35m \u001b[0m\u001b[35mEmail        \u001b[0m\u001b[35m \u001b[0m│\u001b[35m \u001b[0m\u001b[35mPassword     \u001b[0m\u001b[35m \u001b[0m│\u001b[35m \u001b[0m\u001b[35mConfirm      \u001b[0m\u001b[35m \u001b[0m│\u001b[35m \u001b[0m\u001b[35m             \u001b[0m\u001b[35m \u001b[0m│\u001b[35m \u001b[0m\u001b[35mCookie notice\u001b[0m\u001b[35m \u001b[0m│\n",
       "│\u001b[36m                 \u001b[0m│\u001b[35m               \u001b[0m│\u001b[35m               \u001b[0m│\u001b[35m               \u001b[0m│\u001b[35m \u001b[0m\u001b[35mpassword     \u001b[0m\u001b[35m \u001b[0m│\u001b[35m               \u001b[0m│\u001b[35m \u001b[0m\u001b[35mfrequency    \u001b[0m\u001b[35m \u001b[0m│\n",
       "│\u001b[36m \u001b[0m\u001b[36mname           \u001b[0m\u001b[36m \u001b[0m│\u001b[35m \u001b[0m\u001b[35m             \u001b[0m\u001b[35m \u001b[0m│\u001b[35m \u001b[0m\u001b[35memail        \u001b[0m\u001b[35m \u001b[0m│\u001b[35m \u001b[0m\u001b[35mpassword     \u001b[0m\u001b[35m \u001b[0m│\u001b[35m \u001b[0m\u001b[35mpassword_con…\u001b[0m\u001b[35m \u001b[0m│\u001b[35m \u001b[0m\u001b[35m             \u001b[0m\u001b[35m \u001b[0m│\u001b[35m \u001b[0m\u001b[35mcookie_notice\u001b[0m\u001b[35m \u001b[0m│\n",
       "│\u001b[36m \u001b[0m\u001b[36moptions        \u001b[0m\u001b[36m \u001b[0m│\u001b[35m \u001b[0m\u001b[35m             \u001b[0m\u001b[35m \u001b[0m│\u001b[35m \u001b[0m\u001b[35m             \u001b[0m\u001b[35m \u001b[0m│\u001b[35m \u001b[0m\u001b[35m             \u001b[0m\u001b[35m \u001b[0m│\u001b[35m \u001b[0m\u001b[35m             \u001b[0m\u001b[35m \u001b[0m│\u001b[35m \u001b[0m\u001b[35m             \u001b[0m\u001b[35m \u001b[0m│\u001b[35m \u001b[0m\u001b[35m{'refresh':  \u001b[0m\u001b[35m \u001b[0m│\n",
       "│\u001b[36m                 \u001b[0m│\u001b[35m               \u001b[0m│\u001b[35m               \u001b[0m│\u001b[35m               \u001b[0m│\u001b[35m               \u001b[0m│\u001b[35m               \u001b[0m│\u001b[35m \u001b[0m\u001b[35m'Every page  \u001b[0m\u001b[35m \u001b[0m│\n",
       "│\u001b[36m                 \u001b[0m│\u001b[35m               \u001b[0m│\u001b[35m               \u001b[0m│\u001b[35m               \u001b[0m│\u001b[35m               \u001b[0m│\u001b[35m               \u001b[0m│\u001b[35m \u001b[0m\u001b[35mload',       \u001b[0m\u001b[35m \u001b[0m│\n",
       "│\u001b[36m                 \u001b[0m│\u001b[35m               \u001b[0m│\u001b[35m               \u001b[0m│\u001b[35m               \u001b[0m│\u001b[35m               \u001b[0m│\u001b[35m               \u001b[0m│\u001b[35m \u001b[0m\u001b[35m'hourly':    \u001b[0m\u001b[35m \u001b[0m│\n",
       "│\u001b[36m                 \u001b[0m│\u001b[35m               \u001b[0m│\u001b[35m               \u001b[0m│\u001b[35m               \u001b[0m│\u001b[35m               \u001b[0m│\u001b[35m               \u001b[0m│\u001b[35m \u001b[0m\u001b[35m'Ever hour', \u001b[0m\u001b[35m \u001b[0m│\n",
       "│\u001b[36m                 \u001b[0m│\u001b[35m               \u001b[0m│\u001b[35m               \u001b[0m│\u001b[35m               \u001b[0m│\u001b[35m               \u001b[0m│\u001b[35m               \u001b[0m│\u001b[35m \u001b[0m\u001b[35m'daily':     \u001b[0m\u001b[35m \u001b[0m│\n",
       "│\u001b[36m                 \u001b[0m│\u001b[35m               \u001b[0m│\u001b[35m               \u001b[0m│\u001b[35m               \u001b[0m│\u001b[35m               \u001b[0m│\u001b[35m               \u001b[0m│\u001b[35m \u001b[0m\u001b[35m'Every day'} \u001b[0m\u001b[35m \u001b[0m│\n",
       "│\u001b[36m \u001b[0m\u001b[36mprops          \u001b[0m\u001b[36m \u001b[0m│\u001b[35m \u001b[0m\u001b[35m             \u001b[0m\u001b[35m \u001b[0m│\u001b[35m \u001b[0m\u001b[35m             \u001b[0m\u001b[35m \u001b[0m│\u001b[35m \u001b[0m\u001b[35m             \u001b[0m\u001b[35m \u001b[0m│\u001b[35m \u001b[0m\u001b[35m             \u001b[0m\u001b[35m \u001b[0m│\u001b[35m \u001b[0m\u001b[35m{'name':     \u001b[0m\u001b[35m \u001b[0m│\u001b[35m \u001b[0m\u001b[35m             \u001b[0m\u001b[35m \u001b[0m│\n",
       "│\u001b[36m                 \u001b[0m│\u001b[35m               \u001b[0m│\u001b[35m               \u001b[0m│\u001b[35m               \u001b[0m│\u001b[35m               \u001b[0m│\u001b[35m \u001b[0m\u001b[35m'eu_citizen',\u001b[0m\u001b[35m \u001b[0m│\u001b[35m               \u001b[0m│\n",
       "│\u001b[36m                 \u001b[0m│\u001b[35m               \u001b[0m│\u001b[35m               \u001b[0m│\u001b[35m               \u001b[0m│\u001b[35m               \u001b[0m│\u001b[35m \u001b[0m\u001b[35m'type':      \u001b[0m\u001b[35m \u001b[0m│\u001b[35m               \u001b[0m│\n",
       "│\u001b[36m                 \u001b[0m│\u001b[35m               \u001b[0m│\u001b[35m               \u001b[0m│\u001b[35m               \u001b[0m│\u001b[35m               \u001b[0m│\u001b[35m \u001b[0m\u001b[35m'checkbox',  \u001b[0m\u001b[35m \u001b[0m│\u001b[35m               \u001b[0m│\n",
       "│\u001b[36m                 \u001b[0m│\u001b[35m               \u001b[0m│\u001b[35m               \u001b[0m│\u001b[35m               \u001b[0m│\u001b[35m               \u001b[0m│\u001b[35m \u001b[0m\u001b[35m'id': 'eu',  \u001b[0m\u001b[35m \u001b[0m│\u001b[35m               \u001b[0m│\n",
       "│\u001b[36m                 \u001b[0m│\u001b[35m               \u001b[0m│\u001b[35m               \u001b[0m│\u001b[35m               \u001b[0m│\u001b[35m               \u001b[0m│\u001b[35m \u001b[0m\u001b[35m'label': 'Are\u001b[0m\u001b[35m \u001b[0m│\u001b[35m               \u001b[0m│\n",
       "│\u001b[36m                 \u001b[0m│\u001b[35m               \u001b[0m│\u001b[35m               \u001b[0m│\u001b[35m               \u001b[0m│\u001b[35m               \u001b[0m│\u001b[35m \u001b[0m\u001b[35myou a        \u001b[0m\u001b[35m \u001b[0m│\u001b[35m               \u001b[0m│\n",
       "│\u001b[36m                 \u001b[0m│\u001b[35m               \u001b[0m│\u001b[35m               \u001b[0m│\u001b[35m               \u001b[0m│\u001b[35m               \u001b[0m│\u001b[35m \u001b[0m\u001b[35meuropean     \u001b[0m\u001b[35m \u001b[0m│\u001b[35m               \u001b[0m│\n",
       "│\u001b[36m                 \u001b[0m│\u001b[35m               \u001b[0m│\u001b[35m               \u001b[0m│\u001b[35m               \u001b[0m│\u001b[35m               \u001b[0m│\u001b[35m \u001b[0m\u001b[35mcitizen?'}   \u001b[0m\u001b[35m \u001b[0m│\u001b[35m               \u001b[0m│\n",
       "│\u001b[36m \u001b[0m\u001b[36mvalidation     \u001b[0m\u001b[36m \u001b[0m│\u001b[35m \u001b[0m\u001b[35m             \u001b[0m\u001b[35m \u001b[0m│\u001b[35m \u001b[0m\u001b[35mrequired|ema…\u001b[0m\u001b[35m \u001b[0m│\u001b[35m \u001b[0m\u001b[35mrequired|len…\u001b[0m\u001b[35m \u001b[0m│\u001b[35m \u001b[0m\u001b[35mrequired|con…\u001b[0m\u001b[35m \u001b[0m│\u001b[35m \u001b[0m\u001b[35m             \u001b[0m\u001b[35m \u001b[0m│\u001b[35m \u001b[0m\u001b[35m             \u001b[0m\u001b[35m \u001b[0m│\n",
       "│\u001b[36m \u001b[0m\u001b[36mvalidationLabel\u001b[0m\u001b[36m \u001b[0m│\u001b[35m \u001b[0m\u001b[35m             \u001b[0m\u001b[35m \u001b[0m│\u001b[35m \u001b[0m\u001b[35m             \u001b[0m\u001b[35m \u001b[0m│\u001b[35m \u001b[0m\u001b[35m             \u001b[0m\u001b[35m \u001b[0m│\u001b[35m \u001b[0m\u001b[35mpassword     \u001b[0m\u001b[35m \u001b[0m│\u001b[35m \u001b[0m\u001b[35m             \u001b[0m\u001b[35m \u001b[0m│\u001b[35m \u001b[0m\u001b[35m             \u001b[0m\u001b[35m \u001b[0m│\n",
       "│\u001b[36m                 \u001b[0m│\u001b[35m               \u001b[0m│\u001b[35m               \u001b[0m│\u001b[35m               \u001b[0m│\u001b[35m \u001b[0m\u001b[35mconfirmation \u001b[0m\u001b[35m \u001b[0m│\u001b[35m               \u001b[0m│\u001b[35m               \u001b[0m│\n",
       "└─────────────────┴───────────────┴───────────────┴───────────────┴───────────────┴───────────────┴───────────────┘\n"
      ]
     },
     "metadata": {},
     "output_type": "display_data"
    },
    {
     "ename": "TypeError",
     "evalue": "'FormKitSchema' object is not iterable",
     "output_type": "error",
     "traceback": [
      "\u001b[31m---------------------------------------------------------------------------\u001b[39m",
      "\u001b[31mTypeError\u001b[39m                                 Traceback (most recent call last)",
      "\u001b[36mCell\u001b[39m\u001b[36m \u001b[39m\u001b[32mIn[20]\u001b[39m\u001b[32m, line 2\u001b[39m\n\u001b[32m      1\u001b[39m manytable(schema_as_js)\n\u001b[32m----> \u001b[39m\u001b[32m2\u001b[39m manytable(\u001b[43m[\u001b[49m\u001b[43mn\u001b[49m\u001b[43m.\u001b[49m\u001b[43mget_node_values\u001b[49m\u001b[43m(\u001b[49m\u001b[43m)\u001b[49m\u001b[43m \u001b[49m\u001b[38;5;28;43;01mfor\u001b[39;49;00m\u001b[43m \u001b[49m\u001b[43mn\u001b[49m\u001b[43m \u001b[49m\u001b[38;5;129;43;01min\u001b[39;49;00m\u001b[43m \u001b[49m\u001b[43mnodes\u001b[49m\u001b[43m]\u001b[49m)\n\u001b[32m      3\u001b[39m manynodetable([n.get_node() \u001b[38;5;28;01mfor\u001b[39;00m n \u001b[38;5;129;01min\u001b[39;00m nodes])\n",
      "\u001b[31mTypeError\u001b[39m: 'FormKitSchema' object is not iterable"
     ]
    }
   ],
   "source": [
    "manytable(schema_as_js)\n",
    "manytable([n.get_node_values() for n in nodes])\n",
    "manynodetable([n.get_node() for n in nodes])"
   ]
  },
  {
   "cell_type": "code",
   "execution_count": null,
   "metadata": {},
   "outputs": [],
   "source": [
    "# nodes[3].get_node_values()\n",
    "schema_as_js[3]\n",
    "\n",
    "from formkit_ninja.formkit_schema import PasswordNode\n",
    "PasswordNode(**schema_as_js[3])\n",
    "\n",
    "schema_as_js[3][\"validation-label\"] = schema_as_js[3].pop(\"validationLabel\")\n",
    "PasswordNode(**schema_as_js[3])"
   ]
  },
  {
   "cell_type": "code",
   "execution_count": null,
   "metadata": {},
   "outputs": [],
   "source": [
    "sf_41_node"
   ]
  },
  {
   "cell_type": "code",
   "execution_count": null,
   "metadata": {},
   "outputs": [],
   "source": [
    "schema"
   ]
  }
 ],
 "metadata": {
  "kernelspec": {
   "display_name": "venv",
   "language": "python",
   "name": "python3"
  },
  "language_info": {
   "codemirror_mode": {
    "name": "ipython",
    "version": 3
   },
   "file_extension": ".py",
   "mimetype": "text/x-python",
   "name": "python",
   "nbconvert_exporter": "python",
   "pygments_lexer": "ipython3",
   "version": "3.12.7"
  }
 },
 "nbformat": 4,
 "nbformat_minor": 2
}
