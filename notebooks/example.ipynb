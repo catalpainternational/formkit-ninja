{
 "cells": [
  {
   "cell_type": "markdown",
   "metadata": {},
   "source": []
  },
  {
   "cell_type": "code",
   "execution_count": 43,
   "metadata": {},
   "outputs": [],
   "source": [
    "import os\n",
    "import django\n",
    "os.chdir('/app')\n",
    "os.environ[\"DJANGO_ALLOW_ASYNC_UNSAFE\"] = \"true\"\n",
    "os.environ.setdefault('DJANGO_SETTINGS_MODULE', 'testproject.settings')\n",
    "django.setup()"
   ]
  },
  {
   "cell_type": "markdown",
   "metadata": {},
   "source": [
    "# Formkit-Ninja\n",
    "\n",
    "What is Formkit-Ninja?\n",
    "It's a Django application to store and convert FormKit schemas between JSON, Pydantic models, and database backend. It supports most of the FormKit syntax as well as some of the \"extra\" goodies."
   ]
  },
  {
   "cell_type": "code",
   "execution_count": 44,
   "metadata": {},
   "outputs": [],
   "source": [
    "\n",
    "# Here we're defining some functions to help us display data in a nice way \n",
    "\n",
    "from typing import Any\n",
    "from rich.table import Table\n",
    "from rich.jupyter import print\n",
    "from pydantic import BaseModel\n",
    "\n",
    "def kvtable(inputelement: dict[str, Any], title: str | None = None):\n",
    "    table = Table(title=title)\n",
    "    table.add_column(\"Key\", style=\"cyan\", no_wrap=True)\n",
    "    table.add_column(\"Value\", style=\"magenta\")\n",
    "    for key, value in sorted(inputelement.items()):\n",
    "        table.add_row(str(key), str(value))\n",
    "    print(table)\n",
    "\n",
    "def modeltable(inputmodel: BaseModel):\n",
    "    kvtable(inputmodel.model_dump(exclude_none=True, by_alias=True), title=inputmodel.__class__.__name__)\n",
    "\n",
    "def manytable(inputelements: list[dict[str, Any]], title: str | None = None):\n",
    "    table = Table(title=title)\n",
    "    table.add_column(\"Index\", style=\"cyan\", no_wrap=True)\n",
    "    # Set of all keys\n",
    "    keys = set()\n",
    "    for element in inputelements:\n",
    "        keys.update(element.keys())\n",
    "    # These are the \"rows\"\n",
    "    rows = sorted(keys)\n",
    "    # These are the \"columns\"\n",
    "    columns = range(len(inputelements))\n",
    "    # Add the columns\n",
    "    for index, i in enumerate(inputelements):\n",
    "        table.add_column(str(index), style=\"magenta\")\n",
    "    # Add the rows\n",
    "    for row in rows:\n",
    "        content = []\n",
    "        for index, i in enumerate(inputelements):\n",
    "            content.append(str(i.get(row, \"\")))\n",
    "        table.add_row(row, *content)\n",
    "    print(table)\n",
    "\n",
    "def manynodetable(inputelements: list[BaseModel], title: str | None = None):\n",
    "    manytable([i.model_dump(exclude_none=True, by_alias=True) for i in inputelements], title=title) \n",
    "    \n"
   ]
  },
  {
   "cell_type": "code",
   "execution_count": 45,
   "metadata": {},
   "outputs": [
    {
     "data": {
      "text/html": [
       "<pre style=\"white-space:pre;overflow-x:auto;line-height:normal;font-family:Menlo,'DejaVu Sans Mono',consolas,'Courier New',monospace\">┏━━━━━━━━━━━━┳━━━━━━━━━━━━━━━━━━━━━━━━━━┓\n",
       "┃<span style=\"font-weight: bold\"> Key        </span>┃<span style=\"font-weight: bold\"> Value                    </span>┃\n",
       "┡━━━━━━━━━━━━╇━━━━━━━━━━━━━━━━━━━━━━━━━━┩\n",
       "│<span style=\"color: #008080; text-decoration-color: #008080\"> $formkit   </span>│<span style=\"color: #800080; text-decoration-color: #800080\"> tel                      </span>│\n",
       "│<span style=\"color: #008080; text-decoration-color: #008080\"> label      </span>│<span style=\"color: #800080; text-decoration-color: #800080\"> $gettext(\"Phone number\") </span>│\n",
       "│<span style=\"color: #008080; text-decoration-color: #008080\"> maxLength  </span>│<span style=\"color: #800080; text-decoration-color: #800080\"> 8                        </span>│\n",
       "│<span style=\"color: #008080; text-decoration-color: #008080\"> name       </span>│<span style=\"color: #800080; text-decoration-color: #800080\"> phone_number             </span>│\n",
       "│<span style=\"color: #008080; text-decoration-color: #008080\"> validation </span>│<span style=\"color: #800080; text-decoration-color: #800080\"> number|length:8,8        </span>│\n",
       "└────────────┴──────────────────────────┘\n",
       "</pre>\n"
      ],
      "text/plain": [
       "┏━━━━━━━━━━━━┳━━━━━━━━━━━━━━━━━━━━━━━━━━┓\n",
       "┃\u001b[1m \u001b[0m\u001b[1mKey       \u001b[0m\u001b[1m \u001b[0m┃\u001b[1m \u001b[0m\u001b[1mValue                   \u001b[0m\u001b[1m \u001b[0m┃\n",
       "┡━━━━━━━━━━━━╇━━━━━━━━━━━━━━━━━━━━━━━━━━┩\n",
       "│\u001b[36m \u001b[0m\u001b[36m$formkit  \u001b[0m\u001b[36m \u001b[0m│\u001b[35m \u001b[0m\u001b[35mtel                     \u001b[0m\u001b[35m \u001b[0m│\n",
       "│\u001b[36m \u001b[0m\u001b[36mlabel     \u001b[0m\u001b[36m \u001b[0m│\u001b[35m \u001b[0m\u001b[35m$gettext(\"Phone number\")\u001b[0m\u001b[35m \u001b[0m│\n",
       "│\u001b[36m \u001b[0m\u001b[36mmaxLength \u001b[0m\u001b[36m \u001b[0m│\u001b[35m \u001b[0m\u001b[35m8                       \u001b[0m\u001b[35m \u001b[0m│\n",
       "│\u001b[36m \u001b[0m\u001b[36mname      \u001b[0m\u001b[36m \u001b[0m│\u001b[35m \u001b[0m\u001b[35mphone_number            \u001b[0m\u001b[35m \u001b[0m│\n",
       "│\u001b[36m \u001b[0m\u001b[36mvalidation\u001b[0m\u001b[36m \u001b[0m│\u001b[35m \u001b[0m\u001b[35mnumber|length:8,8       \u001b[0m\u001b[35m \u001b[0m│\n",
       "└────────────┴──────────────────────────┘\n"
      ]
     },
     "metadata": {},
     "output_type": "display_data"
    }
   ],
   "source": [
    "# Add a \"Telephone\" input\n",
    "\n",
    "# This is a simple input with validation and a label\n",
    "# Note that the label is translated using the gettext function (client side)\n",
    "tel = {\n",
    "    \"$formkit\": \"tel\",\n",
    "    \"label\": '$gettext(\"Phone number\")',\n",
    "    \"maxLength\": 8,\n",
    "    \"name\": \"phone_number\",\n",
    "    \"validation\": \"number|length:8,8\",\n",
    "}\n",
    "kvtable(tel)"
   ]
  },
  {
   "cell_type": "code",
   "execution_count": 46,
   "metadata": {},
   "outputs": [
    {
     "data": {
      "text/html": [
       "<pre style=\"white-space:pre;overflow-x:auto;line-height:normal;font-family:Menlo,'DejaVu Sans Mono',consolas,'Courier New',monospace\"><span style=\"font-style: italic\">                 TelNode                 </span>\n",
       "┏━━━━━━━━━━━━┳━━━━━━━━━━━━━━━━━━━━━━━━━━┓\n",
       "┃<span style=\"font-weight: bold\"> Key        </span>┃<span style=\"font-weight: bold\"> Value                    </span>┃\n",
       "┡━━━━━━━━━━━━╇━━━━━━━━━━━━━━━━━━━━━━━━━━┩\n",
       "│<span style=\"color: #008080; text-decoration-color: #008080\"> $formkit   </span>│<span style=\"color: #800080; text-decoration-color: #800080\"> tel                      </span>│\n",
       "│<span style=\"color: #008080; text-decoration-color: #008080\"> label      </span>│<span style=\"color: #800080; text-decoration-color: #800080\"> $gettext(\"Phone number\") </span>│\n",
       "│<span style=\"color: #008080; text-decoration-color: #008080\"> maxLength  </span>│<span style=\"color: #800080; text-decoration-color: #800080\"> 8                        </span>│\n",
       "│<span style=\"color: #008080; text-decoration-color: #008080\"> name       </span>│<span style=\"color: #800080; text-decoration-color: #800080\"> phone_number             </span>│\n",
       "│<span style=\"color: #008080; text-decoration-color: #008080\"> validation </span>│<span style=\"color: #800080; text-decoration-color: #800080\"> number|length:8,8        </span>│\n",
       "└────────────┴──────────────────────────┘\n",
       "</pre>\n"
      ],
      "text/plain": [
       "\u001b[3m                 TelNode                 \u001b[0m\n",
       "┏━━━━━━━━━━━━┳━━━━━━━━━━━━━━━━━━━━━━━━━━┓\n",
       "┃\u001b[1m \u001b[0m\u001b[1mKey       \u001b[0m\u001b[1m \u001b[0m┃\u001b[1m \u001b[0m\u001b[1mValue                   \u001b[0m\u001b[1m \u001b[0m┃\n",
       "┡━━━━━━━━━━━━╇━━━━━━━━━━━━━━━━━━━━━━━━━━┩\n",
       "│\u001b[36m \u001b[0m\u001b[36m$formkit  \u001b[0m\u001b[36m \u001b[0m│\u001b[35m \u001b[0m\u001b[35mtel                     \u001b[0m\u001b[35m \u001b[0m│\n",
       "│\u001b[36m \u001b[0m\u001b[36mlabel     \u001b[0m\u001b[36m \u001b[0m│\u001b[35m \u001b[0m\u001b[35m$gettext(\"Phone number\")\u001b[0m\u001b[35m \u001b[0m│\n",
       "│\u001b[36m \u001b[0m\u001b[36mmaxLength \u001b[0m\u001b[36m \u001b[0m│\u001b[35m \u001b[0m\u001b[35m8                       \u001b[0m\u001b[35m \u001b[0m│\n",
       "│\u001b[36m \u001b[0m\u001b[36mname      \u001b[0m\u001b[36m \u001b[0m│\u001b[35m \u001b[0m\u001b[35mphone_number            \u001b[0m\u001b[35m \u001b[0m│\n",
       "│\u001b[36m \u001b[0m\u001b[36mvalidation\u001b[0m\u001b[36m \u001b[0m│\u001b[35m \u001b[0m\u001b[35mnumber|length:8,8       \u001b[0m\u001b[35m \u001b[0m│\n",
       "└────────────┴──────────────────────────┘\n"
      ]
     },
     "metadata": {},
     "output_type": "display_data"
    }
   ],
   "source": [
    "\n",
    "# This is in Python / Pydantic a \"TelNode\"\n",
    "# We can create this node from the dictionary above\n",
    "\n",
    "from formkit_ninja.formkit_schema import TelNode\n",
    "\n",
    "node = TelNode(**tel)\n",
    "\n",
    "modeltable(node)"
   ]
  },
  {
   "cell_type": "code",
   "execution_count": 47,
   "metadata": {},
   "outputs": [
    {
     "data": {
      "text/html": [
       "<pre style=\"white-space:pre;overflow-x:auto;line-height:normal;font-family:Menlo,'DejaVu Sans Mono',consolas,'Courier New',monospace\"><span style=\"font-style: italic\">          DiscriminatedNodeType          </span>\n",
       "┏━━━━━━━━━━━━┳━━━━━━━━━━━━━━━━━━━━━━━━━━┓\n",
       "┃<span style=\"font-weight: bold\"> Key        </span>┃<span style=\"font-weight: bold\"> Value                    </span>┃\n",
       "┡━━━━━━━━━━━━╇━━━━━━━━━━━━━━━━━━━━━━━━━━┩\n",
       "│<span style=\"color: #008080; text-decoration-color: #008080\"> $formkit   </span>│<span style=\"color: #800080; text-decoration-color: #800080\"> tel                      </span>│\n",
       "│<span style=\"color: #008080; text-decoration-color: #008080\"> label      </span>│<span style=\"color: #800080; text-decoration-color: #800080\"> $gettext(\"Phone number\") </span>│\n",
       "│<span style=\"color: #008080; text-decoration-color: #008080\"> maxLength  </span>│<span style=\"color: #800080; text-decoration-color: #800080\"> 8                        </span>│\n",
       "│<span style=\"color: #008080; text-decoration-color: #008080\"> name       </span>│<span style=\"color: #800080; text-decoration-color: #800080\"> phone_number             </span>│\n",
       "│<span style=\"color: #008080; text-decoration-color: #008080\"> validation </span>│<span style=\"color: #800080; text-decoration-color: #800080\"> number|length:8,8        </span>│\n",
       "└────────────┴──────────────────────────┘\n",
       "</pre>\n"
      ],
      "text/plain": [
       "\u001b[3m          DiscriminatedNodeType          \u001b[0m\n",
       "┏━━━━━━━━━━━━┳━━━━━━━━━━━━━━━━━━━━━━━━━━┓\n",
       "┃\u001b[1m \u001b[0m\u001b[1mKey       \u001b[0m\u001b[1m \u001b[0m┃\u001b[1m \u001b[0m\u001b[1mValue                   \u001b[0m\u001b[1m \u001b[0m┃\n",
       "┡━━━━━━━━━━━━╇━━━━━━━━━━━━━━━━━━━━━━━━━━┩\n",
       "│\u001b[36m \u001b[0m\u001b[36m$formkit  \u001b[0m\u001b[36m \u001b[0m│\u001b[35m \u001b[0m\u001b[35mtel                     \u001b[0m\u001b[35m \u001b[0m│\n",
       "│\u001b[36m \u001b[0m\u001b[36mlabel     \u001b[0m\u001b[36m \u001b[0m│\u001b[35m \u001b[0m\u001b[35m$gettext(\"Phone number\")\u001b[0m\u001b[35m \u001b[0m│\n",
       "│\u001b[36m \u001b[0m\u001b[36mmaxLength \u001b[0m\u001b[36m \u001b[0m│\u001b[35m \u001b[0m\u001b[35m8                       \u001b[0m\u001b[35m \u001b[0m│\n",
       "│\u001b[36m \u001b[0m\u001b[36mname      \u001b[0m\u001b[36m \u001b[0m│\u001b[35m \u001b[0m\u001b[35mphone_number            \u001b[0m\u001b[35m \u001b[0m│\n",
       "│\u001b[36m \u001b[0m\u001b[36mvalidation\u001b[0m\u001b[36m \u001b[0m│\u001b[35m \u001b[0m\u001b[35mnumber|length:8,8       \u001b[0m\u001b[35m \u001b[0m│\n",
       "└────────────┴──────────────────────────┘\n"
      ]
     },
     "metadata": {},
     "output_type": "display_data"
    }
   ],
   "source": [
    "# What if we don't know the type of node beforehand?\n",
    "# We can use the \"FormkitNode\" class to create the node from the dictionary\n",
    "from formkit_ninja.formkit_schema import DiscriminatedNodeType\n",
    "node = DiscriminatedNodeType(**tel)\n",
    "\n",
    "# The DiscriminatedNodeType can convert a variety of \"node\" types\n",
    "modeltable(node)"
   ]
  },
  {
   "cell_type": "code",
   "execution_count": 48,
   "metadata": {},
   "outputs": [
    {
     "data": {
      "text/plain": [
       "DiscriminatedNodeType(root=TelNode(children=None, key=None, if_condition=None, for_loop=None, bind=None, meta=None, id=None, name='phone_number', label='$gettext(\"Phone number\")', help=None, validation='number|length:8,8', validationLabel=None, validationVisibility=None, validationMessages=None, placeholder=None, value=None, prefixIcon=None, classes=None, additional_props={'maxLength': 8}, node_type='formkit', readonly=None, formkit='tel'))"
      ]
     },
     "execution_count": 48,
     "metadata": {},
     "output_type": "execute_result"
    }
   ],
   "source": [
    "node"
   ]
  },
  {
   "cell_type": "code",
   "execution_count": 64,
   "metadata": {},
   "outputs": [
    {
     "data": {
      "text/html": [
       "<pre style=\"white-space:pre;overflow-x:auto;line-height:normal;font-family:Menlo,'DejaVu Sans Mono',consolas,'Courier New',monospace\"><span style=\"color: #7fbfbf; text-decoration-color: #7fbfbf\">[00:48:02] </span><span style=\"color: #008000; text-decoration-color: #008000\">Creating  </span><span style=\"color: #008000; text-decoration-color: #008000\">ba4a5d27-a515-40cd-9e23-2a30227e8a25</span>                                             <a href=\"file:///app/src/formkit_ninja/models.py\" target=\"_blank\"><span style=\"color: #7f7f7f; text-decoration-color: #7f7f7f\">models.py</span></a><span style=\"color: #7f7f7f; text-decoration-color: #7f7f7f\">:</span><a href=\"file:///app/src/formkit_ninja/models.py#570\" target=\"_blank\"><span style=\"color: #7f7f7f; text-decoration-color: #7f7f7f\">570</span></a>\n",
       "</pre>\n"
      ],
      "text/plain": [
       "\u001b[2;36m[00:48:02]\u001b[0m\u001b[2;36m \u001b[0m\u001b[32mCreating  \u001b[0m\u001b[32mba4a5d27-a515-40cd-9e23-2a30227e8a25\u001b[0m                                             \u001b]8;id=861634;file:///app/src/formkit_ninja/models.py\u001b\\\u001b[2mmodels.py\u001b[0m\u001b]8;;\u001b\\\u001b[2m:\u001b[0m\u001b]8;id=594247;file:///app/src/formkit_ninja/models.py#570\u001b\\\u001b[2m570\u001b[0m\u001b]8;;\u001b\\\n"
      ]
     },
     "metadata": {},
     "output_type": "display_data"
    },
    {
     "data": {
      "text/html": [
       "<pre style=\"white-space:pre;overflow-x:auto;line-height:normal;font-family:Menlo,'DejaVu Sans Mono',consolas,'Courier New',monospace\"><span style=\"color: #7fbfbf; text-decoration-color: #7fbfbf\">           </span><span style=\"color: #008000; text-decoration-color: #008000\">Yielding: Node: phone_number</span>                                                               <a href=\"file:///app/src/formkit_ninja/models.py\" target=\"_blank\"><span style=\"color: #7f7f7f; text-decoration-color: #7f7f7f\">models.py</span></a><span style=\"color: #7f7f7f; text-decoration-color: #7f7f7f\">:</span><a href=\"file:///app/src/formkit_ninja/models.py#592\" target=\"_blank\"><span style=\"color: #7f7f7f; text-decoration-color: #7f7f7f\">592</span></a>\n",
       "</pre>\n"
      ],
      "text/plain": [
       "\u001b[2;36m          \u001b[0m\u001b[2;36m \u001b[0m\u001b[32mYielding: Node: phone_number\u001b[0m                                                               \u001b]8;id=897297;file:///app/src/formkit_ninja/models.py\u001b\\\u001b[2mmodels.py\u001b[0m\u001b]8;;\u001b\\\u001b[2m:\u001b[0m\u001b]8;id=119011;file:///app/src/formkit_ninja/models.py#592\u001b\\\u001b[2m592\u001b[0m\u001b]8;;\u001b\\\n"
      ]
     },
     "metadata": {},
     "output_type": "display_data"
    }
   ],
   "source": [
    "# And, we can save this in the database...\n",
    "\n",
    "from formkit_ninja.models import FormKitSchemaNode\n",
    "\n",
    "# This has a `from_pydantic` method\n",
    "nodes = list(FormKitSchemaNode.from_pydantic(node))\n"
   ]
  },
  {
   "cell_type": "code",
   "execution_count": 50,
   "metadata": {},
   "outputs": [
    {
     "data": {
      "text/plain": [
       "[<FormKitSchemaNode: Node: phone_number>]"
      ]
     },
     "execution_count": 50,
     "metadata": {},
     "output_type": "execute_result"
    }
   ],
   "source": [
    "nodes"
   ]
  },
  {
   "cell_type": "code",
   "execution_count": 51,
   "metadata": {},
   "outputs": [
    {
     "data": {
      "text/html": [
       "<pre style=\"white-space:pre;overflow-x:auto;line-height:normal;font-family:Menlo,'DejaVu Sans Mono',consolas,'Courier New',monospace\">┏━━━━━━━━━━━━━━━━━━┳━━━━━━━━━━━━━━━━━━━━━━━━━━┓\n",
       "┃<span style=\"font-weight: bold\"> Key              </span>┃<span style=\"font-weight: bold\"> Value                    </span>┃\n",
       "┡━━━━━━━━━━━━━━━━━━╇━━━━━━━━━━━━━━━━━━━━━━━━━━┩\n",
       "│<span style=\"color: #008080; text-decoration-color: #008080\"> $formkit         </span>│<span style=\"color: #800080; text-decoration-color: #800080\"> tel                      </span>│\n",
       "│<span style=\"color: #008080; text-decoration-color: #008080\"> additional_props </span>│<span style=\"color: #800080; text-decoration-color: #800080\"> {'maxLength': 8}         </span>│\n",
       "│<span style=\"color: #008080; text-decoration-color: #008080\"> label            </span>│<span style=\"color: #800080; text-decoration-color: #800080\"> $gettext(\"Phone number\") </span>│\n",
       "│<span style=\"color: #008080; text-decoration-color: #008080\"> name             </span>│<span style=\"color: #800080; text-decoration-color: #800080\"> phone_number             </span>│\n",
       "│<span style=\"color: #008080; text-decoration-color: #008080\"> validation       </span>│<span style=\"color: #800080; text-decoration-color: #800080\"> number|length:8,8        </span>│\n",
       "└──────────────────┴──────────────────────────┘\n",
       "</pre>\n"
      ],
      "text/plain": [
       "┏━━━━━━━━━━━━━━━━━━┳━━━━━━━━━━━━━━━━━━━━━━━━━━┓\n",
       "┃\u001b[1m \u001b[0m\u001b[1mKey             \u001b[0m\u001b[1m \u001b[0m┃\u001b[1m \u001b[0m\u001b[1mValue                   \u001b[0m\u001b[1m \u001b[0m┃\n",
       "┡━━━━━━━━━━━━━━━━━━╇━━━━━━━━━━━━━━━━━━━━━━━━━━┩\n",
       "│\u001b[36m \u001b[0m\u001b[36m$formkit        \u001b[0m\u001b[36m \u001b[0m│\u001b[35m \u001b[0m\u001b[35mtel                     \u001b[0m\u001b[35m \u001b[0m│\n",
       "│\u001b[36m \u001b[0m\u001b[36madditional_props\u001b[0m\u001b[36m \u001b[0m│\u001b[35m \u001b[0m\u001b[35m{'maxLength': 8}        \u001b[0m\u001b[35m \u001b[0m│\n",
       "│\u001b[36m \u001b[0m\u001b[36mlabel           \u001b[0m\u001b[36m \u001b[0m│\u001b[35m \u001b[0m\u001b[35m$gettext(\"Phone number\")\u001b[0m\u001b[35m \u001b[0m│\n",
       "│\u001b[36m \u001b[0m\u001b[36mname            \u001b[0m\u001b[36m \u001b[0m│\u001b[35m \u001b[0m\u001b[35mphone_number            \u001b[0m\u001b[35m \u001b[0m│\n",
       "│\u001b[36m \u001b[0m\u001b[36mvalidation      \u001b[0m\u001b[36m \u001b[0m│\u001b[35m \u001b[0m\u001b[35mnumber|length:8,8       \u001b[0m\u001b[35m \u001b[0m│\n",
       "└──────────────────┴──────────────────────────┘\n"
      ]
     },
     "metadata": {},
     "output_type": "display_data"
    },
    {
     "data": {
      "text/html": [
       "<pre style=\"white-space:pre;overflow-x:auto;line-height:normal;font-family:Menlo,'DejaVu Sans Mono',consolas,'Courier New',monospace\"><span style=\"font-style: italic\">                 TelNode                 </span>\n",
       "┏━━━━━━━━━━━━┳━━━━━━━━━━━━━━━━━━━━━━━━━━┓\n",
       "┃<span style=\"font-weight: bold\"> Key        </span>┃<span style=\"font-weight: bold\"> Value                    </span>┃\n",
       "┡━━━━━━━━━━━━╇━━━━━━━━━━━━━━━━━━━━━━━━━━┩\n",
       "│<span style=\"color: #008080; text-decoration-color: #008080\"> $formkit   </span>│<span style=\"color: #800080; text-decoration-color: #800080\"> tel                      </span>│\n",
       "│<span style=\"color: #008080; text-decoration-color: #008080\"> label      </span>│<span style=\"color: #800080; text-decoration-color: #800080\"> $gettext(\"Phone number\") </span>│\n",
       "│<span style=\"color: #008080; text-decoration-color: #008080\"> maxLength  </span>│<span style=\"color: #800080; text-decoration-color: #800080\"> 8                        </span>│\n",
       "│<span style=\"color: #008080; text-decoration-color: #008080\"> name       </span>│<span style=\"color: #800080; text-decoration-color: #800080\"> phone_number             </span>│\n",
       "│<span style=\"color: #008080; text-decoration-color: #008080\"> validation </span>│<span style=\"color: #800080; text-decoration-color: #800080\"> number|length:8,8        </span>│\n",
       "└────────────┴──────────────────────────┘\n",
       "</pre>\n"
      ],
      "text/plain": [
       "\u001b[3m                 TelNode                 \u001b[0m\n",
       "┏━━━━━━━━━━━━┳━━━━━━━━━━━━━━━━━━━━━━━━━━┓\n",
       "┃\u001b[1m \u001b[0m\u001b[1mKey       \u001b[0m\u001b[1m \u001b[0m┃\u001b[1m \u001b[0m\u001b[1mValue                   \u001b[0m\u001b[1m \u001b[0m┃\n",
       "┡━━━━━━━━━━━━╇━━━━━━━━━━━━━━━━━━━━━━━━━━┩\n",
       "│\u001b[36m \u001b[0m\u001b[36m$formkit  \u001b[0m\u001b[36m \u001b[0m│\u001b[35m \u001b[0m\u001b[35mtel                     \u001b[0m\u001b[35m \u001b[0m│\n",
       "│\u001b[36m \u001b[0m\u001b[36mlabel     \u001b[0m\u001b[36m \u001b[0m│\u001b[35m \u001b[0m\u001b[35m$gettext(\"Phone number\")\u001b[0m\u001b[35m \u001b[0m│\n",
       "│\u001b[36m \u001b[0m\u001b[36mmaxLength \u001b[0m\u001b[36m \u001b[0m│\u001b[35m \u001b[0m\u001b[35m8                       \u001b[0m\u001b[35m \u001b[0m│\n",
       "│\u001b[36m \u001b[0m\u001b[36mname      \u001b[0m\u001b[36m \u001b[0m│\u001b[35m \u001b[0m\u001b[35mphone_number            \u001b[0m\u001b[35m \u001b[0m│\n",
       "│\u001b[36m \u001b[0m\u001b[36mvalidation\u001b[0m\u001b[36m \u001b[0m│\u001b[35m \u001b[0m\u001b[35mnumber|length:8,8       \u001b[0m\u001b[35m \u001b[0m│\n",
       "└────────────┴──────────────────────────┘\n"
      ]
     },
     "metadata": {},
     "output_type": "display_data"
    }
   ],
   "source": [
    "for n in nodes:\n",
    "    kvtable(n.get_node_values())\n",
    "    modeltable(n.get_node())"
   ]
  },
  {
   "cell_type": "markdown",
   "metadata": {},
   "source": [
    "## A More Complex Example\n",
    "\n",
    "The following example is a \"datepicker\""
   ]
  },
  {
   "cell_type": "code",
   "execution_count": 52,
   "metadata": {},
   "outputs": [],
   "source": [
    "sf_41_datpicker = {\n",
    "    \"$formkit\": \"datepicker\",\n",
    "    \"_currentDate\": \"$getCurrentDate\",\n",
    "    \"calendarIcon\": \"calendar\",\n",
    "    \"format\": \"DD/MM/YYYY\",\n",
    "    \"id\": \"date\",\n",
    "    \"key\": \"date\",\n",
    "    \"label\": '$gettext(\"Date\")',\n",
    "    \"name\": \"date\",\n",
    "    \"nextIcon\": \"angleRight\",\n",
    "    \"prevIcon\": \"angleLeft\",\n",
    "    \"sectionsSchema\": {\n",
    "        \"day\": {\n",
    "            \"children\": [\n",
    "                \"$day.getDate()\",\n",
    "                {\n",
    "                    \"children\": [\n",
    "                        {\n",
    "                            \"children\": [\n",
    "                                {\n",
    "                                    \"$el\": \"div\",\n",
    "                                    \"attrs\": {\"class\": \"formkit-day-highlight\"},\n",
    "                                    \"if\": \"$attrs._currentDate().year === $day.getFullYear()\",\n",
    "                                }\n",
    "                            ],\n",
    "                            \"if\": \"$attrs._currentDate().month === $day.getMonth()\",\n",
    "                        }\n",
    "                    ],\n",
    "                    \"if\": \"$attrs._currentDate().day === $day.getDate()\",\n",
    "                },\n",
    "            ]\n",
    "        }\n",
    "    },\n",
    "}\n"
   ]
  },
  {
   "cell_type": "code",
   "execution_count": 53,
   "metadata": {},
   "outputs": [],
   "source": [
    "# When we run this we should get a valid node\n",
    "sf_41_node = DiscriminatedNodeType(**sf_41_datpicker)"
   ]
  },
  {
   "cell_type": "code",
   "execution_count": 54,
   "metadata": {},
   "outputs": [
    {
     "data": {
      "text/html": [
       "<pre style=\"white-space:pre;overflow-x:auto;line-height:normal;font-family:Menlo,'DejaVu Sans Mono',consolas,'Courier New',monospace\">┏━━━━━━━━━━━━━━━━┳━━━━━━━━━━━━━━━━━━━━━━━━━━━━━━━━━━━━━━━━━━━━━━━━━━━━━━━━━━━━━━━━━━━━━━━━━━━━━━━━━━━━━━━━━━━━━━━━┓\n",
       "┃<span style=\"font-weight: bold\"> Key            </span>┃<span style=\"font-weight: bold\"> Value                                                                                          </span>┃\n",
       "┡━━━━━━━━━━━━━━━━╇━━━━━━━━━━━━━━━━━━━━━━━━━━━━━━━━━━━━━━━━━━━━━━━━━━━━━━━━━━━━━━━━━━━━━━━━━━━━━━━━━━━━━━━━━━━━━━━━┩\n",
       "│<span style=\"color: #008080; text-decoration-color: #008080\"> $formkit       </span>│<span style=\"color: #800080; text-decoration-color: #800080\"> datepicker                                                                                     </span>│\n",
       "│<span style=\"color: #008080; text-decoration-color: #008080\"> _currentDate   </span>│<span style=\"color: #800080; text-decoration-color: #800080\"> $getCurrentDate                                                                                </span>│\n",
       "│<span style=\"color: #008080; text-decoration-color: #008080\"> calendarIcon   </span>│<span style=\"color: #800080; text-decoration-color: #800080\"> calendar                                                                                       </span>│\n",
       "│<span style=\"color: #008080; text-decoration-color: #008080\"> format         </span>│<span style=\"color: #800080; text-decoration-color: #800080\"> DD/MM/YYYY                                                                                     </span>│\n",
       "│<span style=\"color: #008080; text-decoration-color: #008080\"> id             </span>│<span style=\"color: #800080; text-decoration-color: #800080\"> date                                                                                           </span>│\n",
       "│<span style=\"color: #008080; text-decoration-color: #008080\"> key            </span>│<span style=\"color: #800080; text-decoration-color: #800080\"> date                                                                                           </span>│\n",
       "│<span style=\"color: #008080; text-decoration-color: #008080\"> label          </span>│<span style=\"color: #800080; text-decoration-color: #800080\"> $gettext(\"Date\")                                                                               </span>│\n",
       "│<span style=\"color: #008080; text-decoration-color: #008080\"> name           </span>│<span style=\"color: #800080; text-decoration-color: #800080\"> date                                                                                           </span>│\n",
       "│<span style=\"color: #008080; text-decoration-color: #008080\"> nextIcon       </span>│<span style=\"color: #800080; text-decoration-color: #800080\"> angleRight                                                                                     </span>│\n",
       "│<span style=\"color: #008080; text-decoration-color: #008080\"> prevIcon       </span>│<span style=\"color: #800080; text-decoration-color: #800080\"> angleLeft                                                                                      </span>│\n",
       "│<span style=\"color: #008080; text-decoration-color: #008080\"> sectionsSchema </span>│<span style=\"color: #800080; text-decoration-color: #800080\"> {'day': {'children': ['$day.getDate()', {'children': [{'children': [{'$el': 'div', 'attrs':    </span>│\n",
       "│<span style=\"color: #008080; text-decoration-color: #008080\">                </span>│<span style=\"color: #800080; text-decoration-color: #800080\"> {'class': 'formkit-day-highlight'}, 'if': '$attrs._currentDate().year ===                      </span>│\n",
       "│<span style=\"color: #008080; text-decoration-color: #008080\">                </span>│<span style=\"color: #800080; text-decoration-color: #800080\"> $day.getFullYear()'}], 'if': '$attrs._currentDate().month === $day.getMonth()'}], 'if':        </span>│\n",
       "│<span style=\"color: #008080; text-decoration-color: #008080\">                </span>│<span style=\"color: #800080; text-decoration-color: #800080\"> '$attrs._currentDate().day === $day.getDate()'}]}}                                             </span>│\n",
       "└────────────────┴────────────────────────────────────────────────────────────────────────────────────────────────┘\n",
       "</pre>\n"
      ],
      "text/plain": [
       "┏━━━━━━━━━━━━━━━━┳━━━━━━━━━━━━━━━━━━━━━━━━━━━━━━━━━━━━━━━━━━━━━━━━━━━━━━━━━━━━━━━━━━━━━━━━━━━━━━━━━━━━━━━━━━━━━━━━┓\n",
       "┃\u001b[1m \u001b[0m\u001b[1mKey           \u001b[0m\u001b[1m \u001b[0m┃\u001b[1m \u001b[0m\u001b[1mValue                                                                                         \u001b[0m\u001b[1m \u001b[0m┃\n",
       "┡━━━━━━━━━━━━━━━━╇━━━━━━━━━━━━━━━━━━━━━━━━━━━━━━━━━━━━━━━━━━━━━━━━━━━━━━━━━━━━━━━━━━━━━━━━━━━━━━━━━━━━━━━━━━━━━━━━┩\n",
       "│\u001b[36m \u001b[0m\u001b[36m$formkit      \u001b[0m\u001b[36m \u001b[0m│\u001b[35m \u001b[0m\u001b[35mdatepicker                                                                                    \u001b[0m\u001b[35m \u001b[0m│\n",
       "│\u001b[36m \u001b[0m\u001b[36m_currentDate  \u001b[0m\u001b[36m \u001b[0m│\u001b[35m \u001b[0m\u001b[35m$getCurrentDate                                                                               \u001b[0m\u001b[35m \u001b[0m│\n",
       "│\u001b[36m \u001b[0m\u001b[36mcalendarIcon  \u001b[0m\u001b[36m \u001b[0m│\u001b[35m \u001b[0m\u001b[35mcalendar                                                                                      \u001b[0m\u001b[35m \u001b[0m│\n",
       "│\u001b[36m \u001b[0m\u001b[36mformat        \u001b[0m\u001b[36m \u001b[0m│\u001b[35m \u001b[0m\u001b[35mDD/MM/YYYY                                                                                    \u001b[0m\u001b[35m \u001b[0m│\n",
       "│\u001b[36m \u001b[0m\u001b[36mid            \u001b[0m\u001b[36m \u001b[0m│\u001b[35m \u001b[0m\u001b[35mdate                                                                                          \u001b[0m\u001b[35m \u001b[0m│\n",
       "│\u001b[36m \u001b[0m\u001b[36mkey           \u001b[0m\u001b[36m \u001b[0m│\u001b[35m \u001b[0m\u001b[35mdate                                                                                          \u001b[0m\u001b[35m \u001b[0m│\n",
       "│\u001b[36m \u001b[0m\u001b[36mlabel         \u001b[0m\u001b[36m \u001b[0m│\u001b[35m \u001b[0m\u001b[35m$gettext(\"Date\")                                                                              \u001b[0m\u001b[35m \u001b[0m│\n",
       "│\u001b[36m \u001b[0m\u001b[36mname          \u001b[0m\u001b[36m \u001b[0m│\u001b[35m \u001b[0m\u001b[35mdate                                                                                          \u001b[0m\u001b[35m \u001b[0m│\n",
       "│\u001b[36m \u001b[0m\u001b[36mnextIcon      \u001b[0m\u001b[36m \u001b[0m│\u001b[35m \u001b[0m\u001b[35mangleRight                                                                                    \u001b[0m\u001b[35m \u001b[0m│\n",
       "│\u001b[36m \u001b[0m\u001b[36mprevIcon      \u001b[0m\u001b[36m \u001b[0m│\u001b[35m \u001b[0m\u001b[35mangleLeft                                                                                     \u001b[0m\u001b[35m \u001b[0m│\n",
       "│\u001b[36m \u001b[0m\u001b[36msectionsSchema\u001b[0m\u001b[36m \u001b[0m│\u001b[35m \u001b[0m\u001b[35m{'day': {'children': ['$day.getDate()', {'children': [{'children': [{'$el': 'div', 'attrs':   \u001b[0m\u001b[35m \u001b[0m│\n",
       "│\u001b[36m                \u001b[0m│\u001b[35m \u001b[0m\u001b[35m{'class': 'formkit-day-highlight'}, 'if': '$attrs._currentDate().year ===                     \u001b[0m\u001b[35m \u001b[0m│\n",
       "│\u001b[36m                \u001b[0m│\u001b[35m \u001b[0m\u001b[35m$day.getFullYear()'}], 'if': '$attrs._currentDate().month === $day.getMonth()'}], 'if':       \u001b[0m\u001b[35m \u001b[0m│\n",
       "│\u001b[36m                \u001b[0m│\u001b[35m \u001b[0m\u001b[35m'$attrs._currentDate().day === $day.getDate()'}]}}                                            \u001b[0m\u001b[35m \u001b[0m│\n",
       "└────────────────┴────────────────────────────────────────────────────────────────────────────────────────────────┘\n"
      ]
     },
     "metadata": {},
     "output_type": "display_data"
    },
    {
     "data": {
      "text/html": [
       "<pre style=\"white-space:pre;overflow-x:auto;line-height:normal;font-family:Menlo,'DejaVu Sans Mono',consolas,'Courier New',monospace\"><span style=\"font-style: italic\">                                               DiscriminatedNodeType                                               </span>\n",
       "┏━━━━━━━━━━━━━━━━┳━━━━━━━━━━━━━━━━━━━━━━━━━━━━━━━━━━━━━━━━━━━━━━━━━━━━━━━━━━━━━━━━━━━━━━━━━━━━━━━━━━━━━━━━━━━━━━━━┓\n",
       "┃<span style=\"font-weight: bold\"> Key            </span>┃<span style=\"font-weight: bold\"> Value                                                                                          </span>┃\n",
       "┡━━━━━━━━━━━━━━━━╇━━━━━━━━━━━━━━━━━━━━━━━━━━━━━━━━━━━━━━━━━━━━━━━━━━━━━━━━━━━━━━━━━━━━━━━━━━━━━━━━━━━━━━━━━━━━━━━━┩\n",
       "│<span style=\"color: #008080; text-decoration-color: #008080\"> $formkit       </span>│<span style=\"color: #800080; text-decoration-color: #800080\"> datepicker                                                                                     </span>│\n",
       "│<span style=\"color: #008080; text-decoration-color: #008080\"> _currentDate   </span>│<span style=\"color: #800080; text-decoration-color: #800080\"> $getCurrentDate                                                                                </span>│\n",
       "│<span style=\"color: #008080; text-decoration-color: #008080\"> calendarIcon   </span>│<span style=\"color: #800080; text-decoration-color: #800080\"> calendar                                                                                       </span>│\n",
       "│<span style=\"color: #008080; text-decoration-color: #008080\"> format         </span>│<span style=\"color: #800080; text-decoration-color: #800080\"> DD/MM/YYYY                                                                                     </span>│\n",
       "│<span style=\"color: #008080; text-decoration-color: #008080\"> id             </span>│<span style=\"color: #800080; text-decoration-color: #800080\"> date                                                                                           </span>│\n",
       "│<span style=\"color: #008080; text-decoration-color: #008080\"> key            </span>│<span style=\"color: #800080; text-decoration-color: #800080\"> date                                                                                           </span>│\n",
       "│<span style=\"color: #008080; text-decoration-color: #008080\"> label          </span>│<span style=\"color: #800080; text-decoration-color: #800080\"> $gettext(\"Date\")                                                                               </span>│\n",
       "│<span style=\"color: #008080; text-decoration-color: #008080\"> name           </span>│<span style=\"color: #800080; text-decoration-color: #800080\"> date                                                                                           </span>│\n",
       "│<span style=\"color: #008080; text-decoration-color: #008080\"> nextIcon       </span>│<span style=\"color: #800080; text-decoration-color: #800080\"> angleRight                                                                                     </span>│\n",
       "│<span style=\"color: #008080; text-decoration-color: #008080\"> prevIcon       </span>│<span style=\"color: #800080; text-decoration-color: #800080\"> angleLeft                                                                                      </span>│\n",
       "│<span style=\"color: #008080; text-decoration-color: #008080\"> sectionsSchema </span>│<span style=\"color: #800080; text-decoration-color: #800080\"> {'day': {'children': ['$day.getDate()', {'children': [{'children': [{'$el': 'div', 'attrs':    </span>│\n",
       "│<span style=\"color: #008080; text-decoration-color: #008080\">                </span>│<span style=\"color: #800080; text-decoration-color: #800080\"> {'class': 'formkit-day-highlight'}, 'if': '$attrs._currentDate().year ===                      </span>│\n",
       "│<span style=\"color: #008080; text-decoration-color: #008080\">                </span>│<span style=\"color: #800080; text-decoration-color: #800080\"> $day.getFullYear()'}], 'if': '$attrs._currentDate().month === $day.getMonth()'}], 'if':        </span>│\n",
       "│<span style=\"color: #008080; text-decoration-color: #008080\">                </span>│<span style=\"color: #800080; text-decoration-color: #800080\"> '$attrs._currentDate().day === $day.getDate()'}]}}                                             </span>│\n",
       "└────────────────┴────────────────────────────────────────────────────────────────────────────────────────────────┘\n",
       "</pre>\n"
      ],
      "text/plain": [
       "\u001b[3m                                               DiscriminatedNodeType                                               \u001b[0m\n",
       "┏━━━━━━━━━━━━━━━━┳━━━━━━━━━━━━━━━━━━━━━━━━━━━━━━━━━━━━━━━━━━━━━━━━━━━━━━━━━━━━━━━━━━━━━━━━━━━━━━━━━━━━━━━━━━━━━━━━┓\n",
       "┃\u001b[1m \u001b[0m\u001b[1mKey           \u001b[0m\u001b[1m \u001b[0m┃\u001b[1m \u001b[0m\u001b[1mValue                                                                                         \u001b[0m\u001b[1m \u001b[0m┃\n",
       "┡━━━━━━━━━━━━━━━━╇━━━━━━━━━━━━━━━━━━━━━━━━━━━━━━━━━━━━━━━━━━━━━━━━━━━━━━━━━━━━━━━━━━━━━━━━━━━━━━━━━━━━━━━━━━━━━━━━┩\n",
       "│\u001b[36m \u001b[0m\u001b[36m$formkit      \u001b[0m\u001b[36m \u001b[0m│\u001b[35m \u001b[0m\u001b[35mdatepicker                                                                                    \u001b[0m\u001b[35m \u001b[0m│\n",
       "│\u001b[36m \u001b[0m\u001b[36m_currentDate  \u001b[0m\u001b[36m \u001b[0m│\u001b[35m \u001b[0m\u001b[35m$getCurrentDate                                                                               \u001b[0m\u001b[35m \u001b[0m│\n",
       "│\u001b[36m \u001b[0m\u001b[36mcalendarIcon  \u001b[0m\u001b[36m \u001b[0m│\u001b[35m \u001b[0m\u001b[35mcalendar                                                                                      \u001b[0m\u001b[35m \u001b[0m│\n",
       "│\u001b[36m \u001b[0m\u001b[36mformat        \u001b[0m\u001b[36m \u001b[0m│\u001b[35m \u001b[0m\u001b[35mDD/MM/YYYY                                                                                    \u001b[0m\u001b[35m \u001b[0m│\n",
       "│\u001b[36m \u001b[0m\u001b[36mid            \u001b[0m\u001b[36m \u001b[0m│\u001b[35m \u001b[0m\u001b[35mdate                                                                                          \u001b[0m\u001b[35m \u001b[0m│\n",
       "│\u001b[36m \u001b[0m\u001b[36mkey           \u001b[0m\u001b[36m \u001b[0m│\u001b[35m \u001b[0m\u001b[35mdate                                                                                          \u001b[0m\u001b[35m \u001b[0m│\n",
       "│\u001b[36m \u001b[0m\u001b[36mlabel         \u001b[0m\u001b[36m \u001b[0m│\u001b[35m \u001b[0m\u001b[35m$gettext(\"Date\")                                                                              \u001b[0m\u001b[35m \u001b[0m│\n",
       "│\u001b[36m \u001b[0m\u001b[36mname          \u001b[0m\u001b[36m \u001b[0m│\u001b[35m \u001b[0m\u001b[35mdate                                                                                          \u001b[0m\u001b[35m \u001b[0m│\n",
       "│\u001b[36m \u001b[0m\u001b[36mnextIcon      \u001b[0m\u001b[36m \u001b[0m│\u001b[35m \u001b[0m\u001b[35mangleRight                                                                                    \u001b[0m\u001b[35m \u001b[0m│\n",
       "│\u001b[36m \u001b[0m\u001b[36mprevIcon      \u001b[0m\u001b[36m \u001b[0m│\u001b[35m \u001b[0m\u001b[35mangleLeft                                                                                     \u001b[0m\u001b[35m \u001b[0m│\n",
       "│\u001b[36m \u001b[0m\u001b[36msectionsSchema\u001b[0m\u001b[36m \u001b[0m│\u001b[35m \u001b[0m\u001b[35m{'day': {'children': ['$day.getDate()', {'children': [{'children': [{'$el': 'div', 'attrs':   \u001b[0m\u001b[35m \u001b[0m│\n",
       "│\u001b[36m                \u001b[0m│\u001b[35m \u001b[0m\u001b[35m{'class': 'formkit-day-highlight'}, 'if': '$attrs._currentDate().year ===                     \u001b[0m\u001b[35m \u001b[0m│\n",
       "│\u001b[36m                \u001b[0m│\u001b[35m \u001b[0m\u001b[35m$day.getFullYear()'}], 'if': '$attrs._currentDate().month === $day.getMonth()'}], 'if':       \u001b[0m\u001b[35m \u001b[0m│\n",
       "│\u001b[36m                \u001b[0m│\u001b[35m \u001b[0m\u001b[35m'$attrs._currentDate().day === $day.getDate()'}]}}                                            \u001b[0m\u001b[35m \u001b[0m│\n",
       "└────────────────┴────────────────────────────────────────────────────────────────────────────────────────────────┘\n"
      ]
     },
     "metadata": {},
     "output_type": "display_data"
    }
   ],
   "source": [
    "kvtable(sf_41_datpicker)\n",
    "modeltable(sf_41_node)"
   ]
  },
  {
   "cell_type": "code",
   "execution_count": 55,
   "metadata": {},
   "outputs": [
    {
     "data": {
      "text/html": [
       "<pre style=\"white-space:pre;overflow-x:auto;line-height:normal;font-family:Menlo,'DejaVu Sans Mono',consolas,'Courier New',monospace\"><span style=\"color: #7fbfbf; text-decoration-color: #7fbfbf\">[00:47:06] </span><span style=\"color: #008000; text-decoration-color: #008000\">Creating  </span><span style=\"color: #008000; text-decoration-color: #008000\">11bcf0a8-9873-4c04-a859-aacacdffbb3d</span>                                             <a href=\"file:///app/src/formkit_ninja/models.py\" target=\"_blank\"><span style=\"color: #7f7f7f; text-decoration-color: #7f7f7f\">models.py</span></a><span style=\"color: #7f7f7f; text-decoration-color: #7f7f7f\">:</span><a href=\"file:///app/src/formkit_ninja/models.py#570\" target=\"_blank\"><span style=\"color: #7f7f7f; text-decoration-color: #7f7f7f\">570</span></a>\n",
       "</pre>\n"
      ],
      "text/plain": [
       "\u001b[2;36m[00:47:06]\u001b[0m\u001b[2;36m \u001b[0m\u001b[32mCreating  \u001b[0m\u001b[32m11bcf0a8-9873-4c04-a859-aacacdffbb3d\u001b[0m                                             \u001b]8;id=324995;file:///app/src/formkit_ninja/models.py\u001b\\\u001b[2mmodels.py\u001b[0m\u001b]8;;\u001b\\\u001b[2m:\u001b[0m\u001b]8;id=613562;file:///app/src/formkit_ninja/models.py#570\u001b\\\u001b[2m570\u001b[0m\u001b]8;;\u001b\\\n"
      ]
     },
     "metadata": {},
     "output_type": "display_data"
    },
    {
     "data": {
      "text/html": [
       "<pre style=\"white-space:pre;overflow-x:auto;line-height:normal;font-family:Menlo,'DejaVu Sans Mono',consolas,'Courier New',monospace\"><span style=\"color: #7fbfbf; text-decoration-color: #7fbfbf\">           </span><span style=\"color: #008000; text-decoration-color: #008000\">Yielding: Node: date</span>                                                                       <a href=\"file:///app/src/formkit_ninja/models.py\" target=\"_blank\"><span style=\"color: #7f7f7f; text-decoration-color: #7f7f7f\">models.py</span></a><span style=\"color: #7f7f7f; text-decoration-color: #7f7f7f\">:</span><a href=\"file:///app/src/formkit_ninja/models.py#592\" target=\"_blank\"><span style=\"color: #7f7f7f; text-decoration-color: #7f7f7f\">592</span></a>\n",
       "</pre>\n"
      ],
      "text/plain": [
       "\u001b[2;36m          \u001b[0m\u001b[2;36m \u001b[0m\u001b[32mYielding: Node: date\u001b[0m                                                                       \u001b]8;id=601336;file:///app/src/formkit_ninja/models.py\u001b\\\u001b[2mmodels.py\u001b[0m\u001b]8;;\u001b\\\u001b[2m:\u001b[0m\u001b]8;id=958333;file:///app/src/formkit_ninja/models.py#592\u001b\\\u001b[2m592\u001b[0m\u001b]8;;\u001b\\\n"
      ]
     },
     "metadata": {},
     "output_type": "display_data"
    }
   ],
   "source": [
    "# Does it serialize to postgres? Let's see!\n",
    "# from_pydantic will return a list of nodes\n",
    "nodes = list(FormKitSchemaNode.from_pydantic(sf_41_node))"
   ]
  },
  {
   "cell_type": "code",
   "execution_count": 56,
   "metadata": {},
   "outputs": [
    {
     "data": {
      "text/html": [
       "<pre style=\"white-space:pre;overflow-x:auto;line-height:normal;font-family:Menlo,'DejaVu Sans Mono',consolas,'Courier New',monospace\">┏━━━━━━━━━━━━━━━━━━┳━━━━━━━━━━━━━━━━━━━━━━━━━━━━━━━━━━━━━━━━━━━━━━━━━━━━━━━━━━━━━━━━━━━━━━━━━━━━━━━━━━━━━━━━━━━━━━┓\n",
       "┃<span style=\"font-weight: bold\"> Key              </span>┃<span style=\"font-weight: bold\"> Value                                                                                        </span>┃\n",
       "┡━━━━━━━━━━━━━━━━━━╇━━━━━━━━━━━━━━━━━━━━━━━━━━━━━━━━━━━━━━━━━━━━━━━━━━━━━━━━━━━━━━━━━━━━━━━━━━━━━━━━━━━━━━━━━━━━━━┩\n",
       "│<span style=\"color: #008080; text-decoration-color: #008080\"> $formkit         </span>│<span style=\"color: #800080; text-decoration-color: #800080\"> datepicker                                                                                   </span>│\n",
       "│<span style=\"color: #008080; text-decoration-color: #008080\"> additional_props </span>│<span style=\"color: #800080; text-decoration-color: #800080\"> {'sectionsSchema': {'day': {'children': ['$day.getDate()', {'children': [{'children':        </span>│\n",
       "│<span style=\"color: #008080; text-decoration-color: #008080\">                  </span>│<span style=\"color: #800080; text-decoration-color: #800080\"> [{'$el': 'div', 'attrs': {'class': 'formkit-day-highlight'}, 'if':                           </span>│\n",
       "│<span style=\"color: #008080; text-decoration-color: #008080\">                  </span>│<span style=\"color: #800080; text-decoration-color: #800080\"> '$attrs._currentDate().year === $day.getFullYear()'}], 'if': '$attrs._currentDate().month    </span>│\n",
       "│<span style=\"color: #008080; text-decoration-color: #008080\">                  </span>│<span style=\"color: #800080; text-decoration-color: #800080\"> === $day.getMonth()'}], 'if': '$attrs._currentDate().day === $day.getDate()'}]}},            </span>│\n",
       "│<span style=\"color: #008080; text-decoration-color: #008080\">                  </span>│<span style=\"color: #800080; text-decoration-color: #800080\"> '_currentDate': '$getCurrentDate'}                                                           </span>│\n",
       "│<span style=\"color: #008080; text-decoration-color: #008080\"> calendarIcon     </span>│<span style=\"color: #800080; text-decoration-color: #800080\"> calendar                                                                                     </span>│\n",
       "│<span style=\"color: #008080; text-decoration-color: #008080\"> format           </span>│<span style=\"color: #800080; text-decoration-color: #800080\"> DD/MM/YYYY                                                                                   </span>│\n",
       "│<span style=\"color: #008080; text-decoration-color: #008080\"> id               </span>│<span style=\"color: #800080; text-decoration-color: #800080\"> date                                                                                         </span>│\n",
       "│<span style=\"color: #008080; text-decoration-color: #008080\"> key              </span>│<span style=\"color: #800080; text-decoration-color: #800080\"> date                                                                                         </span>│\n",
       "│<span style=\"color: #008080; text-decoration-color: #008080\"> label            </span>│<span style=\"color: #800080; text-decoration-color: #800080\"> $gettext(\"Date\")                                                                             </span>│\n",
       "│<span style=\"color: #008080; text-decoration-color: #008080\"> name             </span>│<span style=\"color: #800080; text-decoration-color: #800080\"> date                                                                                         </span>│\n",
       "│<span style=\"color: #008080; text-decoration-color: #008080\"> nextIcon         </span>│<span style=\"color: #800080; text-decoration-color: #800080\"> angleRight                                                                                   </span>│\n",
       "│<span style=\"color: #008080; text-decoration-color: #008080\"> prevIcon         </span>│<span style=\"color: #800080; text-decoration-color: #800080\"> angleLeft                                                                                    </span>│\n",
       "└──────────────────┴──────────────────────────────────────────────────────────────────────────────────────────────┘\n",
       "</pre>\n"
      ],
      "text/plain": [
       "┏━━━━━━━━━━━━━━━━━━┳━━━━━━━━━━━━━━━━━━━━━━━━━━━━━━━━━━━━━━━━━━━━━━━━━━━━━━━━━━━━━━━━━━━━━━━━━━━━━━━━━━━━━━━━━━━━━━┓\n",
       "┃\u001b[1m \u001b[0m\u001b[1mKey             \u001b[0m\u001b[1m \u001b[0m┃\u001b[1m \u001b[0m\u001b[1mValue                                                                                       \u001b[0m\u001b[1m \u001b[0m┃\n",
       "┡━━━━━━━━━━━━━━━━━━╇━━━━━━━━━━━━━━━━━━━━━━━━━━━━━━━━━━━━━━━━━━━━━━━━━━━━━━━━━━━━━━━━━━━━━━━━━━━━━━━━━━━━━━━━━━━━━━┩\n",
       "│\u001b[36m \u001b[0m\u001b[36m$formkit        \u001b[0m\u001b[36m \u001b[0m│\u001b[35m \u001b[0m\u001b[35mdatepicker                                                                                  \u001b[0m\u001b[35m \u001b[0m│\n",
       "│\u001b[36m \u001b[0m\u001b[36madditional_props\u001b[0m\u001b[36m \u001b[0m│\u001b[35m \u001b[0m\u001b[35m{'sectionsSchema': {'day': {'children': ['$day.getDate()', {'children': [{'children':       \u001b[0m\u001b[35m \u001b[0m│\n",
       "│\u001b[36m                  \u001b[0m│\u001b[35m \u001b[0m\u001b[35m[{'$el': 'div', 'attrs': {'class': 'formkit-day-highlight'}, 'if':                          \u001b[0m\u001b[35m \u001b[0m│\n",
       "│\u001b[36m                  \u001b[0m│\u001b[35m \u001b[0m\u001b[35m'$attrs._currentDate().year === $day.getFullYear()'}], 'if': '$attrs._currentDate().month   \u001b[0m\u001b[35m \u001b[0m│\n",
       "│\u001b[36m                  \u001b[0m│\u001b[35m \u001b[0m\u001b[35m=== $day.getMonth()'}], 'if': '$attrs._currentDate().day === $day.getDate()'}]}},           \u001b[0m\u001b[35m \u001b[0m│\n",
       "│\u001b[36m                  \u001b[0m│\u001b[35m \u001b[0m\u001b[35m'_currentDate': '$getCurrentDate'}                                                          \u001b[0m\u001b[35m \u001b[0m│\n",
       "│\u001b[36m \u001b[0m\u001b[36mcalendarIcon    \u001b[0m\u001b[36m \u001b[0m│\u001b[35m \u001b[0m\u001b[35mcalendar                                                                                    \u001b[0m\u001b[35m \u001b[0m│\n",
       "│\u001b[36m \u001b[0m\u001b[36mformat          \u001b[0m\u001b[36m \u001b[0m│\u001b[35m \u001b[0m\u001b[35mDD/MM/YYYY                                                                                  \u001b[0m\u001b[35m \u001b[0m│\n",
       "│\u001b[36m \u001b[0m\u001b[36mid              \u001b[0m\u001b[36m \u001b[0m│\u001b[35m \u001b[0m\u001b[35mdate                                                                                        \u001b[0m\u001b[35m \u001b[0m│\n",
       "│\u001b[36m \u001b[0m\u001b[36mkey             \u001b[0m\u001b[36m \u001b[0m│\u001b[35m \u001b[0m\u001b[35mdate                                                                                        \u001b[0m\u001b[35m \u001b[0m│\n",
       "│\u001b[36m \u001b[0m\u001b[36mlabel           \u001b[0m\u001b[36m \u001b[0m│\u001b[35m \u001b[0m\u001b[35m$gettext(\"Date\")                                                                            \u001b[0m\u001b[35m \u001b[0m│\n",
       "│\u001b[36m \u001b[0m\u001b[36mname            \u001b[0m\u001b[36m \u001b[0m│\u001b[35m \u001b[0m\u001b[35mdate                                                                                        \u001b[0m\u001b[35m \u001b[0m│\n",
       "│\u001b[36m \u001b[0m\u001b[36mnextIcon        \u001b[0m\u001b[36m \u001b[0m│\u001b[35m \u001b[0m\u001b[35mangleRight                                                                                  \u001b[0m\u001b[35m \u001b[0m│\n",
       "│\u001b[36m \u001b[0m\u001b[36mprevIcon        \u001b[0m\u001b[36m \u001b[0m│\u001b[35m \u001b[0m\u001b[35mangleLeft                                                                                   \u001b[0m\u001b[35m \u001b[0m│\n",
       "└──────────────────┴──────────────────────────────────────────────────────────────────────────────────────────────┘\n"
      ]
     },
     "metadata": {},
     "output_type": "display_data"
    },
    {
     "data": {
      "text/html": [
       "<pre style=\"white-space:pre;overflow-x:auto;line-height:normal;font-family:Menlo,'DejaVu Sans Mono',consolas,'Courier New',monospace\"><span style=\"font-style: italic\">                                                  DatePickerNode                                                   </span>\n",
       "┏━━━━━━━━━━━━━━━━┳━━━━━━━━━━━━━━━━━━━━━━━━━━━━━━━━━━━━━━━━━━━━━━━━━━━━━━━━━━━━━━━━━━━━━━━━━━━━━━━━━━━━━━━━━━━━━━━━┓\n",
       "┃<span style=\"font-weight: bold\"> Key            </span>┃<span style=\"font-weight: bold\"> Value                                                                                          </span>┃\n",
       "┡━━━━━━━━━━━━━━━━╇━━━━━━━━━━━━━━━━━━━━━━━━━━━━━━━━━━━━━━━━━━━━━━━━━━━━━━━━━━━━━━━━━━━━━━━━━━━━━━━━━━━━━━━━━━━━━━━━┩\n",
       "│<span style=\"color: #008080; text-decoration-color: #008080\"> $formkit       </span>│<span style=\"color: #800080; text-decoration-color: #800080\"> datepicker                                                                                     </span>│\n",
       "│<span style=\"color: #008080; text-decoration-color: #008080\"> _currentDate   </span>│<span style=\"color: #800080; text-decoration-color: #800080\"> $getCurrentDate                                                                                </span>│\n",
       "│<span style=\"color: #008080; text-decoration-color: #008080\"> calendarIcon   </span>│<span style=\"color: #800080; text-decoration-color: #800080\"> calendar                                                                                       </span>│\n",
       "│<span style=\"color: #008080; text-decoration-color: #008080\"> format         </span>│<span style=\"color: #800080; text-decoration-color: #800080\"> DD/MM/YYYY                                                                                     </span>│\n",
       "│<span style=\"color: #008080; text-decoration-color: #008080\"> id             </span>│<span style=\"color: #800080; text-decoration-color: #800080\"> date                                                                                           </span>│\n",
       "│<span style=\"color: #008080; text-decoration-color: #008080\"> key            </span>│<span style=\"color: #800080; text-decoration-color: #800080\"> date                                                                                           </span>│\n",
       "│<span style=\"color: #008080; text-decoration-color: #008080\"> label          </span>│<span style=\"color: #800080; text-decoration-color: #800080\"> $gettext(\"Date\")                                                                               </span>│\n",
       "│<span style=\"color: #008080; text-decoration-color: #008080\"> name           </span>│<span style=\"color: #800080; text-decoration-color: #800080\"> date                                                                                           </span>│\n",
       "│<span style=\"color: #008080; text-decoration-color: #008080\"> nextIcon       </span>│<span style=\"color: #800080; text-decoration-color: #800080\"> angleRight                                                                                     </span>│\n",
       "│<span style=\"color: #008080; text-decoration-color: #008080\"> prevIcon       </span>│<span style=\"color: #800080; text-decoration-color: #800080\"> angleLeft                                                                                      </span>│\n",
       "│<span style=\"color: #008080; text-decoration-color: #008080\"> sectionsSchema </span>│<span style=\"color: #800080; text-decoration-color: #800080\"> {'day': {'children': ['$day.getDate()', {'children': [{'children': [{'$el': 'div', 'attrs':    </span>│\n",
       "│<span style=\"color: #008080; text-decoration-color: #008080\">                </span>│<span style=\"color: #800080; text-decoration-color: #800080\"> {'class': 'formkit-day-highlight'}, 'if': '$attrs._currentDate().year ===                      </span>│\n",
       "│<span style=\"color: #008080; text-decoration-color: #008080\">                </span>│<span style=\"color: #800080; text-decoration-color: #800080\"> $day.getFullYear()'}], 'if': '$attrs._currentDate().month === $day.getMonth()'}], 'if':        </span>│\n",
       "│<span style=\"color: #008080; text-decoration-color: #008080\">                </span>│<span style=\"color: #800080; text-decoration-color: #800080\"> '$attrs._currentDate().day === $day.getDate()'}]}}                                             </span>│\n",
       "└────────────────┴────────────────────────────────────────────────────────────────────────────────────────────────┘\n",
       "</pre>\n"
      ],
      "text/plain": [
       "\u001b[3m                                                  DatePickerNode                                                   \u001b[0m\n",
       "┏━━━━━━━━━━━━━━━━┳━━━━━━━━━━━━━━━━━━━━━━━━━━━━━━━━━━━━━━━━━━━━━━━━━━━━━━━━━━━━━━━━━━━━━━━━━━━━━━━━━━━━━━━━━━━━━━━━┓\n",
       "┃\u001b[1m \u001b[0m\u001b[1mKey           \u001b[0m\u001b[1m \u001b[0m┃\u001b[1m \u001b[0m\u001b[1mValue                                                                                         \u001b[0m\u001b[1m \u001b[0m┃\n",
       "┡━━━━━━━━━━━━━━━━╇━━━━━━━━━━━━━━━━━━━━━━━━━━━━━━━━━━━━━━━━━━━━━━━━━━━━━━━━━━━━━━━━━━━━━━━━━━━━━━━━━━━━━━━━━━━━━━━━┩\n",
       "│\u001b[36m \u001b[0m\u001b[36m$formkit      \u001b[0m\u001b[36m \u001b[0m│\u001b[35m \u001b[0m\u001b[35mdatepicker                                                                                    \u001b[0m\u001b[35m \u001b[0m│\n",
       "│\u001b[36m \u001b[0m\u001b[36m_currentDate  \u001b[0m\u001b[36m \u001b[0m│\u001b[35m \u001b[0m\u001b[35m$getCurrentDate                                                                               \u001b[0m\u001b[35m \u001b[0m│\n",
       "│\u001b[36m \u001b[0m\u001b[36mcalendarIcon  \u001b[0m\u001b[36m \u001b[0m│\u001b[35m \u001b[0m\u001b[35mcalendar                                                                                      \u001b[0m\u001b[35m \u001b[0m│\n",
       "│\u001b[36m \u001b[0m\u001b[36mformat        \u001b[0m\u001b[36m \u001b[0m│\u001b[35m \u001b[0m\u001b[35mDD/MM/YYYY                                                                                    \u001b[0m\u001b[35m \u001b[0m│\n",
       "│\u001b[36m \u001b[0m\u001b[36mid            \u001b[0m\u001b[36m \u001b[0m│\u001b[35m \u001b[0m\u001b[35mdate                                                                                          \u001b[0m\u001b[35m \u001b[0m│\n",
       "│\u001b[36m \u001b[0m\u001b[36mkey           \u001b[0m\u001b[36m \u001b[0m│\u001b[35m \u001b[0m\u001b[35mdate                                                                                          \u001b[0m\u001b[35m \u001b[0m│\n",
       "│\u001b[36m \u001b[0m\u001b[36mlabel         \u001b[0m\u001b[36m \u001b[0m│\u001b[35m \u001b[0m\u001b[35m$gettext(\"Date\")                                                                              \u001b[0m\u001b[35m \u001b[0m│\n",
       "│\u001b[36m \u001b[0m\u001b[36mname          \u001b[0m\u001b[36m \u001b[0m│\u001b[35m \u001b[0m\u001b[35mdate                                                                                          \u001b[0m\u001b[35m \u001b[0m│\n",
       "│\u001b[36m \u001b[0m\u001b[36mnextIcon      \u001b[0m\u001b[36m \u001b[0m│\u001b[35m \u001b[0m\u001b[35mangleRight                                                                                    \u001b[0m\u001b[35m \u001b[0m│\n",
       "│\u001b[36m \u001b[0m\u001b[36mprevIcon      \u001b[0m\u001b[36m \u001b[0m│\u001b[35m \u001b[0m\u001b[35mangleLeft                                                                                     \u001b[0m\u001b[35m \u001b[0m│\n",
       "│\u001b[36m \u001b[0m\u001b[36msectionsSchema\u001b[0m\u001b[36m \u001b[0m│\u001b[35m \u001b[0m\u001b[35m{'day': {'children': ['$day.getDate()', {'children': [{'children': [{'$el': 'div', 'attrs':   \u001b[0m\u001b[35m \u001b[0m│\n",
       "│\u001b[36m                \u001b[0m│\u001b[35m \u001b[0m\u001b[35m{'class': 'formkit-day-highlight'}, 'if': '$attrs._currentDate().year ===                     \u001b[0m\u001b[35m \u001b[0m│\n",
       "│\u001b[36m                \u001b[0m│\u001b[35m \u001b[0m\u001b[35m$day.getFullYear()'}], 'if': '$attrs._currentDate().month === $day.getMonth()'}], 'if':       \u001b[0m\u001b[35m \u001b[0m│\n",
       "│\u001b[36m                \u001b[0m│\u001b[35m \u001b[0m\u001b[35m'$attrs._currentDate().day === $day.getDate()'}]}}                                            \u001b[0m\u001b[35m \u001b[0m│\n",
       "└────────────────┴────────────────────────────────────────────────────────────────────────────────────────────────┘\n"
      ]
     },
     "metadata": {},
     "output_type": "display_data"
    }
   ],
   "source": [
    "for n in nodes:\n",
    "    kvtable(n.get_node_values())\n",
    "    modeltable(n.get_node())\n",
    "\n",
    "# Note that there is one difference on postgres\n",
    "# Because `sectionsSchema` is something we don't\n",
    "# have in the postgres schema, it's held within the `additional_props` field"
   ]
  },
  {
   "cell_type": "code",
   "execution_count": 57,
   "metadata": {},
   "outputs": [],
   "source": [
    "# Schemas\n",
    "# Usually one input is not enough, we need a schema to hold multiple inputs\n",
    "# This is a JSON object not real javascript\n",
    "schema = '''\n",
    "[\n",
    "  {\n",
    "    $el: 'h1',\n",
    "    children: 'Register',\n",
    "    attrs: {\n",
    "      class: 'text-2xl font-bold mb-4',\n",
    "    },\n",
    "  },\n",
    "  {\n",
    "    $formkit: 'text',\n",
    "    name: 'email',\n",
    "    label: 'Email',\n",
    "    help: 'This will be used for your account.',\n",
    "    validation: 'required|email',\n",
    "  },\n",
    "  {\n",
    "    $formkit: 'password',\n",
    "    name: 'password',\n",
    "    label: 'Password',\n",
    "    help: 'Enter your new password.',\n",
    "    validation: 'required|length:5,16',\n",
    "  },\n",
    "  {\n",
    "    $formkit: 'password',\n",
    "    name: 'password_confirm',\n",
    "    label: 'Confirm password',\n",
    "    help: 'Enter your new password again to confirm it.',\n",
    "    validation: 'required|confirm',\n",
    "    validationLabel: 'password confirmation',\n",
    "  },\n",
    "  {\n",
    "    $cmp: 'FormKit',\n",
    "    props: {\n",
    "      name: 'eu_citizen',\n",
    "      type: 'checkbox',\n",
    "      id: 'eu',\n",
    "      label: 'Are you a european citizen?',\n",
    "    },\n",
    "  },\n",
    "  {\n",
    "    $formkit: 'select',\n",
    "    if: '$get(eu).value', // 👀 Oooo, conditionals!\n",
    "    name: 'cookie_notice',\n",
    "    label: 'Cookie notice frequency',\n",
    "    options: {\n",
    "      refresh: 'Every page load',\n",
    "      hourly: 'Ever hour',\n",
    "      daily: 'Every day',\n",
    "    },\n",
    "    help: 'How often should we display a cookie notice?',\n",
    "  },\n",
    "]\n",
    "'''\n",
    "\n",
    "import json5\n",
    "schema_as_js = json5.loads(schema)"
   ]
  },
  {
   "cell_type": "code",
   "execution_count": null,
   "metadata": {},
   "outputs": [],
   "source": []
  },
  {
   "cell_type": "code",
   "execution_count": 58,
   "metadata": {},
   "outputs": [
    {
     "data": {
      "text/html": [
       "<pre style=\"white-space:pre;overflow-x:auto;line-height:normal;font-family:Menlo,'DejaVu Sans Mono',consolas,'Courier New',monospace\">┏━━━━━━━━━━┳━━━━━━━━━━━━━━━━━━━━━━━━━━━━━━━━━━━━━━┓\n",
       "┃<span style=\"font-weight: bold\"> Key      </span>┃<span style=\"font-weight: bold\"> Value                                </span>┃\n",
       "┡━━━━━━━━━━╇━━━━━━━━━━━━━━━━━━━━━━━━━━━━━━━━━━━━━━┩\n",
       "│<span style=\"color: #008080; text-decoration-color: #008080\"> $el      </span>│<span style=\"color: #800080; text-decoration-color: #800080\"> h1                                   </span>│\n",
       "│<span style=\"color: #008080; text-decoration-color: #008080\"> attrs    </span>│<span style=\"color: #800080; text-decoration-color: #800080\"> {'class': 'text-2xl font-bold mb-4'} </span>│\n",
       "│<span style=\"color: #008080; text-decoration-color: #008080\"> children </span>│<span style=\"color: #800080; text-decoration-color: #800080\"> Register                             </span>│\n",
       "└──────────┴──────────────────────────────────────┘\n",
       "</pre>\n"
      ],
      "text/plain": [
       "┏━━━━━━━━━━┳━━━━━━━━━━━━━━━━━━━━━━━━━━━━━━━━━━━━━━┓\n",
       "┃\u001b[1m \u001b[0m\u001b[1mKey     \u001b[0m\u001b[1m \u001b[0m┃\u001b[1m \u001b[0m\u001b[1mValue                               \u001b[0m\u001b[1m \u001b[0m┃\n",
       "┡━━━━━━━━━━╇━━━━━━━━━━━━━━━━━━━━━━━━━━━━━━━━━━━━━━┩\n",
       "│\u001b[36m \u001b[0m\u001b[36m$el     \u001b[0m\u001b[36m \u001b[0m│\u001b[35m \u001b[0m\u001b[35mh1                                  \u001b[0m\u001b[35m \u001b[0m│\n",
       "│\u001b[36m \u001b[0m\u001b[36mattrs   \u001b[0m\u001b[36m \u001b[0m│\u001b[35m \u001b[0m\u001b[35m{'class': 'text-2xl font-bold mb-4'}\u001b[0m\u001b[35m \u001b[0m│\n",
       "│\u001b[36m \u001b[0m\u001b[36mchildren\u001b[0m\u001b[36m \u001b[0m│\u001b[35m \u001b[0m\u001b[35mRegister                            \u001b[0m\u001b[35m \u001b[0m│\n",
       "└──────────┴──────────────────────────────────────┘\n"
      ]
     },
     "metadata": {},
     "output_type": "display_data"
    },
    {
     "data": {
      "text/html": [
       "<pre style=\"white-space:pre;overflow-x:auto;line-height:normal;font-family:Menlo,'DejaVu Sans Mono',consolas,'Courier New',monospace\">┏━━━━━━━━━━━━┳━━━━━━━━━━━━━━━━━━━━━━━━━━━━━━━━━━━━━┓\n",
       "┃<span style=\"font-weight: bold\"> Key        </span>┃<span style=\"font-weight: bold\"> Value                               </span>┃\n",
       "┡━━━━━━━━━━━━╇━━━━━━━━━━━━━━━━━━━━━━━━━━━━━━━━━━━━━┩\n",
       "│<span style=\"color: #008080; text-decoration-color: #008080\"> $formkit   </span>│<span style=\"color: #800080; text-decoration-color: #800080\"> text                                </span>│\n",
       "│<span style=\"color: #008080; text-decoration-color: #008080\"> help       </span>│<span style=\"color: #800080; text-decoration-color: #800080\"> This will be used for your account. </span>│\n",
       "│<span style=\"color: #008080; text-decoration-color: #008080\"> label      </span>│<span style=\"color: #800080; text-decoration-color: #800080\"> Email                               </span>│\n",
       "│<span style=\"color: #008080; text-decoration-color: #008080\"> name       </span>│<span style=\"color: #800080; text-decoration-color: #800080\"> email                               </span>│\n",
       "│<span style=\"color: #008080; text-decoration-color: #008080\"> validation </span>│<span style=\"color: #800080; text-decoration-color: #800080\"> required|email                      </span>│\n",
       "└────────────┴─────────────────────────────────────┘\n",
       "</pre>\n"
      ],
      "text/plain": [
       "┏━━━━━━━━━━━━┳━━━━━━━━━━━━━━━━━━━━━━━━━━━━━━━━━━━━━┓\n",
       "┃\u001b[1m \u001b[0m\u001b[1mKey       \u001b[0m\u001b[1m \u001b[0m┃\u001b[1m \u001b[0m\u001b[1mValue                              \u001b[0m\u001b[1m \u001b[0m┃\n",
       "┡━━━━━━━━━━━━╇━━━━━━━━━━━━━━━━━━━━━━━━━━━━━━━━━━━━━┩\n",
       "│\u001b[36m \u001b[0m\u001b[36m$formkit  \u001b[0m\u001b[36m \u001b[0m│\u001b[35m \u001b[0m\u001b[35mtext                               \u001b[0m\u001b[35m \u001b[0m│\n",
       "│\u001b[36m \u001b[0m\u001b[36mhelp      \u001b[0m\u001b[36m \u001b[0m│\u001b[35m \u001b[0m\u001b[35mThis will be used for your account.\u001b[0m\u001b[35m \u001b[0m│\n",
       "│\u001b[36m \u001b[0m\u001b[36mlabel     \u001b[0m\u001b[36m \u001b[0m│\u001b[35m \u001b[0m\u001b[35mEmail                              \u001b[0m\u001b[35m \u001b[0m│\n",
       "│\u001b[36m \u001b[0m\u001b[36mname      \u001b[0m\u001b[36m \u001b[0m│\u001b[35m \u001b[0m\u001b[35memail                              \u001b[0m\u001b[35m \u001b[0m│\n",
       "│\u001b[36m \u001b[0m\u001b[36mvalidation\u001b[0m\u001b[36m \u001b[0m│\u001b[35m \u001b[0m\u001b[35mrequired|email                     \u001b[0m\u001b[35m \u001b[0m│\n",
       "└────────────┴─────────────────────────────────────┘\n"
      ]
     },
     "metadata": {},
     "output_type": "display_data"
    },
    {
     "data": {
      "text/html": [
       "<pre style=\"white-space:pre;overflow-x:auto;line-height:normal;font-family:Menlo,'DejaVu Sans Mono',consolas,'Courier New',monospace\">┏━━━━━━━━━━━━┳━━━━━━━━━━━━━━━━━━━━━━━━━━┓\n",
       "┃<span style=\"font-weight: bold\"> Key        </span>┃<span style=\"font-weight: bold\"> Value                    </span>┃\n",
       "┡━━━━━━━━━━━━╇━━━━━━━━━━━━━━━━━━━━━━━━━━┩\n",
       "│<span style=\"color: #008080; text-decoration-color: #008080\"> $formkit   </span>│<span style=\"color: #800080; text-decoration-color: #800080\"> password                 </span>│\n",
       "│<span style=\"color: #008080; text-decoration-color: #008080\"> help       </span>│<span style=\"color: #800080; text-decoration-color: #800080\"> Enter your new password. </span>│\n",
       "│<span style=\"color: #008080; text-decoration-color: #008080\"> label      </span>│<span style=\"color: #800080; text-decoration-color: #800080\"> Password                 </span>│\n",
       "│<span style=\"color: #008080; text-decoration-color: #008080\"> name       </span>│<span style=\"color: #800080; text-decoration-color: #800080\"> password                 </span>│\n",
       "│<span style=\"color: #008080; text-decoration-color: #008080\"> validation </span>│<span style=\"color: #800080; text-decoration-color: #800080\"> required|length:5,16     </span>│\n",
       "└────────────┴──────────────────────────┘\n",
       "</pre>\n"
      ],
      "text/plain": [
       "┏━━━━━━━━━━━━┳━━━━━━━━━━━━━━━━━━━━━━━━━━┓\n",
       "┃\u001b[1m \u001b[0m\u001b[1mKey       \u001b[0m\u001b[1m \u001b[0m┃\u001b[1m \u001b[0m\u001b[1mValue                   \u001b[0m\u001b[1m \u001b[0m┃\n",
       "┡━━━━━━━━━━━━╇━━━━━━━━━━━━━━━━━━━━━━━━━━┩\n",
       "│\u001b[36m \u001b[0m\u001b[36m$formkit  \u001b[0m\u001b[36m \u001b[0m│\u001b[35m \u001b[0m\u001b[35mpassword                \u001b[0m\u001b[35m \u001b[0m│\n",
       "│\u001b[36m \u001b[0m\u001b[36mhelp      \u001b[0m\u001b[36m \u001b[0m│\u001b[35m \u001b[0m\u001b[35mEnter your new password.\u001b[0m\u001b[35m \u001b[0m│\n",
       "│\u001b[36m \u001b[0m\u001b[36mlabel     \u001b[0m\u001b[36m \u001b[0m│\u001b[35m \u001b[0m\u001b[35mPassword                \u001b[0m\u001b[35m \u001b[0m│\n",
       "│\u001b[36m \u001b[0m\u001b[36mname      \u001b[0m\u001b[36m \u001b[0m│\u001b[35m \u001b[0m\u001b[35mpassword                \u001b[0m\u001b[35m \u001b[0m│\n",
       "│\u001b[36m \u001b[0m\u001b[36mvalidation\u001b[0m\u001b[36m \u001b[0m│\u001b[35m \u001b[0m\u001b[35mrequired|length:5,16    \u001b[0m\u001b[35m \u001b[0m│\n",
       "└────────────┴──────────────────────────┘\n"
      ]
     },
     "metadata": {},
     "output_type": "display_data"
    },
    {
     "data": {
      "text/html": [
       "<pre style=\"white-space:pre;overflow-x:auto;line-height:normal;font-family:Menlo,'DejaVu Sans Mono',consolas,'Courier New',monospace\">┏━━━━━━━━━━━━━━━━━┳━━━━━━━━━━━━━━━━━━━━━━━━━━━━━━━━━━━━━━━━━━━━━━┓\n",
       "┃<span style=\"font-weight: bold\"> Key             </span>┃<span style=\"font-weight: bold\"> Value                                        </span>┃\n",
       "┡━━━━━━━━━━━━━━━━━╇━━━━━━━━━━━━━━━━━━━━━━━━━━━━━━━━━━━━━━━━━━━━━━┩\n",
       "│<span style=\"color: #008080; text-decoration-color: #008080\"> $formkit        </span>│<span style=\"color: #800080; text-decoration-color: #800080\"> password                                     </span>│\n",
       "│<span style=\"color: #008080; text-decoration-color: #008080\"> help            </span>│<span style=\"color: #800080; text-decoration-color: #800080\"> Enter your new password again to confirm it. </span>│\n",
       "│<span style=\"color: #008080; text-decoration-color: #008080\"> label           </span>│<span style=\"color: #800080; text-decoration-color: #800080\"> Confirm password                             </span>│\n",
       "│<span style=\"color: #008080; text-decoration-color: #008080\"> name            </span>│<span style=\"color: #800080; text-decoration-color: #800080\"> password_confirm                             </span>│\n",
       "│<span style=\"color: #008080; text-decoration-color: #008080\"> validation      </span>│<span style=\"color: #800080; text-decoration-color: #800080\"> required|confirm                             </span>│\n",
       "│<span style=\"color: #008080; text-decoration-color: #008080\"> validationLabel </span>│<span style=\"color: #800080; text-decoration-color: #800080\"> password confirmation                        </span>│\n",
       "└─────────────────┴──────────────────────────────────────────────┘\n",
       "</pre>\n"
      ],
      "text/plain": [
       "┏━━━━━━━━━━━━━━━━━┳━━━━━━━━━━━━━━━━━━━━━━━━━━━━━━━━━━━━━━━━━━━━━━┓\n",
       "┃\u001b[1m \u001b[0m\u001b[1mKey            \u001b[0m\u001b[1m \u001b[0m┃\u001b[1m \u001b[0m\u001b[1mValue                                       \u001b[0m\u001b[1m \u001b[0m┃\n",
       "┡━━━━━━━━━━━━━━━━━╇━━━━━━━━━━━━━━━━━━━━━━━━━━━━━━━━━━━━━━━━━━━━━━┩\n",
       "│\u001b[36m \u001b[0m\u001b[36m$formkit       \u001b[0m\u001b[36m \u001b[0m│\u001b[35m \u001b[0m\u001b[35mpassword                                    \u001b[0m\u001b[35m \u001b[0m│\n",
       "│\u001b[36m \u001b[0m\u001b[36mhelp           \u001b[0m\u001b[36m \u001b[0m│\u001b[35m \u001b[0m\u001b[35mEnter your new password again to confirm it.\u001b[0m\u001b[35m \u001b[0m│\n",
       "│\u001b[36m \u001b[0m\u001b[36mlabel          \u001b[0m\u001b[36m \u001b[0m│\u001b[35m \u001b[0m\u001b[35mConfirm password                            \u001b[0m\u001b[35m \u001b[0m│\n",
       "│\u001b[36m \u001b[0m\u001b[36mname           \u001b[0m\u001b[36m \u001b[0m│\u001b[35m \u001b[0m\u001b[35mpassword_confirm                            \u001b[0m\u001b[35m \u001b[0m│\n",
       "│\u001b[36m \u001b[0m\u001b[36mvalidation     \u001b[0m\u001b[36m \u001b[0m│\u001b[35m \u001b[0m\u001b[35mrequired|confirm                            \u001b[0m\u001b[35m \u001b[0m│\n",
       "│\u001b[36m \u001b[0m\u001b[36mvalidationLabel\u001b[0m\u001b[36m \u001b[0m│\u001b[35m \u001b[0m\u001b[35mpassword confirmation                       \u001b[0m\u001b[35m \u001b[0m│\n",
       "└─────────────────┴──────────────────────────────────────────────┘\n"
      ]
     },
     "metadata": {},
     "output_type": "display_data"
    },
    {
     "data": {
      "text/html": [
       "<pre style=\"white-space:pre;overflow-x:auto;line-height:normal;font-family:Menlo,'DejaVu Sans Mono',consolas,'Courier New',monospace\">┏━━━━━━━┳━━━━━━━━━━━━━━━━━━━━━━━━━━━━━━━━━━━━━━━━━━━━━━━━━━━━━━━━━━━━━━━━━━━━━━━━━━━━━━━━━━━━━━━━━━━━━━━━┓\n",
       "┃<span style=\"font-weight: bold\"> Key   </span>┃<span style=\"font-weight: bold\"> Value                                                                                          </span>┃\n",
       "┡━━━━━━━╇━━━━━━━━━━━━━━━━━━━━━━━━━━━━━━━━━━━━━━━━━━━━━━━━━━━━━━━━━━━━━━━━━━━━━━━━━━━━━━━━━━━━━━━━━━━━━━━━┩\n",
       "│<span style=\"color: #008080; text-decoration-color: #008080\"> $cmp  </span>│<span style=\"color: #800080; text-decoration-color: #800080\"> FormKit                                                                                        </span>│\n",
       "│<span style=\"color: #008080; text-decoration-color: #008080\"> props </span>│<span style=\"color: #800080; text-decoration-color: #800080\"> {'name': 'eu_citizen', 'type': 'checkbox', 'id': 'eu', 'label': 'Are you a european citizen?'} </span>│\n",
       "└───────┴────────────────────────────────────────────────────────────────────────────────────────────────┘\n",
       "</pre>\n"
      ],
      "text/plain": [
       "┏━━━━━━━┳━━━━━━━━━━━━━━━━━━━━━━━━━━━━━━━━━━━━━━━━━━━━━━━━━━━━━━━━━━━━━━━━━━━━━━━━━━━━━━━━━━━━━━━━━━━━━━━━┓\n",
       "┃\u001b[1m \u001b[0m\u001b[1mKey  \u001b[0m\u001b[1m \u001b[0m┃\u001b[1m \u001b[0m\u001b[1mValue                                                                                         \u001b[0m\u001b[1m \u001b[0m┃\n",
       "┡━━━━━━━╇━━━━━━━━━━━━━━━━━━━━━━━━━━━━━━━━━━━━━━━━━━━━━━━━━━━━━━━━━━━━━━━━━━━━━━━━━━━━━━━━━━━━━━━━━━━━━━━━┩\n",
       "│\u001b[36m \u001b[0m\u001b[36m$cmp \u001b[0m\u001b[36m \u001b[0m│\u001b[35m \u001b[0m\u001b[35mFormKit                                                                                       \u001b[0m\u001b[35m \u001b[0m│\n",
       "│\u001b[36m \u001b[0m\u001b[36mprops\u001b[0m\u001b[36m \u001b[0m│\u001b[35m \u001b[0m\u001b[35m{'name': 'eu_citizen', 'type': 'checkbox', 'id': 'eu', 'label': 'Are you a european citizen?'}\u001b[0m\u001b[35m \u001b[0m│\n",
       "└───────┴────────────────────────────────────────────────────────────────────────────────────────────────┘\n"
      ]
     },
     "metadata": {},
     "output_type": "display_data"
    },
    {
     "data": {
      "text/html": [
       "<pre style=\"white-space:pre;overflow-x:auto;line-height:normal;font-family:Menlo,'DejaVu Sans Mono',consolas,'Courier New',monospace\">┏━━━━━━━━━━┳━━━━━━━━━━━━━━━━━━━━━━━━━━━━━━━━━━━━━━━━━━━━━━━━━━━━━━━━━━━━━━━━━━━━━━━━━━━━━┓\n",
       "┃<span style=\"font-weight: bold\"> Key      </span>┃<span style=\"font-weight: bold\"> Value                                                                       </span>┃\n",
       "┡━━━━━━━━━━╇━━━━━━━━━━━━━━━━━━━━━━━━━━━━━━━━━━━━━━━━━━━━━━━━━━━━━━━━━━━━━━━━━━━━━━━━━━━━━┩\n",
       "│<span style=\"color: #008080; text-decoration-color: #008080\"> $formkit </span>│<span style=\"color: #800080; text-decoration-color: #800080\"> select                                                                      </span>│\n",
       "│<span style=\"color: #008080; text-decoration-color: #008080\"> help     </span>│<span style=\"color: #800080; text-decoration-color: #800080\"> How often should we display a cookie notice?                                </span>│\n",
       "│<span style=\"color: #008080; text-decoration-color: #008080\"> if       </span>│<span style=\"color: #800080; text-decoration-color: #800080\"> $get(eu).value                                                              </span>│\n",
       "│<span style=\"color: #008080; text-decoration-color: #008080\"> label    </span>│<span style=\"color: #800080; text-decoration-color: #800080\"> Cookie notice frequency                                                     </span>│\n",
       "│<span style=\"color: #008080; text-decoration-color: #008080\"> name     </span>│<span style=\"color: #800080; text-decoration-color: #800080\"> cookie_notice                                                               </span>│\n",
       "│<span style=\"color: #008080; text-decoration-color: #008080\"> options  </span>│<span style=\"color: #800080; text-decoration-color: #800080\"> {'refresh': 'Every page load', 'hourly': 'Ever hour', 'daily': 'Every day'} </span>│\n",
       "└──────────┴─────────────────────────────────────────────────────────────────────────────┘\n",
       "</pre>\n"
      ],
      "text/plain": [
       "┏━━━━━━━━━━┳━━━━━━━━━━━━━━━━━━━━━━━━━━━━━━━━━━━━━━━━━━━━━━━━━━━━━━━━━━━━━━━━━━━━━━━━━━━━━┓\n",
       "┃\u001b[1m \u001b[0m\u001b[1mKey     \u001b[0m\u001b[1m \u001b[0m┃\u001b[1m \u001b[0m\u001b[1mValue                                                                      \u001b[0m\u001b[1m \u001b[0m┃\n",
       "┡━━━━━━━━━━╇━━━━━━━━━━━━━━━━━━━━━━━━━━━━━━━━━━━━━━━━━━━━━━━━━━━━━━━━━━━━━━━━━━━━━━━━━━━━━┩\n",
       "│\u001b[36m \u001b[0m\u001b[36m$formkit\u001b[0m\u001b[36m \u001b[0m│\u001b[35m \u001b[0m\u001b[35mselect                                                                     \u001b[0m\u001b[35m \u001b[0m│\n",
       "│\u001b[36m \u001b[0m\u001b[36mhelp    \u001b[0m\u001b[36m \u001b[0m│\u001b[35m \u001b[0m\u001b[35mHow often should we display a cookie notice?                               \u001b[0m\u001b[35m \u001b[0m│\n",
       "│\u001b[36m \u001b[0m\u001b[36mif      \u001b[0m\u001b[36m \u001b[0m│\u001b[35m \u001b[0m\u001b[35m$get(eu).value                                                             \u001b[0m\u001b[35m \u001b[0m│\n",
       "│\u001b[36m \u001b[0m\u001b[36mlabel   \u001b[0m\u001b[36m \u001b[0m│\u001b[35m \u001b[0m\u001b[35mCookie notice frequency                                                    \u001b[0m\u001b[35m \u001b[0m│\n",
       "│\u001b[36m \u001b[0m\u001b[36mname    \u001b[0m\u001b[36m \u001b[0m│\u001b[35m \u001b[0m\u001b[35mcookie_notice                                                              \u001b[0m\u001b[35m \u001b[0m│\n",
       "│\u001b[36m \u001b[0m\u001b[36moptions \u001b[0m\u001b[36m \u001b[0m│\u001b[35m \u001b[0m\u001b[35m{'refresh': 'Every page load', 'hourly': 'Ever hour', 'daily': 'Every day'}\u001b[0m\u001b[35m \u001b[0m│\n",
       "└──────────┴─────────────────────────────────────────────────────────────────────────────┘\n"
      ]
     },
     "metadata": {},
     "output_type": "display_data"
    }
   ],
   "source": [
    "# So, what happens when we try to parse this?\n",
    "# It's a list of FormKitNodes\n",
    "for n in schema_as_js:\n",
    "    kvtable(n)"
   ]
  },
  {
   "cell_type": "code",
   "execution_count": 59,
   "metadata": {},
   "outputs": [
    {
     "data": {
      "text/html": [
       "<pre style=\"white-space:pre;overflow-x:auto;line-height:normal;font-family:Menlo,'DejaVu Sans Mono',consolas,'Courier New',monospace\"><span style=\"color: #7fbfbf; text-decoration-color: #7fbfbf\">           </span><span style=\"color: #008000; text-decoration-color: #008000\">Creating  </span><span style=\"color: #008000; text-decoration-color: #008000\">d74419ea-2042-4136-82b6-04fb216c7a46</span>                                             <a href=\"file:///app/src/formkit_ninja/models.py\" target=\"_blank\"><span style=\"color: #7f7f7f; text-decoration-color: #7f7f7f\">models.py</span></a><span style=\"color: #7f7f7f; text-decoration-color: #7f7f7f\">:</span><a href=\"file:///app/src/formkit_ninja/models.py#570\" target=\"_blank\"><span style=\"color: #7f7f7f; text-decoration-color: #7f7f7f\">570</span></a>\n",
       "</pre>\n"
      ],
      "text/plain": [
       "\u001b[2;36m          \u001b[0m\u001b[2;36m \u001b[0m\u001b[32mCreating  \u001b[0m\u001b[32md74419ea-2042-4136-82b6-04fb216c7a46\u001b[0m                                             \u001b]8;id=65698;file:///app/src/formkit_ninja/models.py\u001b\\\u001b[2mmodels.py\u001b[0m\u001b]8;;\u001b\\\u001b[2m:\u001b[0m\u001b]8;id=950798;file:///app/src/formkit_ninja/models.py#570\u001b\\\u001b[2m570\u001b[0m\u001b]8;;\u001b\\\n"
      ]
     },
     "metadata": {},
     "output_type": "display_data"
    },
    {
     "data": {
      "text/html": [
       "<pre style=\"white-space:pre;overflow-x:auto;line-height:normal;font-family:Menlo,'DejaVu Sans Mono',consolas,'Courier New',monospace\"><span style=\"color: #7fbfbf; text-decoration-color: #7fbfbf\">           </span><span style=\"color: #008000; text-decoration-color: #008000\">Yielding: $el </span><span style=\"color: #008000; text-decoration-color: #008000\">d74419ea-2042-4136-82b6-04fb216c7a46</span>                                         <a href=\"file:///app/src/formkit_ninja/models.py\" target=\"_blank\"><span style=\"color: #7f7f7f; text-decoration-color: #7f7f7f\">models.py</span></a><span style=\"color: #7f7f7f; text-decoration-color: #7f7f7f\">:</span><a href=\"file:///app/src/formkit_ninja/models.py#592\" target=\"_blank\"><span style=\"color: #7f7f7f; text-decoration-color: #7f7f7f\">592</span></a>\n",
       "</pre>\n"
      ],
      "text/plain": [
       "\u001b[2;36m          \u001b[0m\u001b[2;36m \u001b[0m\u001b[32mYielding: $el \u001b[0m\u001b[32md74419ea-2042-4136-82b6-04fb216c7a46\u001b[0m                                         \u001b]8;id=220176;file:///app/src/formkit_ninja/models.py\u001b\\\u001b[2mmodels.py\u001b[0m\u001b]8;;\u001b\\\u001b[2m:\u001b[0m\u001b]8;id=937290;file:///app/src/formkit_ninja/models.py#592\u001b\\\u001b[2m592\u001b[0m\u001b]8;;\u001b\\\n"
      ]
     },
     "metadata": {},
     "output_type": "display_data"
    },
    {
     "data": {
      "text/html": [
       "<pre style=\"white-space:pre;overflow-x:auto;line-height:normal;font-family:Menlo,'DejaVu Sans Mono',consolas,'Courier New',monospace\"><span style=\"color: #7fbfbf; text-decoration-color: #7fbfbf\">           </span>    Node: Register                                                                         <a href=\"file:///app/src/formkit_ninja/models.py\" target=\"_blank\"><span style=\"color: #7f7f7f; text-decoration-color: #7f7f7f\">models.py</span></a><span style=\"color: #7f7f7f; text-decoration-color: #7f7f7f\">:</span><a href=\"file:///app/src/formkit_ninja/models.py#637\" target=\"_blank\"><span style=\"color: #7f7f7f; text-decoration-color: #7f7f7f\">637</span></a>\n",
       "</pre>\n"
      ],
      "text/plain": [
       "\u001b[2;36m          \u001b[0m\u001b[2;36m \u001b[0m    Node: Register                                                                         \u001b]8;id=89568;file:///app/src/formkit_ninja/models.py\u001b\\\u001b[2mmodels.py\u001b[0m\u001b]8;;\u001b\\\u001b[2m:\u001b[0m\u001b]8;id=82023;file:///app/src/formkit_ninja/models.py#637\u001b\\\u001b[2m637\u001b[0m\u001b]8;;\u001b\\\n"
      ]
     },
     "metadata": {},
     "output_type": "display_data"
    },
    {
     "data": {
      "text/html": [
       "<pre style=\"white-space:pre;overflow-x:auto;line-height:normal;font-family:Menlo,'DejaVu Sans Mono',consolas,'Courier New',monospace\"><span style=\"color: #7fbfbf; text-decoration-color: #7fbfbf\">           </span><span style=\"color: #008000; text-decoration-color: #008000\">Creating  </span><span style=\"color: #008000; text-decoration-color: #008000\">d1df73aa-258b-481d-8bf5-7b7ea30b1fed</span>                                             <a href=\"file:///app/src/formkit_ninja/models.py\" target=\"_blank\"><span style=\"color: #7f7f7f; text-decoration-color: #7f7f7f\">models.py</span></a><span style=\"color: #7f7f7f; text-decoration-color: #7f7f7f\">:</span><a href=\"file:///app/src/formkit_ninja/models.py#570\" target=\"_blank\"><span style=\"color: #7f7f7f; text-decoration-color: #7f7f7f\">570</span></a>\n",
       "</pre>\n"
      ],
      "text/plain": [
       "\u001b[2;36m          \u001b[0m\u001b[2;36m \u001b[0m\u001b[32mCreating  \u001b[0m\u001b[32md1df73aa-258b-481d-8bf5-7b7ea30b1fed\u001b[0m                                             \u001b]8;id=162869;file:///app/src/formkit_ninja/models.py\u001b\\\u001b[2mmodels.py\u001b[0m\u001b]8;;\u001b\\\u001b[2m:\u001b[0m\u001b]8;id=977041;file:///app/src/formkit_ninja/models.py#570\u001b\\\u001b[2m570\u001b[0m\u001b]8;;\u001b\\\n"
      ]
     },
     "metadata": {},
     "output_type": "display_data"
    },
    {
     "data": {
      "text/html": [
       "<pre style=\"white-space:pre;overflow-x:auto;line-height:normal;font-family:Menlo,'DejaVu Sans Mono',consolas,'Courier New',monospace\"><span style=\"color: #7fbfbf; text-decoration-color: #7fbfbf\">           </span><span style=\"color: #008000; text-decoration-color: #008000\">Yielding: Node: email</span>                                                                      <a href=\"file:///app/src/formkit_ninja/models.py\" target=\"_blank\"><span style=\"color: #7f7f7f; text-decoration-color: #7f7f7f\">models.py</span></a><span style=\"color: #7f7f7f; text-decoration-color: #7f7f7f\">:</span><a href=\"file:///app/src/formkit_ninja/models.py#592\" target=\"_blank\"><span style=\"color: #7f7f7f; text-decoration-color: #7f7f7f\">592</span></a>\n",
       "</pre>\n"
      ],
      "text/plain": [
       "\u001b[2;36m          \u001b[0m\u001b[2;36m \u001b[0m\u001b[32mYielding: Node: email\u001b[0m                                                                      \u001b]8;id=515803;file:///app/src/formkit_ninja/models.py\u001b\\\u001b[2mmodels.py\u001b[0m\u001b]8;;\u001b\\\u001b[2m:\u001b[0m\u001b]8;id=215609;file:///app/src/formkit_ninja/models.py#592\u001b\\\u001b[2m592\u001b[0m\u001b]8;;\u001b\\\n"
      ]
     },
     "metadata": {},
     "output_type": "display_data"
    },
    {
     "data": {
      "text/html": [
       "<pre style=\"white-space:pre;overflow-x:auto;line-height:normal;font-family:Menlo,'DejaVu Sans Mono',consolas,'Courier New',monospace\"><span style=\"color: #7fbfbf; text-decoration-color: #7fbfbf\">           </span><span style=\"color: #008000; text-decoration-color: #008000\">Creating  </span><span style=\"color: #008000; text-decoration-color: #008000\">6a66b8bc-b89f-4314-a0c6-4c67af488c3d</span>                                             <a href=\"file:///app/src/formkit_ninja/models.py\" target=\"_blank\"><span style=\"color: #7f7f7f; text-decoration-color: #7f7f7f\">models.py</span></a><span style=\"color: #7f7f7f; text-decoration-color: #7f7f7f\">:</span><a href=\"file:///app/src/formkit_ninja/models.py#570\" target=\"_blank\"><span style=\"color: #7f7f7f; text-decoration-color: #7f7f7f\">570</span></a>\n",
       "</pre>\n"
      ],
      "text/plain": [
       "\u001b[2;36m          \u001b[0m\u001b[2;36m \u001b[0m\u001b[32mCreating  \u001b[0m\u001b[32m6a66b8bc-b89f-4314-a0c6-4c67af488c3d\u001b[0m                                             \u001b]8;id=689032;file:///app/src/formkit_ninja/models.py\u001b\\\u001b[2mmodels.py\u001b[0m\u001b]8;;\u001b\\\u001b[2m:\u001b[0m\u001b]8;id=563478;file:///app/src/formkit_ninja/models.py#570\u001b\\\u001b[2m570\u001b[0m\u001b]8;;\u001b\\\n"
      ]
     },
     "metadata": {},
     "output_type": "display_data"
    },
    {
     "data": {
      "text/html": [
       "<pre style=\"white-space:pre;overflow-x:auto;line-height:normal;font-family:Menlo,'DejaVu Sans Mono',consolas,'Courier New',monospace\"><span style=\"color: #7fbfbf; text-decoration-color: #7fbfbf\">           </span><span style=\"color: #008000; text-decoration-color: #008000\">Yielding: Node: password</span>                                                                   <a href=\"file:///app/src/formkit_ninja/models.py\" target=\"_blank\"><span style=\"color: #7f7f7f; text-decoration-color: #7f7f7f\">models.py</span></a><span style=\"color: #7f7f7f; text-decoration-color: #7f7f7f\">:</span><a href=\"file:///app/src/formkit_ninja/models.py#592\" target=\"_blank\"><span style=\"color: #7f7f7f; text-decoration-color: #7f7f7f\">592</span></a>\n",
       "</pre>\n"
      ],
      "text/plain": [
       "\u001b[2;36m          \u001b[0m\u001b[2;36m \u001b[0m\u001b[32mYielding: Node: password\u001b[0m                                                                   \u001b]8;id=804255;file:///app/src/formkit_ninja/models.py\u001b\\\u001b[2mmodels.py\u001b[0m\u001b]8;;\u001b\\\u001b[2m:\u001b[0m\u001b]8;id=37375;file:///app/src/formkit_ninja/models.py#592\u001b\\\u001b[2m592\u001b[0m\u001b]8;;\u001b\\\n"
      ]
     },
     "metadata": {},
     "output_type": "display_data"
    },
    {
     "data": {
      "text/html": [
       "<pre style=\"white-space:pre;overflow-x:auto;line-height:normal;font-family:Menlo,'DejaVu Sans Mono',consolas,'Courier New',monospace\"><span style=\"color: #7fbfbf; text-decoration-color: #7fbfbf\">           </span><span style=\"color: #008000; text-decoration-color: #008000\">Creating  </span><span style=\"color: #008000; text-decoration-color: #008000\">cb952137-c301-47d6-a61c-8606accdb6b6</span>                                             <a href=\"file:///app/src/formkit_ninja/models.py\" target=\"_blank\"><span style=\"color: #7f7f7f; text-decoration-color: #7f7f7f\">models.py</span></a><span style=\"color: #7f7f7f; text-decoration-color: #7f7f7f\">:</span><a href=\"file:///app/src/formkit_ninja/models.py#570\" target=\"_blank\"><span style=\"color: #7f7f7f; text-decoration-color: #7f7f7f\">570</span></a>\n",
       "</pre>\n"
      ],
      "text/plain": [
       "\u001b[2;36m          \u001b[0m\u001b[2;36m \u001b[0m\u001b[32mCreating  \u001b[0m\u001b[32mcb952137-c301-47d6-a61c-8606accdb6b6\u001b[0m                                             \u001b]8;id=246121;file:///app/src/formkit_ninja/models.py\u001b\\\u001b[2mmodels.py\u001b[0m\u001b]8;;\u001b\\\u001b[2m:\u001b[0m\u001b]8;id=630546;file:///app/src/formkit_ninja/models.py#570\u001b\\\u001b[2m570\u001b[0m\u001b]8;;\u001b\\\n"
      ]
     },
     "metadata": {},
     "output_type": "display_data"
    },
    {
     "data": {
      "text/html": [
       "<pre style=\"white-space:pre;overflow-x:auto;line-height:normal;font-family:Menlo,'DejaVu Sans Mono',consolas,'Courier New',monospace\"><span style=\"color: #7fbfbf; text-decoration-color: #7fbfbf\">           </span><span style=\"color: #008000; text-decoration-color: #008000\">Yielding: Node: password_confirm</span>                                                           <a href=\"file:///app/src/formkit_ninja/models.py\" target=\"_blank\"><span style=\"color: #7f7f7f; text-decoration-color: #7f7f7f\">models.py</span></a><span style=\"color: #7f7f7f; text-decoration-color: #7f7f7f\">:</span><a href=\"file:///app/src/formkit_ninja/models.py#592\" target=\"_blank\"><span style=\"color: #7f7f7f; text-decoration-color: #7f7f7f\">592</span></a>\n",
       "</pre>\n"
      ],
      "text/plain": [
       "\u001b[2;36m          \u001b[0m\u001b[2;36m \u001b[0m\u001b[32mYielding: Node: password_confirm\u001b[0m                                                           \u001b]8;id=663197;file:///app/src/formkit_ninja/models.py\u001b\\\u001b[2mmodels.py\u001b[0m\u001b]8;;\u001b\\\u001b[2m:\u001b[0m\u001b]8;id=668408;file:///app/src/formkit_ninja/models.py#592\u001b\\\u001b[2m592\u001b[0m\u001b]8;;\u001b\\\n"
      ]
     },
     "metadata": {},
     "output_type": "display_data"
    },
    {
     "data": {
      "text/html": [
       "<pre style=\"white-space:pre;overflow-x:auto;line-height:normal;font-family:Menlo,'DejaVu Sans Mono',consolas,'Courier New',monospace\"><span style=\"color: #7fbfbf; text-decoration-color: #7fbfbf\">           </span><span style=\"color: #008000; text-decoration-color: #008000\">Creating  </span><span style=\"color: #008000; text-decoration-color: #008000\">ebdccfbe-ee98-4f9d-83b4-27a628c93d0c</span>                                             <a href=\"file:///app/src/formkit_ninja/models.py\" target=\"_blank\"><span style=\"color: #7f7f7f; text-decoration-color: #7f7f7f\">models.py</span></a><span style=\"color: #7f7f7f; text-decoration-color: #7f7f7f\">:</span><a href=\"file:///app/src/formkit_ninja/models.py#570\" target=\"_blank\"><span style=\"color: #7f7f7f; text-decoration-color: #7f7f7f\">570</span></a>\n",
       "</pre>\n"
      ],
      "text/plain": [
       "\u001b[2;36m          \u001b[0m\u001b[2;36m \u001b[0m\u001b[32mCreating  \u001b[0m\u001b[32mebdccfbe-ee98-4f9d-83b4-27a628c93d0c\u001b[0m                                             \u001b]8;id=77849;file:///app/src/formkit_ninja/models.py\u001b\\\u001b[2mmodels.py\u001b[0m\u001b]8;;\u001b\\\u001b[2m:\u001b[0m\u001b]8;id=957915;file:///app/src/formkit_ninja/models.py#570\u001b\\\u001b[2m570\u001b[0m\u001b]8;;\u001b\\\n"
      ]
     },
     "metadata": {},
     "output_type": "display_data"
    },
    {
     "data": {
      "text/html": [
       "<pre style=\"white-space:pre;overflow-x:auto;line-height:normal;font-family:Menlo,'DejaVu Sans Mono',consolas,'Courier New',monospace\"><span style=\"color: #7fbfbf; text-decoration-color: #7fbfbf\">           </span><span style=\"color: #008000; text-decoration-color: #008000\">Yielding: $cmp </span><span style=\"color: #008000; text-decoration-color: #008000\">ebdccfbe-ee98-4f9d-83b4-27a628c93d0c</span>                                        <a href=\"file:///app/src/formkit_ninja/models.py\" target=\"_blank\"><span style=\"color: #7f7f7f; text-decoration-color: #7f7f7f\">models.py</span></a><span style=\"color: #7f7f7f; text-decoration-color: #7f7f7f\">:</span><a href=\"file:///app/src/formkit_ninja/models.py#592\" target=\"_blank\"><span style=\"color: #7f7f7f; text-decoration-color: #7f7f7f\">592</span></a>\n",
       "</pre>\n"
      ],
      "text/plain": [
       "\u001b[2;36m          \u001b[0m\u001b[2;36m \u001b[0m\u001b[32mYielding: $cmp \u001b[0m\u001b[32mebdccfbe-ee98-4f9d-83b4-27a628c93d0c\u001b[0m                                        \u001b]8;id=738520;file:///app/src/formkit_ninja/models.py\u001b\\\u001b[2mmodels.py\u001b[0m\u001b]8;;\u001b\\\u001b[2m:\u001b[0m\u001b]8;id=660798;file:///app/src/formkit_ninja/models.py#592\u001b\\\u001b[2m592\u001b[0m\u001b]8;;\u001b\\\n"
      ]
     },
     "metadata": {},
     "output_type": "display_data"
    },
    {
     "data": {
      "text/html": [
       "<pre style=\"white-space:pre;overflow-x:auto;line-height:normal;font-family:Menlo,'DejaVu Sans Mono',consolas,'Courier New',monospace\"><span style=\"color: #7fbfbf; text-decoration-color: #7fbfbf\">           </span><span style=\"color: #008000; text-decoration-color: #008000\">Creating  </span><span style=\"color: #008000; text-decoration-color: #008000\">340caef8-cd95-485c-9b00-eea924b6a66e</span>                                             <a href=\"file:///app/src/formkit_ninja/models.py\" target=\"_blank\"><span style=\"color: #7f7f7f; text-decoration-color: #7f7f7f\">models.py</span></a><span style=\"color: #7f7f7f; text-decoration-color: #7f7f7f\">:</span><a href=\"file:///app/src/formkit_ninja/models.py#570\" target=\"_blank\"><span style=\"color: #7f7f7f; text-decoration-color: #7f7f7f\">570</span></a>\n",
       "</pre>\n"
      ],
      "text/plain": [
       "\u001b[2;36m          \u001b[0m\u001b[2;36m \u001b[0m\u001b[32mCreating  \u001b[0m\u001b[32m340caef8-cd95-485c-9b00-eea924b6a66e\u001b[0m                                             \u001b]8;id=915073;file:///app/src/formkit_ninja/models.py\u001b\\\u001b[2mmodels.py\u001b[0m\u001b]8;;\u001b\\\u001b[2m:\u001b[0m\u001b]8;id=216896;file:///app/src/formkit_ninja/models.py#570\u001b\\\u001b[2m570\u001b[0m\u001b]8;;\u001b\\\n"
      ]
     },
     "metadata": {},
     "output_type": "display_data"
    },
    {
     "data": {
      "text/html": [
       "<pre style=\"white-space:pre;overflow-x:auto;line-height:normal;font-family:Menlo,'DejaVu Sans Mono',consolas,'Courier New',monospace\"><span style=\"color: #7fbfbf; text-decoration-color: #7fbfbf\">           </span><span style=\"color: #008000; text-decoration-color: #008000\">Yielding: Node: cookie_notice</span>                                                              <a href=\"file:///app/src/formkit_ninja/models.py\" target=\"_blank\"><span style=\"color: #7f7f7f; text-decoration-color: #7f7f7f\">models.py</span></a><span style=\"color: #7f7f7f; text-decoration-color: #7f7f7f\">:</span><a href=\"file:///app/src/formkit_ninja/models.py#592\" target=\"_blank\"><span style=\"color: #7f7f7f; text-decoration-color: #7f7f7f\">592</span></a>\n",
       "</pre>\n"
      ],
      "text/plain": [
       "\u001b[2;36m          \u001b[0m\u001b[2;36m \u001b[0m\u001b[32mYielding: Node: cookie_notice\u001b[0m                                                              \u001b]8;id=451107;file:///app/src/formkit_ninja/models.py\u001b\\\u001b[2mmodels.py\u001b[0m\u001b]8;;\u001b\\\u001b[2m:\u001b[0m\u001b]8;id=502222;file:///app/src/formkit_ninja/models.py#592\u001b\\\u001b[2m592\u001b[0m\u001b]8;;\u001b\\\n"
      ]
     },
     "metadata": {},
     "output_type": "display_data"
    },
    {
     "data": {
      "text/html": [
       "<pre style=\"white-space:pre;overflow-x:auto;line-height:normal;font-family:Menlo,'DejaVu Sans Mono',consolas,'Courier New',monospace\"><span style=\"font-weight: bold\">[</span>\n",
       "    <span style=\"font-weight: bold\">&lt;</span><span style=\"color: #ff00ff; text-decoration-color: #ff00ff; font-weight: bold\">FormKitSchemaNode:</span><span style=\"color: #000000; text-decoration-color: #000000\"> $el </span><span style=\"color: #ffff00; text-decoration-color: #ffff00\">d74419ea-2042-4136-82b6-04fb216c7a46</span><span style=\"color: #000000; text-decoration-color: #000000\">&gt;,</span>\n",
       "<span style=\"color: #000000; text-decoration-color: #000000\">    &lt;FormKitSchemaNode: Node: email&gt;,</span>\n",
       "<span style=\"color: #000000; text-decoration-color: #000000\">    &lt;FormKitSchemaNode: Node: password&gt;,</span>\n",
       "<span style=\"color: #000000; text-decoration-color: #000000\">    &lt;FormKitSchemaNode: Node: password_confirm&gt;,</span>\n",
       "<span style=\"color: #000000; text-decoration-color: #000000\">    &lt;FormKitSchemaNode: $cmp </span><span style=\"color: #ffff00; text-decoration-color: #ffff00\">ebdccfbe-ee98-4f9d-83b4-27a628c93d0c</span><span style=\"color: #000000; text-decoration-color: #000000\">&gt;,</span>\n",
       "<span style=\"color: #000000; text-decoration-color: #000000\">    &lt;FormKitSchemaNode: Node: cookie_notice</span><span style=\"font-weight: bold\">&gt;</span>\n",
       "<span style=\"font-weight: bold\">]</span>\n",
       "</pre>\n"
      ],
      "text/plain": [
       "\u001b[1m[\u001b[0m\n",
       "    \u001b[1m<\u001b[0m\u001b[1;95mFormKitSchemaNode:\u001b[0m\u001b[39m $el \u001b[0m\u001b[93md74419ea-2042-4136-82b6-04fb216c7a46\u001b[0m\u001b[39m>,\u001b[0m\n",
       "\u001b[39m    <FormKitSchemaNode: Node: email>,\u001b[0m\n",
       "\u001b[39m    <FormKitSchemaNode: Node: password>,\u001b[0m\n",
       "\u001b[39m    <FormKitSchemaNode: Node: password_confirm>,\u001b[0m\n",
       "\u001b[39m    <FormKitSchemaNode: $cmp \u001b[0m\u001b[93mebdccfbe-ee98-4f9d-83b4-27a628c93d0c\u001b[0m\u001b[39m>,\u001b[0m\n",
       "\u001b[39m    <FormKitSchemaNode: Node: cookie_notice\u001b[0m\u001b[1m>\u001b[0m\n",
       "\u001b[1m]\u001b[0m\n"
      ]
     },
     "metadata": {},
     "output_type": "display_data"
    }
   ],
   "source": [
    "from formkit_ninja.formkit_schema import DiscriminatedNodeTypeSchema\n",
    "\n",
    "# Our \"schema\"\n",
    "\n",
    "schema_as_pydantic = DiscriminatedNodeTypeSchema(schema_as_js)\n",
    "\n",
    "nodes = list(FormKitSchemaNode.from_pydantic(schema_as_pydantic))\n",
    "print(nodes)"
   ]
  },
  {
   "cell_type": "code",
   "execution_count": 60,
   "metadata": {},
   "outputs": [
    {
     "data": {
      "text/plain": [
       "[<FormKitSchemaNode: $el d74419ea-2042-4136-82b6-04fb216c7a46>,\n",
       " <FormKitSchemaNode: Node: email>,\n",
       " <FormKitSchemaNode: Node: password>,\n",
       " <FormKitSchemaNode: Node: password_confirm>,\n",
       " <FormKitSchemaNode: $cmp ebdccfbe-ee98-4f9d-83b4-27a628c93d0c>,\n",
       " <FormKitSchemaNode: Node: cookie_notice>]"
      ]
     },
     "execution_count": 60,
     "metadata": {},
     "output_type": "execute_result"
    }
   ],
   "source": [
    "nodes"
   ]
  },
  {
   "cell_type": "code",
   "execution_count": 61,
   "metadata": {},
   "outputs": [
    {
     "data": {
      "text/html": [
       "<pre style=\"white-space:pre;overflow-x:auto;line-height:normal;font-family:Menlo,'DejaVu Sans Mono',consolas,'Courier New',monospace\">┏━━━━━━━━━━━━━━━━━┳━━━━━━━━━━━━━━━┳━━━━━━━━━━━━━━━┳━━━━━━━━━━━━━━━┳━━━━━━━━━━━━━━━┳━━━━━━━━━━━━━━━┳━━━━━━━━━━━━━━━┓\n",
       "┃<span style=\"font-weight: bold\"> Index           </span>┃<span style=\"font-weight: bold\"> 0             </span>┃<span style=\"font-weight: bold\"> 1             </span>┃<span style=\"font-weight: bold\"> 2             </span>┃<span style=\"font-weight: bold\"> 3             </span>┃<span style=\"font-weight: bold\"> 4             </span>┃<span style=\"font-weight: bold\"> 5             </span>┃\n",
       "┡━━━━━━━━━━━━━━━━━╇━━━━━━━━━━━━━━━╇━━━━━━━━━━━━━━━╇━━━━━━━━━━━━━━━╇━━━━━━━━━━━━━━━╇━━━━━━━━━━━━━━━╇━━━━━━━━━━━━━━━┩\n",
       "│<span style=\"color: #008080; text-decoration-color: #008080\"> $cmp            </span>│<span style=\"color: #800080; text-decoration-color: #800080\">               </span>│<span style=\"color: #800080; text-decoration-color: #800080\">               </span>│<span style=\"color: #800080; text-decoration-color: #800080\">               </span>│<span style=\"color: #800080; text-decoration-color: #800080\">               </span>│<span style=\"color: #800080; text-decoration-color: #800080\"> FormKit       </span>│<span style=\"color: #800080; text-decoration-color: #800080\">               </span>│\n",
       "│<span style=\"color: #008080; text-decoration-color: #008080\"> $el             </span>│<span style=\"color: #800080; text-decoration-color: #800080\"> h1            </span>│<span style=\"color: #800080; text-decoration-color: #800080\">               </span>│<span style=\"color: #800080; text-decoration-color: #800080\">               </span>│<span style=\"color: #800080; text-decoration-color: #800080\">               </span>│<span style=\"color: #800080; text-decoration-color: #800080\">               </span>│<span style=\"color: #800080; text-decoration-color: #800080\">               </span>│\n",
       "│<span style=\"color: #008080; text-decoration-color: #008080\"> $formkit        </span>│<span style=\"color: #800080; text-decoration-color: #800080\">               </span>│<span style=\"color: #800080; text-decoration-color: #800080\"> text          </span>│<span style=\"color: #800080; text-decoration-color: #800080\"> password      </span>│<span style=\"color: #800080; text-decoration-color: #800080\"> password      </span>│<span style=\"color: #800080; text-decoration-color: #800080\">               </span>│<span style=\"color: #800080; text-decoration-color: #800080\"> select        </span>│\n",
       "│<span style=\"color: #008080; text-decoration-color: #008080\"> attrs           </span>│<span style=\"color: #800080; text-decoration-color: #800080\"> {'class':     </span>│<span style=\"color: #800080; text-decoration-color: #800080\">               </span>│<span style=\"color: #800080; text-decoration-color: #800080\">               </span>│<span style=\"color: #800080; text-decoration-color: #800080\">               </span>│<span style=\"color: #800080; text-decoration-color: #800080\">               </span>│<span style=\"color: #800080; text-decoration-color: #800080\">               </span>│\n",
       "│<span style=\"color: #008080; text-decoration-color: #008080\">                 </span>│<span style=\"color: #800080; text-decoration-color: #800080\"> 'text-2xl     </span>│<span style=\"color: #800080; text-decoration-color: #800080\">               </span>│<span style=\"color: #800080; text-decoration-color: #800080\">               </span>│<span style=\"color: #800080; text-decoration-color: #800080\">               </span>│<span style=\"color: #800080; text-decoration-color: #800080\">               </span>│<span style=\"color: #800080; text-decoration-color: #800080\">               </span>│\n",
       "│<span style=\"color: #008080; text-decoration-color: #008080\">                 </span>│<span style=\"color: #800080; text-decoration-color: #800080\"> font-bold     </span>│<span style=\"color: #800080; text-decoration-color: #800080\">               </span>│<span style=\"color: #800080; text-decoration-color: #800080\">               </span>│<span style=\"color: #800080; text-decoration-color: #800080\">               </span>│<span style=\"color: #800080; text-decoration-color: #800080\">               </span>│<span style=\"color: #800080; text-decoration-color: #800080\">               </span>│\n",
       "│<span style=\"color: #008080; text-decoration-color: #008080\">                 </span>│<span style=\"color: #800080; text-decoration-color: #800080\"> mb-4'}        </span>│<span style=\"color: #800080; text-decoration-color: #800080\">               </span>│<span style=\"color: #800080; text-decoration-color: #800080\">               </span>│<span style=\"color: #800080; text-decoration-color: #800080\">               </span>│<span style=\"color: #800080; text-decoration-color: #800080\">               </span>│<span style=\"color: #800080; text-decoration-color: #800080\">               </span>│\n",
       "│<span style=\"color: #008080; text-decoration-color: #008080\"> children        </span>│<span style=\"color: #800080; text-decoration-color: #800080\"> Register      </span>│<span style=\"color: #800080; text-decoration-color: #800080\">               </span>│<span style=\"color: #800080; text-decoration-color: #800080\">               </span>│<span style=\"color: #800080; text-decoration-color: #800080\">               </span>│<span style=\"color: #800080; text-decoration-color: #800080\">               </span>│<span style=\"color: #800080; text-decoration-color: #800080\">               </span>│\n",
       "│<span style=\"color: #008080; text-decoration-color: #008080\"> help            </span>│<span style=\"color: #800080; text-decoration-color: #800080\">               </span>│<span style=\"color: #800080; text-decoration-color: #800080\"> This will be  </span>│<span style=\"color: #800080; text-decoration-color: #800080\"> Enter your    </span>│<span style=\"color: #800080; text-decoration-color: #800080\"> Enter your    </span>│<span style=\"color: #800080; text-decoration-color: #800080\">               </span>│<span style=\"color: #800080; text-decoration-color: #800080\"> How often     </span>│\n",
       "│<span style=\"color: #008080; text-decoration-color: #008080\">                 </span>│<span style=\"color: #800080; text-decoration-color: #800080\">               </span>│<span style=\"color: #800080; text-decoration-color: #800080\"> used for your </span>│<span style=\"color: #800080; text-decoration-color: #800080\"> new password. </span>│<span style=\"color: #800080; text-decoration-color: #800080\"> new password  </span>│<span style=\"color: #800080; text-decoration-color: #800080\">               </span>│<span style=\"color: #800080; text-decoration-color: #800080\"> should we     </span>│\n",
       "│<span style=\"color: #008080; text-decoration-color: #008080\">                 </span>│<span style=\"color: #800080; text-decoration-color: #800080\">               </span>│<span style=\"color: #800080; text-decoration-color: #800080\"> account.      </span>│<span style=\"color: #800080; text-decoration-color: #800080\">               </span>│<span style=\"color: #800080; text-decoration-color: #800080\"> again to      </span>│<span style=\"color: #800080; text-decoration-color: #800080\">               </span>│<span style=\"color: #800080; text-decoration-color: #800080\"> display a     </span>│\n",
       "│<span style=\"color: #008080; text-decoration-color: #008080\">                 </span>│<span style=\"color: #800080; text-decoration-color: #800080\">               </span>│<span style=\"color: #800080; text-decoration-color: #800080\">               </span>│<span style=\"color: #800080; text-decoration-color: #800080\">               </span>│<span style=\"color: #800080; text-decoration-color: #800080\"> confirm it.   </span>│<span style=\"color: #800080; text-decoration-color: #800080\">               </span>│<span style=\"color: #800080; text-decoration-color: #800080\"> cookie        </span>│\n",
       "│<span style=\"color: #008080; text-decoration-color: #008080\">                 </span>│<span style=\"color: #800080; text-decoration-color: #800080\">               </span>│<span style=\"color: #800080; text-decoration-color: #800080\">               </span>│<span style=\"color: #800080; text-decoration-color: #800080\">               </span>│<span style=\"color: #800080; text-decoration-color: #800080\">               </span>│<span style=\"color: #800080; text-decoration-color: #800080\">               </span>│<span style=\"color: #800080; text-decoration-color: #800080\"> notice?       </span>│\n",
       "│<span style=\"color: #008080; text-decoration-color: #008080\"> if              </span>│<span style=\"color: #800080; text-decoration-color: #800080\">               </span>│<span style=\"color: #800080; text-decoration-color: #800080\">               </span>│<span style=\"color: #800080; text-decoration-color: #800080\">               </span>│<span style=\"color: #800080; text-decoration-color: #800080\">               </span>│<span style=\"color: #800080; text-decoration-color: #800080\">               </span>│<span style=\"color: #800080; text-decoration-color: #800080\"> $get(eu).val… </span>│\n",
       "│<span style=\"color: #008080; text-decoration-color: #008080\"> label           </span>│<span style=\"color: #800080; text-decoration-color: #800080\">               </span>│<span style=\"color: #800080; text-decoration-color: #800080\"> Email         </span>│<span style=\"color: #800080; text-decoration-color: #800080\"> Password      </span>│<span style=\"color: #800080; text-decoration-color: #800080\"> Confirm       </span>│<span style=\"color: #800080; text-decoration-color: #800080\">               </span>│<span style=\"color: #800080; text-decoration-color: #800080\"> Cookie notice </span>│\n",
       "│<span style=\"color: #008080; text-decoration-color: #008080\">                 </span>│<span style=\"color: #800080; text-decoration-color: #800080\">               </span>│<span style=\"color: #800080; text-decoration-color: #800080\">               </span>│<span style=\"color: #800080; text-decoration-color: #800080\">               </span>│<span style=\"color: #800080; text-decoration-color: #800080\"> password      </span>│<span style=\"color: #800080; text-decoration-color: #800080\">               </span>│<span style=\"color: #800080; text-decoration-color: #800080\"> frequency     </span>│\n",
       "│<span style=\"color: #008080; text-decoration-color: #008080\"> name            </span>│<span style=\"color: #800080; text-decoration-color: #800080\">               </span>│<span style=\"color: #800080; text-decoration-color: #800080\"> email         </span>│<span style=\"color: #800080; text-decoration-color: #800080\"> password      </span>│<span style=\"color: #800080; text-decoration-color: #800080\"> password_con… </span>│<span style=\"color: #800080; text-decoration-color: #800080\">               </span>│<span style=\"color: #800080; text-decoration-color: #800080\"> cookie_notice </span>│\n",
       "│<span style=\"color: #008080; text-decoration-color: #008080\"> options         </span>│<span style=\"color: #800080; text-decoration-color: #800080\">               </span>│<span style=\"color: #800080; text-decoration-color: #800080\">               </span>│<span style=\"color: #800080; text-decoration-color: #800080\">               </span>│<span style=\"color: #800080; text-decoration-color: #800080\">               </span>│<span style=\"color: #800080; text-decoration-color: #800080\">               </span>│<span style=\"color: #800080; text-decoration-color: #800080\"> {'refresh':   </span>│\n",
       "│<span style=\"color: #008080; text-decoration-color: #008080\">                 </span>│<span style=\"color: #800080; text-decoration-color: #800080\">               </span>│<span style=\"color: #800080; text-decoration-color: #800080\">               </span>│<span style=\"color: #800080; text-decoration-color: #800080\">               </span>│<span style=\"color: #800080; text-decoration-color: #800080\">               </span>│<span style=\"color: #800080; text-decoration-color: #800080\">               </span>│<span style=\"color: #800080; text-decoration-color: #800080\"> 'Every page   </span>│\n",
       "│<span style=\"color: #008080; text-decoration-color: #008080\">                 </span>│<span style=\"color: #800080; text-decoration-color: #800080\">               </span>│<span style=\"color: #800080; text-decoration-color: #800080\">               </span>│<span style=\"color: #800080; text-decoration-color: #800080\">               </span>│<span style=\"color: #800080; text-decoration-color: #800080\">               </span>│<span style=\"color: #800080; text-decoration-color: #800080\">               </span>│<span style=\"color: #800080; text-decoration-color: #800080\"> load',        </span>│\n",
       "│<span style=\"color: #008080; text-decoration-color: #008080\">                 </span>│<span style=\"color: #800080; text-decoration-color: #800080\">               </span>│<span style=\"color: #800080; text-decoration-color: #800080\">               </span>│<span style=\"color: #800080; text-decoration-color: #800080\">               </span>│<span style=\"color: #800080; text-decoration-color: #800080\">               </span>│<span style=\"color: #800080; text-decoration-color: #800080\">               </span>│<span style=\"color: #800080; text-decoration-color: #800080\"> 'hourly':     </span>│\n",
       "│<span style=\"color: #008080; text-decoration-color: #008080\">                 </span>│<span style=\"color: #800080; text-decoration-color: #800080\">               </span>│<span style=\"color: #800080; text-decoration-color: #800080\">               </span>│<span style=\"color: #800080; text-decoration-color: #800080\">               </span>│<span style=\"color: #800080; text-decoration-color: #800080\">               </span>│<span style=\"color: #800080; text-decoration-color: #800080\">               </span>│<span style=\"color: #800080; text-decoration-color: #800080\"> 'Ever hour',  </span>│\n",
       "│<span style=\"color: #008080; text-decoration-color: #008080\">                 </span>│<span style=\"color: #800080; text-decoration-color: #800080\">               </span>│<span style=\"color: #800080; text-decoration-color: #800080\">               </span>│<span style=\"color: #800080; text-decoration-color: #800080\">               </span>│<span style=\"color: #800080; text-decoration-color: #800080\">               </span>│<span style=\"color: #800080; text-decoration-color: #800080\">               </span>│<span style=\"color: #800080; text-decoration-color: #800080\"> 'daily':      </span>│\n",
       "│<span style=\"color: #008080; text-decoration-color: #008080\">                 </span>│<span style=\"color: #800080; text-decoration-color: #800080\">               </span>│<span style=\"color: #800080; text-decoration-color: #800080\">               </span>│<span style=\"color: #800080; text-decoration-color: #800080\">               </span>│<span style=\"color: #800080; text-decoration-color: #800080\">               </span>│<span style=\"color: #800080; text-decoration-color: #800080\">               </span>│<span style=\"color: #800080; text-decoration-color: #800080\"> 'Every day'}  </span>│\n",
       "│<span style=\"color: #008080; text-decoration-color: #008080\"> props           </span>│<span style=\"color: #800080; text-decoration-color: #800080\">               </span>│<span style=\"color: #800080; text-decoration-color: #800080\">               </span>│<span style=\"color: #800080; text-decoration-color: #800080\">               </span>│<span style=\"color: #800080; text-decoration-color: #800080\">               </span>│<span style=\"color: #800080; text-decoration-color: #800080\"> {'name':      </span>│<span style=\"color: #800080; text-decoration-color: #800080\">               </span>│\n",
       "│<span style=\"color: #008080; text-decoration-color: #008080\">                 </span>│<span style=\"color: #800080; text-decoration-color: #800080\">               </span>│<span style=\"color: #800080; text-decoration-color: #800080\">               </span>│<span style=\"color: #800080; text-decoration-color: #800080\">               </span>│<span style=\"color: #800080; text-decoration-color: #800080\">               </span>│<span style=\"color: #800080; text-decoration-color: #800080\"> 'eu_citizen', </span>│<span style=\"color: #800080; text-decoration-color: #800080\">               </span>│\n",
       "│<span style=\"color: #008080; text-decoration-color: #008080\">                 </span>│<span style=\"color: #800080; text-decoration-color: #800080\">               </span>│<span style=\"color: #800080; text-decoration-color: #800080\">               </span>│<span style=\"color: #800080; text-decoration-color: #800080\">               </span>│<span style=\"color: #800080; text-decoration-color: #800080\">               </span>│<span style=\"color: #800080; text-decoration-color: #800080\"> 'type':       </span>│<span style=\"color: #800080; text-decoration-color: #800080\">               </span>│\n",
       "│<span style=\"color: #008080; text-decoration-color: #008080\">                 </span>│<span style=\"color: #800080; text-decoration-color: #800080\">               </span>│<span style=\"color: #800080; text-decoration-color: #800080\">               </span>│<span style=\"color: #800080; text-decoration-color: #800080\">               </span>│<span style=\"color: #800080; text-decoration-color: #800080\">               </span>│<span style=\"color: #800080; text-decoration-color: #800080\"> 'checkbox',   </span>│<span style=\"color: #800080; text-decoration-color: #800080\">               </span>│\n",
       "│<span style=\"color: #008080; text-decoration-color: #008080\">                 </span>│<span style=\"color: #800080; text-decoration-color: #800080\">               </span>│<span style=\"color: #800080; text-decoration-color: #800080\">               </span>│<span style=\"color: #800080; text-decoration-color: #800080\">               </span>│<span style=\"color: #800080; text-decoration-color: #800080\">               </span>│<span style=\"color: #800080; text-decoration-color: #800080\"> 'id': 'eu',   </span>│<span style=\"color: #800080; text-decoration-color: #800080\">               </span>│\n",
       "│<span style=\"color: #008080; text-decoration-color: #008080\">                 </span>│<span style=\"color: #800080; text-decoration-color: #800080\">               </span>│<span style=\"color: #800080; text-decoration-color: #800080\">               </span>│<span style=\"color: #800080; text-decoration-color: #800080\">               </span>│<span style=\"color: #800080; text-decoration-color: #800080\">               </span>│<span style=\"color: #800080; text-decoration-color: #800080\"> 'label': 'Are </span>│<span style=\"color: #800080; text-decoration-color: #800080\">               </span>│\n",
       "│<span style=\"color: #008080; text-decoration-color: #008080\">                 </span>│<span style=\"color: #800080; text-decoration-color: #800080\">               </span>│<span style=\"color: #800080; text-decoration-color: #800080\">               </span>│<span style=\"color: #800080; text-decoration-color: #800080\">               </span>│<span style=\"color: #800080; text-decoration-color: #800080\">               </span>│<span style=\"color: #800080; text-decoration-color: #800080\"> you a         </span>│<span style=\"color: #800080; text-decoration-color: #800080\">               </span>│\n",
       "│<span style=\"color: #008080; text-decoration-color: #008080\">                 </span>│<span style=\"color: #800080; text-decoration-color: #800080\">               </span>│<span style=\"color: #800080; text-decoration-color: #800080\">               </span>│<span style=\"color: #800080; text-decoration-color: #800080\">               </span>│<span style=\"color: #800080; text-decoration-color: #800080\">               </span>│<span style=\"color: #800080; text-decoration-color: #800080\"> european      </span>│<span style=\"color: #800080; text-decoration-color: #800080\">               </span>│\n",
       "│<span style=\"color: #008080; text-decoration-color: #008080\">                 </span>│<span style=\"color: #800080; text-decoration-color: #800080\">               </span>│<span style=\"color: #800080; text-decoration-color: #800080\">               </span>│<span style=\"color: #800080; text-decoration-color: #800080\">               </span>│<span style=\"color: #800080; text-decoration-color: #800080\">               </span>│<span style=\"color: #800080; text-decoration-color: #800080\"> citizen?'}    </span>│<span style=\"color: #800080; text-decoration-color: #800080\">               </span>│\n",
       "│<span style=\"color: #008080; text-decoration-color: #008080\"> validation      </span>│<span style=\"color: #800080; text-decoration-color: #800080\">               </span>│<span style=\"color: #800080; text-decoration-color: #800080\"> required|ema… </span>│<span style=\"color: #800080; text-decoration-color: #800080\"> required|len… </span>│<span style=\"color: #800080; text-decoration-color: #800080\"> required|con… </span>│<span style=\"color: #800080; text-decoration-color: #800080\">               </span>│<span style=\"color: #800080; text-decoration-color: #800080\">               </span>│\n",
       "│<span style=\"color: #008080; text-decoration-color: #008080\"> validationLabel </span>│<span style=\"color: #800080; text-decoration-color: #800080\">               </span>│<span style=\"color: #800080; text-decoration-color: #800080\">               </span>│<span style=\"color: #800080; text-decoration-color: #800080\">               </span>│<span style=\"color: #800080; text-decoration-color: #800080\"> password      </span>│<span style=\"color: #800080; text-decoration-color: #800080\">               </span>│<span style=\"color: #800080; text-decoration-color: #800080\">               </span>│\n",
       "│<span style=\"color: #008080; text-decoration-color: #008080\">                 </span>│<span style=\"color: #800080; text-decoration-color: #800080\">               </span>│<span style=\"color: #800080; text-decoration-color: #800080\">               </span>│<span style=\"color: #800080; text-decoration-color: #800080\">               </span>│<span style=\"color: #800080; text-decoration-color: #800080\"> confirmation  </span>│<span style=\"color: #800080; text-decoration-color: #800080\">               </span>│<span style=\"color: #800080; text-decoration-color: #800080\">               </span>│\n",
       "└─────────────────┴───────────────┴───────────────┴───────────────┴───────────────┴───────────────┴───────────────┘\n",
       "</pre>\n"
      ],
      "text/plain": [
       "┏━━━━━━━━━━━━━━━━━┳━━━━━━━━━━━━━━━┳━━━━━━━━━━━━━━━┳━━━━━━━━━━━━━━━┳━━━━━━━━━━━━━━━┳━━━━━━━━━━━━━━━┳━━━━━━━━━━━━━━━┓\n",
       "┃\u001b[1m \u001b[0m\u001b[1mIndex          \u001b[0m\u001b[1m \u001b[0m┃\u001b[1m \u001b[0m\u001b[1m0            \u001b[0m\u001b[1m \u001b[0m┃\u001b[1m \u001b[0m\u001b[1m1            \u001b[0m\u001b[1m \u001b[0m┃\u001b[1m \u001b[0m\u001b[1m2            \u001b[0m\u001b[1m \u001b[0m┃\u001b[1m \u001b[0m\u001b[1m3            \u001b[0m\u001b[1m \u001b[0m┃\u001b[1m \u001b[0m\u001b[1m4            \u001b[0m\u001b[1m \u001b[0m┃\u001b[1m \u001b[0m\u001b[1m5            \u001b[0m\u001b[1m \u001b[0m┃\n",
       "┡━━━━━━━━━━━━━━━━━╇━━━━━━━━━━━━━━━╇━━━━━━━━━━━━━━━╇━━━━━━━━━━━━━━━╇━━━━━━━━━━━━━━━╇━━━━━━━━━━━━━━━╇━━━━━━━━━━━━━━━┩\n",
       "│\u001b[36m \u001b[0m\u001b[36m$cmp           \u001b[0m\u001b[36m \u001b[0m│\u001b[35m \u001b[0m\u001b[35m             \u001b[0m\u001b[35m \u001b[0m│\u001b[35m \u001b[0m\u001b[35m             \u001b[0m\u001b[35m \u001b[0m│\u001b[35m \u001b[0m\u001b[35m             \u001b[0m\u001b[35m \u001b[0m│\u001b[35m \u001b[0m\u001b[35m             \u001b[0m\u001b[35m \u001b[0m│\u001b[35m \u001b[0m\u001b[35mFormKit      \u001b[0m\u001b[35m \u001b[0m│\u001b[35m \u001b[0m\u001b[35m             \u001b[0m\u001b[35m \u001b[0m│\n",
       "│\u001b[36m \u001b[0m\u001b[36m$el            \u001b[0m\u001b[36m \u001b[0m│\u001b[35m \u001b[0m\u001b[35mh1           \u001b[0m\u001b[35m \u001b[0m│\u001b[35m \u001b[0m\u001b[35m             \u001b[0m\u001b[35m \u001b[0m│\u001b[35m \u001b[0m\u001b[35m             \u001b[0m\u001b[35m \u001b[0m│\u001b[35m \u001b[0m\u001b[35m             \u001b[0m\u001b[35m \u001b[0m│\u001b[35m \u001b[0m\u001b[35m             \u001b[0m\u001b[35m \u001b[0m│\u001b[35m \u001b[0m\u001b[35m             \u001b[0m\u001b[35m \u001b[0m│\n",
       "│\u001b[36m \u001b[0m\u001b[36m$formkit       \u001b[0m\u001b[36m \u001b[0m│\u001b[35m \u001b[0m\u001b[35m             \u001b[0m\u001b[35m \u001b[0m│\u001b[35m \u001b[0m\u001b[35mtext         \u001b[0m\u001b[35m \u001b[0m│\u001b[35m \u001b[0m\u001b[35mpassword     \u001b[0m\u001b[35m \u001b[0m│\u001b[35m \u001b[0m\u001b[35mpassword     \u001b[0m\u001b[35m \u001b[0m│\u001b[35m \u001b[0m\u001b[35m             \u001b[0m\u001b[35m \u001b[0m│\u001b[35m \u001b[0m\u001b[35mselect       \u001b[0m\u001b[35m \u001b[0m│\n",
       "│\u001b[36m \u001b[0m\u001b[36mattrs          \u001b[0m\u001b[36m \u001b[0m│\u001b[35m \u001b[0m\u001b[35m{'class':    \u001b[0m\u001b[35m \u001b[0m│\u001b[35m \u001b[0m\u001b[35m             \u001b[0m\u001b[35m \u001b[0m│\u001b[35m \u001b[0m\u001b[35m             \u001b[0m\u001b[35m \u001b[0m│\u001b[35m \u001b[0m\u001b[35m             \u001b[0m\u001b[35m \u001b[0m│\u001b[35m \u001b[0m\u001b[35m             \u001b[0m\u001b[35m \u001b[0m│\u001b[35m \u001b[0m\u001b[35m             \u001b[0m\u001b[35m \u001b[0m│\n",
       "│\u001b[36m                 \u001b[0m│\u001b[35m \u001b[0m\u001b[35m'text-2xl    \u001b[0m\u001b[35m \u001b[0m│\u001b[35m               \u001b[0m│\u001b[35m               \u001b[0m│\u001b[35m               \u001b[0m│\u001b[35m               \u001b[0m│\u001b[35m               \u001b[0m│\n",
       "│\u001b[36m                 \u001b[0m│\u001b[35m \u001b[0m\u001b[35mfont-bold    \u001b[0m\u001b[35m \u001b[0m│\u001b[35m               \u001b[0m│\u001b[35m               \u001b[0m│\u001b[35m               \u001b[0m│\u001b[35m               \u001b[0m│\u001b[35m               \u001b[0m│\n",
       "│\u001b[36m                 \u001b[0m│\u001b[35m \u001b[0m\u001b[35mmb-4'}       \u001b[0m\u001b[35m \u001b[0m│\u001b[35m               \u001b[0m│\u001b[35m               \u001b[0m│\u001b[35m               \u001b[0m│\u001b[35m               \u001b[0m│\u001b[35m               \u001b[0m│\n",
       "│\u001b[36m \u001b[0m\u001b[36mchildren       \u001b[0m\u001b[36m \u001b[0m│\u001b[35m \u001b[0m\u001b[35mRegister     \u001b[0m\u001b[35m \u001b[0m│\u001b[35m \u001b[0m\u001b[35m             \u001b[0m\u001b[35m \u001b[0m│\u001b[35m \u001b[0m\u001b[35m             \u001b[0m\u001b[35m \u001b[0m│\u001b[35m \u001b[0m\u001b[35m             \u001b[0m\u001b[35m \u001b[0m│\u001b[35m \u001b[0m\u001b[35m             \u001b[0m\u001b[35m \u001b[0m│\u001b[35m \u001b[0m\u001b[35m             \u001b[0m\u001b[35m \u001b[0m│\n",
       "│\u001b[36m \u001b[0m\u001b[36mhelp           \u001b[0m\u001b[36m \u001b[0m│\u001b[35m \u001b[0m\u001b[35m             \u001b[0m\u001b[35m \u001b[0m│\u001b[35m \u001b[0m\u001b[35mThis will be \u001b[0m\u001b[35m \u001b[0m│\u001b[35m \u001b[0m\u001b[35mEnter your   \u001b[0m\u001b[35m \u001b[0m│\u001b[35m \u001b[0m\u001b[35mEnter your   \u001b[0m\u001b[35m \u001b[0m│\u001b[35m \u001b[0m\u001b[35m             \u001b[0m\u001b[35m \u001b[0m│\u001b[35m \u001b[0m\u001b[35mHow often    \u001b[0m\u001b[35m \u001b[0m│\n",
       "│\u001b[36m                 \u001b[0m│\u001b[35m               \u001b[0m│\u001b[35m \u001b[0m\u001b[35mused for your\u001b[0m\u001b[35m \u001b[0m│\u001b[35m \u001b[0m\u001b[35mnew password.\u001b[0m\u001b[35m \u001b[0m│\u001b[35m \u001b[0m\u001b[35mnew password \u001b[0m\u001b[35m \u001b[0m│\u001b[35m               \u001b[0m│\u001b[35m \u001b[0m\u001b[35mshould we    \u001b[0m\u001b[35m \u001b[0m│\n",
       "│\u001b[36m                 \u001b[0m│\u001b[35m               \u001b[0m│\u001b[35m \u001b[0m\u001b[35maccount.     \u001b[0m\u001b[35m \u001b[0m│\u001b[35m               \u001b[0m│\u001b[35m \u001b[0m\u001b[35magain to     \u001b[0m\u001b[35m \u001b[0m│\u001b[35m               \u001b[0m│\u001b[35m \u001b[0m\u001b[35mdisplay a    \u001b[0m\u001b[35m \u001b[0m│\n",
       "│\u001b[36m                 \u001b[0m│\u001b[35m               \u001b[0m│\u001b[35m               \u001b[0m│\u001b[35m               \u001b[0m│\u001b[35m \u001b[0m\u001b[35mconfirm it.  \u001b[0m\u001b[35m \u001b[0m│\u001b[35m               \u001b[0m│\u001b[35m \u001b[0m\u001b[35mcookie       \u001b[0m\u001b[35m \u001b[0m│\n",
       "│\u001b[36m                 \u001b[0m│\u001b[35m               \u001b[0m│\u001b[35m               \u001b[0m│\u001b[35m               \u001b[0m│\u001b[35m               \u001b[0m│\u001b[35m               \u001b[0m│\u001b[35m \u001b[0m\u001b[35mnotice?      \u001b[0m\u001b[35m \u001b[0m│\n",
       "│\u001b[36m \u001b[0m\u001b[36mif             \u001b[0m\u001b[36m \u001b[0m│\u001b[35m \u001b[0m\u001b[35m             \u001b[0m\u001b[35m \u001b[0m│\u001b[35m \u001b[0m\u001b[35m             \u001b[0m\u001b[35m \u001b[0m│\u001b[35m \u001b[0m\u001b[35m             \u001b[0m\u001b[35m \u001b[0m│\u001b[35m \u001b[0m\u001b[35m             \u001b[0m\u001b[35m \u001b[0m│\u001b[35m \u001b[0m\u001b[35m             \u001b[0m\u001b[35m \u001b[0m│\u001b[35m \u001b[0m\u001b[35m$get(eu).val…\u001b[0m\u001b[35m \u001b[0m│\n",
       "│\u001b[36m \u001b[0m\u001b[36mlabel          \u001b[0m\u001b[36m \u001b[0m│\u001b[35m \u001b[0m\u001b[35m             \u001b[0m\u001b[35m \u001b[0m│\u001b[35m \u001b[0m\u001b[35mEmail        \u001b[0m\u001b[35m \u001b[0m│\u001b[35m \u001b[0m\u001b[35mPassword     \u001b[0m\u001b[35m \u001b[0m│\u001b[35m \u001b[0m\u001b[35mConfirm      \u001b[0m\u001b[35m \u001b[0m│\u001b[35m \u001b[0m\u001b[35m             \u001b[0m\u001b[35m \u001b[0m│\u001b[35m \u001b[0m\u001b[35mCookie notice\u001b[0m\u001b[35m \u001b[0m│\n",
       "│\u001b[36m                 \u001b[0m│\u001b[35m               \u001b[0m│\u001b[35m               \u001b[0m│\u001b[35m               \u001b[0m│\u001b[35m \u001b[0m\u001b[35mpassword     \u001b[0m\u001b[35m \u001b[0m│\u001b[35m               \u001b[0m│\u001b[35m \u001b[0m\u001b[35mfrequency    \u001b[0m\u001b[35m \u001b[0m│\n",
       "│\u001b[36m \u001b[0m\u001b[36mname           \u001b[0m\u001b[36m \u001b[0m│\u001b[35m \u001b[0m\u001b[35m             \u001b[0m\u001b[35m \u001b[0m│\u001b[35m \u001b[0m\u001b[35memail        \u001b[0m\u001b[35m \u001b[0m│\u001b[35m \u001b[0m\u001b[35mpassword     \u001b[0m\u001b[35m \u001b[0m│\u001b[35m \u001b[0m\u001b[35mpassword_con…\u001b[0m\u001b[35m \u001b[0m│\u001b[35m \u001b[0m\u001b[35m             \u001b[0m\u001b[35m \u001b[0m│\u001b[35m \u001b[0m\u001b[35mcookie_notice\u001b[0m\u001b[35m \u001b[0m│\n",
       "│\u001b[36m \u001b[0m\u001b[36moptions        \u001b[0m\u001b[36m \u001b[0m│\u001b[35m \u001b[0m\u001b[35m             \u001b[0m\u001b[35m \u001b[0m│\u001b[35m \u001b[0m\u001b[35m             \u001b[0m\u001b[35m \u001b[0m│\u001b[35m \u001b[0m\u001b[35m             \u001b[0m\u001b[35m \u001b[0m│\u001b[35m \u001b[0m\u001b[35m             \u001b[0m\u001b[35m \u001b[0m│\u001b[35m \u001b[0m\u001b[35m             \u001b[0m\u001b[35m \u001b[0m│\u001b[35m \u001b[0m\u001b[35m{'refresh':  \u001b[0m\u001b[35m \u001b[0m│\n",
       "│\u001b[36m                 \u001b[0m│\u001b[35m               \u001b[0m│\u001b[35m               \u001b[0m│\u001b[35m               \u001b[0m│\u001b[35m               \u001b[0m│\u001b[35m               \u001b[0m│\u001b[35m \u001b[0m\u001b[35m'Every page  \u001b[0m\u001b[35m \u001b[0m│\n",
       "│\u001b[36m                 \u001b[0m│\u001b[35m               \u001b[0m│\u001b[35m               \u001b[0m│\u001b[35m               \u001b[0m│\u001b[35m               \u001b[0m│\u001b[35m               \u001b[0m│\u001b[35m \u001b[0m\u001b[35mload',       \u001b[0m\u001b[35m \u001b[0m│\n",
       "│\u001b[36m                 \u001b[0m│\u001b[35m               \u001b[0m│\u001b[35m               \u001b[0m│\u001b[35m               \u001b[0m│\u001b[35m               \u001b[0m│\u001b[35m               \u001b[0m│\u001b[35m \u001b[0m\u001b[35m'hourly':    \u001b[0m\u001b[35m \u001b[0m│\n",
       "│\u001b[36m                 \u001b[0m│\u001b[35m               \u001b[0m│\u001b[35m               \u001b[0m│\u001b[35m               \u001b[0m│\u001b[35m               \u001b[0m│\u001b[35m               \u001b[0m│\u001b[35m \u001b[0m\u001b[35m'Ever hour', \u001b[0m\u001b[35m \u001b[0m│\n",
       "│\u001b[36m                 \u001b[0m│\u001b[35m               \u001b[0m│\u001b[35m               \u001b[0m│\u001b[35m               \u001b[0m│\u001b[35m               \u001b[0m│\u001b[35m               \u001b[0m│\u001b[35m \u001b[0m\u001b[35m'daily':     \u001b[0m\u001b[35m \u001b[0m│\n",
       "│\u001b[36m                 \u001b[0m│\u001b[35m               \u001b[0m│\u001b[35m               \u001b[0m│\u001b[35m               \u001b[0m│\u001b[35m               \u001b[0m│\u001b[35m               \u001b[0m│\u001b[35m \u001b[0m\u001b[35m'Every day'} \u001b[0m\u001b[35m \u001b[0m│\n",
       "│\u001b[36m \u001b[0m\u001b[36mprops          \u001b[0m\u001b[36m \u001b[0m│\u001b[35m \u001b[0m\u001b[35m             \u001b[0m\u001b[35m \u001b[0m│\u001b[35m \u001b[0m\u001b[35m             \u001b[0m\u001b[35m \u001b[0m│\u001b[35m \u001b[0m\u001b[35m             \u001b[0m\u001b[35m \u001b[0m│\u001b[35m \u001b[0m\u001b[35m             \u001b[0m\u001b[35m \u001b[0m│\u001b[35m \u001b[0m\u001b[35m{'name':     \u001b[0m\u001b[35m \u001b[0m│\u001b[35m \u001b[0m\u001b[35m             \u001b[0m\u001b[35m \u001b[0m│\n",
       "│\u001b[36m                 \u001b[0m│\u001b[35m               \u001b[0m│\u001b[35m               \u001b[0m│\u001b[35m               \u001b[0m│\u001b[35m               \u001b[0m│\u001b[35m \u001b[0m\u001b[35m'eu_citizen',\u001b[0m\u001b[35m \u001b[0m│\u001b[35m               \u001b[0m│\n",
       "│\u001b[36m                 \u001b[0m│\u001b[35m               \u001b[0m│\u001b[35m               \u001b[0m│\u001b[35m               \u001b[0m│\u001b[35m               \u001b[0m│\u001b[35m \u001b[0m\u001b[35m'type':      \u001b[0m\u001b[35m \u001b[0m│\u001b[35m               \u001b[0m│\n",
       "│\u001b[36m                 \u001b[0m│\u001b[35m               \u001b[0m│\u001b[35m               \u001b[0m│\u001b[35m               \u001b[0m│\u001b[35m               \u001b[0m│\u001b[35m \u001b[0m\u001b[35m'checkbox',  \u001b[0m\u001b[35m \u001b[0m│\u001b[35m               \u001b[0m│\n",
       "│\u001b[36m                 \u001b[0m│\u001b[35m               \u001b[0m│\u001b[35m               \u001b[0m│\u001b[35m               \u001b[0m│\u001b[35m               \u001b[0m│\u001b[35m \u001b[0m\u001b[35m'id': 'eu',  \u001b[0m\u001b[35m \u001b[0m│\u001b[35m               \u001b[0m│\n",
       "│\u001b[36m                 \u001b[0m│\u001b[35m               \u001b[0m│\u001b[35m               \u001b[0m│\u001b[35m               \u001b[0m│\u001b[35m               \u001b[0m│\u001b[35m \u001b[0m\u001b[35m'label': 'Are\u001b[0m\u001b[35m \u001b[0m│\u001b[35m               \u001b[0m│\n",
       "│\u001b[36m                 \u001b[0m│\u001b[35m               \u001b[0m│\u001b[35m               \u001b[0m│\u001b[35m               \u001b[0m│\u001b[35m               \u001b[0m│\u001b[35m \u001b[0m\u001b[35myou a        \u001b[0m\u001b[35m \u001b[0m│\u001b[35m               \u001b[0m│\n",
       "│\u001b[36m                 \u001b[0m│\u001b[35m               \u001b[0m│\u001b[35m               \u001b[0m│\u001b[35m               \u001b[0m│\u001b[35m               \u001b[0m│\u001b[35m \u001b[0m\u001b[35meuropean     \u001b[0m\u001b[35m \u001b[0m│\u001b[35m               \u001b[0m│\n",
       "│\u001b[36m                 \u001b[0m│\u001b[35m               \u001b[0m│\u001b[35m               \u001b[0m│\u001b[35m               \u001b[0m│\u001b[35m               \u001b[0m│\u001b[35m \u001b[0m\u001b[35mcitizen?'}   \u001b[0m\u001b[35m \u001b[0m│\u001b[35m               \u001b[0m│\n",
       "│\u001b[36m \u001b[0m\u001b[36mvalidation     \u001b[0m\u001b[36m \u001b[0m│\u001b[35m \u001b[0m\u001b[35m             \u001b[0m\u001b[35m \u001b[0m│\u001b[35m \u001b[0m\u001b[35mrequired|ema…\u001b[0m\u001b[35m \u001b[0m│\u001b[35m \u001b[0m\u001b[35mrequired|len…\u001b[0m\u001b[35m \u001b[0m│\u001b[35m \u001b[0m\u001b[35mrequired|con…\u001b[0m\u001b[35m \u001b[0m│\u001b[35m \u001b[0m\u001b[35m             \u001b[0m\u001b[35m \u001b[0m│\u001b[35m \u001b[0m\u001b[35m             \u001b[0m\u001b[35m \u001b[0m│\n",
       "│\u001b[36m \u001b[0m\u001b[36mvalidationLabel\u001b[0m\u001b[36m \u001b[0m│\u001b[35m \u001b[0m\u001b[35m             \u001b[0m\u001b[35m \u001b[0m│\u001b[35m \u001b[0m\u001b[35m             \u001b[0m\u001b[35m \u001b[0m│\u001b[35m \u001b[0m\u001b[35m             \u001b[0m\u001b[35m \u001b[0m│\u001b[35m \u001b[0m\u001b[35mpassword     \u001b[0m\u001b[35m \u001b[0m│\u001b[35m \u001b[0m\u001b[35m             \u001b[0m\u001b[35m \u001b[0m│\u001b[35m \u001b[0m\u001b[35m             \u001b[0m\u001b[35m \u001b[0m│\n",
       "│\u001b[36m                 \u001b[0m│\u001b[35m               \u001b[0m│\u001b[35m               \u001b[0m│\u001b[35m               \u001b[0m│\u001b[35m \u001b[0m\u001b[35mconfirmation \u001b[0m\u001b[35m \u001b[0m│\u001b[35m               \u001b[0m│\u001b[35m               \u001b[0m│\n",
       "└─────────────────┴───────────────┴───────────────┴───────────────┴───────────────┴───────────────┴───────────────┘\n"
      ]
     },
     "metadata": {},
     "output_type": "display_data"
    },
    {
     "data": {
      "text/html": [
       "<pre style=\"white-space:pre;overflow-x:auto;line-height:normal;font-family:Menlo,'DejaVu Sans Mono',consolas,'Courier New',monospace\">┏━━━━━━━━━━━━━━━━━━┳━━━━━━━━━━━━━━━┳━━━━━━━━━━━━━━━┳━━━━━━━━━━━━━━━┳━━━━━━━━━━━━━━━┳━━━━━━━━━━━━━━┳━━━━━━━━━━━━━━━┓\n",
       "┃<span style=\"font-weight: bold\"> Index            </span>┃<span style=\"font-weight: bold\"> 0             </span>┃<span style=\"font-weight: bold\"> 1             </span>┃<span style=\"font-weight: bold\"> 2             </span>┃<span style=\"font-weight: bold\"> 3             </span>┃<span style=\"font-weight: bold\"> 4            </span>┃<span style=\"font-weight: bold\"> 5             </span>┃\n",
       "┡━━━━━━━━━━━━━━━━━━╇━━━━━━━━━━━━━━━╇━━━━━━━━━━━━━━━╇━━━━━━━━━━━━━━━╇━━━━━━━━━━━━━━━╇━━━━━━━━━━━━━━╇━━━━━━━━━━━━━━━┩\n",
       "│<span style=\"color: #008080; text-decoration-color: #008080\"> $cmp             </span>│<span style=\"color: #800080; text-decoration-color: #800080\">               </span>│<span style=\"color: #800080; text-decoration-color: #800080\">               </span>│<span style=\"color: #800080; text-decoration-color: #800080\">               </span>│<span style=\"color: #800080; text-decoration-color: #800080\">               </span>│<span style=\"color: #800080; text-decoration-color: #800080\"> FormKit      </span>│<span style=\"color: #800080; text-decoration-color: #800080\">               </span>│\n",
       "│<span style=\"color: #008080; text-decoration-color: #008080\"> $el              </span>│<span style=\"color: #800080; text-decoration-color: #800080\"> h1            </span>│<span style=\"color: #800080; text-decoration-color: #800080\">               </span>│<span style=\"color: #800080; text-decoration-color: #800080\">               </span>│<span style=\"color: #800080; text-decoration-color: #800080\">               </span>│<span style=\"color: #800080; text-decoration-color: #800080\">              </span>│<span style=\"color: #800080; text-decoration-color: #800080\">               </span>│\n",
       "│<span style=\"color: #008080; text-decoration-color: #008080\"> $formkit         </span>│<span style=\"color: #800080; text-decoration-color: #800080\">               </span>│<span style=\"color: #800080; text-decoration-color: #800080\"> text          </span>│<span style=\"color: #800080; text-decoration-color: #800080\"> password      </span>│<span style=\"color: #800080; text-decoration-color: #800080\"> password      </span>│<span style=\"color: #800080; text-decoration-color: #800080\">              </span>│<span style=\"color: #800080; text-decoration-color: #800080\"> select        </span>│\n",
       "│<span style=\"color: #008080; text-decoration-color: #008080\"> attrs            </span>│<span style=\"color: #800080; text-decoration-color: #800080\"> {'class':     </span>│<span style=\"color: #800080; text-decoration-color: #800080\">               </span>│<span style=\"color: #800080; text-decoration-color: #800080\">               </span>│<span style=\"color: #800080; text-decoration-color: #800080\">               </span>│<span style=\"color: #800080; text-decoration-color: #800080\">              </span>│<span style=\"color: #800080; text-decoration-color: #800080\">               </span>│\n",
       "│<span style=\"color: #008080; text-decoration-color: #008080\">                  </span>│<span style=\"color: #800080; text-decoration-color: #800080\"> 'text-2xl     </span>│<span style=\"color: #800080; text-decoration-color: #800080\">               </span>│<span style=\"color: #800080; text-decoration-color: #800080\">               </span>│<span style=\"color: #800080; text-decoration-color: #800080\">               </span>│<span style=\"color: #800080; text-decoration-color: #800080\">              </span>│<span style=\"color: #800080; text-decoration-color: #800080\">               </span>│\n",
       "│<span style=\"color: #008080; text-decoration-color: #008080\">                  </span>│<span style=\"color: #800080; text-decoration-color: #800080\"> font-bold     </span>│<span style=\"color: #800080; text-decoration-color: #800080\">               </span>│<span style=\"color: #800080; text-decoration-color: #800080\">               </span>│<span style=\"color: #800080; text-decoration-color: #800080\">               </span>│<span style=\"color: #800080; text-decoration-color: #800080\">              </span>│<span style=\"color: #800080; text-decoration-color: #800080\">               </span>│\n",
       "│<span style=\"color: #008080; text-decoration-color: #008080\">                  </span>│<span style=\"color: #800080; text-decoration-color: #800080\"> mb-4'}        </span>│<span style=\"color: #800080; text-decoration-color: #800080\">               </span>│<span style=\"color: #800080; text-decoration-color: #800080\">               </span>│<span style=\"color: #800080; text-decoration-color: #800080\">               </span>│<span style=\"color: #800080; text-decoration-color: #800080\">              </span>│<span style=\"color: #800080; text-decoration-color: #800080\">               </span>│\n",
       "│<span style=\"color: #008080; text-decoration-color: #008080\"> children         </span>│<span style=\"color: #800080; text-decoration-color: #800080\"> ['Register']  </span>│<span style=\"color: #800080; text-decoration-color: #800080\">               </span>│<span style=\"color: #800080; text-decoration-color: #800080\">               </span>│<span style=\"color: #800080; text-decoration-color: #800080\">               </span>│<span style=\"color: #800080; text-decoration-color: #800080\">              </span>│<span style=\"color: #800080; text-decoration-color: #800080\">               </span>│\n",
       "│<span style=\"color: #008080; text-decoration-color: #008080\"> help             </span>│<span style=\"color: #800080; text-decoration-color: #800080\">               </span>│<span style=\"color: #800080; text-decoration-color: #800080\"> This will be  </span>│<span style=\"color: #800080; text-decoration-color: #800080\"> Enter your    </span>│<span style=\"color: #800080; text-decoration-color: #800080\"> Enter your    </span>│<span style=\"color: #800080; text-decoration-color: #800080\">              </span>│<span style=\"color: #800080; text-decoration-color: #800080\"> How often     </span>│\n",
       "│<span style=\"color: #008080; text-decoration-color: #008080\">                  </span>│<span style=\"color: #800080; text-decoration-color: #800080\">               </span>│<span style=\"color: #800080; text-decoration-color: #800080\"> used for your </span>│<span style=\"color: #800080; text-decoration-color: #800080\"> new password. </span>│<span style=\"color: #800080; text-decoration-color: #800080\"> new password  </span>│<span style=\"color: #800080; text-decoration-color: #800080\">              </span>│<span style=\"color: #800080; text-decoration-color: #800080\"> should we     </span>│\n",
       "│<span style=\"color: #008080; text-decoration-color: #008080\">                  </span>│<span style=\"color: #800080; text-decoration-color: #800080\">               </span>│<span style=\"color: #800080; text-decoration-color: #800080\"> account.      </span>│<span style=\"color: #800080; text-decoration-color: #800080\">               </span>│<span style=\"color: #800080; text-decoration-color: #800080\"> again to      </span>│<span style=\"color: #800080; text-decoration-color: #800080\">              </span>│<span style=\"color: #800080; text-decoration-color: #800080\"> display a     </span>│\n",
       "│<span style=\"color: #008080; text-decoration-color: #008080\">                  </span>│<span style=\"color: #800080; text-decoration-color: #800080\">               </span>│<span style=\"color: #800080; text-decoration-color: #800080\">               </span>│<span style=\"color: #800080; text-decoration-color: #800080\">               </span>│<span style=\"color: #800080; text-decoration-color: #800080\"> confirm it.   </span>│<span style=\"color: #800080; text-decoration-color: #800080\">              </span>│<span style=\"color: #800080; text-decoration-color: #800080\"> cookie        </span>│\n",
       "│<span style=\"color: #008080; text-decoration-color: #008080\">                  </span>│<span style=\"color: #800080; text-decoration-color: #800080\">               </span>│<span style=\"color: #800080; text-decoration-color: #800080\">               </span>│<span style=\"color: #800080; text-decoration-color: #800080\">               </span>│<span style=\"color: #800080; text-decoration-color: #800080\">               </span>│<span style=\"color: #800080; text-decoration-color: #800080\">              </span>│<span style=\"color: #800080; text-decoration-color: #800080\"> notice?       </span>│\n",
       "│<span style=\"color: #008080; text-decoration-color: #008080\"> if               </span>│<span style=\"color: #800080; text-decoration-color: #800080\">               </span>│<span style=\"color: #800080; text-decoration-color: #800080\">               </span>│<span style=\"color: #800080; text-decoration-color: #800080\">               </span>│<span style=\"color: #800080; text-decoration-color: #800080\">               </span>│<span style=\"color: #800080; text-decoration-color: #800080\">              </span>│<span style=\"color: #800080; text-decoration-color: #800080\"> $get(eu).val… </span>│\n",
       "│<span style=\"color: #008080; text-decoration-color: #008080\"> label            </span>│<span style=\"color: #800080; text-decoration-color: #800080\">               </span>│<span style=\"color: #800080; text-decoration-color: #800080\"> Email         </span>│<span style=\"color: #800080; text-decoration-color: #800080\"> Password      </span>│<span style=\"color: #800080; text-decoration-color: #800080\"> Confirm       </span>│<span style=\"color: #800080; text-decoration-color: #800080\">              </span>│<span style=\"color: #800080; text-decoration-color: #800080\"> Cookie notice </span>│\n",
       "│<span style=\"color: #008080; text-decoration-color: #008080\">                  </span>│<span style=\"color: #800080; text-decoration-color: #800080\">               </span>│<span style=\"color: #800080; text-decoration-color: #800080\">               </span>│<span style=\"color: #800080; text-decoration-color: #800080\">               </span>│<span style=\"color: #800080; text-decoration-color: #800080\"> password      </span>│<span style=\"color: #800080; text-decoration-color: #800080\">              </span>│<span style=\"color: #800080; text-decoration-color: #800080\"> frequency     </span>│\n",
       "│<span style=\"color: #008080; text-decoration-color: #008080\"> name             </span>│<span style=\"color: #800080; text-decoration-color: #800080\">               </span>│<span style=\"color: #800080; text-decoration-color: #800080\"> email         </span>│<span style=\"color: #800080; text-decoration-color: #800080\"> password      </span>│<span style=\"color: #800080; text-decoration-color: #800080\"> password_con… </span>│<span style=\"color: #800080; text-decoration-color: #800080\">              </span>│<span style=\"color: #800080; text-decoration-color: #800080\"> cookie_notice </span>│\n",
       "│<span style=\"color: #008080; text-decoration-color: #008080\"> options          </span>│<span style=\"color: #800080; text-decoration-color: #800080\">               </span>│<span style=\"color: #800080; text-decoration-color: #800080\">               </span>│<span style=\"color: #800080; text-decoration-color: #800080\">               </span>│<span style=\"color: #800080; text-decoration-color: #800080\">               </span>│<span style=\"color: #800080; text-decoration-color: #800080\">              </span>│<span style=\"color: #800080; text-decoration-color: #800080\"> [{'value':    </span>│\n",
       "│<span style=\"color: #008080; text-decoration-color: #008080\">                  </span>│<span style=\"color: #800080; text-decoration-color: #800080\">               </span>│<span style=\"color: #800080; text-decoration-color: #800080\">               </span>│<span style=\"color: #800080; text-decoration-color: #800080\">               </span>│<span style=\"color: #800080; text-decoration-color: #800080\">               </span>│<span style=\"color: #800080; text-decoration-color: #800080\">              </span>│<span style=\"color: #800080; text-decoration-color: #800080\"> 'refresh',    </span>│\n",
       "│<span style=\"color: #008080; text-decoration-color: #008080\">                  </span>│<span style=\"color: #800080; text-decoration-color: #800080\">               </span>│<span style=\"color: #800080; text-decoration-color: #800080\">               </span>│<span style=\"color: #800080; text-decoration-color: #800080\">               </span>│<span style=\"color: #800080; text-decoration-color: #800080\">               </span>│<span style=\"color: #800080; text-decoration-color: #800080\">              </span>│<span style=\"color: #800080; text-decoration-color: #800080\"> 'label':      </span>│\n",
       "│<span style=\"color: #008080; text-decoration-color: #008080\">                  </span>│<span style=\"color: #800080; text-decoration-color: #800080\">               </span>│<span style=\"color: #800080; text-decoration-color: #800080\">               </span>│<span style=\"color: #800080; text-decoration-color: #800080\">               </span>│<span style=\"color: #800080; text-decoration-color: #800080\">               </span>│<span style=\"color: #800080; text-decoration-color: #800080\">              </span>│<span style=\"color: #800080; text-decoration-color: #800080\"> 'refresh'},   </span>│\n",
       "│<span style=\"color: #008080; text-decoration-color: #008080\">                  </span>│<span style=\"color: #800080; text-decoration-color: #800080\">               </span>│<span style=\"color: #800080; text-decoration-color: #800080\">               </span>│<span style=\"color: #800080; text-decoration-color: #800080\">               </span>│<span style=\"color: #800080; text-decoration-color: #800080\">               </span>│<span style=\"color: #800080; text-decoration-color: #800080\">              </span>│<span style=\"color: #800080; text-decoration-color: #800080\"> {'value':     </span>│\n",
       "│<span style=\"color: #008080; text-decoration-color: #008080\">                  </span>│<span style=\"color: #800080; text-decoration-color: #800080\">               </span>│<span style=\"color: #800080; text-decoration-color: #800080\">               </span>│<span style=\"color: #800080; text-decoration-color: #800080\">               </span>│<span style=\"color: #800080; text-decoration-color: #800080\">               </span>│<span style=\"color: #800080; text-decoration-color: #800080\">              </span>│<span style=\"color: #800080; text-decoration-color: #800080\"> 'hourly',     </span>│\n",
       "│<span style=\"color: #008080; text-decoration-color: #008080\">                  </span>│<span style=\"color: #800080; text-decoration-color: #800080\">               </span>│<span style=\"color: #800080; text-decoration-color: #800080\">               </span>│<span style=\"color: #800080; text-decoration-color: #800080\">               </span>│<span style=\"color: #800080; text-decoration-color: #800080\">               </span>│<span style=\"color: #800080; text-decoration-color: #800080\">              </span>│<span style=\"color: #800080; text-decoration-color: #800080\"> 'label':      </span>│\n",
       "│<span style=\"color: #008080; text-decoration-color: #008080\">                  </span>│<span style=\"color: #800080; text-decoration-color: #800080\">               </span>│<span style=\"color: #800080; text-decoration-color: #800080\">               </span>│<span style=\"color: #800080; text-decoration-color: #800080\">               </span>│<span style=\"color: #800080; text-decoration-color: #800080\">               </span>│<span style=\"color: #800080; text-decoration-color: #800080\">              </span>│<span style=\"color: #800080; text-decoration-color: #800080\"> 'hourly'},    </span>│\n",
       "│<span style=\"color: #008080; text-decoration-color: #008080\">                  </span>│<span style=\"color: #800080; text-decoration-color: #800080\">               </span>│<span style=\"color: #800080; text-decoration-color: #800080\">               </span>│<span style=\"color: #800080; text-decoration-color: #800080\">               </span>│<span style=\"color: #800080; text-decoration-color: #800080\">               </span>│<span style=\"color: #800080; text-decoration-color: #800080\">              </span>│<span style=\"color: #800080; text-decoration-color: #800080\"> {'value':     </span>│\n",
       "│<span style=\"color: #008080; text-decoration-color: #008080\">                  </span>│<span style=\"color: #800080; text-decoration-color: #800080\">               </span>│<span style=\"color: #800080; text-decoration-color: #800080\">               </span>│<span style=\"color: #800080; text-decoration-color: #800080\">               </span>│<span style=\"color: #800080; text-decoration-color: #800080\">               </span>│<span style=\"color: #800080; text-decoration-color: #800080\">              </span>│<span style=\"color: #800080; text-decoration-color: #800080\"> 'daily',      </span>│\n",
       "│<span style=\"color: #008080; text-decoration-color: #008080\">                  </span>│<span style=\"color: #800080; text-decoration-color: #800080\">               </span>│<span style=\"color: #800080; text-decoration-color: #800080\">               </span>│<span style=\"color: #800080; text-decoration-color: #800080\">               </span>│<span style=\"color: #800080; text-decoration-color: #800080\">               </span>│<span style=\"color: #800080; text-decoration-color: #800080\">              </span>│<span style=\"color: #800080; text-decoration-color: #800080\"> 'label':      </span>│\n",
       "│<span style=\"color: #008080; text-decoration-color: #008080\">                  </span>│<span style=\"color: #800080; text-decoration-color: #800080\">               </span>│<span style=\"color: #800080; text-decoration-color: #800080\">               </span>│<span style=\"color: #800080; text-decoration-color: #800080\">               </span>│<span style=\"color: #800080; text-decoration-color: #800080\">               </span>│<span style=\"color: #800080; text-decoration-color: #800080\">              </span>│<span style=\"color: #800080; text-decoration-color: #800080\"> 'daily'}]     </span>│\n",
       "│<span style=\"color: #008080; text-decoration-color: #008080\"> props            </span>│<span style=\"color: #800080; text-decoration-color: #800080\">               </span>│<span style=\"color: #800080; text-decoration-color: #800080\">               </span>│<span style=\"color: #800080; text-decoration-color: #800080\">               </span>│<span style=\"color: #800080; text-decoration-color: #800080\">               </span>│<span style=\"color: #800080; text-decoration-color: #800080\"> {'name':     </span>│<span style=\"color: #800080; text-decoration-color: #800080\">               </span>│\n",
       "│<span style=\"color: #008080; text-decoration-color: #008080\">                  </span>│<span style=\"color: #800080; text-decoration-color: #800080\">               </span>│<span style=\"color: #800080; text-decoration-color: #800080\">               </span>│<span style=\"color: #800080; text-decoration-color: #800080\">               </span>│<span style=\"color: #800080; text-decoration-color: #800080\">               </span>│<span style=\"color: #800080; text-decoration-color: #800080\"> 'eu_citizen… </span>│<span style=\"color: #800080; text-decoration-color: #800080\">               </span>│\n",
       "│<span style=\"color: #008080; text-decoration-color: #008080\">                  </span>│<span style=\"color: #800080; text-decoration-color: #800080\">               </span>│<span style=\"color: #800080; text-decoration-color: #800080\">               </span>│<span style=\"color: #800080; text-decoration-color: #800080\">               </span>│<span style=\"color: #800080; text-decoration-color: #800080\">               </span>│<span style=\"color: #800080; text-decoration-color: #800080\"> 'type':      </span>│<span style=\"color: #800080; text-decoration-color: #800080\">               </span>│\n",
       "│<span style=\"color: #008080; text-decoration-color: #008080\">                  </span>│<span style=\"color: #800080; text-decoration-color: #800080\">               </span>│<span style=\"color: #800080; text-decoration-color: #800080\">               </span>│<span style=\"color: #800080; text-decoration-color: #800080\">               </span>│<span style=\"color: #800080; text-decoration-color: #800080\">               </span>│<span style=\"color: #800080; text-decoration-color: #800080\"> 'checkbox',  </span>│<span style=\"color: #800080; text-decoration-color: #800080\">               </span>│\n",
       "│<span style=\"color: #008080; text-decoration-color: #008080\">                  </span>│<span style=\"color: #800080; text-decoration-color: #800080\">               </span>│<span style=\"color: #800080; text-decoration-color: #800080\">               </span>│<span style=\"color: #800080; text-decoration-color: #800080\">               </span>│<span style=\"color: #800080; text-decoration-color: #800080\">               </span>│<span style=\"color: #800080; text-decoration-color: #800080\"> 'id': 'eu',  </span>│<span style=\"color: #800080; text-decoration-color: #800080\">               </span>│\n",
       "│<span style=\"color: #008080; text-decoration-color: #008080\">                  </span>│<span style=\"color: #800080; text-decoration-color: #800080\">               </span>│<span style=\"color: #800080; text-decoration-color: #800080\">               </span>│<span style=\"color: #800080; text-decoration-color: #800080\">               </span>│<span style=\"color: #800080; text-decoration-color: #800080\">               </span>│<span style=\"color: #800080; text-decoration-color: #800080\"> 'label':     </span>│<span style=\"color: #800080; text-decoration-color: #800080\">               </span>│\n",
       "│<span style=\"color: #008080; text-decoration-color: #008080\">                  </span>│<span style=\"color: #800080; text-decoration-color: #800080\">               </span>│<span style=\"color: #800080; text-decoration-color: #800080\">               </span>│<span style=\"color: #800080; text-decoration-color: #800080\">               </span>│<span style=\"color: #800080; text-decoration-color: #800080\">               </span>│<span style=\"color: #800080; text-decoration-color: #800080\"> 'Are you a   </span>│<span style=\"color: #800080; text-decoration-color: #800080\">               </span>│\n",
       "│<span style=\"color: #008080; text-decoration-color: #008080\">                  </span>│<span style=\"color: #800080; text-decoration-color: #800080\">               </span>│<span style=\"color: #800080; text-decoration-color: #800080\">               </span>│<span style=\"color: #800080; text-decoration-color: #800080\">               </span>│<span style=\"color: #800080; text-decoration-color: #800080\">               </span>│<span style=\"color: #800080; text-decoration-color: #800080\"> european     </span>│<span style=\"color: #800080; text-decoration-color: #800080\">               </span>│\n",
       "│<span style=\"color: #008080; text-decoration-color: #008080\">                  </span>│<span style=\"color: #800080; text-decoration-color: #800080\">               </span>│<span style=\"color: #800080; text-decoration-color: #800080\">               </span>│<span style=\"color: #800080; text-decoration-color: #800080\">               </span>│<span style=\"color: #800080; text-decoration-color: #800080\">               </span>│<span style=\"color: #800080; text-decoration-color: #800080\"> citizen?'}   </span>│<span style=\"color: #800080; text-decoration-color: #800080\">               </span>│\n",
       "│<span style=\"color: #008080; text-decoration-color: #008080\"> validation       </span>│<span style=\"color: #800080; text-decoration-color: #800080\">               </span>│<span style=\"color: #800080; text-decoration-color: #800080\"> required|ema… </span>│<span style=\"color: #800080; text-decoration-color: #800080\"> required|len… </span>│<span style=\"color: #800080; text-decoration-color: #800080\"> required|con… </span>│<span style=\"color: #800080; text-decoration-color: #800080\">              </span>│<span style=\"color: #800080; text-decoration-color: #800080\">               </span>│\n",
       "│<span style=\"color: #008080; text-decoration-color: #008080\"> validation-label </span>│<span style=\"color: #800080; text-decoration-color: #800080\">               </span>│<span style=\"color: #800080; text-decoration-color: #800080\">               </span>│<span style=\"color: #800080; text-decoration-color: #800080\">               </span>│<span style=\"color: #800080; text-decoration-color: #800080\"> password      </span>│<span style=\"color: #800080; text-decoration-color: #800080\">              </span>│<span style=\"color: #800080; text-decoration-color: #800080\">               </span>│\n",
       "│<span style=\"color: #008080; text-decoration-color: #008080\">                  </span>│<span style=\"color: #800080; text-decoration-color: #800080\">               </span>│<span style=\"color: #800080; text-decoration-color: #800080\">               </span>│<span style=\"color: #800080; text-decoration-color: #800080\">               </span>│<span style=\"color: #800080; text-decoration-color: #800080\"> confirmation  </span>│<span style=\"color: #800080; text-decoration-color: #800080\">              </span>│<span style=\"color: #800080; text-decoration-color: #800080\">               </span>│\n",
       "└──────────────────┴───────────────┴───────────────┴───────────────┴───────────────┴──────────────┴───────────────┘\n",
       "</pre>\n"
      ],
      "text/plain": [
       "┏━━━━━━━━━━━━━━━━━━┳━━━━━━━━━━━━━━━┳━━━━━━━━━━━━━━━┳━━━━━━━━━━━━━━━┳━━━━━━━━━━━━━━━┳━━━━━━━━━━━━━━┳━━━━━━━━━━━━━━━┓\n",
       "┃\u001b[1m \u001b[0m\u001b[1mIndex           \u001b[0m\u001b[1m \u001b[0m┃\u001b[1m \u001b[0m\u001b[1m0            \u001b[0m\u001b[1m \u001b[0m┃\u001b[1m \u001b[0m\u001b[1m1            \u001b[0m\u001b[1m \u001b[0m┃\u001b[1m \u001b[0m\u001b[1m2            \u001b[0m\u001b[1m \u001b[0m┃\u001b[1m \u001b[0m\u001b[1m3            \u001b[0m\u001b[1m \u001b[0m┃\u001b[1m \u001b[0m\u001b[1m4           \u001b[0m\u001b[1m \u001b[0m┃\u001b[1m \u001b[0m\u001b[1m5            \u001b[0m\u001b[1m \u001b[0m┃\n",
       "┡━━━━━━━━━━━━━━━━━━╇━━━━━━━━━━━━━━━╇━━━━━━━━━━━━━━━╇━━━━━━━━━━━━━━━╇━━━━━━━━━━━━━━━╇━━━━━━━━━━━━━━╇━━━━━━━━━━━━━━━┩\n",
       "│\u001b[36m \u001b[0m\u001b[36m$cmp            \u001b[0m\u001b[36m \u001b[0m│\u001b[35m \u001b[0m\u001b[35m             \u001b[0m\u001b[35m \u001b[0m│\u001b[35m \u001b[0m\u001b[35m             \u001b[0m\u001b[35m \u001b[0m│\u001b[35m \u001b[0m\u001b[35m             \u001b[0m\u001b[35m \u001b[0m│\u001b[35m \u001b[0m\u001b[35m             \u001b[0m\u001b[35m \u001b[0m│\u001b[35m \u001b[0m\u001b[35mFormKit     \u001b[0m\u001b[35m \u001b[0m│\u001b[35m \u001b[0m\u001b[35m             \u001b[0m\u001b[35m \u001b[0m│\n",
       "│\u001b[36m \u001b[0m\u001b[36m$el             \u001b[0m\u001b[36m \u001b[0m│\u001b[35m \u001b[0m\u001b[35mh1           \u001b[0m\u001b[35m \u001b[0m│\u001b[35m \u001b[0m\u001b[35m             \u001b[0m\u001b[35m \u001b[0m│\u001b[35m \u001b[0m\u001b[35m             \u001b[0m\u001b[35m \u001b[0m│\u001b[35m \u001b[0m\u001b[35m             \u001b[0m\u001b[35m \u001b[0m│\u001b[35m \u001b[0m\u001b[35m            \u001b[0m\u001b[35m \u001b[0m│\u001b[35m \u001b[0m\u001b[35m             \u001b[0m\u001b[35m \u001b[0m│\n",
       "│\u001b[36m \u001b[0m\u001b[36m$formkit        \u001b[0m\u001b[36m \u001b[0m│\u001b[35m \u001b[0m\u001b[35m             \u001b[0m\u001b[35m \u001b[0m│\u001b[35m \u001b[0m\u001b[35mtext         \u001b[0m\u001b[35m \u001b[0m│\u001b[35m \u001b[0m\u001b[35mpassword     \u001b[0m\u001b[35m \u001b[0m│\u001b[35m \u001b[0m\u001b[35mpassword     \u001b[0m\u001b[35m \u001b[0m│\u001b[35m \u001b[0m\u001b[35m            \u001b[0m\u001b[35m \u001b[0m│\u001b[35m \u001b[0m\u001b[35mselect       \u001b[0m\u001b[35m \u001b[0m│\n",
       "│\u001b[36m \u001b[0m\u001b[36mattrs           \u001b[0m\u001b[36m \u001b[0m│\u001b[35m \u001b[0m\u001b[35m{'class':    \u001b[0m\u001b[35m \u001b[0m│\u001b[35m \u001b[0m\u001b[35m             \u001b[0m\u001b[35m \u001b[0m│\u001b[35m \u001b[0m\u001b[35m             \u001b[0m\u001b[35m \u001b[0m│\u001b[35m \u001b[0m\u001b[35m             \u001b[0m\u001b[35m \u001b[0m│\u001b[35m \u001b[0m\u001b[35m            \u001b[0m\u001b[35m \u001b[0m│\u001b[35m \u001b[0m\u001b[35m             \u001b[0m\u001b[35m \u001b[0m│\n",
       "│\u001b[36m                  \u001b[0m│\u001b[35m \u001b[0m\u001b[35m'text-2xl    \u001b[0m\u001b[35m \u001b[0m│\u001b[35m               \u001b[0m│\u001b[35m               \u001b[0m│\u001b[35m               \u001b[0m│\u001b[35m              \u001b[0m│\u001b[35m               \u001b[0m│\n",
       "│\u001b[36m                  \u001b[0m│\u001b[35m \u001b[0m\u001b[35mfont-bold    \u001b[0m\u001b[35m \u001b[0m│\u001b[35m               \u001b[0m│\u001b[35m               \u001b[0m│\u001b[35m               \u001b[0m│\u001b[35m              \u001b[0m│\u001b[35m               \u001b[0m│\n",
       "│\u001b[36m                  \u001b[0m│\u001b[35m \u001b[0m\u001b[35mmb-4'}       \u001b[0m\u001b[35m \u001b[0m│\u001b[35m               \u001b[0m│\u001b[35m               \u001b[0m│\u001b[35m               \u001b[0m│\u001b[35m              \u001b[0m│\u001b[35m               \u001b[0m│\n",
       "│\u001b[36m \u001b[0m\u001b[36mchildren        \u001b[0m\u001b[36m \u001b[0m│\u001b[35m \u001b[0m\u001b[35m['Register'] \u001b[0m\u001b[35m \u001b[0m│\u001b[35m \u001b[0m\u001b[35m             \u001b[0m\u001b[35m \u001b[0m│\u001b[35m \u001b[0m\u001b[35m             \u001b[0m\u001b[35m \u001b[0m│\u001b[35m \u001b[0m\u001b[35m             \u001b[0m\u001b[35m \u001b[0m│\u001b[35m \u001b[0m\u001b[35m            \u001b[0m\u001b[35m \u001b[0m│\u001b[35m \u001b[0m\u001b[35m             \u001b[0m\u001b[35m \u001b[0m│\n",
       "│\u001b[36m \u001b[0m\u001b[36mhelp            \u001b[0m\u001b[36m \u001b[0m│\u001b[35m \u001b[0m\u001b[35m             \u001b[0m\u001b[35m \u001b[0m│\u001b[35m \u001b[0m\u001b[35mThis will be \u001b[0m\u001b[35m \u001b[0m│\u001b[35m \u001b[0m\u001b[35mEnter your   \u001b[0m\u001b[35m \u001b[0m│\u001b[35m \u001b[0m\u001b[35mEnter your   \u001b[0m\u001b[35m \u001b[0m│\u001b[35m \u001b[0m\u001b[35m            \u001b[0m\u001b[35m \u001b[0m│\u001b[35m \u001b[0m\u001b[35mHow often    \u001b[0m\u001b[35m \u001b[0m│\n",
       "│\u001b[36m                  \u001b[0m│\u001b[35m               \u001b[0m│\u001b[35m \u001b[0m\u001b[35mused for your\u001b[0m\u001b[35m \u001b[0m│\u001b[35m \u001b[0m\u001b[35mnew password.\u001b[0m\u001b[35m \u001b[0m│\u001b[35m \u001b[0m\u001b[35mnew password \u001b[0m\u001b[35m \u001b[0m│\u001b[35m              \u001b[0m│\u001b[35m \u001b[0m\u001b[35mshould we    \u001b[0m\u001b[35m \u001b[0m│\n",
       "│\u001b[36m                  \u001b[0m│\u001b[35m               \u001b[0m│\u001b[35m \u001b[0m\u001b[35maccount.     \u001b[0m\u001b[35m \u001b[0m│\u001b[35m               \u001b[0m│\u001b[35m \u001b[0m\u001b[35magain to     \u001b[0m\u001b[35m \u001b[0m│\u001b[35m              \u001b[0m│\u001b[35m \u001b[0m\u001b[35mdisplay a    \u001b[0m\u001b[35m \u001b[0m│\n",
       "│\u001b[36m                  \u001b[0m│\u001b[35m               \u001b[0m│\u001b[35m               \u001b[0m│\u001b[35m               \u001b[0m│\u001b[35m \u001b[0m\u001b[35mconfirm it.  \u001b[0m\u001b[35m \u001b[0m│\u001b[35m              \u001b[0m│\u001b[35m \u001b[0m\u001b[35mcookie       \u001b[0m\u001b[35m \u001b[0m│\n",
       "│\u001b[36m                  \u001b[0m│\u001b[35m               \u001b[0m│\u001b[35m               \u001b[0m│\u001b[35m               \u001b[0m│\u001b[35m               \u001b[0m│\u001b[35m              \u001b[0m│\u001b[35m \u001b[0m\u001b[35mnotice?      \u001b[0m\u001b[35m \u001b[0m│\n",
       "│\u001b[36m \u001b[0m\u001b[36mif              \u001b[0m\u001b[36m \u001b[0m│\u001b[35m \u001b[0m\u001b[35m             \u001b[0m\u001b[35m \u001b[0m│\u001b[35m \u001b[0m\u001b[35m             \u001b[0m\u001b[35m \u001b[0m│\u001b[35m \u001b[0m\u001b[35m             \u001b[0m\u001b[35m \u001b[0m│\u001b[35m \u001b[0m\u001b[35m             \u001b[0m\u001b[35m \u001b[0m│\u001b[35m \u001b[0m\u001b[35m            \u001b[0m\u001b[35m \u001b[0m│\u001b[35m \u001b[0m\u001b[35m$get(eu).val…\u001b[0m\u001b[35m \u001b[0m│\n",
       "│\u001b[36m \u001b[0m\u001b[36mlabel           \u001b[0m\u001b[36m \u001b[0m│\u001b[35m \u001b[0m\u001b[35m             \u001b[0m\u001b[35m \u001b[0m│\u001b[35m \u001b[0m\u001b[35mEmail        \u001b[0m\u001b[35m \u001b[0m│\u001b[35m \u001b[0m\u001b[35mPassword     \u001b[0m\u001b[35m \u001b[0m│\u001b[35m \u001b[0m\u001b[35mConfirm      \u001b[0m\u001b[35m \u001b[0m│\u001b[35m \u001b[0m\u001b[35m            \u001b[0m\u001b[35m \u001b[0m│\u001b[35m \u001b[0m\u001b[35mCookie notice\u001b[0m\u001b[35m \u001b[0m│\n",
       "│\u001b[36m                  \u001b[0m│\u001b[35m               \u001b[0m│\u001b[35m               \u001b[0m│\u001b[35m               \u001b[0m│\u001b[35m \u001b[0m\u001b[35mpassword     \u001b[0m\u001b[35m \u001b[0m│\u001b[35m              \u001b[0m│\u001b[35m \u001b[0m\u001b[35mfrequency    \u001b[0m\u001b[35m \u001b[0m│\n",
       "│\u001b[36m \u001b[0m\u001b[36mname            \u001b[0m\u001b[36m \u001b[0m│\u001b[35m \u001b[0m\u001b[35m             \u001b[0m\u001b[35m \u001b[0m│\u001b[35m \u001b[0m\u001b[35memail        \u001b[0m\u001b[35m \u001b[0m│\u001b[35m \u001b[0m\u001b[35mpassword     \u001b[0m\u001b[35m \u001b[0m│\u001b[35m \u001b[0m\u001b[35mpassword_con…\u001b[0m\u001b[35m \u001b[0m│\u001b[35m \u001b[0m\u001b[35m            \u001b[0m\u001b[35m \u001b[0m│\u001b[35m \u001b[0m\u001b[35mcookie_notice\u001b[0m\u001b[35m \u001b[0m│\n",
       "│\u001b[36m \u001b[0m\u001b[36moptions         \u001b[0m\u001b[36m \u001b[0m│\u001b[35m \u001b[0m\u001b[35m             \u001b[0m\u001b[35m \u001b[0m│\u001b[35m \u001b[0m\u001b[35m             \u001b[0m\u001b[35m \u001b[0m│\u001b[35m \u001b[0m\u001b[35m             \u001b[0m\u001b[35m \u001b[0m│\u001b[35m \u001b[0m\u001b[35m             \u001b[0m\u001b[35m \u001b[0m│\u001b[35m \u001b[0m\u001b[35m            \u001b[0m\u001b[35m \u001b[0m│\u001b[35m \u001b[0m\u001b[35m[{'value':   \u001b[0m\u001b[35m \u001b[0m│\n",
       "│\u001b[36m                  \u001b[0m│\u001b[35m               \u001b[0m│\u001b[35m               \u001b[0m│\u001b[35m               \u001b[0m│\u001b[35m               \u001b[0m│\u001b[35m              \u001b[0m│\u001b[35m \u001b[0m\u001b[35m'refresh',   \u001b[0m\u001b[35m \u001b[0m│\n",
       "│\u001b[36m                  \u001b[0m│\u001b[35m               \u001b[0m│\u001b[35m               \u001b[0m│\u001b[35m               \u001b[0m│\u001b[35m               \u001b[0m│\u001b[35m              \u001b[0m│\u001b[35m \u001b[0m\u001b[35m'label':     \u001b[0m\u001b[35m \u001b[0m│\n",
       "│\u001b[36m                  \u001b[0m│\u001b[35m               \u001b[0m│\u001b[35m               \u001b[0m│\u001b[35m               \u001b[0m│\u001b[35m               \u001b[0m│\u001b[35m              \u001b[0m│\u001b[35m \u001b[0m\u001b[35m'refresh'},  \u001b[0m\u001b[35m \u001b[0m│\n",
       "│\u001b[36m                  \u001b[0m│\u001b[35m               \u001b[0m│\u001b[35m               \u001b[0m│\u001b[35m               \u001b[0m│\u001b[35m               \u001b[0m│\u001b[35m              \u001b[0m│\u001b[35m \u001b[0m\u001b[35m{'value':    \u001b[0m\u001b[35m \u001b[0m│\n",
       "│\u001b[36m                  \u001b[0m│\u001b[35m               \u001b[0m│\u001b[35m               \u001b[0m│\u001b[35m               \u001b[0m│\u001b[35m               \u001b[0m│\u001b[35m              \u001b[0m│\u001b[35m \u001b[0m\u001b[35m'hourly',    \u001b[0m\u001b[35m \u001b[0m│\n",
       "│\u001b[36m                  \u001b[0m│\u001b[35m               \u001b[0m│\u001b[35m               \u001b[0m│\u001b[35m               \u001b[0m│\u001b[35m               \u001b[0m│\u001b[35m              \u001b[0m│\u001b[35m \u001b[0m\u001b[35m'label':     \u001b[0m\u001b[35m \u001b[0m│\n",
       "│\u001b[36m                  \u001b[0m│\u001b[35m               \u001b[0m│\u001b[35m               \u001b[0m│\u001b[35m               \u001b[0m│\u001b[35m               \u001b[0m│\u001b[35m              \u001b[0m│\u001b[35m \u001b[0m\u001b[35m'hourly'},   \u001b[0m\u001b[35m \u001b[0m│\n",
       "│\u001b[36m                  \u001b[0m│\u001b[35m               \u001b[0m│\u001b[35m               \u001b[0m│\u001b[35m               \u001b[0m│\u001b[35m               \u001b[0m│\u001b[35m              \u001b[0m│\u001b[35m \u001b[0m\u001b[35m{'value':    \u001b[0m\u001b[35m \u001b[0m│\n",
       "│\u001b[36m                  \u001b[0m│\u001b[35m               \u001b[0m│\u001b[35m               \u001b[0m│\u001b[35m               \u001b[0m│\u001b[35m               \u001b[0m│\u001b[35m              \u001b[0m│\u001b[35m \u001b[0m\u001b[35m'daily',     \u001b[0m\u001b[35m \u001b[0m│\n",
       "│\u001b[36m                  \u001b[0m│\u001b[35m               \u001b[0m│\u001b[35m               \u001b[0m│\u001b[35m               \u001b[0m│\u001b[35m               \u001b[0m│\u001b[35m              \u001b[0m│\u001b[35m \u001b[0m\u001b[35m'label':     \u001b[0m\u001b[35m \u001b[0m│\n",
       "│\u001b[36m                  \u001b[0m│\u001b[35m               \u001b[0m│\u001b[35m               \u001b[0m│\u001b[35m               \u001b[0m│\u001b[35m               \u001b[0m│\u001b[35m              \u001b[0m│\u001b[35m \u001b[0m\u001b[35m'daily'}]    \u001b[0m\u001b[35m \u001b[0m│\n",
       "│\u001b[36m \u001b[0m\u001b[36mprops           \u001b[0m\u001b[36m \u001b[0m│\u001b[35m \u001b[0m\u001b[35m             \u001b[0m\u001b[35m \u001b[0m│\u001b[35m \u001b[0m\u001b[35m             \u001b[0m\u001b[35m \u001b[0m│\u001b[35m \u001b[0m\u001b[35m             \u001b[0m\u001b[35m \u001b[0m│\u001b[35m \u001b[0m\u001b[35m             \u001b[0m\u001b[35m \u001b[0m│\u001b[35m \u001b[0m\u001b[35m{'name':    \u001b[0m\u001b[35m \u001b[0m│\u001b[35m \u001b[0m\u001b[35m             \u001b[0m\u001b[35m \u001b[0m│\n",
       "│\u001b[36m                  \u001b[0m│\u001b[35m               \u001b[0m│\u001b[35m               \u001b[0m│\u001b[35m               \u001b[0m│\u001b[35m               \u001b[0m│\u001b[35m \u001b[0m\u001b[35m'eu_citizen…\u001b[0m\u001b[35m \u001b[0m│\u001b[35m               \u001b[0m│\n",
       "│\u001b[36m                  \u001b[0m│\u001b[35m               \u001b[0m│\u001b[35m               \u001b[0m│\u001b[35m               \u001b[0m│\u001b[35m               \u001b[0m│\u001b[35m \u001b[0m\u001b[35m'type':     \u001b[0m\u001b[35m \u001b[0m│\u001b[35m               \u001b[0m│\n",
       "│\u001b[36m                  \u001b[0m│\u001b[35m               \u001b[0m│\u001b[35m               \u001b[0m│\u001b[35m               \u001b[0m│\u001b[35m               \u001b[0m│\u001b[35m \u001b[0m\u001b[35m'checkbox', \u001b[0m\u001b[35m \u001b[0m│\u001b[35m               \u001b[0m│\n",
       "│\u001b[36m                  \u001b[0m│\u001b[35m               \u001b[0m│\u001b[35m               \u001b[0m│\u001b[35m               \u001b[0m│\u001b[35m               \u001b[0m│\u001b[35m \u001b[0m\u001b[35m'id': 'eu', \u001b[0m\u001b[35m \u001b[0m│\u001b[35m               \u001b[0m│\n",
       "│\u001b[36m                  \u001b[0m│\u001b[35m               \u001b[0m│\u001b[35m               \u001b[0m│\u001b[35m               \u001b[0m│\u001b[35m               \u001b[0m│\u001b[35m \u001b[0m\u001b[35m'label':    \u001b[0m\u001b[35m \u001b[0m│\u001b[35m               \u001b[0m│\n",
       "│\u001b[36m                  \u001b[0m│\u001b[35m               \u001b[0m│\u001b[35m               \u001b[0m│\u001b[35m               \u001b[0m│\u001b[35m               \u001b[0m│\u001b[35m \u001b[0m\u001b[35m'Are you a  \u001b[0m\u001b[35m \u001b[0m│\u001b[35m               \u001b[0m│\n",
       "│\u001b[36m                  \u001b[0m│\u001b[35m               \u001b[0m│\u001b[35m               \u001b[0m│\u001b[35m               \u001b[0m│\u001b[35m               \u001b[0m│\u001b[35m \u001b[0m\u001b[35meuropean    \u001b[0m\u001b[35m \u001b[0m│\u001b[35m               \u001b[0m│\n",
       "│\u001b[36m                  \u001b[0m│\u001b[35m               \u001b[0m│\u001b[35m               \u001b[0m│\u001b[35m               \u001b[0m│\u001b[35m               \u001b[0m│\u001b[35m \u001b[0m\u001b[35mcitizen?'}  \u001b[0m\u001b[35m \u001b[0m│\u001b[35m               \u001b[0m│\n",
       "│\u001b[36m \u001b[0m\u001b[36mvalidation      \u001b[0m\u001b[36m \u001b[0m│\u001b[35m \u001b[0m\u001b[35m             \u001b[0m\u001b[35m \u001b[0m│\u001b[35m \u001b[0m\u001b[35mrequired|ema…\u001b[0m\u001b[35m \u001b[0m│\u001b[35m \u001b[0m\u001b[35mrequired|len…\u001b[0m\u001b[35m \u001b[0m│\u001b[35m \u001b[0m\u001b[35mrequired|con…\u001b[0m\u001b[35m \u001b[0m│\u001b[35m \u001b[0m\u001b[35m            \u001b[0m\u001b[35m \u001b[0m│\u001b[35m \u001b[0m\u001b[35m             \u001b[0m\u001b[35m \u001b[0m│\n",
       "│\u001b[36m \u001b[0m\u001b[36mvalidation-label\u001b[0m\u001b[36m \u001b[0m│\u001b[35m \u001b[0m\u001b[35m             \u001b[0m\u001b[35m \u001b[0m│\u001b[35m \u001b[0m\u001b[35m             \u001b[0m\u001b[35m \u001b[0m│\u001b[35m \u001b[0m\u001b[35m             \u001b[0m\u001b[35m \u001b[0m│\u001b[35m \u001b[0m\u001b[35mpassword     \u001b[0m\u001b[35m \u001b[0m│\u001b[35m \u001b[0m\u001b[35m            \u001b[0m\u001b[35m \u001b[0m│\u001b[35m \u001b[0m\u001b[35m             \u001b[0m\u001b[35m \u001b[0m│\n",
       "│\u001b[36m                  \u001b[0m│\u001b[35m               \u001b[0m│\u001b[35m               \u001b[0m│\u001b[35m               \u001b[0m│\u001b[35m \u001b[0m\u001b[35mconfirmation \u001b[0m\u001b[35m \u001b[0m│\u001b[35m              \u001b[0m│\u001b[35m               \u001b[0m│\n",
       "└──────────────────┴───────────────┴───────────────┴───────────────┴───────────────┴──────────────┴───────────────┘\n"
      ]
     },
     "metadata": {},
     "output_type": "display_data"
    },
    {
     "data": {
      "text/html": [
       "<pre style=\"white-space:pre;overflow-x:auto;line-height:normal;font-family:Menlo,'DejaVu Sans Mono',consolas,'Courier New',monospace\">┏━━━━━━━━━━━━━━━━━━┳━━━━━━━━━━━━━━━┳━━━━━━━━━━━━━━━┳━━━━━━━━━━━━━━━┳━━━━━━━━━━━━━━━┳━━━━━━━━━━━━━━┳━━━━━━━━━━━━━━━┓\n",
       "┃<span style=\"font-weight: bold\"> Index            </span>┃<span style=\"font-weight: bold\"> 0             </span>┃<span style=\"font-weight: bold\"> 1             </span>┃<span style=\"font-weight: bold\"> 2             </span>┃<span style=\"font-weight: bold\"> 3             </span>┃<span style=\"font-weight: bold\"> 4            </span>┃<span style=\"font-weight: bold\"> 5             </span>┃\n",
       "┡━━━━━━━━━━━━━━━━━━╇━━━━━━━━━━━━━━━╇━━━━━━━━━━━━━━━╇━━━━━━━━━━━━━━━╇━━━━━━━━━━━━━━━╇━━━━━━━━━━━━━━╇━━━━━━━━━━━━━━━┩\n",
       "│<span style=\"color: #008080; text-decoration-color: #008080\"> $cmp             </span>│<span style=\"color: #800080; text-decoration-color: #800080\">               </span>│<span style=\"color: #800080; text-decoration-color: #800080\">               </span>│<span style=\"color: #800080; text-decoration-color: #800080\">               </span>│<span style=\"color: #800080; text-decoration-color: #800080\">               </span>│<span style=\"color: #800080; text-decoration-color: #800080\"> FormKit      </span>│<span style=\"color: #800080; text-decoration-color: #800080\">               </span>│\n",
       "│<span style=\"color: #008080; text-decoration-color: #008080\"> $el              </span>│<span style=\"color: #800080; text-decoration-color: #800080\"> h1            </span>│<span style=\"color: #800080; text-decoration-color: #800080\">               </span>│<span style=\"color: #800080; text-decoration-color: #800080\">               </span>│<span style=\"color: #800080; text-decoration-color: #800080\">               </span>│<span style=\"color: #800080; text-decoration-color: #800080\">              </span>│<span style=\"color: #800080; text-decoration-color: #800080\">               </span>│\n",
       "│<span style=\"color: #008080; text-decoration-color: #008080\"> $formkit         </span>│<span style=\"color: #800080; text-decoration-color: #800080\">               </span>│<span style=\"color: #800080; text-decoration-color: #800080\"> text          </span>│<span style=\"color: #800080; text-decoration-color: #800080\"> password      </span>│<span style=\"color: #800080; text-decoration-color: #800080\"> password      </span>│<span style=\"color: #800080; text-decoration-color: #800080\">              </span>│<span style=\"color: #800080; text-decoration-color: #800080\"> select        </span>│\n",
       "│<span style=\"color: #008080; text-decoration-color: #008080\"> attrs            </span>│<span style=\"color: #800080; text-decoration-color: #800080\"> {'class':     </span>│<span style=\"color: #800080; text-decoration-color: #800080\">               </span>│<span style=\"color: #800080; text-decoration-color: #800080\">               </span>│<span style=\"color: #800080; text-decoration-color: #800080\">               </span>│<span style=\"color: #800080; text-decoration-color: #800080\">              </span>│<span style=\"color: #800080; text-decoration-color: #800080\">               </span>│\n",
       "│<span style=\"color: #008080; text-decoration-color: #008080\">                  </span>│<span style=\"color: #800080; text-decoration-color: #800080\"> 'text-2xl     </span>│<span style=\"color: #800080; text-decoration-color: #800080\">               </span>│<span style=\"color: #800080; text-decoration-color: #800080\">               </span>│<span style=\"color: #800080; text-decoration-color: #800080\">               </span>│<span style=\"color: #800080; text-decoration-color: #800080\">              </span>│<span style=\"color: #800080; text-decoration-color: #800080\">               </span>│\n",
       "│<span style=\"color: #008080; text-decoration-color: #008080\">                  </span>│<span style=\"color: #800080; text-decoration-color: #800080\"> font-bold     </span>│<span style=\"color: #800080; text-decoration-color: #800080\">               </span>│<span style=\"color: #800080; text-decoration-color: #800080\">               </span>│<span style=\"color: #800080; text-decoration-color: #800080\">               </span>│<span style=\"color: #800080; text-decoration-color: #800080\">              </span>│<span style=\"color: #800080; text-decoration-color: #800080\">               </span>│\n",
       "│<span style=\"color: #008080; text-decoration-color: #008080\">                  </span>│<span style=\"color: #800080; text-decoration-color: #800080\"> mb-4'}        </span>│<span style=\"color: #800080; text-decoration-color: #800080\">               </span>│<span style=\"color: #800080; text-decoration-color: #800080\">               </span>│<span style=\"color: #800080; text-decoration-color: #800080\">               </span>│<span style=\"color: #800080; text-decoration-color: #800080\">              </span>│<span style=\"color: #800080; text-decoration-color: #800080\">               </span>│\n",
       "│<span style=\"color: #008080; text-decoration-color: #008080\"> help             </span>│<span style=\"color: #800080; text-decoration-color: #800080\">               </span>│<span style=\"color: #800080; text-decoration-color: #800080\"> This will be  </span>│<span style=\"color: #800080; text-decoration-color: #800080\"> Enter your    </span>│<span style=\"color: #800080; text-decoration-color: #800080\"> Enter your    </span>│<span style=\"color: #800080; text-decoration-color: #800080\">              </span>│<span style=\"color: #800080; text-decoration-color: #800080\"> How often     </span>│\n",
       "│<span style=\"color: #008080; text-decoration-color: #008080\">                  </span>│<span style=\"color: #800080; text-decoration-color: #800080\">               </span>│<span style=\"color: #800080; text-decoration-color: #800080\"> used for your </span>│<span style=\"color: #800080; text-decoration-color: #800080\"> new password. </span>│<span style=\"color: #800080; text-decoration-color: #800080\"> new password  </span>│<span style=\"color: #800080; text-decoration-color: #800080\">              </span>│<span style=\"color: #800080; text-decoration-color: #800080\"> should we     </span>│\n",
       "│<span style=\"color: #008080; text-decoration-color: #008080\">                  </span>│<span style=\"color: #800080; text-decoration-color: #800080\">               </span>│<span style=\"color: #800080; text-decoration-color: #800080\"> account.      </span>│<span style=\"color: #800080; text-decoration-color: #800080\">               </span>│<span style=\"color: #800080; text-decoration-color: #800080\"> again to      </span>│<span style=\"color: #800080; text-decoration-color: #800080\">              </span>│<span style=\"color: #800080; text-decoration-color: #800080\"> display a     </span>│\n",
       "│<span style=\"color: #008080; text-decoration-color: #008080\">                  </span>│<span style=\"color: #800080; text-decoration-color: #800080\">               </span>│<span style=\"color: #800080; text-decoration-color: #800080\">               </span>│<span style=\"color: #800080; text-decoration-color: #800080\">               </span>│<span style=\"color: #800080; text-decoration-color: #800080\"> confirm it.   </span>│<span style=\"color: #800080; text-decoration-color: #800080\">              </span>│<span style=\"color: #800080; text-decoration-color: #800080\"> cookie        </span>│\n",
       "│<span style=\"color: #008080; text-decoration-color: #008080\">                  </span>│<span style=\"color: #800080; text-decoration-color: #800080\">               </span>│<span style=\"color: #800080; text-decoration-color: #800080\">               </span>│<span style=\"color: #800080; text-decoration-color: #800080\">               </span>│<span style=\"color: #800080; text-decoration-color: #800080\">               </span>│<span style=\"color: #800080; text-decoration-color: #800080\">              </span>│<span style=\"color: #800080; text-decoration-color: #800080\"> notice?       </span>│\n",
       "│<span style=\"color: #008080; text-decoration-color: #008080\"> if               </span>│<span style=\"color: #800080; text-decoration-color: #800080\">               </span>│<span style=\"color: #800080; text-decoration-color: #800080\">               </span>│<span style=\"color: #800080; text-decoration-color: #800080\">               </span>│<span style=\"color: #800080; text-decoration-color: #800080\">               </span>│<span style=\"color: #800080; text-decoration-color: #800080\">              </span>│<span style=\"color: #800080; text-decoration-color: #800080\"> $get(eu).val… </span>│\n",
       "│<span style=\"color: #008080; text-decoration-color: #008080\"> label            </span>│<span style=\"color: #800080; text-decoration-color: #800080\">               </span>│<span style=\"color: #800080; text-decoration-color: #800080\"> Email         </span>│<span style=\"color: #800080; text-decoration-color: #800080\"> Password      </span>│<span style=\"color: #800080; text-decoration-color: #800080\"> Confirm       </span>│<span style=\"color: #800080; text-decoration-color: #800080\">              </span>│<span style=\"color: #800080; text-decoration-color: #800080\"> Cookie notice </span>│\n",
       "│<span style=\"color: #008080; text-decoration-color: #008080\">                  </span>│<span style=\"color: #800080; text-decoration-color: #800080\">               </span>│<span style=\"color: #800080; text-decoration-color: #800080\">               </span>│<span style=\"color: #800080; text-decoration-color: #800080\">               </span>│<span style=\"color: #800080; text-decoration-color: #800080\"> password      </span>│<span style=\"color: #800080; text-decoration-color: #800080\">              </span>│<span style=\"color: #800080; text-decoration-color: #800080\"> frequency     </span>│\n",
       "│<span style=\"color: #008080; text-decoration-color: #008080\"> name             </span>│<span style=\"color: #800080; text-decoration-color: #800080\">               </span>│<span style=\"color: #800080; text-decoration-color: #800080\"> email         </span>│<span style=\"color: #800080; text-decoration-color: #800080\"> password      </span>│<span style=\"color: #800080; text-decoration-color: #800080\"> password_con… </span>│<span style=\"color: #800080; text-decoration-color: #800080\">              </span>│<span style=\"color: #800080; text-decoration-color: #800080\"> cookie_notice </span>│\n",
       "│<span style=\"color: #008080; text-decoration-color: #008080\"> props            </span>│<span style=\"color: #800080; text-decoration-color: #800080\">               </span>│<span style=\"color: #800080; text-decoration-color: #800080\">               </span>│<span style=\"color: #800080; text-decoration-color: #800080\">               </span>│<span style=\"color: #800080; text-decoration-color: #800080\">               </span>│<span style=\"color: #800080; text-decoration-color: #800080\"> {'name':     </span>│<span style=\"color: #800080; text-decoration-color: #800080\">               </span>│\n",
       "│<span style=\"color: #008080; text-decoration-color: #008080\">                  </span>│<span style=\"color: #800080; text-decoration-color: #800080\">               </span>│<span style=\"color: #800080; text-decoration-color: #800080\">               </span>│<span style=\"color: #800080; text-decoration-color: #800080\">               </span>│<span style=\"color: #800080; text-decoration-color: #800080\">               </span>│<span style=\"color: #800080; text-decoration-color: #800080\"> 'eu_citizen… </span>│<span style=\"color: #800080; text-decoration-color: #800080\">               </span>│\n",
       "│<span style=\"color: #008080; text-decoration-color: #008080\">                  </span>│<span style=\"color: #800080; text-decoration-color: #800080\">               </span>│<span style=\"color: #800080; text-decoration-color: #800080\">               </span>│<span style=\"color: #800080; text-decoration-color: #800080\">               </span>│<span style=\"color: #800080; text-decoration-color: #800080\">               </span>│<span style=\"color: #800080; text-decoration-color: #800080\"> 'type':      </span>│<span style=\"color: #800080; text-decoration-color: #800080\">               </span>│\n",
       "│<span style=\"color: #008080; text-decoration-color: #008080\">                  </span>│<span style=\"color: #800080; text-decoration-color: #800080\">               </span>│<span style=\"color: #800080; text-decoration-color: #800080\">               </span>│<span style=\"color: #800080; text-decoration-color: #800080\">               </span>│<span style=\"color: #800080; text-decoration-color: #800080\">               </span>│<span style=\"color: #800080; text-decoration-color: #800080\"> 'checkbox',  </span>│<span style=\"color: #800080; text-decoration-color: #800080\">               </span>│\n",
       "│<span style=\"color: #008080; text-decoration-color: #008080\">                  </span>│<span style=\"color: #800080; text-decoration-color: #800080\">               </span>│<span style=\"color: #800080; text-decoration-color: #800080\">               </span>│<span style=\"color: #800080; text-decoration-color: #800080\">               </span>│<span style=\"color: #800080; text-decoration-color: #800080\">               </span>│<span style=\"color: #800080; text-decoration-color: #800080\"> 'id': 'eu',  </span>│<span style=\"color: #800080; text-decoration-color: #800080\">               </span>│\n",
       "│<span style=\"color: #008080; text-decoration-color: #008080\">                  </span>│<span style=\"color: #800080; text-decoration-color: #800080\">               </span>│<span style=\"color: #800080; text-decoration-color: #800080\">               </span>│<span style=\"color: #800080; text-decoration-color: #800080\">               </span>│<span style=\"color: #800080; text-decoration-color: #800080\">               </span>│<span style=\"color: #800080; text-decoration-color: #800080\"> 'label':     </span>│<span style=\"color: #800080; text-decoration-color: #800080\">               </span>│\n",
       "│<span style=\"color: #008080; text-decoration-color: #008080\">                  </span>│<span style=\"color: #800080; text-decoration-color: #800080\">               </span>│<span style=\"color: #800080; text-decoration-color: #800080\">               </span>│<span style=\"color: #800080; text-decoration-color: #800080\">               </span>│<span style=\"color: #800080; text-decoration-color: #800080\">               </span>│<span style=\"color: #800080; text-decoration-color: #800080\"> 'Are you a   </span>│<span style=\"color: #800080; text-decoration-color: #800080\">               </span>│\n",
       "│<span style=\"color: #008080; text-decoration-color: #008080\">                  </span>│<span style=\"color: #800080; text-decoration-color: #800080\">               </span>│<span style=\"color: #800080; text-decoration-color: #800080\">               </span>│<span style=\"color: #800080; text-decoration-color: #800080\">               </span>│<span style=\"color: #800080; text-decoration-color: #800080\">               </span>│<span style=\"color: #800080; text-decoration-color: #800080\"> european     </span>│<span style=\"color: #800080; text-decoration-color: #800080\">               </span>│\n",
       "│<span style=\"color: #008080; text-decoration-color: #008080\">                  </span>│<span style=\"color: #800080; text-decoration-color: #800080\">               </span>│<span style=\"color: #800080; text-decoration-color: #800080\">               </span>│<span style=\"color: #800080; text-decoration-color: #800080\">               </span>│<span style=\"color: #800080; text-decoration-color: #800080\">               </span>│<span style=\"color: #800080; text-decoration-color: #800080\"> citizen?'}   </span>│<span style=\"color: #800080; text-decoration-color: #800080\">               </span>│\n",
       "│<span style=\"color: #008080; text-decoration-color: #008080\"> validation       </span>│<span style=\"color: #800080; text-decoration-color: #800080\">               </span>│<span style=\"color: #800080; text-decoration-color: #800080\"> required|ema… </span>│<span style=\"color: #800080; text-decoration-color: #800080\"> required|len… </span>│<span style=\"color: #800080; text-decoration-color: #800080\"> required|con… </span>│<span style=\"color: #800080; text-decoration-color: #800080\">              </span>│<span style=\"color: #800080; text-decoration-color: #800080\">               </span>│\n",
       "│<span style=\"color: #008080; text-decoration-color: #008080\"> validation-label </span>│<span style=\"color: #800080; text-decoration-color: #800080\">               </span>│<span style=\"color: #800080; text-decoration-color: #800080\">               </span>│<span style=\"color: #800080; text-decoration-color: #800080\">               </span>│<span style=\"color: #800080; text-decoration-color: #800080\"> password      </span>│<span style=\"color: #800080; text-decoration-color: #800080\">              </span>│<span style=\"color: #800080; text-decoration-color: #800080\">               </span>│\n",
       "│<span style=\"color: #008080; text-decoration-color: #008080\">                  </span>│<span style=\"color: #800080; text-decoration-color: #800080\">               </span>│<span style=\"color: #800080; text-decoration-color: #800080\">               </span>│<span style=\"color: #800080; text-decoration-color: #800080\">               </span>│<span style=\"color: #800080; text-decoration-color: #800080\"> confirmation  </span>│<span style=\"color: #800080; text-decoration-color: #800080\">              </span>│<span style=\"color: #800080; text-decoration-color: #800080\">               </span>│\n",
       "└──────────────────┴───────────────┴───────────────┴───────────────┴───────────────┴──────────────┴───────────────┘\n",
       "</pre>\n"
      ],
      "text/plain": [
       "┏━━━━━━━━━━━━━━━━━━┳━━━━━━━━━━━━━━━┳━━━━━━━━━━━━━━━┳━━━━━━━━━━━━━━━┳━━━━━━━━━━━━━━━┳━━━━━━━━━━━━━━┳━━━━━━━━━━━━━━━┓\n",
       "┃\u001b[1m \u001b[0m\u001b[1mIndex           \u001b[0m\u001b[1m \u001b[0m┃\u001b[1m \u001b[0m\u001b[1m0            \u001b[0m\u001b[1m \u001b[0m┃\u001b[1m \u001b[0m\u001b[1m1            \u001b[0m\u001b[1m \u001b[0m┃\u001b[1m \u001b[0m\u001b[1m2            \u001b[0m\u001b[1m \u001b[0m┃\u001b[1m \u001b[0m\u001b[1m3            \u001b[0m\u001b[1m \u001b[0m┃\u001b[1m \u001b[0m\u001b[1m4           \u001b[0m\u001b[1m \u001b[0m┃\u001b[1m \u001b[0m\u001b[1m5            \u001b[0m\u001b[1m \u001b[0m┃\n",
       "┡━━━━━━━━━━━━━━━━━━╇━━━━━━━━━━━━━━━╇━━━━━━━━━━━━━━━╇━━━━━━━━━━━━━━━╇━━━━━━━━━━━━━━━╇━━━━━━━━━━━━━━╇━━━━━━━━━━━━━━━┩\n",
       "│\u001b[36m \u001b[0m\u001b[36m$cmp            \u001b[0m\u001b[36m \u001b[0m│\u001b[35m \u001b[0m\u001b[35m             \u001b[0m\u001b[35m \u001b[0m│\u001b[35m \u001b[0m\u001b[35m             \u001b[0m\u001b[35m \u001b[0m│\u001b[35m \u001b[0m\u001b[35m             \u001b[0m\u001b[35m \u001b[0m│\u001b[35m \u001b[0m\u001b[35m             \u001b[0m\u001b[35m \u001b[0m│\u001b[35m \u001b[0m\u001b[35mFormKit     \u001b[0m\u001b[35m \u001b[0m│\u001b[35m \u001b[0m\u001b[35m             \u001b[0m\u001b[35m \u001b[0m│\n",
       "│\u001b[36m \u001b[0m\u001b[36m$el             \u001b[0m\u001b[36m \u001b[0m│\u001b[35m \u001b[0m\u001b[35mh1           \u001b[0m\u001b[35m \u001b[0m│\u001b[35m \u001b[0m\u001b[35m             \u001b[0m\u001b[35m \u001b[0m│\u001b[35m \u001b[0m\u001b[35m             \u001b[0m\u001b[35m \u001b[0m│\u001b[35m \u001b[0m\u001b[35m             \u001b[0m\u001b[35m \u001b[0m│\u001b[35m \u001b[0m\u001b[35m            \u001b[0m\u001b[35m \u001b[0m│\u001b[35m \u001b[0m\u001b[35m             \u001b[0m\u001b[35m \u001b[0m│\n",
       "│\u001b[36m \u001b[0m\u001b[36m$formkit        \u001b[0m\u001b[36m \u001b[0m│\u001b[35m \u001b[0m\u001b[35m             \u001b[0m\u001b[35m \u001b[0m│\u001b[35m \u001b[0m\u001b[35mtext         \u001b[0m\u001b[35m \u001b[0m│\u001b[35m \u001b[0m\u001b[35mpassword     \u001b[0m\u001b[35m \u001b[0m│\u001b[35m \u001b[0m\u001b[35mpassword     \u001b[0m\u001b[35m \u001b[0m│\u001b[35m \u001b[0m\u001b[35m            \u001b[0m\u001b[35m \u001b[0m│\u001b[35m \u001b[0m\u001b[35mselect       \u001b[0m\u001b[35m \u001b[0m│\n",
       "│\u001b[36m \u001b[0m\u001b[36mattrs           \u001b[0m\u001b[36m \u001b[0m│\u001b[35m \u001b[0m\u001b[35m{'class':    \u001b[0m\u001b[35m \u001b[0m│\u001b[35m \u001b[0m\u001b[35m             \u001b[0m\u001b[35m \u001b[0m│\u001b[35m \u001b[0m\u001b[35m             \u001b[0m\u001b[35m \u001b[0m│\u001b[35m \u001b[0m\u001b[35m             \u001b[0m\u001b[35m \u001b[0m│\u001b[35m \u001b[0m\u001b[35m            \u001b[0m\u001b[35m \u001b[0m│\u001b[35m \u001b[0m\u001b[35m             \u001b[0m\u001b[35m \u001b[0m│\n",
       "│\u001b[36m                  \u001b[0m│\u001b[35m \u001b[0m\u001b[35m'text-2xl    \u001b[0m\u001b[35m \u001b[0m│\u001b[35m               \u001b[0m│\u001b[35m               \u001b[0m│\u001b[35m               \u001b[0m│\u001b[35m              \u001b[0m│\u001b[35m               \u001b[0m│\n",
       "│\u001b[36m                  \u001b[0m│\u001b[35m \u001b[0m\u001b[35mfont-bold    \u001b[0m\u001b[35m \u001b[0m│\u001b[35m               \u001b[0m│\u001b[35m               \u001b[0m│\u001b[35m               \u001b[0m│\u001b[35m              \u001b[0m│\u001b[35m               \u001b[0m│\n",
       "│\u001b[36m                  \u001b[0m│\u001b[35m \u001b[0m\u001b[35mmb-4'}       \u001b[0m\u001b[35m \u001b[0m│\u001b[35m               \u001b[0m│\u001b[35m               \u001b[0m│\u001b[35m               \u001b[0m│\u001b[35m              \u001b[0m│\u001b[35m               \u001b[0m│\n",
       "│\u001b[36m \u001b[0m\u001b[36mhelp            \u001b[0m\u001b[36m \u001b[0m│\u001b[35m \u001b[0m\u001b[35m             \u001b[0m\u001b[35m \u001b[0m│\u001b[35m \u001b[0m\u001b[35mThis will be \u001b[0m\u001b[35m \u001b[0m│\u001b[35m \u001b[0m\u001b[35mEnter your   \u001b[0m\u001b[35m \u001b[0m│\u001b[35m \u001b[0m\u001b[35mEnter your   \u001b[0m\u001b[35m \u001b[0m│\u001b[35m \u001b[0m\u001b[35m            \u001b[0m\u001b[35m \u001b[0m│\u001b[35m \u001b[0m\u001b[35mHow often    \u001b[0m\u001b[35m \u001b[0m│\n",
       "│\u001b[36m                  \u001b[0m│\u001b[35m               \u001b[0m│\u001b[35m \u001b[0m\u001b[35mused for your\u001b[0m\u001b[35m \u001b[0m│\u001b[35m \u001b[0m\u001b[35mnew password.\u001b[0m\u001b[35m \u001b[0m│\u001b[35m \u001b[0m\u001b[35mnew password \u001b[0m\u001b[35m \u001b[0m│\u001b[35m              \u001b[0m│\u001b[35m \u001b[0m\u001b[35mshould we    \u001b[0m\u001b[35m \u001b[0m│\n",
       "│\u001b[36m                  \u001b[0m│\u001b[35m               \u001b[0m│\u001b[35m \u001b[0m\u001b[35maccount.     \u001b[0m\u001b[35m \u001b[0m│\u001b[35m               \u001b[0m│\u001b[35m \u001b[0m\u001b[35magain to     \u001b[0m\u001b[35m \u001b[0m│\u001b[35m              \u001b[0m│\u001b[35m \u001b[0m\u001b[35mdisplay a    \u001b[0m\u001b[35m \u001b[0m│\n",
       "│\u001b[36m                  \u001b[0m│\u001b[35m               \u001b[0m│\u001b[35m               \u001b[0m│\u001b[35m               \u001b[0m│\u001b[35m \u001b[0m\u001b[35mconfirm it.  \u001b[0m\u001b[35m \u001b[0m│\u001b[35m              \u001b[0m│\u001b[35m \u001b[0m\u001b[35mcookie       \u001b[0m\u001b[35m \u001b[0m│\n",
       "│\u001b[36m                  \u001b[0m│\u001b[35m               \u001b[0m│\u001b[35m               \u001b[0m│\u001b[35m               \u001b[0m│\u001b[35m               \u001b[0m│\u001b[35m              \u001b[0m│\u001b[35m \u001b[0m\u001b[35mnotice?      \u001b[0m\u001b[35m \u001b[0m│\n",
       "│\u001b[36m \u001b[0m\u001b[36mif              \u001b[0m\u001b[36m \u001b[0m│\u001b[35m \u001b[0m\u001b[35m             \u001b[0m\u001b[35m \u001b[0m│\u001b[35m \u001b[0m\u001b[35m             \u001b[0m\u001b[35m \u001b[0m│\u001b[35m \u001b[0m\u001b[35m             \u001b[0m\u001b[35m \u001b[0m│\u001b[35m \u001b[0m\u001b[35m             \u001b[0m\u001b[35m \u001b[0m│\u001b[35m \u001b[0m\u001b[35m            \u001b[0m\u001b[35m \u001b[0m│\u001b[35m \u001b[0m\u001b[35m$get(eu).val…\u001b[0m\u001b[35m \u001b[0m│\n",
       "│\u001b[36m \u001b[0m\u001b[36mlabel           \u001b[0m\u001b[36m \u001b[0m│\u001b[35m \u001b[0m\u001b[35m             \u001b[0m\u001b[35m \u001b[0m│\u001b[35m \u001b[0m\u001b[35mEmail        \u001b[0m\u001b[35m \u001b[0m│\u001b[35m \u001b[0m\u001b[35mPassword     \u001b[0m\u001b[35m \u001b[0m│\u001b[35m \u001b[0m\u001b[35mConfirm      \u001b[0m\u001b[35m \u001b[0m│\u001b[35m \u001b[0m\u001b[35m            \u001b[0m\u001b[35m \u001b[0m│\u001b[35m \u001b[0m\u001b[35mCookie notice\u001b[0m\u001b[35m \u001b[0m│\n",
       "│\u001b[36m                  \u001b[0m│\u001b[35m               \u001b[0m│\u001b[35m               \u001b[0m│\u001b[35m               \u001b[0m│\u001b[35m \u001b[0m\u001b[35mpassword     \u001b[0m\u001b[35m \u001b[0m│\u001b[35m              \u001b[0m│\u001b[35m \u001b[0m\u001b[35mfrequency    \u001b[0m\u001b[35m \u001b[0m│\n",
       "│\u001b[36m \u001b[0m\u001b[36mname            \u001b[0m\u001b[36m \u001b[0m│\u001b[35m \u001b[0m\u001b[35m             \u001b[0m\u001b[35m \u001b[0m│\u001b[35m \u001b[0m\u001b[35memail        \u001b[0m\u001b[35m \u001b[0m│\u001b[35m \u001b[0m\u001b[35mpassword     \u001b[0m\u001b[35m \u001b[0m│\u001b[35m \u001b[0m\u001b[35mpassword_con…\u001b[0m\u001b[35m \u001b[0m│\u001b[35m \u001b[0m\u001b[35m            \u001b[0m\u001b[35m \u001b[0m│\u001b[35m \u001b[0m\u001b[35mcookie_notice\u001b[0m\u001b[35m \u001b[0m│\n",
       "│\u001b[36m \u001b[0m\u001b[36mprops           \u001b[0m\u001b[36m \u001b[0m│\u001b[35m \u001b[0m\u001b[35m             \u001b[0m\u001b[35m \u001b[0m│\u001b[35m \u001b[0m\u001b[35m             \u001b[0m\u001b[35m \u001b[0m│\u001b[35m \u001b[0m\u001b[35m             \u001b[0m\u001b[35m \u001b[0m│\u001b[35m \u001b[0m\u001b[35m             \u001b[0m\u001b[35m \u001b[0m│\u001b[35m \u001b[0m\u001b[35m{'name':    \u001b[0m\u001b[35m \u001b[0m│\u001b[35m \u001b[0m\u001b[35m             \u001b[0m\u001b[35m \u001b[0m│\n",
       "│\u001b[36m                  \u001b[0m│\u001b[35m               \u001b[0m│\u001b[35m               \u001b[0m│\u001b[35m               \u001b[0m│\u001b[35m               \u001b[0m│\u001b[35m \u001b[0m\u001b[35m'eu_citizen…\u001b[0m\u001b[35m \u001b[0m│\u001b[35m               \u001b[0m│\n",
       "│\u001b[36m                  \u001b[0m│\u001b[35m               \u001b[0m│\u001b[35m               \u001b[0m│\u001b[35m               \u001b[0m│\u001b[35m               \u001b[0m│\u001b[35m \u001b[0m\u001b[35m'type':     \u001b[0m\u001b[35m \u001b[0m│\u001b[35m               \u001b[0m│\n",
       "│\u001b[36m                  \u001b[0m│\u001b[35m               \u001b[0m│\u001b[35m               \u001b[0m│\u001b[35m               \u001b[0m│\u001b[35m               \u001b[0m│\u001b[35m \u001b[0m\u001b[35m'checkbox', \u001b[0m\u001b[35m \u001b[0m│\u001b[35m               \u001b[0m│\n",
       "│\u001b[36m                  \u001b[0m│\u001b[35m               \u001b[0m│\u001b[35m               \u001b[0m│\u001b[35m               \u001b[0m│\u001b[35m               \u001b[0m│\u001b[35m \u001b[0m\u001b[35m'id': 'eu', \u001b[0m\u001b[35m \u001b[0m│\u001b[35m               \u001b[0m│\n",
       "│\u001b[36m                  \u001b[0m│\u001b[35m               \u001b[0m│\u001b[35m               \u001b[0m│\u001b[35m               \u001b[0m│\u001b[35m               \u001b[0m│\u001b[35m \u001b[0m\u001b[35m'label':    \u001b[0m\u001b[35m \u001b[0m│\u001b[35m               \u001b[0m│\n",
       "│\u001b[36m                  \u001b[0m│\u001b[35m               \u001b[0m│\u001b[35m               \u001b[0m│\u001b[35m               \u001b[0m│\u001b[35m               \u001b[0m│\u001b[35m \u001b[0m\u001b[35m'Are you a  \u001b[0m\u001b[35m \u001b[0m│\u001b[35m               \u001b[0m│\n",
       "│\u001b[36m                  \u001b[0m│\u001b[35m               \u001b[0m│\u001b[35m               \u001b[0m│\u001b[35m               \u001b[0m│\u001b[35m               \u001b[0m│\u001b[35m \u001b[0m\u001b[35meuropean    \u001b[0m\u001b[35m \u001b[0m│\u001b[35m               \u001b[0m│\n",
       "│\u001b[36m                  \u001b[0m│\u001b[35m               \u001b[0m│\u001b[35m               \u001b[0m│\u001b[35m               \u001b[0m│\u001b[35m               \u001b[0m│\u001b[35m \u001b[0m\u001b[35mcitizen?'}  \u001b[0m\u001b[35m \u001b[0m│\u001b[35m               \u001b[0m│\n",
       "│\u001b[36m \u001b[0m\u001b[36mvalidation      \u001b[0m\u001b[36m \u001b[0m│\u001b[35m \u001b[0m\u001b[35m             \u001b[0m\u001b[35m \u001b[0m│\u001b[35m \u001b[0m\u001b[35mrequired|ema…\u001b[0m\u001b[35m \u001b[0m│\u001b[35m \u001b[0m\u001b[35mrequired|len…\u001b[0m\u001b[35m \u001b[0m│\u001b[35m \u001b[0m\u001b[35mrequired|con…\u001b[0m\u001b[35m \u001b[0m│\u001b[35m \u001b[0m\u001b[35m            \u001b[0m\u001b[35m \u001b[0m│\u001b[35m \u001b[0m\u001b[35m             \u001b[0m\u001b[35m \u001b[0m│\n",
       "│\u001b[36m \u001b[0m\u001b[36mvalidation-label\u001b[0m\u001b[36m \u001b[0m│\u001b[35m \u001b[0m\u001b[35m             \u001b[0m\u001b[35m \u001b[0m│\u001b[35m \u001b[0m\u001b[35m             \u001b[0m\u001b[35m \u001b[0m│\u001b[35m \u001b[0m\u001b[35m             \u001b[0m\u001b[35m \u001b[0m│\u001b[35m \u001b[0m\u001b[35mpassword     \u001b[0m\u001b[35m \u001b[0m│\u001b[35m \u001b[0m\u001b[35m            \u001b[0m\u001b[35m \u001b[0m│\u001b[35m \u001b[0m\u001b[35m             \u001b[0m\u001b[35m \u001b[0m│\n",
       "│\u001b[36m                  \u001b[0m│\u001b[35m               \u001b[0m│\u001b[35m               \u001b[0m│\u001b[35m               \u001b[0m│\u001b[35m \u001b[0m\u001b[35mconfirmation \u001b[0m\u001b[35m \u001b[0m│\u001b[35m              \u001b[0m│\u001b[35m               \u001b[0m│\n",
       "└──────────────────┴───────────────┴───────────────┴───────────────┴───────────────┴──────────────┴───────────────┘\n"
      ]
     },
     "metadata": {},
     "output_type": "display_data"
    }
   ],
   "source": [
    "manytable(schema_as_js)\n",
    "manytable([n.get_node_values() for n in nodes])\n",
    "manynodetable([n.get_node() for n in nodes])"
   ]
  },
  {
   "cell_type": "code",
   "execution_count": 62,
   "metadata": {},
   "outputs": [
    {
     "data": {
      "text/plain": [
       "PasswordNode(children=None, key=None, if_condition=None, for_loop=None, bind=None, meta=None, id=None, name='password_confirm', label='Confirm password', help='Enter your new password again to confirm it.', validation='required|confirm', validationLabel='password confirmation', validationVisibility=None, validationMessages=None, placeholder=None, value=None, prefixIcon=None, classes=None, additional_props=None, node_type='formkit', readonly=None, formkit='password')"
      ]
     },
     "execution_count": 62,
     "metadata": {},
     "output_type": "execute_result"
    }
   ],
   "source": [
    "# nodes[3].get_node_values()\n",
    "schema_as_js[3]\n",
    "\n",
    "from formkit_ninja.formkit_schema import PasswordNode\n",
    "PasswordNode(**schema_as_js[3])\n",
    "\n",
    "schema_as_js[3][\"validation-label\"] = schema_as_js[3].pop(\"validationLabel\")\n",
    "PasswordNode(**schema_as_js[3])"
   ]
  }
 ],
 "metadata": {
  "kernelspec": {
   "display_name": "venv",
   "language": "python",
   "name": "python3"
  },
  "language_info": {
   "codemirror_mode": {
    "name": "ipython",
    "version": 3
   },
   "file_extension": ".py",
   "mimetype": "text/x-python",
   "name": "python",
   "nbconvert_exporter": "python",
   "pygments_lexer": "ipython3",
   "version": "3.12.7"
  }
 },
 "nbformat": 4,
 "nbformat_minor": 2
}
